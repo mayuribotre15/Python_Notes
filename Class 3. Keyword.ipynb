{
 "cells": [
  {
   "cell_type": "code",
   "execution_count": 1,
   "id": "e7ad3d39",
   "metadata": {},
   "outputs": [],
   "source": [
    "#keyword"
   ]
  },
  {
   "cell_type": "code",
   "execution_count": 2,
   "id": "63bd0a94",
   "metadata": {},
   "outputs": [],
   "source": [
    "import keyword"
   ]
  },
  {
   "cell_type": "code",
   "execution_count": 3,
   "id": "05e856e8",
   "metadata": {},
   "outputs": [
    {
     "data": {
      "text/plain": [
       "['False',\n",
       " 'None',\n",
       " 'True',\n",
       " 'and',\n",
       " 'as',\n",
       " 'assert',\n",
       " 'async',\n",
       " 'await',\n",
       " 'break',\n",
       " 'class',\n",
       " 'continue',\n",
       " 'def',\n",
       " 'del',\n",
       " 'elif',\n",
       " 'else',\n",
       " 'except',\n",
       " 'finally',\n",
       " 'for',\n",
       " 'from',\n",
       " 'global',\n",
       " 'if',\n",
       " 'import',\n",
       " 'in',\n",
       " 'is',\n",
       " 'lambda',\n",
       " 'nonlocal',\n",
       " 'not',\n",
       " 'or',\n",
       " 'pass',\n",
       " 'raise',\n",
       " 'return',\n",
       " 'try',\n",
       " 'while',\n",
       " 'with',\n",
       " 'yield']"
      ]
     },
     "execution_count": 3,
     "metadata": {},
     "output_type": "execute_result"
    }
   ],
   "source": [
    "keyword.kwlist"
   ]
  },
  {
   "cell_type": "code",
   "execution_count": 4,
   "id": "f8f81b0f",
   "metadata": {},
   "outputs": [],
   "source": [
    "#assert-->it is use as debugging tool. It check correctness of code. It raises an AssertionError if found error in code."
   ]
  },
  {
   "cell_type": "code",
   "execution_count": 5,
   "id": "e330a01d",
   "metadata": {},
   "outputs": [
    {
     "name": "stdout",
     "output_type": "stream",
     "text": [
      "a is divided be zero\n"
     ]
    },
    {
     "ename": "ZeroDivisionError",
     "evalue": "division by zero",
     "output_type": "error",
     "traceback": [
      "\u001b[1;31m---------------------------------------------------------------------------\u001b[0m",
      "\u001b[1;31mZeroDivisionError\u001b[0m                         Traceback (most recent call last)",
      "\u001b[1;32m<ipython-input-5-540b08866423>\u001b[0m in \u001b[0;36m<module>\u001b[1;34m\u001b[0m\n\u001b[0;32m      2\u001b[0m \u001b[0mb\u001b[0m\u001b[1;33m=\u001b[0m\u001b[1;36m0\u001b[0m\u001b[1;33m\u001b[0m\u001b[1;33m\u001b[0m\u001b[0m\n\u001b[0;32m      3\u001b[0m \u001b[0mprint\u001b[0m\u001b[1;33m(\u001b[0m\u001b[1;34m'a is divided be zero'\u001b[0m\u001b[1;33m)\u001b[0m\u001b[1;33m\u001b[0m\u001b[1;33m\u001b[0m\u001b[0m\n\u001b[1;32m----> 4\u001b[1;33m \u001b[0mprint\u001b[0m\u001b[1;33m(\u001b[0m\u001b[0ma\u001b[0m\u001b[1;33m/\u001b[0m\u001b[0mb\u001b[0m\u001b[1;33m)\u001b[0m\u001b[1;33m\u001b[0m\u001b[1;33m\u001b[0m\u001b[0m\n\u001b[0m",
      "\u001b[1;31mZeroDivisionError\u001b[0m: division by zero"
     ]
    }
   ],
   "source": [
    "a=10\n",
    "b=0\n",
    "print('a is divided be zero')\n",
    "print(a/b)"
   ]
  },
  {
   "cell_type": "code",
   "execution_count": 8,
   "id": "80c9201e",
   "metadata": {},
   "outputs": [
    {
     "name": "stdout",
     "output_type": "stream",
     "text": [
      "a is divided be zero\n"
     ]
    },
    {
     "ename": "AssertionError",
     "evalue": "",
     "output_type": "error",
     "traceback": [
      "\u001b[1;31m---------------------------------------------------------------------------\u001b[0m",
      "\u001b[1;31mAssertionError\u001b[0m                            Traceback (most recent call last)",
      "\u001b[1;32m<ipython-input-8-1b4253c6dbff>\u001b[0m in \u001b[0;36m<module>\u001b[1;34m\u001b[0m\n\u001b[0;32m      2\u001b[0m \u001b[0mb\u001b[0m\u001b[1;33m=\u001b[0m\u001b[1;36m0\u001b[0m\u001b[1;33m\u001b[0m\u001b[1;33m\u001b[0m\u001b[0m\n\u001b[0;32m      3\u001b[0m \u001b[0mprint\u001b[0m\u001b[1;33m(\u001b[0m\u001b[1;34m'a is divided be zero'\u001b[0m\u001b[1;33m)\u001b[0m\u001b[1;33m\u001b[0m\u001b[1;33m\u001b[0m\u001b[0m\n\u001b[1;32m----> 4\u001b[1;33m \u001b[1;32massert\u001b[0m \u001b[0mb\u001b[0m\u001b[1;33m!=\u001b[0m\u001b[1;36m0\u001b[0m\u001b[1;33m\u001b[0m\u001b[1;33m\u001b[0m\u001b[0m\n\u001b[0m\u001b[0;32m      5\u001b[0m \u001b[0mprint\u001b[0m\u001b[1;33m(\u001b[0m\u001b[0ma\u001b[0m\u001b[1;33m/\u001b[0m\u001b[0mb\u001b[0m\u001b[1;33m)\u001b[0m\u001b[1;33m\u001b[0m\u001b[1;33m\u001b[0m\u001b[0m\n",
      "\u001b[1;31mAssertionError\u001b[0m: "
     ]
    }
   ],
   "source": [
    "a=10\n",
    "b=0\n",
    "print('a is divided be zero')\n",
    "assert b!=0\n",
    "print(a/b)"
   ]
  },
  {
   "cell_type": "code",
   "execution_count": 9,
   "id": "902006e2",
   "metadata": {},
   "outputs": [],
   "source": [
    "#def--> used to declare function"
   ]
  },
  {
   "cell_type": "code",
   "execution_count": 11,
   "id": "7568d8a0",
   "metadata": {},
   "outputs": [
    {
     "name": "stdout",
     "output_type": "stream",
     "text": [
      "45\n"
     ]
    }
   ],
   "source": [
    "def add(a,b):\n",
    "    c=a+b\n",
    "    print(c)\n",
    "add(20,25)"
   ]
  },
  {
   "cell_type": "code",
   "execution_count": 12,
   "id": "72de2fe0",
   "metadata": {},
   "outputs": [],
   "source": [
    "#class--> used to represent class. It is a blueprint of object. It is collection of variable and method."
   ]
  },
  {
   "cell_type": "code",
   "execution_count": 15,
   "id": "fa776cc5",
   "metadata": {},
   "outputs": [
    {
     "name": "stdout",
     "output_type": "stream",
     "text": [
      "100\n"
     ]
    }
   ],
   "source": [
    "class my_class:\n",
    "    #variable\n",
    "    def mul(self,a,b):\n",
    "        self.a=a\n",
    "        self.b=b\n",
    "        self.c=self.a * self.b\n",
    "        print(self.c)\n",
    "ob_mul=my_class()\n",
    "ob_mul.mul(50,2)"
   ]
  },
  {
   "cell_type": "code",
   "execution_count": 16,
   "id": "b1740415",
   "metadata": {},
   "outputs": [],
   "source": [
    "#continue-->used to stop the execution of current iteration"
   ]
  },
  {
   "cell_type": "code",
   "execution_count": 18,
   "id": "ecb93865",
   "metadata": {},
   "outputs": [
    {
     "name": "stdout",
     "output_type": "stream",
     "text": [
      "1\n",
      "3\n",
      "5\n",
      "7\n",
      "9\n"
     ]
    }
   ],
   "source": [
    "a=0\n",
    "while a<10:\n",
    "    a+=1\n",
    "    if a % 2 == 0:\n",
    "        continue\n",
    "    print(a)"
   ]
  },
  {
   "cell_type": "code",
   "execution_count": null,
   "id": "f5349d1d",
   "metadata": {},
   "outputs": [],
   "source": [
    "#range(start,stop,step)-->in-built function, sequence of number from start to stop-1, incremented by step\n",
    "by default--> start with 0, stop at given number, incremented by 1"
   ]
  },
  {
   "cell_type": "code",
   "execution_count": 19,
   "id": "baba14e7",
   "metadata": {},
   "outputs": [
    {
     "name": "stdout",
     "output_type": "stream",
     "text": [
      "0\n",
      "1\n",
      "2\n",
      "3\n",
      "4\n"
     ]
    }
   ],
   "source": [
    "for i in range(5):\n",
    "    print(i)"
   ]
  },
  {
   "cell_type": "code",
   "execution_count": 20,
   "id": "690d4833",
   "metadata": {},
   "outputs": [
    {
     "name": "stdout",
     "output_type": "stream",
     "text": [
      "2\n",
      "5\n",
      "8\n",
      "11\n",
      "14\n",
      "17\n"
     ]
    }
   ],
   "source": [
    "for i in range(2,20,3):\n",
    "    print(i)"
   ]
  },
  {
   "cell_type": "code",
   "execution_count": 21,
   "id": "39af5df6",
   "metadata": {},
   "outputs": [],
   "source": [
    "#break-->used to terminate loop execution and control transfer to the end of loop"
   ]
  },
  {
   "cell_type": "code",
   "execution_count": 24,
   "id": "9f2950fd",
   "metadata": {},
   "outputs": [
    {
     "name": "stdout",
     "output_type": "stream",
     "text": [
      "0\n",
      "1\n",
      "2\n",
      "3\n",
      "4\n",
      "5\n",
      "6\n"
     ]
    }
   ],
   "source": [
    "for i in range(20):\n",
    "    if i==7:\n",
    "        break\n",
    "    print(i)"
   ]
  },
  {
   "cell_type": "code",
   "execution_count": 25,
   "id": "cf0dde78",
   "metadata": {},
   "outputs": [],
   "source": [
    "#if--> used to represent conditional statment. Execution of block is decided by 'if' statement"
   ]
  },
  {
   "cell_type": "code",
   "execution_count": 26,
   "id": "b1048e8d",
   "metadata": {},
   "outputs": [
    {
     "name": "stdout",
     "output_type": "stream",
     "text": [
      "a : 6 is less than 10\n"
     ]
    }
   ],
   "source": [
    "a=6\n",
    "if a<10:\n",
    "    print(f'a : {a} is less than 10')"
   ]
  },
  {
   "cell_type": "code",
   "execution_count": 27,
   "id": "9196216f",
   "metadata": {},
   "outputs": [],
   "source": [
    "#else-->used with 'if' statment. When if statment return 'false' then else statment executed"
   ]
  },
  {
   "cell_type": "code",
   "execution_count": 29,
   "id": "7747b139",
   "metadata": {},
   "outputs": [
    {
     "name": "stdout",
     "output_type": "stream",
     "text": [
      "Odd\n"
     ]
    }
   ],
   "source": [
    "b=11\n",
    "if b % 2 == 0:\n",
    "    print('Even')\n",
    "else:\n",
    "    print('Odd')"
   ]
  },
  {
   "cell_type": "code",
   "execution_count": 1,
   "id": "0a7ce569",
   "metadata": {},
   "outputs": [],
   "source": [
    "#elif-->check multiple condition. check until true condition if found"
   ]
  },
  {
   "cell_type": "code",
   "execution_count": 10,
   "id": "f09d6c52",
   "metadata": {},
   "outputs": [
    {
     "name": "stdout",
     "output_type": "stream",
     "text": [
      "Enter Marks65\n",
      "Good\n"
     ]
    }
   ],
   "source": [
    "marks=int(input('Enter Marks'))\n",
    "if (marks>=90):\n",
    "    print('Excellent')\n",
    "elif (marks<90) and (marks>=75):\n",
    "    print('Very Good')\n",
    "elif (marks<75) and (marks>=60):\n",
    "    print('Good')\n",
    "elif (marks<60) and (marks>=45):\n",
    "    print('Average')\n",
    "else:\n",
    "    print('Poor')"
   ]
  },
  {
   "cell_type": "code",
   "execution_count": 11,
   "id": "f5816205",
   "metadata": {},
   "outputs": [],
   "source": [
    "#del-->used to delete the reference object\n",
    "can also delete class, method"
   ]
  },
  {
   "cell_type": "code",
   "execution_count": 12,
   "id": "df135c2b",
   "metadata": {},
   "outputs": [
    {
     "name": "stdout",
     "output_type": "stream",
     "text": [
      "b : 30\n"
     ]
    },
    {
     "ename": "NameError",
     "evalue": "name 'a' is not defined",
     "output_type": "error",
     "traceback": [
      "\u001b[1;31m---------------------------------------------------------------------------\u001b[0m",
      "\u001b[1;31mNameError\u001b[0m                                 Traceback (most recent call last)",
      "\u001b[1;32m<ipython-input-12-a5284239ce7b>\u001b[0m in \u001b[0;36m<module>\u001b[1;34m\u001b[0m\n\u001b[0;32m      3\u001b[0m \u001b[1;32mdel\u001b[0m \u001b[0ma\u001b[0m\u001b[1;33m\u001b[0m\u001b[1;33m\u001b[0m\u001b[0m\n\u001b[0;32m      4\u001b[0m \u001b[0mprint\u001b[0m\u001b[1;33m(\u001b[0m\u001b[1;34mf'b : {b}'\u001b[0m\u001b[1;33m)\u001b[0m\u001b[1;33m\u001b[0m\u001b[1;33m\u001b[0m\u001b[0m\n\u001b[1;32m----> 5\u001b[1;33m \u001b[0mprint\u001b[0m\u001b[1;33m(\u001b[0m\u001b[1;34mf'a : {a}'\u001b[0m\u001b[1;33m)\u001b[0m\u001b[1;33m\u001b[0m\u001b[1;33m\u001b[0m\u001b[0m\n\u001b[0m",
      "\u001b[1;31mNameError\u001b[0m: name 'a' is not defined"
     ]
    }
   ],
   "source": [
    "a=10\n",
    "b=30\n",
    "del a\n",
    "print(f'b : {b}')\n",
    "print(f'a : {a}')"
   ]
  },
  {
   "cell_type": "code",
   "execution_count": 17,
   "id": "4fc1f9b6",
   "metadata": {},
   "outputs": [
    {
     "name": "stdout",
     "output_type": "stream",
     "text": [
      "25 + 10 = 35\n"
     ]
    }
   ],
   "source": [
    "class my_class:\n",
    "    def add(self,a,b):\n",
    "        self.a=a\n",
    "        self.b=b\n",
    "        self.c=self.a+self.b\n",
    "        print(f'{self.a} + {self.b} = {self.c}')\n",
    "\n",
    "ob_add=my_class()\n",
    "ob_add.add(25,10)"
   ]
  },
  {
   "cell_type": "code",
   "execution_count": 18,
   "id": "9c2d259d",
   "metadata": {},
   "outputs": [
    {
     "ename": "NameError",
     "evalue": "name 'my_class' is not defined",
     "output_type": "error",
     "traceback": [
      "\u001b[1;31m---------------------------------------------------------------------------\u001b[0m",
      "\u001b[1;31mNameError\u001b[0m                                 Traceback (most recent call last)",
      "\u001b[1;32m<ipython-input-18-1b7d2d9692fc>\u001b[0m in \u001b[0;36m<module>\u001b[1;34m\u001b[0m\n\u001b[0;32m      7\u001b[0m \u001b[1;33m\u001b[0m\u001b[0m\n\u001b[0;32m      8\u001b[0m \u001b[1;32mdel\u001b[0m \u001b[0mmy_class\u001b[0m\u001b[1;33m\u001b[0m\u001b[1;33m\u001b[0m\u001b[0m\n\u001b[1;32m----> 9\u001b[1;33m \u001b[0mob_add\u001b[0m\u001b[1;33m=\u001b[0m\u001b[0mmy_class\u001b[0m\u001b[1;33m(\u001b[0m\u001b[1;33m)\u001b[0m\u001b[1;33m\u001b[0m\u001b[1;33m\u001b[0m\u001b[0m\n\u001b[0m\u001b[0;32m     10\u001b[0m \u001b[0mob_add\u001b[0m\u001b[1;33m.\u001b[0m\u001b[0madd\u001b[0m\u001b[1;33m(\u001b[0m\u001b[1;36m25\u001b[0m\u001b[1;33m,\u001b[0m\u001b[1;36m10\u001b[0m\u001b[1;33m)\u001b[0m\u001b[1;33m\u001b[0m\u001b[1;33m\u001b[0m\u001b[0m\n",
      "\u001b[1;31mNameError\u001b[0m: name 'my_class' is not defined"
     ]
    }
   ],
   "source": [
    "class my_class:\n",
    "    def add(self,a,b):\n",
    "        self.a=a\n",
    "        self.b=b\n",
    "        self.c=self.a+self.b\n",
    "        print(f'{self.a} + {self.b} = {self.c}')\n",
    "\n",
    "del my_class\n",
    "ob_add=my_class()\n",
    "ob_add.add(25,10)"
   ]
  },
  {
   "cell_type": "code",
   "execution_count": 24,
   "id": "feb65cb0",
   "metadata": {},
   "outputs": [
    {
     "name": "stdout",
     "output_type": "stream",
     "text": [
      "25 + 10 = 35\n"
     ]
    }
   ],
   "source": [
    "class class_add:\n",
    "    def add(self,a,b):\n",
    "        self.a=a\n",
    "        self.b=b\n",
    "        self.c=self.a+self.b\n",
    "        print(f'{self.a} + {self.b} = {self.c}')\n",
    "class my_class:\n",
    "    def add(self,a,b):\n",
    "        self.a=a\n",
    "        self.b=b\n",
    "        self.c=self.a+self.b\n",
    "        print(f'{self.a} + {self.b} = {self.c}')\n",
    "\n",
    "del class_add\n",
    "ob_add=my_class()\n",
    "ob_add.add(25,10)"
   ]
  },
  {
   "cell_type": "code",
   "execution_count": 25,
   "id": "05b6ada9",
   "metadata": {},
   "outputs": [
    {
     "ename": "NameError",
     "evalue": "name 'class_add' is not defined",
     "output_type": "error",
     "traceback": [
      "\u001b[1;31m---------------------------------------------------------------------------\u001b[0m",
      "\u001b[1;31mNameError\u001b[0m                                 Traceback (most recent call last)",
      "\u001b[1;32m<ipython-input-25-1a49a2865bb9>\u001b[0m in \u001b[0;36m<module>\u001b[1;34m\u001b[0m\n\u001b[0;32m     13\u001b[0m \u001b[1;33m\u001b[0m\u001b[0m\n\u001b[0;32m     14\u001b[0m \u001b[1;32mdel\u001b[0m \u001b[0mclass_add\u001b[0m\u001b[1;33m\u001b[0m\u001b[1;33m\u001b[0m\u001b[0m\n\u001b[1;32m---> 15\u001b[1;33m \u001b[0mob_add\u001b[0m\u001b[1;33m=\u001b[0m\u001b[0mclass_add\u001b[0m\u001b[1;33m(\u001b[0m\u001b[1;33m)\u001b[0m\u001b[1;33m\u001b[0m\u001b[1;33m\u001b[0m\u001b[0m\n\u001b[0m\u001b[0;32m     16\u001b[0m \u001b[0mob_add\u001b[0m\u001b[1;33m.\u001b[0m\u001b[0madd\u001b[0m\u001b[1;33m(\u001b[0m\u001b[1;36m25\u001b[0m\u001b[1;33m,\u001b[0m\u001b[1;36m10\u001b[0m\u001b[1;33m)\u001b[0m\u001b[1;33m\u001b[0m\u001b[1;33m\u001b[0m\u001b[0m\n",
      "\u001b[1;31mNameError\u001b[0m: name 'class_add' is not defined"
     ]
    }
   ],
   "source": [
    "class class_add:\n",
    "    def add(self,a,b):\n",
    "        self.a=a\n",
    "        self.b=b\n",
    "        self.c=self.a+self.b\n",
    "        print(f'{self.a} + {self.b} = {self.c}')\n",
    "class my_class:\n",
    "    def add(self,a,b):\n",
    "        self.a=a\n",
    "        self.b=b\n",
    "        self.c=self.a+self.b\n",
    "        print(f'{self.a} + {self.b} = {self.c}')\n",
    "\n",
    "del class_add\n",
    "ob_add=class_add()\n",
    "ob_add.add(25,10)"
   ]
  },
  {
   "cell_type": "code",
   "execution_count": 36,
   "id": "3c745724",
   "metadata": {},
   "outputs": [
    {
     "name": "stdout",
     "output_type": "stream",
     "text": [
      "25 + 10 = 35\n"
     ]
    }
   ],
   "source": [
    "class class_add:\n",
    "    def add(self,a,b):\n",
    "        self.a=a\n",
    "        self.b=b\n",
    "        self.c=self.a+self.b\n",
    "        print(f'{self.a} + {self.b} = {self.c}')\n",
    "    \n",
    "class my_class:\n",
    "    def add(self,a,b):\n",
    "        self.a=a\n",
    "        self.b=b\n",
    "        self.c=self.a+self.b\n",
    "        print(f'{self.a} + {self.b} = {self.c}')\n",
    "    del add\n",
    "\n",
    "ob_add=class_add()\n",
    "ob_add.add(25,10)"
   ]
  },
  {
   "cell_type": "code",
   "execution_count": 37,
   "id": "34f4ad3e",
   "metadata": {},
   "outputs": [
    {
     "ename": "AttributeError",
     "evalue": "'my_class' object has no attribute 'add'",
     "output_type": "error",
     "traceback": [
      "\u001b[1;31m---------------------------------------------------------------------------\u001b[0m",
      "\u001b[1;31mAttributeError\u001b[0m                            Traceback (most recent call last)",
      "\u001b[1;32m<ipython-input-37-035be7dcb3af>\u001b[0m in \u001b[0;36m<module>\u001b[1;34m\u001b[0m\n\u001b[0;32m     15\u001b[0m \u001b[1;33m\u001b[0m\u001b[0m\n\u001b[0;32m     16\u001b[0m \u001b[0mob_add\u001b[0m\u001b[1;33m=\u001b[0m\u001b[0mmy_class\u001b[0m\u001b[1;33m(\u001b[0m\u001b[1;33m)\u001b[0m\u001b[1;33m\u001b[0m\u001b[1;33m\u001b[0m\u001b[0m\n\u001b[1;32m---> 17\u001b[1;33m \u001b[0mob_add\u001b[0m\u001b[1;33m.\u001b[0m\u001b[0madd\u001b[0m\u001b[1;33m(\u001b[0m\u001b[1;36m25\u001b[0m\u001b[1;33m,\u001b[0m\u001b[1;36m10\u001b[0m\u001b[1;33m)\u001b[0m\u001b[1;33m\u001b[0m\u001b[1;33m\u001b[0m\u001b[0m\n\u001b[0m",
      "\u001b[1;31mAttributeError\u001b[0m: 'my_class' object has no attribute 'add'"
     ]
    }
   ],
   "source": [
    "class class_add:\n",
    "    def add(self,a,b):\n",
    "        self.a=a\n",
    "        self.b=b\n",
    "        self.c=self.a+self.b\n",
    "        print(f'{self.a} + {self.b} = {self.c}')\n",
    "    \n",
    "class my_class:\n",
    "    def add(self,a,b):\n",
    "        self.a=a\n",
    "        self.b=b\n",
    "        self.c=self.a+self.b\n",
    "        print(f'{self.a} + {self.b} = {self.c}')\n",
    "    del add\n",
    "\n",
    "ob_add=my_class()\n",
    "ob_add.add(25,10)"
   ]
  },
  {
   "cell_type": "code",
   "execution_count": 29,
   "id": "d049ea57",
   "metadata": {},
   "outputs": [],
   "source": [
    "#try-except -->used to handle exceptions. Exception are run-time error."
   ]
  },
  {
   "cell_type": "code",
   "execution_count": 38,
   "id": "fb0989b8",
   "metadata": {},
   "outputs": [
    {
     "ename": "ZeroDivisionError",
     "evalue": "division by zero",
     "output_type": "error",
     "traceback": [
      "\u001b[1;31m---------------------------------------------------------------------------\u001b[0m",
      "\u001b[1;31mZeroDivisionError\u001b[0m                         Traceback (most recent call last)",
      "\u001b[1;32m<ipython-input-38-9a047b44636b>\u001b[0m in \u001b[0;36m<module>\u001b[1;34m\u001b[0m\n\u001b[0;32m      1\u001b[0m \u001b[0ma\u001b[0m\u001b[1;33m=\u001b[0m\u001b[1;36m0\u001b[0m\u001b[1;33m\u001b[0m\u001b[1;33m\u001b[0m\u001b[0m\n\u001b[1;32m----> 2\u001b[1;33m \u001b[0md\u001b[0m\u001b[1;33m=\u001b[0m\u001b[1;36m8\u001b[0m\u001b[1;33m/\u001b[0m\u001b[0ma\u001b[0m\u001b[1;33m\u001b[0m\u001b[1;33m\u001b[0m\u001b[0m\n\u001b[0m",
      "\u001b[1;31mZeroDivisionError\u001b[0m: division by zero"
     ]
    }
   ],
   "source": [
    "a=0\n",
    "d=8/a"
   ]
  },
  {
   "cell_type": "code",
   "execution_count": 42,
   "id": "1acf37fe",
   "metadata": {},
   "outputs": [
    {
     "name": "stdout",
     "output_type": "stream",
     "text": [
      "division by zero\n"
     ]
    }
   ],
   "source": [
    "a=0\n",
    "try:\n",
    "    b=4/a\n",
    "except Exception as e:\n",
    "    print(e)"
   ]
  },
  {
   "cell_type": "code",
   "execution_count": 45,
   "id": "827f153f",
   "metadata": {},
   "outputs": [
    {
     "ename": "NameError",
     "evalue": "name 'Except' is not defined",
     "output_type": "error",
     "traceback": [
      "\u001b[1;31m---------------------------------------------------------------------------\u001b[0m",
      "\u001b[1;31mNameError\u001b[0m                                 Traceback (most recent call last)",
      "\u001b[1;32m<ipython-input-45-1c049c5973d4>\u001b[0m in \u001b[0;36m<module>\u001b[1;34m\u001b[0m\n\u001b[0;32m      1\u001b[0m \u001b[1;32mtry\u001b[0m\u001b[1;33m:\u001b[0m\u001b[1;33m\u001b[0m\u001b[1;33m\u001b[0m\u001b[0m\n\u001b[1;32m----> 2\u001b[1;33m     \u001b[0mA\u001b[0m\u001b[1;33m=\u001b[0m\u001b[0mB\u001b[0m\u001b[1;33m+\u001b[0m\u001b[0mC\u001b[0m\u001b[1;33m\u001b[0m\u001b[1;33m\u001b[0m\u001b[0m\n\u001b[0m\u001b[0;32m      3\u001b[0m \u001b[1;32mexcept\u001b[0m \u001b[0mExcept\u001b[0m \u001b[1;32mas\u001b[0m \u001b[0me\u001b[0m\u001b[1;33m:\u001b[0m\u001b[1;33m\u001b[0m\u001b[1;33m\u001b[0m\u001b[0m\n",
      "\u001b[1;31mNameError\u001b[0m: name 'B' is not defined",
      "\nDuring handling of the above exception, another exception occurred:\n",
      "\u001b[1;31mNameError\u001b[0m                                 Traceback (most recent call last)",
      "\u001b[1;32m<ipython-input-45-1c049c5973d4>\u001b[0m in \u001b[0;36m<module>\u001b[1;34m\u001b[0m\n\u001b[0;32m      1\u001b[0m \u001b[1;32mtry\u001b[0m\u001b[1;33m:\u001b[0m\u001b[1;33m\u001b[0m\u001b[1;33m\u001b[0m\u001b[0m\n\u001b[0;32m      2\u001b[0m     \u001b[0mA\u001b[0m\u001b[1;33m=\u001b[0m\u001b[0mB\u001b[0m\u001b[1;33m+\u001b[0m\u001b[0mC\u001b[0m\u001b[1;33m\u001b[0m\u001b[1;33m\u001b[0m\u001b[0m\n\u001b[1;32m----> 3\u001b[1;33m \u001b[1;32mexcept\u001b[0m \u001b[0mExcept\u001b[0m \u001b[1;32mas\u001b[0m \u001b[0me\u001b[0m\u001b[1;33m:\u001b[0m\u001b[1;33m\u001b[0m\u001b[1;33m\u001b[0m\u001b[0m\n\u001b[0m\u001b[0;32m      4\u001b[0m     \u001b[0mprint\u001b[0m\u001b[1;33m(\u001b[0m\u001b[0me\u001b[0m\u001b[1;33m)\u001b[0m\u001b[1;33m\u001b[0m\u001b[1;33m\u001b[0m\u001b[0m\n",
      "\u001b[1;31mNameError\u001b[0m: name 'Except' is not defined"
     ]
    }
   ],
   "source": [
    "try:\n",
    "    A=B+C\n",
    "except Except as e:\n",
    "    print(e)"
   ]
  },
  {
   "cell_type": "code",
   "execution_count": 50,
   "id": "fe51a45f",
   "metadata": {},
   "outputs": [
    {
     "name": "stdout",
     "output_type": "stream",
     "text": [
      "name 'd' is not defined\n"
     ]
    }
   ],
   "source": [
    "try:\n",
    "    a=d+h\n",
    "except Exception as e:\n",
    "    print(e)"
   ]
  },
  {
   "cell_type": "code",
   "execution_count": 51,
   "id": "36075dca",
   "metadata": {},
   "outputs": [],
   "source": [
    "#raise--> used to through the exception forcefully"
   ]
  },
  {
   "cell_type": "code",
   "execution_count": 54,
   "id": "679b764a",
   "metadata": {},
   "outputs": [
    {
     "ename": "Exception",
     "evalue": "a should not exceed 2",
     "output_type": "error",
     "traceback": [
      "\u001b[1;31m---------------------------------------------------------------------------\u001b[0m",
      "\u001b[1;31mException\u001b[0m                                 Traceback (most recent call last)",
      "\u001b[1;32m<ipython-input-54-444a9d70bc28>\u001b[0m in \u001b[0;36m<module>\u001b[1;34m\u001b[0m\n\u001b[0;32m      1\u001b[0m \u001b[0ma\u001b[0m\u001b[1;33m=\u001b[0m\u001b[1;36m5\u001b[0m\u001b[1;33m\u001b[0m\u001b[1;33m\u001b[0m\u001b[0m\n\u001b[0;32m      2\u001b[0m \u001b[1;32mif\u001b[0m \u001b[0ma\u001b[0m\u001b[1;33m>\u001b[0m\u001b[1;36m2\u001b[0m\u001b[1;33m:\u001b[0m\u001b[1;33m\u001b[0m\u001b[1;33m\u001b[0m\u001b[0m\n\u001b[1;32m----> 3\u001b[1;33m     \u001b[1;32mraise\u001b[0m \u001b[0mException\u001b[0m\u001b[1;33m(\u001b[0m\u001b[1;34m'a should not exceed 2'\u001b[0m\u001b[1;33m)\u001b[0m\u001b[1;33m\u001b[0m\u001b[1;33m\u001b[0m\u001b[0m\n\u001b[0m",
      "\u001b[1;31mException\u001b[0m: a should not exceed 2"
     ]
    }
   ],
   "source": [
    "a=5\n",
    "if a>2:\n",
    "    raise Exception('a should not exceed 2')"
   ]
  },
  {
   "cell_type": "code",
   "execution_count": 55,
   "id": "6fe6d605",
   "metadata": {},
   "outputs": [],
   "source": [
    "#finally-->used to create a block of code. It is always executed no matter other block raises an error or not"
   ]
  },
  {
   "cell_type": "code",
   "execution_count": 57,
   "id": "d844dc74",
   "metadata": {},
   "outputs": [
    {
     "name": "stdout",
     "output_type": "stream",
     "text": [
      "division by zero\n",
      "finally always executed\n"
     ]
    }
   ],
   "source": [
    "a=0\n",
    "b=7\n",
    "try:\n",
    "    c=b/a\n",
    "except Exception as e:\n",
    "    print(e)\n",
    "finally:\n",
    "    print('finally always executed')"
   ]
  },
  {
   "cell_type": "code",
   "execution_count": 58,
   "id": "ed749884",
   "metadata": {},
   "outputs": [],
   "source": [
    "#for-->used to iterate over a sequence (list, tuple, dict, string)"
   ]
  },
  {
   "cell_type": "code",
   "execution_count": 59,
   "id": "5fcc426d",
   "metadata": {},
   "outputs": [
    {
     "name": "stdout",
     "output_type": "stream",
     "text": [
      "0\n",
      "1\n",
      "2\n",
      "3\n",
      "4\n",
      "5\n",
      "6\n",
      "7\n",
      "8\n"
     ]
    }
   ],
   "source": [
    "for i in range(9):\n",
    "    print(i)"
   ]
  },
  {
   "cell_type": "code",
   "execution_count": 60,
   "id": "8cb008d6",
   "metadata": {},
   "outputs": [
    {
     "name": "stdout",
     "output_type": "stream",
     "text": [
      "name\n",
      "sal\n",
      "loc\n"
     ]
    }
   ],
   "source": [
    "py_dict={'name':'Justin','sal':96000,'loc':'pune'}\n",
    "for n in py_dict:\n",
    "    print(n)"
   ]
  },
  {
   "cell_type": "code",
   "execution_count": 61,
   "id": "b1e70ef0",
   "metadata": {},
   "outputs": [
    {
     "name": "stdout",
     "output_type": "stream",
     "text": [
      "('name', 'Justin')\n",
      "('sal', 96000)\n",
      "('loc', 'pune')\n"
     ]
    }
   ],
   "source": [
    "py_dict={'name':'Justin','sal':96000,'loc':'pune'}\n",
    "for n in py_dict.items():\n",
    "    print(n)"
   ]
  },
  {
   "cell_type": "code",
   "execution_count": 65,
   "id": "eba98c99",
   "metadata": {},
   "outputs": [
    {
     "name": "stdout",
     "output_type": "stream",
     "text": [
      "Justin\n",
      "96000\n",
      "pune\n"
     ]
    }
   ],
   "source": [
    "py_dict={'name':'Justin','sal':96000,'loc':'pune'}\n",
    "for n in py_dict:\n",
    "    print(py_dict[n])"
   ]
  },
  {
   "cell_type": "code",
   "execution_count": 66,
   "id": "eb34f93f",
   "metadata": {},
   "outputs": [
    {
     "name": "stdout",
     "output_type": "stream",
     "text": [
      "Justin\n",
      "96000\n",
      "pune\n"
     ]
    }
   ],
   "source": [
    "py_dict={'name':'Justin','sal':96000,'loc':'pune'}\n",
    "for n in py_dict.values():\n",
    "    print(n)"
   ]
  },
  {
   "cell_type": "code",
   "execution_count": 67,
   "id": "1e3c3de3",
   "metadata": {},
   "outputs": [
    {
     "name": "stdout",
     "output_type": "stream",
     "text": [
      "H\n",
      "e\n",
      "l\n",
      "l\n",
      "o\n",
      " \n",
      "W\n",
      "o\n",
      "r\n",
      "l\n",
      "d\n"
     ]
    }
   ],
   "source": [
    "msg='Hello World'\n",
    "for i in msg:\n",
    "    print(i)"
   ]
  },
  {
   "cell_type": "code",
   "execution_count": 68,
   "id": "1abcf965",
   "metadata": {},
   "outputs": [],
   "source": [
    "#while--> used to iterate loop until condition return false"
   ]
  },
  {
   "cell_type": "code",
   "execution_count": 69,
   "id": "7d141370",
   "metadata": {},
   "outputs": [
    {
     "name": "stdout",
     "output_type": "stream",
     "text": [
      "5\n",
      "4\n",
      "3\n",
      "2\n",
      "1\n"
     ]
    }
   ],
   "source": [
    "a=5\n",
    "while a>0:\n",
    "    print(a)\n",
    "    a-=1"
   ]
  },
  {
   "cell_type": "code",
   "execution_count": 70,
   "id": "e1875921",
   "metadata": {},
   "outputs": [],
   "source": [
    "#import--> used to import modules in current python script. Modules contains python runable code"
   ]
  },
  {
   "cell_type": "code",
   "execution_count": 71,
   "id": "bb19042a",
   "metadata": {},
   "outputs": [],
   "source": [
    "import math"
   ]
  },
  {
   "cell_type": "code",
   "execution_count": 72,
   "id": "d2c60038",
   "metadata": {},
   "outputs": [
    {
     "name": "stdout",
     "output_type": "stream",
     "text": [
      "Enter no. 25\n",
      "Square root of 25 is 5.0\n"
     ]
    }
   ],
   "source": [
    "n=int(input('Enter no. '))\n",
    "print(f'Square root of {n} is {math.sqrt(n)}')"
   ]
  },
  {
   "cell_type": "code",
   "execution_count": 73,
   "id": "04171523",
   "metadata": {},
   "outputs": [
    {
     "name": "stdout",
     "output_type": "stream",
     "text": [
      "Enter no. 81\n",
      "Square root of 81 is 9.0\n"
     ]
    }
   ],
   "source": [
    "n=int(input('Enter no. '))\n",
    "print(f'Square root of {n} is {math.sqrt(n)}')"
   ]
  },
  {
   "cell_type": "code",
   "execution_count": 79,
   "id": "5c5eb299",
   "metadata": {},
   "outputs": [
    {
     "ename": "SyntaxError",
     "evalue": "invalid syntax (<ipython-input-79-5add32ad3686>, line 2)",
     "output_type": "error",
     "traceback": [
      "\u001b[1;36m  File \u001b[1;32m\"<ipython-input-79-5add32ad3686>\"\u001b[1;36m, line \u001b[1;32m2\u001b[0m\n\u001b[1;33m    print(7^)\u001b[0m\n\u001b[1;37m            ^\u001b[0m\n\u001b[1;31mSyntaxError\u001b[0m\u001b[1;31m:\u001b[0m invalid syntax\n"
     ]
    }
   ],
   "source": [
    "print('square of 7')\n",
    "print(7^)"
   ]
  },
  {
   "cell_type": "code",
   "execution_count": 83,
   "id": "94753202",
   "metadata": {},
   "outputs": [
    {
     "data": {
      "text/plain": [
       "49"
      ]
     },
     "execution_count": 83,
     "metadata": {},
     "output_type": "execute_result"
    }
   ],
   "source": [
    "7**2"
   ]
  },
  {
   "cell_type": "code",
   "execution_count": 86,
   "id": "e96bdb6b",
   "metadata": {},
   "outputs": [
    {
     "data": {
      "text/plain": [
       "36.0"
      ]
     },
     "execution_count": 86,
     "metadata": {},
     "output_type": "execute_result"
    }
   ],
   "source": [
    "math.pow(6,2)"
   ]
  },
  {
   "cell_type": "code",
   "execution_count": 87,
   "id": "eff68be6",
   "metadata": {},
   "outputs": [],
   "source": [
    "#from--> used to import specific function/ attribute in current python script"
   ]
  },
  {
   "cell_type": "code",
   "execution_count": 88,
   "id": "7841e20b",
   "metadata": {},
   "outputs": [
    {
     "name": "stdout",
     "output_type": "stream",
     "text": [
      "7.0\n"
     ]
    }
   ],
   "source": [
    "from math import sqrt\n",
    "print(math.sqrt(49))"
   ]
  },
  {
   "cell_type": "code",
   "execution_count": 89,
   "id": "23ec7680",
   "metadata": {},
   "outputs": [],
   "source": [
    "#as--> used to create name alias. It provide user-define name while importing a module"
   ]
  },
  {
   "cell_type": "code",
   "execution_count": 91,
   "id": "6fb5fc48",
   "metadata": {},
   "outputs": [],
   "source": [
    "import calendar as cal"
   ]
  },
  {
   "cell_type": "code",
   "execution_count": 94,
   "id": "2bf03c92",
   "metadata": {},
   "outputs": [
    {
     "name": "stdout",
     "output_type": "stream",
     "text": [
      "July\n"
     ]
    }
   ],
   "source": [
    "print(cal.month_name[7])"
   ]
  },
  {
   "cell_type": "code",
   "execution_count": 97,
   "id": "1ec41e2a",
   "metadata": {},
   "outputs": [
    {
     "name": "stdout",
     "output_type": "stream",
     "text": [
      "Apr\n"
     ]
    }
   ],
   "source": [
    "print(cal.month_abbr[4])"
   ]
  },
  {
   "cell_type": "code",
   "execution_count": 98,
   "id": "2446405d",
   "metadata": {},
   "outputs": [
    {
     "name": "stdout",
     "output_type": "stream",
     "text": [
      "April\n"
     ]
    }
   ],
   "source": [
    "print(cal.month_name[4])"
   ]
  },
  {
   "cell_type": "code",
   "execution_count": null,
   "id": "cd632904",
   "metadata": {},
   "outputs": [],
   "source": [
    "#pass-->used to execute nothing or create placeholder for future code.\n",
    "When we create empty class or funtion, it will return error.\n",
    "So, we used 'pass' keyword to declare empty class function"
   ]
  },
  {
   "cell_type": "code",
   "execution_count": 99,
   "id": "aaa28d78",
   "metadata": {},
   "outputs": [
    {
     "ename": "SyntaxError",
     "evalue": "unexpected EOF while parsing (<ipython-input-99-1212f467864f>, line 1)",
     "output_type": "error",
     "traceback": [
      "\u001b[1;36m  File \u001b[1;32m\"<ipython-input-99-1212f467864f>\"\u001b[1;36m, line \u001b[1;32m1\u001b[0m\n\u001b[1;33m    class my_class:\u001b[0m\n\u001b[1;37m                   ^\u001b[0m\n\u001b[1;31mSyntaxError\u001b[0m\u001b[1;31m:\u001b[0m unexpected EOF while parsing\n"
     ]
    }
   ],
   "source": [
    "class my_class:\n"
   ]
  },
  {
   "cell_type": "code",
   "execution_count": 106,
   "id": "475eeef8",
   "metadata": {},
   "outputs": [
    {
     "ename": "SyntaxError",
     "evalue": "unexpected EOF while parsing (<ipython-input-106-0322de3f12ed>, line 2)",
     "output_type": "error",
     "traceback": [
      "\u001b[1;36m  File \u001b[1;32m\"<ipython-input-106-0322de3f12ed>\"\u001b[1;36m, line \u001b[1;32m2\u001b[0m\n\u001b[1;33m    def my_fun():\u001b[0m\n\u001b[1;37m                 ^\u001b[0m\n\u001b[1;31mSyntaxError\u001b[0m\u001b[1;31m:\u001b[0m unexpected EOF while parsing\n"
     ]
    }
   ],
   "source": [
    "class my_class:\n",
    "    def my_fun():"
   ]
  },
  {
   "cell_type": "code",
   "execution_count": 105,
   "id": "245f905f",
   "metadata": {},
   "outputs": [],
   "source": [
    "class my_class:\n",
    "    def my_fun():\n",
    "        pass"
   ]
  },
  {
   "cell_type": "code",
   "execution_count": null,
   "id": "5a9ee631",
   "metadata": {},
   "outputs": [],
   "source": [
    "#empty class"
   ]
  },
  {
   "cell_type": "code",
   "execution_count": 102,
   "id": "d02fabfc",
   "metadata": {},
   "outputs": [],
   "source": [
    "class my_class:\n",
    "    pass"
   ]
  },
  {
   "cell_type": "code",
   "execution_count": 101,
   "id": "9f15e520",
   "metadata": {},
   "outputs": [
    {
     "ename": "SyntaxError",
     "evalue": "unexpected EOF while parsing (<ipython-input-101-70b506e25d49>, line 1)",
     "output_type": "error",
     "traceback": [
      "\u001b[1;36m  File \u001b[1;32m\"<ipython-input-101-70b506e25d49>\"\u001b[1;36m, line \u001b[1;32m1\u001b[0m\n\u001b[1;33m    def my_fun():\u001b[0m\n\u001b[1;37m                 ^\u001b[0m\n\u001b[1;31mSyntaxError\u001b[0m\u001b[1;31m:\u001b[0m unexpected EOF while parsing\n"
     ]
    }
   ],
   "source": [
    "def my_fun():\n"
   ]
  },
  {
   "cell_type": "code",
   "execution_count": null,
   "id": "df22cf81",
   "metadata": {},
   "outputs": [],
   "source": [
    "#empty function"
   ]
  },
  {
   "cell_type": "code",
   "execution_count": 103,
   "id": "b6849998",
   "metadata": {},
   "outputs": [],
   "source": [
    "def my_fun():\n",
    "    pass"
   ]
  },
  {
   "cell_type": "code",
   "execution_count": 107,
   "id": "65c4ea8b",
   "metadata": {},
   "outputs": [],
   "source": [
    "#return--> used to return result value or none to called function"
   ]
  },
  {
   "cell_type": "code",
   "execution_count": 109,
   "id": "5b6ef8e8",
   "metadata": {},
   "outputs": [
    {
     "name": "stdout",
     "output_type": "stream",
     "text": [
      "Sum = 60\n"
     ]
    }
   ],
   "source": [
    "def sum(a,b):\n",
    "    c=a+b\n",
    "    return c\n",
    "\n",
    "print('Sum = {}'.format(sum(25,35)))"
   ]
  },
  {
   "cell_type": "code",
   "execution_count": 115,
   "id": "235c6af7",
   "metadata": {},
   "outputs": [
    {
     "name": "stdout",
     "output_type": "stream",
     "text": [
      "Sum =  60 Result\n"
     ]
    }
   ],
   "source": [
    "def sum(a,b):\n",
    "    c=a+b\n",
    "    return c\n",
    "\n",
    "print('Sum = ',sum(25,35),'Result')"
   ]
  },
  {
   "cell_type": "code",
   "execution_count": null,
   "id": "18124817",
   "metadata": {},
   "outputs": [],
   "source": [
    "#is-->used to check, if two variable refer to same object\n",
    "Note: mutable data type do not refer to same object"
   ]
  },
  {
   "cell_type": "code",
   "execution_count": 117,
   "id": "f56d5489",
   "metadata": {},
   "outputs": [
    {
     "name": "stdout",
     "output_type": "stream",
     "text": [
      "True\n"
     ]
    }
   ],
   "source": [
    "a=()\n",
    "b=()\n",
    "print(a is b)"
   ]
  },
  {
   "cell_type": "code",
   "execution_count": 118,
   "id": "c8e1a095",
   "metadata": {},
   "outputs": [
    {
     "name": "stdout",
     "output_type": "stream",
     "text": [
      "False\n"
     ]
    }
   ],
   "source": [
    "l1=[]\n",
    "l2=[]\n",
    "print(l1 is l2)"
   ]
  },
  {
   "cell_type": "code",
   "execution_count": 119,
   "id": "60ed63d3",
   "metadata": {},
   "outputs": [
    {
     "name": "stdout",
     "output_type": "stream",
     "text": [
      "True\n"
     ]
    }
   ],
   "source": [
    "i1=9\n",
    "i2=9\n",
    "print(i1 is i2)"
   ]
  },
  {
   "cell_type": "code",
   "execution_count": 120,
   "id": "fad91de7",
   "metadata": {},
   "outputs": [
    {
     "name": "stdout",
     "output_type": "stream",
     "text": [
      "False\n"
     ]
    }
   ],
   "source": [
    "int1=8\n",
    "int2=4\n",
    "print(int1 is int2)"
   ]
  },
  {
   "cell_type": "code",
   "execution_count": 1,
   "id": "812986a1",
   "metadata": {},
   "outputs": [],
   "source": [
    "#global-->used to create global variable inside the function"
   ]
  },
  {
   "cell_type": "code",
   "execution_count": 4,
   "id": "65655ce3",
   "metadata": {},
   "outputs": [
    {
     "name": "stdout",
     "output_type": "stream",
     "text": [
      "a=30 b=20 c=50\n",
      "a=30\n"
     ]
    }
   ],
   "source": [
    "def sum():\n",
    "    global a\n",
    "    a=30\n",
    "    b=20\n",
    "    c=a+b\n",
    "    print(f'a={a} b={b} c={c}')\n",
    "\n",
    "sum()\n",
    "\n",
    "def glob():\n",
    "    print(f'a={a}')\n",
    "\n",
    "glob()"
   ]
  },
  {
   "cell_type": "code",
   "execution_count": 8,
   "id": "89c44eab",
   "metadata": {},
   "outputs": [
    {
     "name": "stdout",
     "output_type": "stream",
     "text": [
      "x=25 y=20 z=5\n",
      "x=25\n"
     ]
    }
   ],
   "source": [
    "class my_class:\n",
    "    def sub(self):\n",
    "        global x\n",
    "        x=25\n",
    "        y=20\n",
    "        z=x-y\n",
    "        print(f'x={x} y={y} z={z}')\n",
    "\n",
    "ob_sub=my_class()\n",
    "ob_sub.sub()\n",
    "\n",
    "print(f'x={x}')"
   ]
  },
  {
   "cell_type": "code",
   "execution_count": 9,
   "id": "9330693c",
   "metadata": {},
   "outputs": [],
   "source": [
    "#nonlocal-->it is similar to global\n",
    "work with variable inside the nested function\n",
    "#global keyword does not work with nested function\n",
    "#nonlocal variable does not change the value of nonlocal variable in outside fun to value inside fun\n",
    "#nonlocal variable change the value of nonlocal variable in inside fun to value outside fun"
   ]
  },
  {
   "cell_type": "code",
   "execution_count": 10,
   "id": "310444c5",
   "metadata": {},
   "outputs": [
    {
     "name": "stdout",
     "output_type": "stream",
     "text": [
      "Inside function a=30\n",
      "Outside function a=20\n"
     ]
    }
   ],
   "source": [
    "#without nonlocal and global keyword\n",
    "def out_fun():\n",
    "    a=20\n",
    "    def in_fun():\n",
    "        a=30\n",
    "        print(f'Inside function a={a}')  \n",
    "        \n",
    "    in_fun()  #calling inside function\n",
    "    print(f'Outside function a={a}')\n",
    "    \n",
    "out_fun() #calling outside function"
   ]
  },
  {
   "cell_type": "code",
   "execution_count": 12,
   "id": "e31e8d2e",
   "metadata": {},
   "outputs": [
    {
     "name": "stdout",
     "output_type": "stream",
     "text": [
      "Inside function a=30\n",
      "Outside function a=20\n"
     ]
    }
   ],
   "source": [
    "#with global keyword in outside function, does not work with inside function\n",
    "def out_fun():\n",
    "    global a\n",
    "    a=20\n",
    "    def in_fun():\n",
    "        a=30\n",
    "        print(f'Inside function a={a}')\n",
    "        \n",
    "    in_fun()\n",
    "    print(f'Outside function a={a}')\n",
    "    \n",
    "out_fun()"
   ]
  },
  {
   "cell_type": "code",
   "execution_count": 13,
   "id": "9681878b",
   "metadata": {},
   "outputs": [
    {
     "name": "stdout",
     "output_type": "stream",
     "text": [
      "Inside function a=30\n",
      "Outside function a=20\n"
     ]
    }
   ],
   "source": [
    "#with global keyword in inside function, does not work with nested function\n",
    "def out_fun():\n",
    "    a=20\n",
    "    def in_fun():\n",
    "        global a\n",
    "        a=30\n",
    "        print(f'Inside function a={a}')\n",
    "        \n",
    "    in_fun()\n",
    "    print(f'Outside function a={a}')\n",
    "    \n",
    "out_fun()"
   ]
  },
  {
   "cell_type": "code",
   "execution_count": 14,
   "id": "00d3777f",
   "metadata": {},
   "outputs": [
    {
     "ename": "SyntaxError",
     "evalue": "no binding for nonlocal 'a' found (<ipython-input-14-975cbd755944>, line 3)",
     "output_type": "error",
     "traceback": [
      "\u001b[1;36m  File \u001b[1;32m\"<ipython-input-14-975cbd755944>\"\u001b[1;36m, line \u001b[1;32m3\u001b[0m\n\u001b[1;33m    nonlocal a\u001b[0m\n\u001b[1;37m    ^\u001b[0m\n\u001b[1;31mSyntaxError\u001b[0m\u001b[1;31m:\u001b[0m no binding for nonlocal 'a' found\n"
     ]
    }
   ],
   "source": [
    "#with nonlocal keyword in outside function\n",
    "def out_fun():\n",
    "    nonlocal a\n",
    "    a=20\n",
    "    def in_fun():\n",
    "        a=30\n",
    "        print(f'Inside function a={a}')\n",
    "        \n",
    "    in_fun()\n",
    "    print(f'Outside function a={a}')\n",
    "    \n",
    "out_fun()"
   ]
  },
  {
   "cell_type": "code",
   "execution_count": 16,
   "id": "252ad9a2",
   "metadata": {},
   "outputs": [
    {
     "name": "stdout",
     "output_type": "stream",
     "text": [
      "Inside function a=30\n",
      "Outside function a=20\n",
      "Main function a=20\n"
     ]
    }
   ],
   "source": [
    "#with nonlocal keyword in outside function\n",
    "\n",
    "def main_fun():\n",
    "    a=10\n",
    "    \n",
    "    def out_fun():\n",
    "        nonlocal a\n",
    "        a=20\n",
    "        \n",
    "        def in_fun():\n",
    "            a=30\n",
    "            print(f'Inside function a={a}')\n",
    "            \n",
    "        in_fun()\n",
    "        print(f'Outside function a={a}')\n",
    "        \n",
    "    out_fun()\n",
    "    print(f'Main function a={a}')\n",
    "          \n",
    "main_fun()"
   ]
  },
  {
   "cell_type": "code",
   "execution_count": 17,
   "id": "a3d173fe",
   "metadata": {},
   "outputs": [
    {
     "name": "stdout",
     "output_type": "stream",
     "text": [
      "Inside function a=30\n",
      "Outside function a=30\n"
     ]
    }
   ],
   "source": [
    "#with nonlocal keyword in inside function\n",
    "def out_fun():\n",
    "    a=20\n",
    "    def in_fun():\n",
    "        nonlocal a\n",
    "        a=30\n",
    "        print(f'Inside function a={a}')\n",
    "        \n",
    "    in_fun()\n",
    "    print(f'Outside function a={a}')\n",
    "    \n",
    "out_fun()"
   ]
  },
  {
   "cell_type": "code",
   "execution_count": 18,
   "id": "28b33cfe",
   "metadata": {},
   "outputs": [],
   "source": [
    "#lambda-->used to create anonymous function in python.\n",
    "It is an inline function without name"
   ]
  },
  {
   "cell_type": "code",
   "execution_count": 19,
   "id": "5bf404f6",
   "metadata": {},
   "outputs": [
    {
     "name": "stdout",
     "output_type": "stream",
     "text": [
      "1\n",
      "4\n",
      "9\n",
      "16\n",
      "25\n"
     ]
    }
   ],
   "source": [
    "a=lambda x: x**2\n",
    "for i in range(1,6):\n",
    "    print(a(i))"
   ]
  },
  {
   "cell_type": "code",
   "execution_count": null,
   "id": "25559160",
   "metadata": {},
   "outputs": [],
   "source": [
    "#yield-->is used with python Generator.\n",
    "It stop the execution of function and return a value"
   ]
  },
  {
   "cell_type": "code",
   "execution_count": 20,
   "id": "7c7fe2ec",
   "metadata": {},
   "outputs": [
    {
     "name": "stdout",
     "output_type": "stream",
     "text": [
      "10\n",
      "20\n",
      "30\n"
     ]
    }
   ],
   "source": [
    "def fun_generator():\n",
    "    yield 10\n",
    "    yield 20\n",
    "    yield 30\n",
    "    \n",
    "for i in fun_generator():\n",
    "    print(i)"
   ]
  },
  {
   "cell_type": "code",
   "execution_count": 24,
   "id": "0bf46097",
   "metadata": {},
   "outputs": [
    {
     "name": "stdout",
     "output_type": "stream",
     "text": [
      "50\n",
      "a=30 b=20 sum=50\n",
      "10\n",
      "-10\n",
      "600\n",
      "1.5\n"
     ]
    }
   ],
   "source": [
    "def generator_cal():\n",
    "    a=30\n",
    "    b=20\n",
    "    yield a+b\n",
    "    print(f'a={a} b={b} sum={a+b}')\n",
    "    yield a-b\n",
    "    yield b-a\n",
    "    yield a*b\n",
    "    yield a/b\n",
    "    \n",
    "for i in generator_cal():\n",
    "    print(i)"
   ]
  },
  {
   "cell_type": "code",
   "execution_count": 23,
   "id": "794c924b",
   "metadata": {},
   "outputs": [
    {
     "name": "stdout",
     "output_type": "stream",
     "text": [
      "50\n",
      "a=30 b=20 sum=50\n",
      "10\n",
      "-10\n"
     ]
    }
   ],
   "source": [
    "def generator_cal():\n",
    "    a=30\n",
    "    b=20\n",
    "    yield a+b\n",
    "    print(f'a={a} b={b} sum={a+b}')\n",
    "    yield a-b\n",
    "    yield b-a\n",
    "    return(f'a={a} b={b} mul={a*b}')\n",
    "    yield a*b\n",
    "    yield a/b\n",
    "    \n",
    "for i in generator_cal():\n",
    "    print(i)"
   ]
  },
  {
   "cell_type": "code",
   "execution_count": null,
   "id": "cac13a87",
   "metadata": {},
   "outputs": [],
   "source": [
    "#with--> used in exception handling. \n",
    "It makes code cleaner and readable.\n",
    "Adv of with: we don't need to call close()"
   ]
  },
  {
   "cell_type": "code",
   "execution_count": 26,
   "id": "870f3783",
   "metadata": {},
   "outputs": [],
   "source": [
    "with open('file.txt','w') as file:\n",
    "    file.write('Hello World')"
   ]
  },
  {
   "cell_type": "code",
   "execution_count": 27,
   "id": "1384c691",
   "metadata": {},
   "outputs": [
    {
     "ename": "ValueError",
     "evalue": "I/O operation on closed file.",
     "output_type": "error",
     "traceback": [
      "\u001b[1;31m---------------------------------------------------------------------------\u001b[0m",
      "\u001b[1;31mValueError\u001b[0m                                Traceback (most recent call last)",
      "\u001b[1;32m<ipython-input-27-f3fc120c03c1>\u001b[0m in \u001b[0;36m<module>\u001b[1;34m\u001b[0m\n\u001b[1;32m----> 1\u001b[1;33m \u001b[0mfile\u001b[0m\u001b[1;33m.\u001b[0m\u001b[0mread\u001b[0m\u001b[1;33m(\u001b[0m\u001b[1;33m)\u001b[0m\u001b[1;33m\u001b[0m\u001b[1;33m\u001b[0m\u001b[0m\n\u001b[0m",
      "\u001b[1;31mValueError\u001b[0m: I/O operation on closed file."
     ]
    }
   ],
   "source": [
    "file.read()"
   ]
  },
  {
   "cell_type": "code",
   "execution_count": 32,
   "id": "66691098",
   "metadata": {},
   "outputs": [],
   "source": [
    "with open('file.txt','r') as file:\n",
    "    a=file.read"
   ]
  },
  {
   "cell_type": "code",
   "execution_count": 33,
   "id": "f8531ec7",
   "metadata": {},
   "outputs": [
    {
     "data": {
      "text/plain": [
       "<function TextIOWrapper.read(size=-1, /)>"
      ]
     },
     "execution_count": 33,
     "metadata": {},
     "output_type": "execute_result"
    }
   ],
   "source": [
    "a"
   ]
  },
  {
   "cell_type": "code",
   "execution_count": null,
   "id": "bb79678f",
   "metadata": {},
   "outputs": [],
   "source": [
    "#None-->used to define null value.\n",
    "None does not indicate 0, false, or empty data-type\n",
    "It is object of its data type"
   ]
  },
  {
   "cell_type": "code",
   "execution_count": 35,
   "id": "859abbfe",
   "metadata": {},
   "outputs": [
    {
     "name": "stdout",
     "output_type": "stream",
     "text": [
      "None\n"
     ]
    }
   ],
   "source": [
    "def return_none():\n",
    "    a=20\n",
    "    b=30\n",
    "    c=a+b\n",
    "    \n",
    "x=return_none()\n",
    "print(x)"
   ]
  },
  {
   "cell_type": "code",
   "execution_count": 36,
   "id": "7b73a8ee",
   "metadata": {},
   "outputs": [
    {
     "name": "stdout",
     "output_type": "stream",
     "text": [
      "50\n"
     ]
    }
   ],
   "source": [
    "def return_none():\n",
    "    a=20\n",
    "    b=30\n",
    "    c=a+b\n",
    "    return c\n",
    "    \n",
    "x=return_none()\n",
    "print(x)"
   ]
  },
  {
   "cell_type": "code",
   "execution_count": 37,
   "id": "e531ed5d",
   "metadata": {},
   "outputs": [
    {
     "name": "stdout",
     "output_type": "stream",
     "text": [
      "False\n"
     ]
    }
   ],
   "source": [
    "def return_none():\n",
    "    a=20\n",
    "    b=30\n",
    "    c=a+b\n",
    "    return False\n",
    "    \n",
    "x=return_none()\n",
    "print(x)"
   ]
  },
  {
   "cell_type": "code",
   "execution_count": 38,
   "id": "ff346050",
   "metadata": {},
   "outputs": [
    {
     "name": "stdout",
     "output_type": "stream",
     "text": [
      "c=50\n",
      "None\n"
     ]
    }
   ],
   "source": [
    "def return_none():\n",
    "    a=20\n",
    "    b=30\n",
    "    c=a+b\n",
    "    print(f'c={c}')\n",
    "    \n",
    "x=return_none()\n",
    "print(x)"
   ]
  },
  {
   "cell_type": "code",
   "execution_count": null,
   "id": "3751fa0d",
   "metadata": {},
   "outputs": [],
   "source": []
  }
 ],
 "metadata": {
  "kernelspec": {
   "display_name": "Python 3",
   "language": "python",
   "name": "python3"
  },
  "language_info": {
   "codemirror_mode": {
    "name": "ipython",
    "version": 3
   },
   "file_extension": ".py",
   "mimetype": "text/x-python",
   "name": "python",
   "nbconvert_exporter": "python",
   "pygments_lexer": "ipython3",
   "version": "3.8.8"
  }
 },
 "nbformat": 4,
 "nbformat_minor": 5
}
