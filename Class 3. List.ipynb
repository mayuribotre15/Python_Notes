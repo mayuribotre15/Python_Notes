{
 "cells": [
  {
   "cell_type": "code",
   "execution_count": 1,
   "id": "f7307f8d",
   "metadata": {},
   "outputs": [],
   "source": [
    "#Data Structure"
   ]
  },
  {
   "cell_type": "code",
   "execution_count": null,
   "id": "5d2ef373",
   "metadata": {},
   "outputs": [],
   "source": [
    "#1. list\n",
    "1. it is collection of elements/data type, elements may be similar or different\n",
    "2. it is mutable DS\n",
    "3. it is 0 based index data type--PARK\n",
    "4. in list, duplicate elements are allowed\n",
    "5. []"
   ]
  },
  {
   "cell_type": "code",
   "execution_count": 2,
   "id": "6376ffc6",
   "metadata": {},
   "outputs": [],
   "source": [
    "py_list=[1,2,3,'hadoop']"
   ]
  },
  {
   "cell_type": "code",
   "execution_count": 3,
   "id": "fd71c1d6",
   "metadata": {},
   "outputs": [
    {
     "data": {
      "text/plain": [
       "[1, 2, 3, 'hadoop']"
      ]
     },
     "execution_count": 3,
     "metadata": {},
     "output_type": "execute_result"
    }
   ],
   "source": [
    "py_list"
   ]
  },
  {
   "cell_type": "code",
   "execution_count": 4,
   "id": "1686c78b",
   "metadata": {},
   "outputs": [
    {
     "data": {
      "text/plain": [
       "2"
      ]
     },
     "execution_count": 4,
     "metadata": {},
     "output_type": "execute_result"
    }
   ],
   "source": [
    "py_list[1]"
   ]
  },
  {
   "cell_type": "code",
   "execution_count": 5,
   "id": "93ebf918",
   "metadata": {},
   "outputs": [
    {
     "data": {
      "text/plain": [
       "[2, 3]"
      ]
     },
     "execution_count": 5,
     "metadata": {},
     "output_type": "execute_result"
    }
   ],
   "source": [
    "py_list[1:3]"
   ]
  },
  {
   "cell_type": "code",
   "execution_count": 6,
   "id": "d7288d6d",
   "metadata": {},
   "outputs": [
    {
     "data": {
      "text/plain": [
       "3"
      ]
     },
     "execution_count": 6,
     "metadata": {},
     "output_type": "execute_result"
    }
   ],
   "source": [
    "py_list[-2]"
   ]
  },
  {
   "cell_type": "code",
   "execution_count": 7,
   "id": "73b92692",
   "metadata": {},
   "outputs": [
    {
     "data": {
      "text/plain": [
       "'hadoop'"
      ]
     },
     "execution_count": 7,
     "metadata": {},
     "output_type": "execute_result"
    }
   ],
   "source": [
    "py_list[-1]"
   ]
  },
  {
   "cell_type": "code",
   "execution_count": 9,
   "id": "85439768",
   "metadata": {},
   "outputs": [
    {
     "data": {
      "text/plain": [
       "list"
      ]
     },
     "execution_count": 9,
     "metadata": {},
     "output_type": "execute_result"
    }
   ],
   "source": [
    "type(py_list)"
   ]
  },
  {
   "cell_type": "code",
   "execution_count": 5,
   "id": "59fb5427",
   "metadata": {},
   "outputs": [],
   "source": [
    "py_list1=[1,2,3,4,5,6]#-->homogeneous list (collection of element of same data type)"
   ]
  },
  {
   "cell_type": "code",
   "execution_count": 11,
   "id": "35b3b3ca",
   "metadata": {},
   "outputs": [],
   "source": [
    "py_list2 = [3,5,4.7,7+9j,'c',None,True,1,1]#-->hetrogeneous list (collection of different data type)"
   ]
  },
  {
   "cell_type": "code",
   "execution_count": 12,
   "id": "1c55fbd4",
   "metadata": {},
   "outputs": [
    {
     "data": {
      "text/plain": [
       "[3, 5, 4.7, (7+9j), 'c', None, True, 1, 1]"
      ]
     },
     "execution_count": 12,
     "metadata": {},
     "output_type": "execute_result"
    }
   ],
   "source": [
    "py_list2"
   ]
  },
  {
   "cell_type": "code",
   "execution_count": null,
   "id": "aad6af9d",
   "metadata": {},
   "outputs": [],
   "source": [
    "#merge two list"
   ]
  },
  {
   "cell_type": "code",
   "execution_count": 14,
   "id": "f6388bf3",
   "metadata": {},
   "outputs": [],
   "source": [
    "py_concat=py_list1+py_list2"
   ]
  },
  {
   "cell_type": "code",
   "execution_count": 15,
   "id": "bd04318f",
   "metadata": {},
   "outputs": [
    {
     "data": {
      "text/plain": [
       "[1, 2, 3, 4, 5, 6, 3, 5, 4.7, (7+9j), 'c', None, True, 1, 1]"
      ]
     },
     "execution_count": 15,
     "metadata": {},
     "output_type": "execute_result"
    }
   ],
   "source": [
    "py_concat"
   ]
  },
  {
   "cell_type": "code",
   "execution_count": 16,
   "id": "f43ead2b",
   "metadata": {},
   "outputs": [
    {
     "data": {
      "text/plain": [
       "3"
      ]
     },
     "execution_count": 16,
     "metadata": {},
     "output_type": "execute_result"
    }
   ],
   "source": [
    "py_list2.count(1)"
   ]
  },
  {
   "cell_type": "code",
   "execution_count": 17,
   "id": "17f3fb6f",
   "metadata": {},
   "outputs": [
    {
     "data": {
      "text/plain": [
       "0"
      ]
     },
     "execution_count": 17,
     "metadata": {},
     "output_type": "execute_result"
    }
   ],
   "source": [
    "py_list2.count(2)"
   ]
  },
  {
   "cell_type": "code",
   "execution_count": 18,
   "id": "1df0952c",
   "metadata": {},
   "outputs": [
    {
     "data": {
      "text/plain": [
       "15"
      ]
     },
     "execution_count": 18,
     "metadata": {},
     "output_type": "execute_result"
    }
   ],
   "source": [
    "len(py_concat)"
   ]
  },
  {
   "cell_type": "code",
   "execution_count": 19,
   "id": "845439be",
   "metadata": {},
   "outputs": [
    {
     "ename": "AttributeError",
     "evalue": "'list' object has no attribute 'sum'",
     "output_type": "error",
     "traceback": [
      "\u001b[1;31m---------------------------------------------------------------------------\u001b[0m",
      "\u001b[1;31mAttributeError\u001b[0m                            Traceback (most recent call last)",
      "\u001b[1;32m<ipython-input-19-a466ac85efda>\u001b[0m in \u001b[0;36m<module>\u001b[1;34m\u001b[0m\n\u001b[1;32m----> 1\u001b[1;33m \u001b[0mpy_list\u001b[0m\u001b[1;33m.\u001b[0m\u001b[0msum\u001b[0m\u001b[1;33m(\u001b[0m\u001b[1;33m)\u001b[0m\u001b[1;33m\u001b[0m\u001b[1;33m\u001b[0m\u001b[0m\n\u001b[0m",
      "\u001b[1;31mAttributeError\u001b[0m: 'list' object has no attribute 'sum'"
     ]
    }
   ],
   "source": [
    "py_list.sum()"
   ]
  },
  {
   "cell_type": "code",
   "execution_count": 6,
   "id": "62a325af",
   "metadata": {},
   "outputs": [
    {
     "data": {
      "text/plain": [
       "[1, 2, 3, 4, 5, 6]"
      ]
     },
     "execution_count": 6,
     "metadata": {},
     "output_type": "execute_result"
    }
   ],
   "source": [
    "py_list1"
   ]
  },
  {
   "cell_type": "code",
   "execution_count": 7,
   "id": "cd17190f",
   "metadata": {},
   "outputs": [
    {
     "data": {
      "text/plain": [
       "21"
      ]
     },
     "execution_count": 7,
     "metadata": {},
     "output_type": "execute_result"
    }
   ],
   "source": [
    "sum(py_list1)"
   ]
  },
  {
   "cell_type": "code",
   "execution_count": null,
   "id": "02e91687",
   "metadata": {},
   "outputs": [],
   "source": [
    "#Find minimum, maximum of elements, sum of elements"
   ]
  },
  {
   "cell_type": "code",
   "execution_count": 15,
   "id": "761d1863",
   "metadata": {},
   "outputs": [],
   "source": [
    "py_sort=[6,2,7,3,5,1,9,4,8,1,0,3]"
   ]
  },
  {
   "cell_type": "code",
   "execution_count": 25,
   "id": "d6b3644a",
   "metadata": {},
   "outputs": [
    {
     "data": {
      "text/plain": [
       "0"
      ]
     },
     "execution_count": 25,
     "metadata": {},
     "output_type": "execute_result"
    }
   ],
   "source": [
    "min(py_sort)"
   ]
  },
  {
   "cell_type": "code",
   "execution_count": 26,
   "id": "ef190889",
   "metadata": {},
   "outputs": [
    {
     "data": {
      "text/plain": [
       "9"
      ]
     },
     "execution_count": 26,
     "metadata": {},
     "output_type": "execute_result"
    }
   ],
   "source": [
    "max(py_sort)"
   ]
  },
  {
   "cell_type": "code",
   "execution_count": 27,
   "id": "b79c28f4",
   "metadata": {},
   "outputs": [
    {
     "data": {
      "text/plain": [
       "49"
      ]
     },
     "execution_count": 27,
     "metadata": {},
     "output_type": "execute_result"
    }
   ],
   "source": [
    "sum(py_sort)"
   ]
  },
  {
   "cell_type": "code",
   "execution_count": null,
   "id": "39fd5832",
   "metadata": {},
   "outputs": [],
   "source": [
    "#reverse the list"
   ]
  },
  {
   "cell_type": "code",
   "execution_count": 39,
   "id": "bd71d177",
   "metadata": {},
   "outputs": [],
   "source": [
    "py_sort.reverse()"
   ]
  },
  {
   "cell_type": "code",
   "execution_count": 16,
   "id": "8124f057",
   "metadata": {},
   "outputs": [
    {
     "data": {
      "text/plain": [
       "[6, 2, 7, 3, 5, 1, 9, 4, 8, 1, 0, 3]"
      ]
     },
     "execution_count": 16,
     "metadata": {},
     "output_type": "execute_result"
    }
   ],
   "source": [
    "py_sort"
   ]
  },
  {
   "cell_type": "code",
   "execution_count": 17,
   "id": "8c3c1ca6",
   "metadata": {},
   "outputs": [
    {
     "data": {
      "text/plain": [
       "[3, 0, 1, 8, 4, 9, 1, 5, 3, 7, 2, 6]"
      ]
     },
     "execution_count": 17,
     "metadata": {},
     "output_type": "execute_result"
    }
   ],
   "source": [
    "py_sort[::-1]"
   ]
  },
  {
   "cell_type": "code",
   "execution_count": 18,
   "id": "7d8ddeab",
   "metadata": {},
   "outputs": [
    {
     "data": {
      "text/plain": [
       "[3, 1, 4, 1, 3, 2]"
      ]
     },
     "execution_count": 18,
     "metadata": {},
     "output_type": "execute_result"
    }
   ],
   "source": [
    "py_sort[::-2]"
   ]
  },
  {
   "cell_type": "code",
   "execution_count": 19,
   "id": "faaf30b2",
   "metadata": {},
   "outputs": [
    {
     "data": {
      "text/plain": [
       "[6, 2, 7, 3, 5, 1, 9, 4, 8, 1, 0, 3]"
      ]
     },
     "execution_count": 19,
     "metadata": {},
     "output_type": "execute_result"
    }
   ],
   "source": [
    "py_sort"
   ]
  },
  {
   "cell_type": "code",
   "execution_count": 28,
   "id": "c82faa48",
   "metadata": {},
   "outputs": [
    {
     "ename": "NameError",
     "evalue": "name 'sort' is not defined",
     "output_type": "error",
     "traceback": [
      "\u001b[1;31m---------------------------------------------------------------------------\u001b[0m",
      "\u001b[1;31mNameError\u001b[0m                                 Traceback (most recent call last)",
      "\u001b[1;32m<ipython-input-28-8fa08fceb06e>\u001b[0m in \u001b[0;36m<module>\u001b[1;34m\u001b[0m\n\u001b[1;32m----> 1\u001b[1;33m \u001b[0msort\u001b[0m\u001b[1;33m(\u001b[0m\u001b[0mpy_sort\u001b[0m\u001b[1;33m)\u001b[0m\u001b[1;33m\u001b[0m\u001b[1;33m\u001b[0m\u001b[0m\n\u001b[0m",
      "\u001b[1;31mNameError\u001b[0m: name 'sort' is not defined"
     ]
    }
   ],
   "source": [
    "sort(py_sort)"
   ]
  },
  {
   "cell_type": "code",
   "execution_count": 29,
   "id": "a6a1922d",
   "metadata": {},
   "outputs": [
    {
     "data": {
      "text/plain": [
       "<function list.sort(*, key=None, reverse=False)>"
      ]
     },
     "execution_count": 29,
     "metadata": {},
     "output_type": "execute_result"
    }
   ],
   "source": [
    "py_sort.sort"
   ]
  },
  {
   "cell_type": "code",
   "execution_count": 30,
   "id": "63e11ac9",
   "metadata": {},
   "outputs": [
    {
     "data": {
      "text/plain": [
       "[6, 2, 7, 3, 5, 1, 9, 4, 8, 1, 0, 3]"
      ]
     },
     "execution_count": 30,
     "metadata": {},
     "output_type": "execute_result"
    }
   ],
   "source": [
    "py_sort"
   ]
  },
  {
   "cell_type": "code",
   "execution_count": null,
   "id": "ee15d7bf",
   "metadata": {},
   "outputs": [],
   "source": [
    "# sort() function to sort elements in asc order-->by default"
   ]
  },
  {
   "cell_type": "code",
   "execution_count": 36,
   "id": "a72127f8",
   "metadata": {},
   "outputs": [],
   "source": [
    "py_sort.sort()"
   ]
  },
  {
   "cell_type": "code",
   "execution_count": 37,
   "id": "a668ec2e",
   "metadata": {},
   "outputs": [
    {
     "data": {
      "text/plain": [
       "[0, 1, 1, 2, 3, 3, 4, 5, 6, 7, 8, 9]"
      ]
     },
     "execution_count": 37,
     "metadata": {},
     "output_type": "execute_result"
    }
   ],
   "source": [
    "py_sort"
   ]
  },
  {
   "cell_type": "code",
   "execution_count": null,
   "id": "1ce8c1be",
   "metadata": {},
   "outputs": [],
   "source": [
    "#Two methods to sort elements in desc order\n",
    "1. reverse the sorted list\n",
    "2. var_name.sort(reverse=True)"
   ]
  },
  {
   "cell_type": "code",
   "execution_count": 33,
   "id": "bff04828",
   "metadata": {},
   "outputs": [],
   "source": [
    "py_sort.reverse()"
   ]
  },
  {
   "cell_type": "code",
   "execution_count": 34,
   "id": "d3f28b66",
   "metadata": {},
   "outputs": [
    {
     "data": {
      "text/plain": [
       "[9, 8, 7, 6, 5, 4, 3, 3, 2, 1, 1, 0]"
      ]
     },
     "execution_count": 34,
     "metadata": {},
     "output_type": "execute_result"
    }
   ],
   "source": [
    "py_sort"
   ]
  },
  {
   "cell_type": "code",
   "execution_count": null,
   "id": "34cc314e",
   "metadata": {},
   "outputs": [],
   "source": [
    "#2. var_name.sort(reverse=True)"
   ]
  },
  {
   "cell_type": "code",
   "execution_count": 50,
   "id": "bf4f2449",
   "metadata": {},
   "outputs": [],
   "source": [
    "sort_desc=[7,3,2,8,6,5,1,9,0,4]"
   ]
  },
  {
   "cell_type": "code",
   "execution_count": 51,
   "id": "44e7b426",
   "metadata": {},
   "outputs": [],
   "source": [
    "sort_desc.sort(reverse=True)"
   ]
  },
  {
   "cell_type": "code",
   "execution_count": 52,
   "id": "5427b0b3",
   "metadata": {},
   "outputs": [
    {
     "data": {
      "text/plain": [
       "[9, 8, 7, 6, 5, 4, 3, 2, 1, 0]"
      ]
     },
     "execution_count": 52,
     "metadata": {},
     "output_type": "execute_result"
    }
   ],
   "source": [
    "sort_desc"
   ]
  },
  {
   "cell_type": "code",
   "execution_count": 46,
   "id": "e1c4b0af",
   "metadata": {},
   "outputs": [],
   "source": [
    "#reverse() and sort() take no arguments"
   ]
  },
  {
   "cell_type": "code",
   "execution_count": 43,
   "id": "287ff062",
   "metadata": {},
   "outputs": [],
   "source": [
    "py_list_sort_rev=[7,4,2,6,3,9]"
   ]
  },
  {
   "cell_type": "code",
   "execution_count": 44,
   "id": "743aea13",
   "metadata": {},
   "outputs": [
    {
     "ename": "TypeError",
     "evalue": "reverse() takes no arguments (1 given)",
     "output_type": "error",
     "traceback": [
      "\u001b[1;31m---------------------------------------------------------------------------\u001b[0m",
      "\u001b[1;31mTypeError\u001b[0m                                 Traceback (most recent call last)",
      "\u001b[1;32m<ipython-input-44-85d8ee6bca23>\u001b[0m in \u001b[0;36m<module>\u001b[1;34m\u001b[0m\n\u001b[1;32m----> 1\u001b[1;33m \u001b[0mpy_list_sort_rev\u001b[0m\u001b[1;33m.\u001b[0m\u001b[0mreverse\u001b[0m\u001b[1;33m(\u001b[0m\u001b[0mpy_list_sort_rev\u001b[0m\u001b[1;33m.\u001b[0m\u001b[0msort\u001b[0m\u001b[1;33m(\u001b[0m\u001b[1;33m)\u001b[0m\u001b[1;33m)\u001b[0m\u001b[1;33m\u001b[0m\u001b[1;33m\u001b[0m\u001b[0m\n\u001b[0m",
      "\u001b[1;31mTypeError\u001b[0m: reverse() takes no arguments (1 given)"
     ]
    }
   ],
   "source": [
    "py_list_sort_rev.reverse(py_list_sort_rev.sort())"
   ]
  },
  {
   "cell_type": "code",
   "execution_count": 45,
   "id": "115133ca",
   "metadata": {},
   "outputs": [
    {
     "ename": "TypeError",
     "evalue": "sort() takes no positional arguments",
     "output_type": "error",
     "traceback": [
      "\u001b[1;31m---------------------------------------------------------------------------\u001b[0m",
      "\u001b[1;31mTypeError\u001b[0m                                 Traceback (most recent call last)",
      "\u001b[1;32m<ipython-input-45-385c6c55b4c7>\u001b[0m in \u001b[0;36m<module>\u001b[1;34m\u001b[0m\n\u001b[1;32m----> 1\u001b[1;33m \u001b[0mpy_list_sort_rev\u001b[0m\u001b[1;33m.\u001b[0m\u001b[0msort\u001b[0m\u001b[1;33m(\u001b[0m\u001b[0mpy_list_sort_rev\u001b[0m\u001b[1;33m.\u001b[0m\u001b[0mreverse\u001b[0m\u001b[1;33m(\u001b[0m\u001b[1;33m)\u001b[0m\u001b[1;33m)\u001b[0m\u001b[1;33m\u001b[0m\u001b[1;33m\u001b[0m\u001b[0m\n\u001b[0m",
      "\u001b[1;31mTypeError\u001b[0m: sort() takes no positional arguments"
     ]
    }
   ],
   "source": [
    "py_list_sort_rev.sort(py_list_sort_rev.reverse())"
   ]
  },
  {
   "cell_type": "code",
   "execution_count": 48,
   "id": "af90daa3",
   "metadata": {},
   "outputs": [
    {
     "ename": "AttributeError",
     "evalue": "'NoneType' object has no attribute 'reverse'",
     "output_type": "error",
     "traceback": [
      "\u001b[1;31m---------------------------------------------------------------------------\u001b[0m",
      "\u001b[1;31mAttributeError\u001b[0m                            Traceback (most recent call last)",
      "\u001b[1;32m<ipython-input-48-35d0405aaf33>\u001b[0m in \u001b[0;36m<module>\u001b[1;34m\u001b[0m\n\u001b[1;32m----> 1\u001b[1;33m \u001b[1;33m(\u001b[0m\u001b[0mpy_list_sort_rev\u001b[0m\u001b[1;33m.\u001b[0m\u001b[0msort\u001b[0m\u001b[1;33m(\u001b[0m\u001b[1;33m)\u001b[0m\u001b[1;33m)\u001b[0m\u001b[1;33m.\u001b[0m\u001b[0mreverse\u001b[0m\u001b[1;33m(\u001b[0m\u001b[1;33m)\u001b[0m\u001b[1;33m\u001b[0m\u001b[1;33m\u001b[0m\u001b[0m\n\u001b[0m",
      "\u001b[1;31mAttributeError\u001b[0m: 'NoneType' object has no attribute 'reverse'"
     ]
    }
   ],
   "source": [
    "(py_list_sort_rev.sort()).reverse()"
   ]
  },
  {
   "cell_type": "code",
   "execution_count": 49,
   "id": "cbab2d8f",
   "metadata": {},
   "outputs": [
    {
     "ename": "AttributeError",
     "evalue": "'NoneType' object has no attribute 'sort'",
     "output_type": "error",
     "traceback": [
      "\u001b[1;31m---------------------------------------------------------------------------\u001b[0m",
      "\u001b[1;31mAttributeError\u001b[0m                            Traceback (most recent call last)",
      "\u001b[1;32m<ipython-input-49-eb8a2c718d61>\u001b[0m in \u001b[0;36m<module>\u001b[1;34m\u001b[0m\n\u001b[1;32m----> 1\u001b[1;33m \u001b[1;33m(\u001b[0m\u001b[0mpy_list_sort_rev\u001b[0m\u001b[1;33m.\u001b[0m\u001b[0mreverse\u001b[0m\u001b[1;33m(\u001b[0m\u001b[1;33m)\u001b[0m\u001b[1;33m)\u001b[0m\u001b[1;33m.\u001b[0m\u001b[0msort\u001b[0m\u001b[1;33m(\u001b[0m\u001b[1;33m)\u001b[0m\u001b[1;33m\u001b[0m\u001b[1;33m\u001b[0m\u001b[0m\n\u001b[0m",
      "\u001b[1;31mAttributeError\u001b[0m: 'NoneType' object has no attribute 'sort'"
     ]
    }
   ],
   "source": [
    "(py_list_sort_rev.reverse()).sort()"
   ]
  },
  {
   "cell_type": "code",
   "execution_count": 4,
   "id": "61bfa687",
   "metadata": {},
   "outputs": [],
   "source": [
    "p=[2,4,1,6,9,4]"
   ]
  },
  {
   "cell_type": "code",
   "execution_count": 5,
   "id": "5873a734",
   "metadata": {},
   "outputs": [],
   "source": [
    "temp=p.copy()"
   ]
  },
  {
   "cell_type": "code",
   "execution_count": 6,
   "id": "ce0564ff",
   "metadata": {},
   "outputs": [
    {
     "data": {
      "text/plain": [
       "[2, 4, 1, 6, 9, 4]"
      ]
     },
     "execution_count": 6,
     "metadata": {},
     "output_type": "execute_result"
    }
   ],
   "source": [
    "temp"
   ]
  },
  {
   "cell_type": "code",
   "execution_count": 8,
   "id": "a7928299",
   "metadata": {},
   "outputs": [],
   "source": [
    "temp[5]=True"
   ]
  },
  {
   "cell_type": "code",
   "execution_count": 9,
   "id": "117b726f",
   "metadata": {},
   "outputs": [
    {
     "data": {
      "text/plain": [
       "[2, 4, 1, 6, 9, True]"
      ]
     },
     "execution_count": 9,
     "metadata": {},
     "output_type": "execute_result"
    }
   ],
   "source": [
    "temp"
   ]
  },
  {
   "cell_type": "code",
   "execution_count": 10,
   "id": "cf8f8727",
   "metadata": {},
   "outputs": [],
   "source": [
    "temp.insert(6,1)"
   ]
  },
  {
   "cell_type": "code",
   "execution_count": 11,
   "id": "63ab495c",
   "metadata": {},
   "outputs": [
    {
     "data": {
      "text/plain": [
       "[2, 4, 1, 6, 9, True, 1]"
      ]
     },
     "execution_count": 11,
     "metadata": {},
     "output_type": "execute_result"
    }
   ],
   "source": [
    "temp"
   ]
  },
  {
   "cell_type": "code",
   "execution_count": 12,
   "id": "54cd5593",
   "metadata": {},
   "outputs": [],
   "source": [
    "temp.sort()"
   ]
  },
  {
   "cell_type": "code",
   "execution_count": 13,
   "id": "e1738eef",
   "metadata": {},
   "outputs": [
    {
     "data": {
      "text/plain": [
       "[1, True, 1, 2, 4, 6, 9]"
      ]
     },
     "execution_count": 13,
     "metadata": {},
     "output_type": "execute_result"
    }
   ],
   "source": [
    "temp"
   ]
  },
  {
   "cell_type": "code",
   "execution_count": null,
   "id": "39563311",
   "metadata": {},
   "outputs": [],
   "source": [
    "#var_name.count(element)-->count the no. of occurence of duplicate element\n",
    "#copy()-->create copy\n",
    "#reverse()-->reverse the list\n",
    "#sort()-->sort in asc order\n",
    "#sort(reverse=True)-->sort in desc order\n",
    "#var_name[::-1]-->reverse the list\n",
    "#var_name[startIndex:endIndex:step]-->return the elements present in given step \n",
    "#min(list_name)-->return min\n",
    "#max(list_name)-->return max\n",
    "#sum(list_name)-->return sum of elements"
   ]
  },
  {
   "cell_type": "code",
   "execution_count": null,
   "id": "11a49087",
   "metadata": {},
   "outputs": [],
   "source": [
    "#list is Mutable---changable--unhashable\n",
    "1. insert\n",
    "2. delete\n",
    "3. update"
   ]
  },
  {
   "cell_type": "code",
   "execution_count": 60,
   "id": "438148ce",
   "metadata": {},
   "outputs": [],
   "source": [
    "#insert elements in list\n",
    "1. insert-->add 1 element at desired location\n",
    "2. append-->add 1 element at the last position\n",
    "3. extend-->add multiple element at the last"
   ]
  },
  {
   "cell_type": "code",
   "execution_count": 20,
   "id": "d5bd0253",
   "metadata": {},
   "outputs": [],
   "source": [
    "#list_name.insert(index, element)"
   ]
  },
  {
   "cell_type": "code",
   "execution_count": 21,
   "id": "5557fcc7",
   "metadata": {},
   "outputs": [],
   "source": [
    "py_add_element=[7.3,8,10,'python']"
   ]
  },
  {
   "cell_type": "code",
   "execution_count": 22,
   "id": "8f28ad5e",
   "metadata": {},
   "outputs": [],
   "source": [
    "py_add_element.insert(2,'hadoop')"
   ]
  },
  {
   "cell_type": "code",
   "execution_count": 23,
   "id": "c176597b",
   "metadata": {},
   "outputs": [
    {
     "data": {
      "text/plain": [
       "[7.3, 8, 'hadoop', 10, 'python']"
      ]
     },
     "execution_count": 23,
     "metadata": {},
     "output_type": "execute_result"
    }
   ],
   "source": [
    "py_add_element"
   ]
  },
  {
   "cell_type": "code",
   "execution_count": 33,
   "id": "fa941319",
   "metadata": {},
   "outputs": [],
   "source": [
    "py_add_element.insert(1,(1,3,4))"
   ]
  },
  {
   "cell_type": "code",
   "execution_count": 34,
   "id": "df04798c",
   "metadata": {},
   "outputs": [
    {
     "data": {
      "text/plain": [
       "[7.3, (1, 3, 4), 8, 'hadoop', 10, 'python', 100, 1, 2, 3, 'c']"
      ]
     },
     "execution_count": 34,
     "metadata": {},
     "output_type": "execute_result"
    }
   ],
   "source": [
    "py_add_element"
   ]
  },
  {
   "cell_type": "code",
   "execution_count": 35,
   "id": "4f8f5852",
   "metadata": {},
   "outputs": [],
   "source": [
    "py_add_element.insert(3,{10,20,30})"
   ]
  },
  {
   "cell_type": "code",
   "execution_count": 36,
   "id": "0a0f04fd",
   "metadata": {},
   "outputs": [
    {
     "data": {
      "text/plain": [
       "[7.3, (1, 3, 4), 8, {10, 20, 30}, 'hadoop', 10, 'python', 100, 1, 2, 3, 'c']"
      ]
     },
     "execution_count": 36,
     "metadata": {},
     "output_type": "execute_result"
    }
   ],
   "source": [
    "py_add_element"
   ]
  },
  {
   "cell_type": "code",
   "execution_count": 37,
   "id": "3ccb9faa",
   "metadata": {},
   "outputs": [],
   "source": [
    "py_add_element.insert(5,['a','b','c'])"
   ]
  },
  {
   "cell_type": "code",
   "execution_count": 38,
   "id": "7b3e5643",
   "metadata": {},
   "outputs": [
    {
     "data": {
      "text/plain": [
       "[7.3,\n",
       " (1, 3, 4),\n",
       " 8,\n",
       " {10, 20, 30},\n",
       " 'hadoop',\n",
       " ['a', 'b', 'c'],\n",
       " 10,\n",
       " 'python',\n",
       " 100,\n",
       " 1,\n",
       " 2,\n",
       " 3,\n",
       " 'c']"
      ]
     },
     "execution_count": 38,
     "metadata": {},
     "output_type": "execute_result"
    }
   ],
   "source": [
    "py_add_element"
   ]
  },
  {
   "cell_type": "code",
   "execution_count": 39,
   "id": "e0d0b687",
   "metadata": {},
   "outputs": [
    {
     "data": {
      "text/plain": [
       "3"
      ]
     },
     "execution_count": 39,
     "metadata": {},
     "output_type": "execute_result"
    }
   ],
   "source": [
    "py_add_element[1][1]"
   ]
  },
  {
   "cell_type": "code",
   "execution_count": 41,
   "id": "17f96f91",
   "metadata": {},
   "outputs": [
    {
     "data": {
      "text/plain": [
       "set"
      ]
     },
     "execution_count": 41,
     "metadata": {},
     "output_type": "execute_result"
    }
   ],
   "source": [
    "type(py_add_element[3])"
   ]
  },
  {
   "cell_type": "code",
   "execution_count": 42,
   "id": "34e83ebd",
   "metadata": {},
   "outputs": [
    {
     "data": {
      "text/plain": [
       "['a', 'b', 'c']"
      ]
     },
     "execution_count": 42,
     "metadata": {},
     "output_type": "execute_result"
    }
   ],
   "source": [
    "py_add_element[5]"
   ]
  },
  {
   "cell_type": "code",
   "execution_count": 69,
   "id": "e85c4e02",
   "metadata": {},
   "outputs": [],
   "source": [
    "py_add_element.insert(1,{'name':'Helly','sal':5000})"
   ]
  },
  {
   "cell_type": "code",
   "execution_count": 70,
   "id": "2007b219",
   "metadata": {},
   "outputs": [
    {
     "data": {
      "text/plain": [
       "[7.3,\n",
       " {'name': 'Helly', 'sal': 5000},\n",
       " (1, 3, 4),\n",
       " 8,\n",
       " {10, 20, 30},\n",
       " 'hadoop',\n",
       " ['c', 'b', 'a'],\n",
       " 10,\n",
       " 'python',\n",
       " 100,\n",
       " 1,\n",
       " 2,\n",
       " 3,\n",
       " 'c',\n",
       " [0, 0j, 91],\n",
       " {'name': 'John', 'sal': 2000},\n",
       " 'x',\n",
       " 'y',\n",
       " 'z',\n",
       " 'name',\n",
       " 'sal',\n",
       " 'ball',\n",
       " 'bat']"
      ]
     },
     "execution_count": 70,
     "metadata": {},
     "output_type": "execute_result"
    }
   ],
   "source": [
    "py_add_element"
   ]
  },
  {
   "cell_type": "code",
   "execution_count": null,
   "id": "f8bd80a7",
   "metadata": {},
   "outputs": [],
   "source": [
    "#how to access element from dictionary"
   ]
  },
  {
   "cell_type": "code",
   "execution_count": 73,
   "id": "4850a35e",
   "metadata": {},
   "outputs": [
    {
     "data": {
      "text/plain": [
       "{'name': 'Helly', 'sal': 5000}"
      ]
     },
     "execution_count": 73,
     "metadata": {},
     "output_type": "execute_result"
    }
   ],
   "source": [
    "py_add_element[1]"
   ]
  },
  {
   "cell_type": "code",
   "execution_count": null,
   "id": "97ec23c4",
   "metadata": {},
   "outputs": [],
   "source": []
  },
  {
   "cell_type": "code",
   "execution_count": 43,
   "id": "205055d8",
   "metadata": {},
   "outputs": [
    {
     "data": {
      "text/plain": [
       "list"
      ]
     },
     "execution_count": 43,
     "metadata": {},
     "output_type": "execute_result"
    }
   ],
   "source": [
    "type(py_add_element[5])"
   ]
  },
  {
   "cell_type": "code",
   "execution_count": 24,
   "id": "aabd3e2b",
   "metadata": {},
   "outputs": [],
   "source": [
    "#list_name.append(element)"
   ]
  },
  {
   "cell_type": "code",
   "execution_count": 25,
   "id": "c4996beb",
   "metadata": {},
   "outputs": [],
   "source": [
    "py_add_element.append(100)"
   ]
  },
  {
   "cell_type": "code",
   "execution_count": 26,
   "id": "e2e85d8f",
   "metadata": {},
   "outputs": [
    {
     "data": {
      "text/plain": [
       "[7.3, 8, 'hadoop', 10, 'python', 100]"
      ]
     },
     "execution_count": 26,
     "metadata": {},
     "output_type": "execute_result"
    }
   ],
   "source": [
    "py_add_element"
   ]
  },
  {
   "cell_type": "code",
   "execution_count": 44,
   "id": "6250f0e6",
   "metadata": {},
   "outputs": [
    {
     "ename": "TypeError",
     "evalue": "append() takes exactly one argument (3 given)",
     "output_type": "error",
     "traceback": [
      "\u001b[1;31m---------------------------------------------------------------------------\u001b[0m",
      "\u001b[1;31mTypeError\u001b[0m                                 Traceback (most recent call last)",
      "\u001b[1;32m<ipython-input-44-8671fb0e2202>\u001b[0m in \u001b[0;36m<module>\u001b[1;34m\u001b[0m\n\u001b[1;32m----> 1\u001b[1;33m \u001b[0mpy_add_element\u001b[0m\u001b[1;33m.\u001b[0m\u001b[0mappend\u001b[0m\u001b[1;33m(\u001b[0m\u001b[1;36m10\u001b[0m\u001b[1;33m,\u001b[0m\u001b[1;36m20\u001b[0m\u001b[1;33m,\u001b[0m\u001b[1;36m30\u001b[0m\u001b[1;33m)\u001b[0m\u001b[1;33m\u001b[0m\u001b[1;33m\u001b[0m\u001b[0m\n\u001b[0m",
      "\u001b[1;31mTypeError\u001b[0m: append() takes exactly one argument (3 given)"
     ]
    }
   ],
   "source": [
    "py_add_element.append(10,20,30)"
   ]
  },
  {
   "cell_type": "code",
   "execution_count": 45,
   "id": "9f186257",
   "metadata": {},
   "outputs": [
    {
     "ename": "NameError",
     "evalue": "name 'j' is not defined",
     "output_type": "error",
     "traceback": [
      "\u001b[1;31m---------------------------------------------------------------------------\u001b[0m",
      "\u001b[1;31mNameError\u001b[0m                                 Traceback (most recent call last)",
      "\u001b[1;32m<ipython-input-45-782f8b3bc8f9>\u001b[0m in \u001b[0;36m<module>\u001b[1;34m\u001b[0m\n\u001b[1;32m----> 1\u001b[1;33m \u001b[0mpy_add_element\u001b[0m\u001b[1;33m.\u001b[0m\u001b[0mappend\u001b[0m\u001b[1;33m(\u001b[0m\u001b[1;33m[\u001b[0m\u001b[1;36m0\u001b[0m\u001b[1;33m,\u001b[0m\u001b[0mj\u001b[0m\u001b[1;33m,\u001b[0m\u001b[1;36m91\u001b[0m\u001b[1;33m]\u001b[0m\u001b[1;33m)\u001b[0m\u001b[1;33m\u001b[0m\u001b[1;33m\u001b[0m\u001b[0m\n\u001b[0m",
      "\u001b[1;31mNameError\u001b[0m: name 'j' is not defined"
     ]
    }
   ],
   "source": [
    "py_add_element.append([0,j,91])"
   ]
  },
  {
   "cell_type": "code",
   "execution_count": 46,
   "id": "dcd232b9",
   "metadata": {},
   "outputs": [],
   "source": [
    "py_add_element.append([0,0j,91])"
   ]
  },
  {
   "cell_type": "code",
   "execution_count": 47,
   "id": "33e1ece7",
   "metadata": {},
   "outputs": [
    {
     "data": {
      "text/plain": [
       "[7.3,\n",
       " (1, 3, 4),\n",
       " 8,\n",
       " {10, 20, 30},\n",
       " 'hadoop',\n",
       " ['a', 'b', 'c'],\n",
       " 10,\n",
       " 'python',\n",
       " 100,\n",
       " 1,\n",
       " 2,\n",
       " 3,\n",
       " 'c',\n",
       " [0, 0j, 91]]"
      ]
     },
     "execution_count": 47,
     "metadata": {},
     "output_type": "execute_result"
    }
   ],
   "source": [
    "py_add_element"
   ]
  },
  {
   "cell_type": "code",
   "execution_count": 48,
   "id": "d382c848",
   "metadata": {},
   "outputs": [],
   "source": [
    "py_add_element.append({'name':'John','sal':2000})"
   ]
  },
  {
   "cell_type": "code",
   "execution_count": 49,
   "id": "5d38efc7",
   "metadata": {},
   "outputs": [
    {
     "data": {
      "text/plain": [
       "[7.3,\n",
       " (1, 3, 4),\n",
       " 8,\n",
       " {10, 20, 30},\n",
       " 'hadoop',\n",
       " ['a', 'b', 'c'],\n",
       " 10,\n",
       " 'python',\n",
       " 100,\n",
       " 1,\n",
       " 2,\n",
       " 3,\n",
       " 'c',\n",
       " [0, 0j, 91],\n",
       " {'name': 'John', 'sal': 2000}]"
      ]
     },
     "execution_count": 49,
     "metadata": {},
     "output_type": "execute_result"
    }
   ],
   "source": [
    "py_add_element"
   ]
  },
  {
   "cell_type": "code",
   "execution_count": null,
   "id": "fda04bd8",
   "metadata": {},
   "outputs": [],
   "source": [
    "#append vs extend"
   ]
  },
  {
   "cell_type": "code",
   "execution_count": 14,
   "id": "5dece5e4",
   "metadata": {},
   "outputs": [],
   "source": [
    "p=['a','b','c']"
   ]
  },
  {
   "cell_type": "code",
   "execution_count": 15,
   "id": "af7293c5",
   "metadata": {},
   "outputs": [],
   "source": [
    "p1=[1,2,3]"
   ]
  },
  {
   "cell_type": "code",
   "execution_count": 16,
   "id": "357c24e8",
   "metadata": {},
   "outputs": [],
   "source": [
    "p.append(p1)"
   ]
  },
  {
   "cell_type": "code",
   "execution_count": 17,
   "id": "0a595575",
   "metadata": {},
   "outputs": [
    {
     "data": {
      "text/plain": [
       "['a', 'b', 'c', [1, 2, 3]]"
      ]
     },
     "execution_count": 17,
     "metadata": {},
     "output_type": "execute_result"
    }
   ],
   "source": [
    "p"
   ]
  },
  {
   "cell_type": "code",
   "execution_count": 18,
   "id": "ae9dd4ea",
   "metadata": {},
   "outputs": [
    {
     "data": {
      "text/plain": [
       "[1, 2, 3]"
      ]
     },
     "execution_count": 18,
     "metadata": {},
     "output_type": "execute_result"
    }
   ],
   "source": [
    "p1"
   ]
  },
  {
   "cell_type": "code",
   "execution_count": 19,
   "id": "9ef3d3b3",
   "metadata": {},
   "outputs": [],
   "source": [
    "p.extend(p1)"
   ]
  },
  {
   "cell_type": "code",
   "execution_count": 20,
   "id": "9679244e",
   "metadata": {},
   "outputs": [
    {
     "data": {
      "text/plain": [
       "['a', 'b', 'c', [1, 2, 3], 1, 2, 3]"
      ]
     },
     "execution_count": 20,
     "metadata": {},
     "output_type": "execute_result"
    }
   ],
   "source": [
    "p"
   ]
  },
  {
   "cell_type": "code",
   "execution_count": 21,
   "id": "d48b59e1",
   "metadata": {},
   "outputs": [
    {
     "data": {
      "text/plain": [
       "[1, 2, 3]"
      ]
     },
     "execution_count": 21,
     "metadata": {},
     "output_type": "execute_result"
    }
   ],
   "source": [
    "p1"
   ]
  },
  {
   "cell_type": "code",
   "execution_count": 27,
   "id": "365dc312",
   "metadata": {},
   "outputs": [],
   "source": [
    "#list_name.extend([list of element])"
   ]
  },
  {
   "cell_type": "code",
   "execution_count": 28,
   "id": "4d9e3e69",
   "metadata": {},
   "outputs": [
    {
     "ename": "TypeError",
     "evalue": "extend() takes exactly one argument (3 given)",
     "output_type": "error",
     "traceback": [
      "\u001b[1;31m---------------------------------------------------------------------------\u001b[0m",
      "\u001b[1;31mTypeError\u001b[0m                                 Traceback (most recent call last)",
      "\u001b[1;32m<ipython-input-28-29c15f784b45>\u001b[0m in \u001b[0;36m<module>\u001b[1;34m\u001b[0m\n\u001b[1;32m----> 1\u001b[1;33m \u001b[0mpy_add_element\u001b[0m\u001b[1;33m.\u001b[0m\u001b[0mextend\u001b[0m\u001b[1;33m(\u001b[0m\u001b[1;36m1\u001b[0m\u001b[1;33m,\u001b[0m\u001b[1;36m2\u001b[0m\u001b[1;33m,\u001b[0m\u001b[1;36m3\u001b[0m\u001b[1;33m)\u001b[0m\u001b[1;33m\u001b[0m\u001b[1;33m\u001b[0m\u001b[0m\n\u001b[0m",
      "\u001b[1;31mTypeError\u001b[0m: extend() takes exactly one argument (3 given)"
     ]
    }
   ],
   "source": [
    "py_add_element.extend(1,2,3)"
   ]
  },
  {
   "cell_type": "code",
   "execution_count": 29,
   "id": "e4901db1",
   "metadata": {},
   "outputs": [],
   "source": [
    "py_add_element.extend([1,2,3])"
   ]
  },
  {
   "cell_type": "code",
   "execution_count": 30,
   "id": "60b1fa82",
   "metadata": {},
   "outputs": [
    {
     "data": {
      "text/plain": [
       "[7.3, 8, 'hadoop', 10, 'python', 100, 1, 2, 3]"
      ]
     },
     "execution_count": 30,
     "metadata": {},
     "output_type": "execute_result"
    }
   ],
   "source": [
    "py_add_element"
   ]
  },
  {
   "cell_type": "code",
   "execution_count": 31,
   "id": "037ef3ea",
   "metadata": {},
   "outputs": [],
   "source": [
    "py_add_element.extend('c')"
   ]
  },
  {
   "cell_type": "code",
   "execution_count": 32,
   "id": "55394511",
   "metadata": {},
   "outputs": [
    {
     "data": {
      "text/plain": [
       "[7.3, 8, 'hadoop', 10, 'python', 100, 1, 2, 3, 'c']"
      ]
     },
     "execution_count": 32,
     "metadata": {},
     "output_type": "execute_result"
    }
   ],
   "source": [
    "py_add_element"
   ]
  },
  {
   "cell_type": "code",
   "execution_count": 50,
   "id": "faa1475d",
   "metadata": {},
   "outputs": [],
   "source": [
    "py_add_element.extend({'x','y','z'})"
   ]
  },
  {
   "cell_type": "code",
   "execution_count": 51,
   "id": "f8fa602f",
   "metadata": {},
   "outputs": [
    {
     "data": {
      "text/plain": [
       "[7.3,\n",
       " (1, 3, 4),\n",
       " 8,\n",
       " {10, 20, 30},\n",
       " 'hadoop',\n",
       " ['a', 'b', 'c'],\n",
       " 10,\n",
       " 'python',\n",
       " 100,\n",
       " 1,\n",
       " 2,\n",
       " 3,\n",
       " 'c',\n",
       " [0, 0j, 91],\n",
       " {'name': 'John', 'sal': 2000},\n",
       " 'x',\n",
       " 'y',\n",
       " 'z']"
      ]
     },
     "execution_count": 51,
     "metadata": {},
     "output_type": "execute_result"
    }
   ],
   "source": [
    "py_add_element"
   ]
  },
  {
   "cell_type": "code",
   "execution_count": 52,
   "id": "dee49de5",
   "metadata": {},
   "outputs": [
    {
     "data": {
      "text/plain": [
       "'z'"
      ]
     },
     "execution_count": 52,
     "metadata": {},
     "output_type": "execute_result"
    }
   ],
   "source": [
    "py_add_element[-1]"
   ]
  },
  {
   "cell_type": "code",
   "execution_count": 53,
   "id": "b8a60eb9",
   "metadata": {},
   "outputs": [
    {
     "data": {
      "text/plain": [
       "{'name': 'John', 'sal': 2000}"
      ]
     },
     "execution_count": 53,
     "metadata": {},
     "output_type": "execute_result"
    }
   ],
   "source": [
    "py_add_element[-4]"
   ]
  },
  {
   "cell_type": "code",
   "execution_count": 54,
   "id": "df713f3b",
   "metadata": {},
   "outputs": [],
   "source": [
    "py_add_element.extend({'name':'Mark','sal':3000})"
   ]
  },
  {
   "cell_type": "code",
   "execution_count": 55,
   "id": "ae86759e",
   "metadata": {},
   "outputs": [
    {
     "data": {
      "text/plain": [
       "[7.3,\n",
       " (1, 3, 4),\n",
       " 8,\n",
       " {10, 20, 30},\n",
       " 'hadoop',\n",
       " ['a', 'b', 'c'],\n",
       " 10,\n",
       " 'python',\n",
       " 100,\n",
       " 1,\n",
       " 2,\n",
       " 3,\n",
       " 'c',\n",
       " [0, 0j, 91],\n",
       " {'name': 'John', 'sal': 2000},\n",
       " 'x',\n",
       " 'y',\n",
       " 'z',\n",
       " 'name',\n",
       " 'sal']"
      ]
     },
     "execution_count": 55,
     "metadata": {},
     "output_type": "execute_result"
    }
   ],
   "source": [
    "py_add_element"
   ]
  },
  {
   "cell_type": "code",
   "execution_count": 56,
   "id": "c143331b",
   "metadata": {},
   "outputs": [
    {
     "data": {
      "text/plain": [
       "'sal'"
      ]
     },
     "execution_count": 56,
     "metadata": {},
     "output_type": "execute_result"
    }
   ],
   "source": [
    "py_add_element[-1]"
   ]
  },
  {
   "cell_type": "code",
   "execution_count": 58,
   "id": "87979aaa",
   "metadata": {},
   "outputs": [
    {
     "data": {
      "text/plain": [
       "'s'"
      ]
     },
     "execution_count": 58,
     "metadata": {},
     "output_type": "execute_result"
    }
   ],
   "source": [
    "py_add_element[-1][0]"
   ]
  },
  {
   "cell_type": "code",
   "execution_count": 59,
   "id": "1c3adf6d",
   "metadata": {},
   "outputs": [],
   "source": [
    "py_add_element.extend(('ball','bat'))"
   ]
  },
  {
   "cell_type": "code",
   "execution_count": 60,
   "id": "fb8e0513",
   "metadata": {},
   "outputs": [
    {
     "data": {
      "text/plain": [
       "[7.3,\n",
       " (1, 3, 4),\n",
       " 8,\n",
       " {10, 20, 30},\n",
       " 'hadoop',\n",
       " ['a', 'b', 'c'],\n",
       " 10,\n",
       " 'python',\n",
       " 100,\n",
       " 1,\n",
       " 2,\n",
       " 3,\n",
       " 'c',\n",
       " [0, 0j, 91],\n",
       " {'name': 'John', 'sal': 2000},\n",
       " 'x',\n",
       " 'y',\n",
       " 'z',\n",
       " 'name',\n",
       " 'sal',\n",
       " 'ball',\n",
       " 'bat']"
      ]
     },
     "execution_count": 60,
     "metadata": {},
     "output_type": "execute_result"
    }
   ],
   "source": [
    "py_add_element"
   ]
  },
  {
   "cell_type": "code",
   "execution_count": 61,
   "id": "ff76a2bd",
   "metadata": {},
   "outputs": [
    {
     "data": {
      "text/plain": [
       "'poodah'"
      ]
     },
     "execution_count": 61,
     "metadata": {},
     "output_type": "execute_result"
    }
   ],
   "source": [
    "py_add_element[4][::-1]"
   ]
  },
  {
   "cell_type": "code",
   "execution_count": 65,
   "id": "87b5c5a0",
   "metadata": {},
   "outputs": [],
   "source": [
    "py_add_element[5].reverse()"
   ]
  },
  {
   "cell_type": "code",
   "execution_count": 2,
   "id": "34f2e94b",
   "metadata": {},
   "outputs": [
    {
     "ename": "NameError",
     "evalue": "name 'py_add_element' is not defined",
     "output_type": "error",
     "traceback": [
      "\u001b[1;31m---------------------------------------------------------------------------\u001b[0m",
      "\u001b[1;31mNameError\u001b[0m                                 Traceback (most recent call last)",
      "\u001b[1;32m<ipython-input-2-b352ab612fae>\u001b[0m in \u001b[0;36m<module>\u001b[1;34m\u001b[0m\n\u001b[1;32m----> 1\u001b[1;33m \u001b[0mpy_add_element\u001b[0m\u001b[1;33m\u001b[0m\u001b[1;33m\u001b[0m\u001b[0m\n\u001b[0m",
      "\u001b[1;31mNameError\u001b[0m: name 'py_add_element' is not defined"
     ]
    }
   ],
   "source": [
    "py_add_element"
   ]
  },
  {
   "cell_type": "code",
   "execution_count": 67,
   "id": "c521fd35",
   "metadata": {},
   "outputs": [
    {
     "ename": "AttributeError",
     "evalue": "'dict' object has no attribute 'reverse'",
     "output_type": "error",
     "traceback": [
      "\u001b[1;31m---------------------------------------------------------------------------\u001b[0m",
      "\u001b[1;31mAttributeError\u001b[0m                            Traceback (most recent call last)",
      "\u001b[1;32m<ipython-input-67-ea7848ceeec5>\u001b[0m in \u001b[0;36m<module>\u001b[1;34m\u001b[0m\n\u001b[1;32m----> 1\u001b[1;33m \u001b[0mpy_add_element\u001b[0m\u001b[1;33m[\u001b[0m\u001b[1;33m-\u001b[0m\u001b[1;36m8\u001b[0m\u001b[1;33m]\u001b[0m\u001b[1;33m.\u001b[0m\u001b[0mreverse\u001b[0m\u001b[1;33m(\u001b[0m\u001b[1;33m)\u001b[0m\u001b[1;33m\u001b[0m\u001b[1;33m\u001b[0m\u001b[0m\n\u001b[0m",
      "\u001b[1;31mAttributeError\u001b[0m: 'dict' object has no attribute 'reverse'"
     ]
    }
   ],
   "source": [
    "py_add_element[-8].reverse()"
   ]
  },
  {
   "cell_type": "code",
   "execution_count": null,
   "id": "04ed2010",
   "metadata": {},
   "outputs": [],
   "source": []
  },
  {
   "cell_type": "code",
   "execution_count": 62,
   "id": "882fd8c8",
   "metadata": {},
   "outputs": [
    {
     "ename": "AttributeError",
     "evalue": "'str' object has no attribute 'reverse'",
     "output_type": "error",
     "traceback": [
      "\u001b[1;31m---------------------------------------------------------------------------\u001b[0m",
      "\u001b[1;31mAttributeError\u001b[0m                            Traceback (most recent call last)",
      "\u001b[1;32m<ipython-input-62-21790f98feb7>\u001b[0m in \u001b[0;36m<module>\u001b[1;34m\u001b[0m\n\u001b[1;32m----> 1\u001b[1;33m \u001b[0mpy_add_element\u001b[0m\u001b[1;33m[\u001b[0m\u001b[1;36m4\u001b[0m\u001b[1;33m]\u001b[0m\u001b[1;33m.\u001b[0m\u001b[0mreverse\u001b[0m\u001b[1;33m(\u001b[0m\u001b[1;33m)\u001b[0m\u001b[1;33m\u001b[0m\u001b[1;33m\u001b[0m\u001b[0m\n\u001b[0m",
      "\u001b[1;31mAttributeError\u001b[0m: 'str' object has no attribute 'reverse'"
     ]
    }
   ],
   "source": [
    "py_add_element[4].reverse()"
   ]
  },
  {
   "cell_type": "code",
   "execution_count": 63,
   "id": "3278913d",
   "metadata": {},
   "outputs": [
    {
     "ename": "AttributeError",
     "evalue": "'tuple' object has no attribute 'reverse'",
     "output_type": "error",
     "traceback": [
      "\u001b[1;31m---------------------------------------------------------------------------\u001b[0m",
      "\u001b[1;31mAttributeError\u001b[0m                            Traceback (most recent call last)",
      "\u001b[1;32m<ipython-input-63-2f6dffbf217e>\u001b[0m in \u001b[0;36m<module>\u001b[1;34m\u001b[0m\n\u001b[1;32m----> 1\u001b[1;33m \u001b[0mpy_add_element\u001b[0m\u001b[1;33m[\u001b[0m\u001b[1;36m1\u001b[0m\u001b[1;33m]\u001b[0m\u001b[1;33m.\u001b[0m\u001b[0mreverse\u001b[0m\u001b[1;33m(\u001b[0m\u001b[1;33m)\u001b[0m\u001b[1;33m\u001b[0m\u001b[1;33m\u001b[0m\u001b[0m\n\u001b[0m",
      "\u001b[1;31mAttributeError\u001b[0m: 'tuple' object has no attribute 'reverse'"
     ]
    }
   ],
   "source": [
    "py_add_element[1].reverse()"
   ]
  },
  {
   "cell_type": "code",
   "execution_count": 64,
   "id": "1ea21a4e",
   "metadata": {},
   "outputs": [
    {
     "ename": "AttributeError",
     "evalue": "'set' object has no attribute 'reverse'",
     "output_type": "error",
     "traceback": [
      "\u001b[1;31m---------------------------------------------------------------------------\u001b[0m",
      "\u001b[1;31mAttributeError\u001b[0m                            Traceback (most recent call last)",
      "\u001b[1;32m<ipython-input-64-ce5c0d90a6f9>\u001b[0m in \u001b[0;36m<module>\u001b[1;34m\u001b[0m\n\u001b[1;32m----> 1\u001b[1;33m \u001b[0mpy_add_element\u001b[0m\u001b[1;33m[\u001b[0m\u001b[1;36m3\u001b[0m\u001b[1;33m]\u001b[0m\u001b[1;33m.\u001b[0m\u001b[0mreverse\u001b[0m\u001b[1;33m(\u001b[0m\u001b[1;33m)\u001b[0m\u001b[1;33m\u001b[0m\u001b[1;33m\u001b[0m\u001b[0m\n\u001b[0m",
      "\u001b[1;31mAttributeError\u001b[0m: 'set' object has no attribute 'reverse'"
     ]
    }
   ],
   "source": [
    "py_add_element[3].reverse()"
   ]
  },
  {
   "cell_type": "code",
   "execution_count": null,
   "id": "dd539f23",
   "metadata": {},
   "outputs": [],
   "source": [
    "# delete element in list\n",
    "1. remove(element)-->delete element\n",
    "2. pop(index_no.)-->index element deleted and return element\n",
    "3. pop()-->delete last element and return element"
   ]
  },
  {
   "cell_type": "code",
   "execution_count": 5,
   "id": "c5a8416b",
   "metadata": {},
   "outputs": [],
   "source": [
    "py_del_element=[10,20,'python',3.2,[1,2,3],{'a','b','c'}]"
   ]
  },
  {
   "cell_type": "code",
   "execution_count": 6,
   "id": "df85cb9a",
   "metadata": {},
   "outputs": [
    {
     "data": {
      "text/plain": [
       "[10, 20, 'python', 3.2, [1, 2, 3], {'a', 'b', 'c'}]"
      ]
     },
     "execution_count": 6,
     "metadata": {},
     "output_type": "execute_result"
    }
   ],
   "source": [
    "py_del_element"
   ]
  },
  {
   "cell_type": "code",
   "execution_count": null,
   "id": "e58975b4",
   "metadata": {},
   "outputs": [],
   "source": [
    "#list_name.remove(element)"
   ]
  },
  {
   "cell_type": "code",
   "execution_count": 7,
   "id": "c8aad206",
   "metadata": {},
   "outputs": [],
   "source": [
    "py_del_element.remove(20)"
   ]
  },
  {
   "cell_type": "code",
   "execution_count": 8,
   "id": "e8aea022",
   "metadata": {},
   "outputs": [
    {
     "data": {
      "text/plain": [
       "[10, 'python', 3.2, [1, 2, 3], {'a', 'b', 'c'}]"
      ]
     },
     "execution_count": 8,
     "metadata": {},
     "output_type": "execute_result"
    }
   ],
   "source": [
    "py_del_element"
   ]
  },
  {
   "cell_type": "code",
   "execution_count": 9,
   "id": "f919de45",
   "metadata": {},
   "outputs": [
    {
     "ename": "ValueError",
     "evalue": "list.remove(x): x not in list",
     "output_type": "error",
     "traceback": [
      "\u001b[1;31m---------------------------------------------------------------------------\u001b[0m",
      "\u001b[1;31mValueError\u001b[0m                                Traceback (most recent call last)",
      "\u001b[1;32m<ipython-input-9-1dce1ce4dab5>\u001b[0m in \u001b[0;36m<module>\u001b[1;34m\u001b[0m\n\u001b[1;32m----> 1\u001b[1;33m \u001b[0mpy_del_element\u001b[0m\u001b[1;33m.\u001b[0m\u001b[0mremove\u001b[0m\u001b[1;33m(\u001b[0m\u001b[1;36m2\u001b[0m\u001b[1;33m)\u001b[0m\u001b[1;33m\u001b[0m\u001b[1;33m\u001b[0m\u001b[0m\n\u001b[0m",
      "\u001b[1;31mValueError\u001b[0m: list.remove(x): x not in list"
     ]
    }
   ],
   "source": [
    "py_del_element.remove(2)"
   ]
  },
  {
   "cell_type": "code",
   "execution_count": 10,
   "id": "3b52d737",
   "metadata": {},
   "outputs": [],
   "source": [
    "py_del_element.remove([1,2,3])"
   ]
  },
  {
   "cell_type": "code",
   "execution_count": 11,
   "id": "03326d95",
   "metadata": {},
   "outputs": [
    {
     "data": {
      "text/plain": [
       "[10, 'python', 3.2, {'a', 'b', 'c'}]"
      ]
     },
     "execution_count": 11,
     "metadata": {},
     "output_type": "execute_result"
    }
   ],
   "source": [
    "py_del_element"
   ]
  },
  {
   "cell_type": "code",
   "execution_count": 12,
   "id": "1a189e7f",
   "metadata": {},
   "outputs": [
    {
     "data": {
      "text/plain": [
       "{'a', 'b', 'c'}"
      ]
     },
     "execution_count": 12,
     "metadata": {},
     "output_type": "execute_result"
    }
   ],
   "source": [
    "py_del_element.pop(-1)"
   ]
  },
  {
   "cell_type": "code",
   "execution_count": 13,
   "id": "f6c1b334",
   "metadata": {},
   "outputs": [
    {
     "data": {
      "text/plain": [
       "3.2"
      ]
     },
     "execution_count": 13,
     "metadata": {},
     "output_type": "execute_result"
    }
   ],
   "source": [
    "py_del_element.pop()"
   ]
  },
  {
   "cell_type": "code",
   "execution_count": 1,
   "id": "601a0599",
   "metadata": {},
   "outputs": [],
   "source": [
    "list_update=[1,2,('a','b','c'),'python']"
   ]
  },
  {
   "cell_type": "code",
   "execution_count": 2,
   "id": "eb1339e7",
   "metadata": {},
   "outputs": [
    {
     "data": {
      "text/plain": [
       "('a', 'b', 'c')"
      ]
     },
     "execution_count": 2,
     "metadata": {},
     "output_type": "execute_result"
    }
   ],
   "source": [
    "list_update[2]"
   ]
  },
  {
   "cell_type": "code",
   "execution_count": 3,
   "id": "9ede1020",
   "metadata": {},
   "outputs": [
    {
     "data": {
      "text/plain": [
       "'b'"
      ]
     },
     "execution_count": 3,
     "metadata": {},
     "output_type": "execute_result"
    }
   ],
   "source": [
    "list_update[2][1]"
   ]
  },
  {
   "cell_type": "code",
   "execution_count": 4,
   "id": "3ce6959e",
   "metadata": {},
   "outputs": [
    {
     "ename": "TypeError",
     "evalue": "'tuple' object does not support item assignment",
     "output_type": "error",
     "traceback": [
      "\u001b[1;31m---------------------------------------------------------------------------\u001b[0m",
      "\u001b[1;31mTypeError\u001b[0m                                 Traceback (most recent call last)",
      "\u001b[1;32m<ipython-input-4-a9924f204c3a>\u001b[0m in \u001b[0;36m<module>\u001b[1;34m\u001b[0m\n\u001b[1;32m----> 1\u001b[1;33m \u001b[0mlist_update\u001b[0m\u001b[1;33m[\u001b[0m\u001b[1;36m2\u001b[0m\u001b[1;33m]\u001b[0m\u001b[1;33m[\u001b[0m\u001b[1;36m1\u001b[0m\u001b[1;33m]\u001b[0m\u001b[1;33m=\u001b[0m\u001b[1;34m'hadoop'\u001b[0m\u001b[1;33m\u001b[0m\u001b[1;33m\u001b[0m\u001b[0m\n\u001b[0m",
      "\u001b[1;31mTypeError\u001b[0m: 'tuple' object does not support item assignment"
     ]
    }
   ],
   "source": [
    "list_update[2][1]='hadoop'"
   ]
  },
  {
   "cell_type": "code",
   "execution_count": 5,
   "id": "f5c6a962",
   "metadata": {},
   "outputs": [],
   "source": [
    "list_update.append({10,20,30})"
   ]
  },
  {
   "cell_type": "code",
   "execution_count": 6,
   "id": "98a82030",
   "metadata": {},
   "outputs": [
    {
     "data": {
      "text/plain": [
       "[1, 2, ('a', 'b', 'c'), 'python', {10, 20, 30}]"
      ]
     },
     "execution_count": 6,
     "metadata": {},
     "output_type": "execute_result"
    }
   ],
   "source": [
    "list_update"
   ]
  },
  {
   "cell_type": "code",
   "execution_count": 27,
   "id": "a9e15a2d",
   "metadata": {},
   "outputs": [
    {
     "ename": "TypeError",
     "evalue": "'set' object does not support item assignment",
     "output_type": "error",
     "traceback": [
      "\u001b[1;31m---------------------------------------------------------------------------\u001b[0m",
      "\u001b[1;31mTypeError\u001b[0m                                 Traceback (most recent call last)",
      "\u001b[1;32m<ipython-input-27-286394bdf002>\u001b[0m in \u001b[0;36m<module>\u001b[1;34m\u001b[0m\n\u001b[1;32m----> 1\u001b[1;33m \u001b[0mlist_update\u001b[0m\u001b[1;33m[\u001b[0m\u001b[1;33m-\u001b[0m\u001b[1;36m1\u001b[0m\u001b[1;33m]\u001b[0m\u001b[1;33m[\u001b[0m\u001b[1;36m1\u001b[0m\u001b[1;33m]\u001b[0m\u001b[1;33m=\u001b[0m\u001b[1;34m'python'\u001b[0m\u001b[1;33m\u001b[0m\u001b[1;33m\u001b[0m\u001b[0m\n\u001b[0m",
      "\u001b[1;31mTypeError\u001b[0m: 'set' object does not support item assignment"
     ]
    }
   ],
   "source": [
    "list_update[-1][1]='python'"
   ]
  },
  {
   "cell_type": "code",
   "execution_count": 7,
   "id": "8a02169a",
   "metadata": {},
   "outputs": [
    {
     "data": {
      "text/plain": [
       "{10, 20, 30}"
      ]
     },
     "execution_count": 7,
     "metadata": {},
     "output_type": "execute_result"
    }
   ],
   "source": [
    "list_update[-1]"
   ]
  },
  {
   "cell_type": "code",
   "execution_count": 8,
   "id": "d1753b83",
   "metadata": {},
   "outputs": [],
   "source": [
    "list_update[-1].update('hadoop')"
   ]
  },
  {
   "cell_type": "code",
   "execution_count": 9,
   "id": "8b55ca43",
   "metadata": {},
   "outputs": [
    {
     "data": {
      "text/plain": [
       "[1, 2, ('a', 'b', 'c'), 'python', {10, 20, 30, 'a', 'd', 'h', 'o', 'p'}]"
      ]
     },
     "execution_count": 9,
     "metadata": {},
     "output_type": "execute_result"
    }
   ],
   "source": [
    "list_update"
   ]
  },
  {
   "cell_type": "code",
   "execution_count": 10,
   "id": "7786b0d4",
   "metadata": {},
   "outputs": [],
   "source": [
    "list_update[-1].update(['hadoop'])"
   ]
  },
  {
   "cell_type": "code",
   "execution_count": 11,
   "id": "96192d6b",
   "metadata": {},
   "outputs": [
    {
     "data": {
      "text/plain": [
       "[1,\n",
       " 2,\n",
       " ('a', 'b', 'c'),\n",
       " 'python',\n",
       " {10, 20, 30, 'a', 'd', 'h', 'hadoop', 'o', 'p'}]"
      ]
     },
     "execution_count": 11,
     "metadata": {},
     "output_type": "execute_result"
    }
   ],
   "source": [
    "list_update"
   ]
  },
  {
   "cell_type": "code",
   "execution_count": 12,
   "id": "79fb0b9d",
   "metadata": {},
   "outputs": [
    {
     "name": "stdout",
     "output_type": "stream",
     "text": [
      "[1, 2, 3]\n"
     ]
    }
   ],
   "source": [
    "py_list = list([1,2,3])\n",
    "print(py_list)       #always use print() function when runing multiple line in 1 cell"
   ]
  },
  {
   "cell_type": "code",
   "execution_count": 13,
   "id": "7e3dab49",
   "metadata": {},
   "outputs": [
    {
     "name": "stdout",
     "output_type": "stream",
     "text": [
      "[1, 2, 3]\n"
     ]
    }
   ],
   "source": [
    "print(py_list)     #In single print statment in 1 cell, then you can you print funcion"
   ]
  },
  {
   "cell_type": "code",
   "execution_count": 14,
   "id": "0765b891",
   "metadata": {},
   "outputs": [
    {
     "data": {
      "text/plain": [
       "[1, 2, 3]"
      ]
     },
     "execution_count": 14,
     "metadata": {},
     "output_type": "execute_result"
    }
   ],
   "source": [
    "py_list         #or in 1 cell, you can directly give the name of variable whose value has to print"
   ]
  },
  {
   "cell_type": "code",
   "execution_count": 1,
   "id": "1cbe856f",
   "metadata": {},
   "outputs": [
    {
     "data": {
      "text/plain": [
       "[1, 2, 3]"
      ]
     },
     "execution_count": 1,
     "metadata": {},
     "output_type": "execute_result"
    }
   ],
   "source": [
    "py_list = list([1,2,3])\n",
    "py_list"
   ]
  },
  {
   "cell_type": "code",
   "execution_count": 1,
   "id": "c3ea0aa2",
   "metadata": {},
   "outputs": [
    {
     "data": {
      "text/plain": [
       "[1, 2, 3, 4, 5, 6, 7, 8, 9, 10]"
      ]
     },
     "execution_count": 1,
     "metadata": {},
     "output_type": "execute_result"
    }
   ],
   "source": [
    "pylist = list([1,2,3,4,5,6,7,8,9,10])\n",
    "pylist"
   ]
  },
  {
   "cell_type": "code",
   "execution_count": 2,
   "id": "4598a966",
   "metadata": {},
   "outputs": [
    {
     "data": {
      "text/plain": [
       "5.5"
      ]
     },
     "execution_count": 2,
     "metadata": {},
     "output_type": "execute_result"
    }
   ],
   "source": [
    "sum=0\n",
    "for i in pylist:\n",
    "    sum+=i\n",
    "avg=sum/len(pylist)\n",
    "avg"
   ]
  },
  {
   "cell_type": "code",
   "execution_count": 11,
   "id": "2841a087",
   "metadata": {},
   "outputs": [
    {
     "data": {
      "text/plain": [
       "2.0"
      ]
     },
     "execution_count": 11,
     "metadata": {},
     "output_type": "execute_result"
    }
   ],
   "source": [
    "avg"
   ]
  },
  {
   "cell_type": "code",
   "execution_count": 12,
   "id": "9901dce6",
   "metadata": {},
   "outputs": [
    {
     "data": {
      "text/plain": [
       "6"
      ]
     },
     "execution_count": 12,
     "metadata": {},
     "output_type": "execute_result"
    }
   ],
   "source": [
    "sum"
   ]
  },
  {
   "cell_type": "code",
   "execution_count": 10,
   "id": "d5707914",
   "metadata": {},
   "outputs": [],
   "source": [
    "py_list = [1,2,3,4,5,6,7,8,9,10]"
   ]
  },
  {
   "cell_type": "code",
   "execution_count": 11,
   "id": "62bd5437",
   "metadata": {},
   "outputs": [
    {
     "data": {
      "text/plain": [
       "[1, 2, 3, 4, 5, 6, 7, 8, 9, 10]"
      ]
     },
     "execution_count": 11,
     "metadata": {},
     "output_type": "execute_result"
    }
   ],
   "source": [
    "py_list"
   ]
  },
  {
   "cell_type": "code",
   "execution_count": 5,
   "id": "9e9200bc",
   "metadata": {},
   "outputs": [
    {
     "ename": "TypeError",
     "evalue": "'int' object is not callable",
     "output_type": "error",
     "traceback": [
      "\u001b[1;31m---------------------------------------------------------------------------\u001b[0m",
      "\u001b[1;31mTypeError\u001b[0m                                 Traceback (most recent call last)",
      "\u001b[1;32m<ipython-input-5-f8ab862cd1f5>\u001b[0m in \u001b[0;36m<module>\u001b[1;34m\u001b[0m\n\u001b[1;32m----> 1\u001b[1;33m \u001b[0mavg\u001b[0m\u001b[1;33m=\u001b[0m\u001b[0msum\u001b[0m\u001b[1;33m(\u001b[0m\u001b[0mpy_list\u001b[0m\u001b[1;33m)\u001b[0m\u001b[1;33m/\u001b[0m\u001b[0mlen\u001b[0m\u001b[1;33m(\u001b[0m\u001b[0mpy_list\u001b[0m\u001b[1;33m)\u001b[0m\u001b[1;33m\u001b[0m\u001b[1;33m\u001b[0m\u001b[0m\n\u001b[0m",
      "\u001b[1;31mTypeError\u001b[0m: 'int' object is not callable"
     ]
    }
   ],
   "source": [
    "avg=sum(py_list)/len(py_list)"
   ]
  },
  {
   "cell_type": "code",
   "execution_count": 13,
   "id": "6a752d10",
   "metadata": {},
   "outputs": [
    {
     "ename": "TypeError",
     "evalue": "'int' object is not callable",
     "output_type": "error",
     "traceback": [
      "\u001b[1;31m---------------------------------------------------------------------------\u001b[0m",
      "\u001b[1;31mTypeError\u001b[0m                                 Traceback (most recent call last)",
      "\u001b[1;32m<ipython-input-13-c83c448fa562>\u001b[0m in \u001b[0;36m<module>\u001b[1;34m\u001b[0m\n\u001b[1;32m----> 1\u001b[1;33m \u001b[0msum\u001b[0m\u001b[1;33m(\u001b[0m\u001b[0mpy_list\u001b[0m\u001b[1;33m)\u001b[0m\u001b[1;33m\u001b[0m\u001b[1;33m\u001b[0m\u001b[0m\n\u001b[0m",
      "\u001b[1;31mTypeError\u001b[0m: 'int' object is not callable"
     ]
    }
   ],
   "source": [
    "sum(py_list)"
   ]
  },
  {
   "cell_type": "code",
   "execution_count": 14,
   "id": "c099695f",
   "metadata": {},
   "outputs": [
    {
     "data": {
      "text/plain": [
       "10"
      ]
     },
     "execution_count": 14,
     "metadata": {},
     "output_type": "execute_result"
    }
   ],
   "source": [
    "len(py_list)"
   ]
  },
  {
   "cell_type": "code",
   "execution_count": 15,
   "id": "a6785610",
   "metadata": {},
   "outputs": [
    {
     "data": {
      "text/plain": [
       "1"
      ]
     },
     "execution_count": 15,
     "metadata": {},
     "output_type": "execute_result"
    }
   ],
   "source": [
    "min(py_list)"
   ]
  },
  {
   "cell_type": "code",
   "execution_count": 16,
   "id": "9a77c03c",
   "metadata": {},
   "outputs": [
    {
     "data": {
      "text/plain": [
       "10"
      ]
     },
     "execution_count": 16,
     "metadata": {},
     "output_type": "execute_result"
    }
   ],
   "source": [
    "max(py_list)"
   ]
  },
  {
   "cell_type": "code",
   "execution_count": 17,
   "id": "da05b539",
   "metadata": {},
   "outputs": [
    {
     "ename": "TypeError",
     "evalue": "'int' object is not callable",
     "output_type": "error",
     "traceback": [
      "\u001b[1;31m---------------------------------------------------------------------------\u001b[0m",
      "\u001b[1;31mTypeError\u001b[0m                                 Traceback (most recent call last)",
      "\u001b[1;32m<ipython-input-17-c83c448fa562>\u001b[0m in \u001b[0;36m<module>\u001b[1;34m\u001b[0m\n\u001b[1;32m----> 1\u001b[1;33m \u001b[0msum\u001b[0m\u001b[1;33m(\u001b[0m\u001b[0mpy_list\u001b[0m\u001b[1;33m)\u001b[0m\u001b[1;33m\u001b[0m\u001b[1;33m\u001b[0m\u001b[0m\n\u001b[0m",
      "\u001b[1;31mTypeError\u001b[0m: 'int' object is not callable"
     ]
    }
   ],
   "source": [
    "sum(py_list)"
   ]
  },
  {
   "cell_type": "code",
   "execution_count": 23,
   "id": "4b632a75",
   "metadata": {},
   "outputs": [
    {
     "ename": "TypeError",
     "evalue": "'int' object is not callable",
     "output_type": "error",
     "traceback": [
      "\u001b[1;31m---------------------------------------------------------------------------\u001b[0m",
      "\u001b[1;31mTypeError\u001b[0m                                 Traceback (most recent call last)",
      "\u001b[1;32m<ipython-input-23-6eee1eb98c9e>\u001b[0m in \u001b[0;36m<module>\u001b[1;34m\u001b[0m\n\u001b[1;32m----> 1\u001b[1;33m \u001b[0msum\u001b[0m\u001b[1;33m(\u001b[0m\u001b[0mpy_list1\u001b[0m\u001b[1;33m)\u001b[0m\u001b[1;33m\u001b[0m\u001b[1;33m\u001b[0m\u001b[0m\n\u001b[0m",
      "\u001b[1;31mTypeError\u001b[0m: 'int' object is not callable"
     ]
    }
   ],
   "source": [
    "sum(py_list1)"
   ]
  },
  {
   "cell_type": "code",
   "execution_count": 20,
   "id": "b3b76f83",
   "metadata": {},
   "outputs": [
    {
     "data": {
      "text/plain": [
       "['__add__',\n",
       " '__class__',\n",
       " '__contains__',\n",
       " '__delattr__',\n",
       " '__delitem__',\n",
       " '__dir__',\n",
       " '__doc__',\n",
       " '__eq__',\n",
       " '__format__',\n",
       " '__ge__',\n",
       " '__getattribute__',\n",
       " '__getitem__',\n",
       " '__gt__',\n",
       " '__hash__',\n",
       " '__iadd__',\n",
       " '__imul__',\n",
       " '__init__',\n",
       " '__init_subclass__',\n",
       " '__iter__',\n",
       " '__le__',\n",
       " '__len__',\n",
       " '__lt__',\n",
       " '__mul__',\n",
       " '__ne__',\n",
       " '__new__',\n",
       " '__reduce__',\n",
       " '__reduce_ex__',\n",
       " '__repr__',\n",
       " '__reversed__',\n",
       " '__rmul__',\n",
       " '__setattr__',\n",
       " '__setitem__',\n",
       " '__sizeof__',\n",
       " '__str__',\n",
       " '__subclasshook__',\n",
       " 'append',\n",
       " 'clear',\n",
       " 'copy',\n",
       " 'count',\n",
       " 'extend',\n",
       " 'index',\n",
       " 'insert',\n",
       " 'pop',\n",
       " 'remove',\n",
       " 'reverse',\n",
       " 'sort']"
      ]
     },
     "execution_count": 20,
     "metadata": {},
     "output_type": "execute_result"
    }
   ],
   "source": [
    "dir(list)"
   ]
  },
  {
   "cell_type": "code",
   "execution_count": 1,
   "id": "d769a0ec",
   "metadata": {},
   "outputs": [],
   "source": [
    "py_list1=[1,2,3,4,5]"
   ]
  },
  {
   "cell_type": "code",
   "execution_count": 2,
   "id": "76759666",
   "metadata": {},
   "outputs": [
    {
     "data": {
      "text/plain": [
       "[1, 2, 3, 4, 5]"
      ]
     },
     "execution_count": 2,
     "metadata": {},
     "output_type": "execute_result"
    }
   ],
   "source": [
    "py_list1"
   ]
  },
  {
   "cell_type": "code",
   "execution_count": 4,
   "id": "26ccd528",
   "metadata": {},
   "outputs": [
    {
     "data": {
      "text/plain": [
       "15"
      ]
     },
     "execution_count": 4,
     "metadata": {},
     "output_type": "execute_result"
    }
   ],
   "source": [
    "sum(py_list1)"
   ]
  },
  {
   "cell_type": "code",
   "execution_count": null,
   "id": "7d495d75",
   "metadata": {},
   "outputs": [],
   "source": []
  }
 ],
 "metadata": {
  "kernelspec": {
   "display_name": "Python 3",
   "language": "python",
   "name": "python3"
  },
  "language_info": {
   "codemirror_mode": {
    "name": "ipython",
    "version": 3
   },
   "file_extension": ".py",
   "mimetype": "text/x-python",
   "name": "python",
   "nbconvert_exporter": "python",
   "pygments_lexer": "ipython3",
   "version": "3.8.8"
  }
 },
 "nbformat": 4,
 "nbformat_minor": 5
}
