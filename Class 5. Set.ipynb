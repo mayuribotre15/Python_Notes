{
 "cells": [
  {
   "cell_type": "code",
   "execution_count": 1,
   "id": "290d5cfa",
   "metadata": {},
   "outputs": [],
   "source": [
    "#set {create set with atleast one element}"
   ]
  },
  {
   "cell_type": "code",
   "execution_count": null,
   "id": "df6df321",
   "metadata": {},
   "outputs": [],
   "source": [
    "1.Set is a collection of unique element, different/similar type element\n",
    "2.it is unordered data structure, so that we cannt apply indexing\n",
    "3.it is mutable type\n",
    "4.empty set will be create by using set method"
   ]
  },
  {
   "cell_type": "code",
   "execution_count": 2,
   "id": "5f853e98",
   "metadata": {},
   "outputs": [],
   "source": [
    "#ordered DS-->store in same sequence\n",
    "p=[1,2,3,4]------->[1,2,3,4]\n",
    "                    0 1 2 3 <--indexing"
   ]
  },
  {
   "cell_type": "code",
   "execution_count": 3,
   "id": "b804cdc9",
   "metadata": {},
   "outputs": [],
   "source": [
    "py_list=[4,6,7,1]"
   ]
  },
  {
   "cell_type": "code",
   "execution_count": 4,
   "id": "50cc13bf",
   "metadata": {},
   "outputs": [
    {
     "data": {
      "text/plain": [
       "[4, 6, 7, 1]"
      ]
     },
     "execution_count": 4,
     "metadata": {},
     "output_type": "execute_result"
    }
   ],
   "source": [
    "py_list"
   ]
  },
  {
   "cell_type": "code",
   "execution_count": 5,
   "id": "12e7d375",
   "metadata": {},
   "outputs": [],
   "source": [
    "#unordered DS-->store in random sequence\n",
    "p={1,2,3,4}------->{3,2,4,1} <--no indexing"
   ]
  },
  {
   "cell_type": "code",
   "execution_count": 6,
   "id": "0dc0443c",
   "metadata": {},
   "outputs": [],
   "source": [
    "py_set={4,6,7,1}"
   ]
  },
  {
   "cell_type": "code",
   "execution_count": 7,
   "id": "4f3cc9bb",
   "metadata": {},
   "outputs": [
    {
     "data": {
      "text/plain": [
       "{1, 4, 6, 7}"
      ]
     },
     "execution_count": 7,
     "metadata": {},
     "output_type": "execute_result"
    }
   ],
   "source": [
    "py_set"
   ]
  },
  {
   "cell_type": "code",
   "execution_count": null,
   "id": "8763c218",
   "metadata": {},
   "outputs": [],
   "source": [
    "# Two ways to create empty DS in python\n",
    "1. by using symbol (i.e. brackets)\n",
    "2. by using method"
   ]
  },
  {
   "cell_type": "code",
   "execution_count": 1,
   "id": "90110330",
   "metadata": {},
   "outputs": [],
   "source": [
    "#By using symbol"
   ]
  },
  {
   "cell_type": "code",
   "execution_count": 2,
   "id": "08b3de3f",
   "metadata": {},
   "outputs": [],
   "source": [
    "p_list=[]"
   ]
  },
  {
   "cell_type": "code",
   "execution_count": 3,
   "id": "b28fb32b",
   "metadata": {},
   "outputs": [
    {
     "data": {
      "text/plain": [
       "list"
      ]
     },
     "execution_count": 3,
     "metadata": {},
     "output_type": "execute_result"
    }
   ],
   "source": [
    "type(p_list)"
   ]
  },
  {
   "cell_type": "code",
   "execution_count": 4,
   "id": "abf90987",
   "metadata": {},
   "outputs": [],
   "source": [
    "p_tuple=()"
   ]
  },
  {
   "cell_type": "code",
   "execution_count": 5,
   "id": "dc8ec7bd",
   "metadata": {},
   "outputs": [
    {
     "data": {
      "text/plain": [
       "tuple"
      ]
     },
     "execution_count": 5,
     "metadata": {},
     "output_type": "execute_result"
    }
   ],
   "source": [
    "type(p_tuple)"
   ]
  },
  {
   "cell_type": "code",
   "execution_count": null,
   "id": "e2407d06",
   "metadata": {},
   "outputs": [],
   "source": [
    "#we cannt create empty set using symbol\n",
    "By using {} it will create empty dict"
   ]
  },
  {
   "cell_type": "code",
   "execution_count": 6,
   "id": "2a4907af",
   "metadata": {},
   "outputs": [],
   "source": [
    "p_set={}"
   ]
  },
  {
   "cell_type": "code",
   "execution_count": 7,
   "id": "91643436",
   "metadata": {},
   "outputs": [
    {
     "data": {
      "text/plain": [
       "dict"
      ]
     },
     "execution_count": 7,
     "metadata": {},
     "output_type": "execute_result"
    }
   ],
   "source": [
    "type(p_set)"
   ]
  },
  {
   "cell_type": "code",
   "execution_count": 8,
   "id": "b07d5633",
   "metadata": {},
   "outputs": [],
   "source": [
    "#by using method"
   ]
  },
  {
   "cell_type": "code",
   "execution_count": 9,
   "id": "7738be6f",
   "metadata": {},
   "outputs": [],
   "source": [
    "py_list=list()"
   ]
  },
  {
   "cell_type": "code",
   "execution_count": 10,
   "id": "8c4d51a9",
   "metadata": {},
   "outputs": [
    {
     "data": {
      "text/plain": [
       "list"
      ]
     },
     "execution_count": 10,
     "metadata": {},
     "output_type": "execute_result"
    }
   ],
   "source": [
    "type(py_list)"
   ]
  },
  {
   "cell_type": "code",
   "execution_count": 11,
   "id": "8bf22ea0",
   "metadata": {},
   "outputs": [],
   "source": [
    "py_tuple=tuple()"
   ]
  },
  {
   "cell_type": "code",
   "execution_count": 12,
   "id": "4842bd6f",
   "metadata": {},
   "outputs": [
    {
     "data": {
      "text/plain": [
       "tuple"
      ]
     },
     "execution_count": 12,
     "metadata": {},
     "output_type": "execute_result"
    }
   ],
   "source": [
    "type(py_tuple)"
   ]
  },
  {
   "cell_type": "code",
   "execution_count": 13,
   "id": "177b724b",
   "metadata": {},
   "outputs": [],
   "source": [
    "py_set=set()"
   ]
  },
  {
   "cell_type": "code",
   "execution_count": 14,
   "id": "4fda9d1f",
   "metadata": {},
   "outputs": [
    {
     "data": {
      "text/plain": [
       "set"
      ]
     },
     "execution_count": 14,
     "metadata": {},
     "output_type": "execute_result"
    }
   ],
   "source": [
    "type(py_set)"
   ]
  },
  {
   "cell_type": "code",
   "execution_count": 15,
   "id": "e1b07427",
   "metadata": {},
   "outputs": [],
   "source": [
    "py_dict=dict()"
   ]
  },
  {
   "cell_type": "code",
   "execution_count": 16,
   "id": "fc7a7c5f",
   "metadata": {},
   "outputs": [
    {
     "data": {
      "text/plain": [
       "dict"
      ]
     },
     "execution_count": 16,
     "metadata": {},
     "output_type": "execute_result"
    }
   ],
   "source": [
    "type(py_dict)"
   ]
  },
  {
   "cell_type": "code",
   "execution_count": 17,
   "id": "eaa83b5d",
   "metadata": {},
   "outputs": [],
   "source": [
    "py_frozen_set=frozenset()"
   ]
  },
  {
   "cell_type": "code",
   "execution_count": 18,
   "id": "46829d10",
   "metadata": {},
   "outputs": [
    {
     "data": {
      "text/plain": [
       "frozenset()"
      ]
     },
     "execution_count": 18,
     "metadata": {},
     "output_type": "execute_result"
    }
   ],
   "source": [
    "py_frozen_set"
   ]
  },
  {
   "cell_type": "code",
   "execution_count": 1,
   "id": "0fa61ae8",
   "metadata": {},
   "outputs": [],
   "source": [
    "#set is collection of unique element and avoid other"
   ]
  },
  {
   "cell_type": "code",
   "execution_count": 8,
   "id": "6b85b001",
   "metadata": {},
   "outputs": [],
   "source": [
    "s={1,1,7,1,1,1,1,1,1,1,1,1,2,3,4,5}"
   ]
  },
  {
   "cell_type": "code",
   "execution_count": 9,
   "id": "ad479313",
   "metadata": {},
   "outputs": [
    {
     "data": {
      "text/plain": [
       "{1, 2, 3, 4, 5, 7}"
      ]
     },
     "execution_count": 9,
     "metadata": {},
     "output_type": "execute_result"
    }
   ],
   "source": [
    "s"
   ]
  },
  {
   "cell_type": "code",
   "execution_count": 10,
   "id": "8ceb1367",
   "metadata": {},
   "outputs": [
    {
     "data": {
      "text/plain": [
       "{1, 2, 3, 4, 5, 7}"
      ]
     },
     "execution_count": 10,
     "metadata": {},
     "output_type": "execute_result"
    }
   ],
   "source": [
    "s"
   ]
  },
  {
   "cell_type": "code",
   "execution_count": null,
   "id": "d76c398e",
   "metadata": {},
   "outputs": [],
   "source": [
    "#can have immutable(tuple,string, number, frozenset) element inside set\n",
    "but cannt have mutable(list, set, dict) element inside set"
   ]
  },
  {
   "cell_type": "code",
   "execution_count": 11,
   "id": "18ebea40",
   "metadata": {},
   "outputs": [],
   "source": [
    "s={1,2,('a','b','c'),3,4}"
   ]
  },
  {
   "cell_type": "code",
   "execution_count": 12,
   "id": "467727d6",
   "metadata": {},
   "outputs": [
    {
     "data": {
      "text/plain": [
       "{('a', 'b', 'c'), 1, 2, 3, 4}"
      ]
     },
     "execution_count": 12,
     "metadata": {},
     "output_type": "execute_result"
    }
   ],
   "source": [
    "s"
   ]
  },
  {
   "cell_type": "code",
   "execution_count": 13,
   "id": "c3edafd6",
   "metadata": {},
   "outputs": [
    {
     "ename": "TypeError",
     "evalue": "unhashable type: 'list'",
     "output_type": "error",
     "traceback": [
      "\u001b[1;31m---------------------------------------------------------------------------\u001b[0m",
      "\u001b[1;31mTypeError\u001b[0m                                 Traceback (most recent call last)",
      "\u001b[1;32m<ipython-input-13-36dd71613136>\u001b[0m in \u001b[0;36m<module>\u001b[1;34m\u001b[0m\n\u001b[1;32m----> 1\u001b[1;33m \u001b[0ms1\u001b[0m\u001b[1;33m=\u001b[0m\u001b[1;33m{\u001b[0m\u001b[1;36m1\u001b[0m\u001b[1;33m,\u001b[0m\u001b[1;36m1\u001b[0m\u001b[1;33m,\u001b[0m\u001b[1;36m2\u001b[0m\u001b[1;33m,\u001b[0m\u001b[1;36m3\u001b[0m\u001b[1;33m,\u001b[0m\u001b[1;33m[\u001b[0m\u001b[1;34m'a'\u001b[0m\u001b[1;33m,\u001b[0m\u001b[1;34m'b'\u001b[0m\u001b[1;33m,\u001b[0m\u001b[1;34m'c'\u001b[0m\u001b[1;33m]\u001b[0m\u001b[1;33m,\u001b[0m\u001b[1;36m4\u001b[0m\u001b[1;33m,\u001b[0m\u001b[1;36m5\u001b[0m\u001b[1;33m}\u001b[0m\u001b[1;33m\u001b[0m\u001b[1;33m\u001b[0m\u001b[0m\n\u001b[0m",
      "\u001b[1;31mTypeError\u001b[0m: unhashable type: 'list'"
     ]
    }
   ],
   "source": [
    "s1={1,1,2,3,['a','b','c'],4,5}"
   ]
  },
  {
   "cell_type": "code",
   "execution_count": 16,
   "id": "3b1a6000",
   "metadata": {},
   "outputs": [
    {
     "ename": "TypeError",
     "evalue": "unhashable type: 'dict'",
     "output_type": "error",
     "traceback": [
      "\u001b[1;31m---------------------------------------------------------------------------\u001b[0m",
      "\u001b[1;31mTypeError\u001b[0m                                 Traceback (most recent call last)",
      "\u001b[1;32m<ipython-input-16-eeea2b87a4d0>\u001b[0m in \u001b[0;36m<module>\u001b[1;34m\u001b[0m\n\u001b[1;32m----> 1\u001b[1;33m \u001b[0ms2\u001b[0m\u001b[1;33m=\u001b[0m\u001b[1;33m{\u001b[0m\u001b[1;36m1\u001b[0m\u001b[1;33m,\u001b[0m\u001b[1;36m1\u001b[0m\u001b[1;33m,\u001b[0m\u001b[1;36m2\u001b[0m\u001b[1;33m,\u001b[0m\u001b[1;36m3\u001b[0m\u001b[1;33m,\u001b[0m\u001b[1;33m{\u001b[0m\u001b[1;34m'a'\u001b[0m\u001b[1;33m:\u001b[0m\u001b[1;36m1\u001b[0m\u001b[1;33m,\u001b[0m\u001b[1;34m'b'\u001b[0m\u001b[1;33m:\u001b[0m\u001b[1;36m2\u001b[0m\u001b[1;33m,\u001b[0m\u001b[1;34m'c'\u001b[0m\u001b[1;33m:\u001b[0m\u001b[1;36m3\u001b[0m\u001b[1;33m}\u001b[0m\u001b[1;33m,\u001b[0m\u001b[1;36m4\u001b[0m\u001b[1;33m,\u001b[0m\u001b[1;36m5\u001b[0m\u001b[1;33m}\u001b[0m\u001b[1;33m\u001b[0m\u001b[1;33m\u001b[0m\u001b[0m\n\u001b[0m",
      "\u001b[1;31mTypeError\u001b[0m: unhashable type: 'dict'"
     ]
    }
   ],
   "source": [
    "s2={1,1,2,3,{'a':1,'b':2,'c':3},4,5}"
   ]
  },
  {
   "cell_type": "code",
   "execution_count": 21,
   "id": "1d3b9b42",
   "metadata": {},
   "outputs": [],
   "source": [
    "s3={1,1,2,3,frozenset(['a','b','c']),4,5}"
   ]
  },
  {
   "cell_type": "code",
   "execution_count": 22,
   "id": "ad707e56",
   "metadata": {},
   "outputs": [
    {
     "data": {
      "text/plain": [
       "{1, 2, 3, 4, 5, frozenset({'a', 'b', 'c'})}"
      ]
     },
     "execution_count": 22,
     "metadata": {},
     "output_type": "execute_result"
    }
   ],
   "source": [
    "s3"
   ]
  },
  {
   "cell_type": "code",
   "execution_count": null,
   "id": "3f76440b",
   "metadata": {},
   "outputs": [],
   "source": [
    "#Adding element into set\n",
    "1. add(element)-->add single element\n",
    "2. update({list of element})-->add multiple element"
   ]
  },
  {
   "cell_type": "code",
   "execution_count": 23,
   "id": "df6af523",
   "metadata": {},
   "outputs": [],
   "source": [
    "py_set={True,1,8,2.7,True,1, 1,0,False,0,0,9j,'python'}"
   ]
  },
  {
   "cell_type": "code",
   "execution_count": 27,
   "id": "443ad977",
   "metadata": {},
   "outputs": [
    {
     "data": {
      "text/plain": [
       "{0, 2.7, 8, 9j, True, 'python'}"
      ]
     },
     "execution_count": 27,
     "metadata": {},
     "output_type": "execute_result"
    }
   ],
   "source": [
    "py_set"
   ]
  },
  {
   "cell_type": "code",
   "execution_count": 35,
   "id": "687f4f9e",
   "metadata": {},
   "outputs": [],
   "source": [
    "py_set={True,1,8,False,'hadoop',2.7,True,1, 1,0,False,0,0,9j,'python','c'}"
   ]
  },
  {
   "cell_type": "code",
   "execution_count": 36,
   "id": "5f320e79",
   "metadata": {},
   "outputs": [
    {
     "data": {
      "text/plain": [
       "{2.7, 8, 9j, False, True, 'c', 'hadoop', 'python'}"
      ]
     },
     "execution_count": 36,
     "metadata": {},
     "output_type": "execute_result"
    }
   ],
   "source": [
    "py_set"
   ]
  },
  {
   "cell_type": "code",
   "execution_count": 1,
   "id": "a9e8185d",
   "metadata": {},
   "outputs": [],
   "source": [
    "#add(element)"
   ]
  },
  {
   "cell_type": "code",
   "execution_count": 16,
   "id": "beeb03bb",
   "metadata": {},
   "outputs": [],
   "source": [
    "py_set={3,2,7,5,1,'c'}"
   ]
  },
  {
   "cell_type": "code",
   "execution_count": 17,
   "id": "460accbe",
   "metadata": {},
   "outputs": [
    {
     "data": {
      "text/plain": [
       "{1, 2, 3, 5, 7, 'c'}"
      ]
     },
     "execution_count": 17,
     "metadata": {},
     "output_type": "execute_result"
    }
   ],
   "source": [
    "py_set"
   ]
  },
  {
   "cell_type": "code",
   "execution_count": 4,
   "id": "fc9122a4",
   "metadata": {},
   "outputs": [],
   "source": [
    "py_set.add('hadoop')"
   ]
  },
  {
   "cell_type": "code",
   "execution_count": 5,
   "id": "ddc6d658",
   "metadata": {},
   "outputs": [
    {
     "data": {
      "text/plain": [
       "{1, 2, 3, 5, 7, 'c', 'hadoop'}"
      ]
     },
     "execution_count": 5,
     "metadata": {},
     "output_type": "execute_result"
    }
   ],
   "source": [
    "py_set"
   ]
  },
  {
   "cell_type": "code",
   "execution_count": 18,
   "id": "38722f02",
   "metadata": {},
   "outputs": [],
   "source": [
    "py_set.add(True)"
   ]
  },
  {
   "cell_type": "code",
   "execution_count": 7,
   "id": "c9f30c50",
   "metadata": {},
   "outputs": [],
   "source": [
    "py_set.add(1)"
   ]
  },
  {
   "cell_type": "code",
   "execution_count": 19,
   "id": "403ee311",
   "metadata": {},
   "outputs": [
    {
     "data": {
      "text/plain": [
       "{1, 2, 3, 5, 7, 'c'}"
      ]
     },
     "execution_count": 19,
     "metadata": {},
     "output_type": "execute_result"
    }
   ],
   "source": [
    "py_set"
   ]
  },
  {
   "cell_type": "code",
   "execution_count": 10,
   "id": "c3379c73",
   "metadata": {},
   "outputs": [],
   "source": [
    "py_set.add(True)"
   ]
  },
  {
   "cell_type": "code",
   "execution_count": 11,
   "id": "df079f08",
   "metadata": {},
   "outputs": [
    {
     "data": {
      "text/plain": [
       "{1, 2, 3, 5, 7, 'c', 'hadoop'}"
      ]
     },
     "execution_count": 11,
     "metadata": {},
     "output_type": "execute_result"
    }
   ],
   "source": [
    "py_set"
   ]
  },
  {
   "cell_type": "code",
   "execution_count": 12,
   "id": "82d630f9",
   "metadata": {},
   "outputs": [],
   "source": [
    "py_set.add(False)"
   ]
  },
  {
   "cell_type": "code",
   "execution_count": 13,
   "id": "f1978078",
   "metadata": {},
   "outputs": [
    {
     "data": {
      "text/plain": [
       "{1, 2, 3, 5, 7, False, 'c', 'hadoop'}"
      ]
     },
     "execution_count": 13,
     "metadata": {},
     "output_type": "execute_result"
    }
   ],
   "source": [
    "py_set"
   ]
  },
  {
   "cell_type": "code",
   "execution_count": 14,
   "id": "256c88ff",
   "metadata": {},
   "outputs": [],
   "source": [
    "py_set.add(0)"
   ]
  },
  {
   "cell_type": "code",
   "execution_count": 15,
   "id": "15a02af0",
   "metadata": {},
   "outputs": [
    {
     "data": {
      "text/plain": [
       "{1, 2, 3, 5, 7, False, 'c', 'hadoop'}"
      ]
     },
     "execution_count": 15,
     "metadata": {},
     "output_type": "execute_result"
    }
   ],
   "source": [
    "py_set"
   ]
  },
  {
   "cell_type": "code",
   "execution_count": 20,
   "id": "705148b2",
   "metadata": {},
   "outputs": [],
   "source": [
    "s={6,2.3,'python'}"
   ]
  },
  {
   "cell_type": "code",
   "execution_count": 21,
   "id": "12d506cb",
   "metadata": {},
   "outputs": [],
   "source": [
    "s.add(True)"
   ]
  },
  {
   "cell_type": "code",
   "execution_count": 22,
   "id": "4ae67b1a",
   "metadata": {},
   "outputs": [
    {
     "data": {
      "text/plain": [
       "{2.3, 6, True, 'python'}"
      ]
     },
     "execution_count": 22,
     "metadata": {},
     "output_type": "execute_result"
    }
   ],
   "source": [
    "s"
   ]
  },
  {
   "cell_type": "code",
   "execution_count": 23,
   "id": "b3928aa9",
   "metadata": {},
   "outputs": [],
   "source": [
    "s.add(1)"
   ]
  },
  {
   "cell_type": "code",
   "execution_count": 24,
   "id": "18ee360f",
   "metadata": {},
   "outputs": [
    {
     "data": {
      "text/plain": [
       "{2.3, 6, True, 'python'}"
      ]
     },
     "execution_count": 24,
     "metadata": {},
     "output_type": "execute_result"
    }
   ],
   "source": [
    "s"
   ]
  },
  {
   "cell_type": "code",
   "execution_count": 25,
   "id": "4becc4dc",
   "metadata": {},
   "outputs": [],
   "source": [
    "s.add(False)"
   ]
  },
  {
   "cell_type": "code",
   "execution_count": 26,
   "id": "1d046624",
   "metadata": {},
   "outputs": [
    {
     "data": {
      "text/plain": [
       "{2.3, 6, False, True, 'python'}"
      ]
     },
     "execution_count": 26,
     "metadata": {},
     "output_type": "execute_result"
    }
   ],
   "source": [
    "s"
   ]
  },
  {
   "cell_type": "code",
   "execution_count": 27,
   "id": "78655253",
   "metadata": {},
   "outputs": [],
   "source": [
    "s.add(0)"
   ]
  },
  {
   "cell_type": "code",
   "execution_count": 28,
   "id": "e33935c3",
   "metadata": {},
   "outputs": [
    {
     "data": {
      "text/plain": [
       "{2.3, 6, False, True, 'python'}"
      ]
     },
     "execution_count": 28,
     "metadata": {},
     "output_type": "execute_result"
    }
   ],
   "source": [
    "s"
   ]
  },
  {
   "cell_type": "code",
   "execution_count": 29,
   "id": "9fe5e208",
   "metadata": {},
   "outputs": [],
   "source": [
    "s1={9,3,6}"
   ]
  },
  {
   "cell_type": "code",
   "execution_count": 30,
   "id": "d86d7721",
   "metadata": {},
   "outputs": [],
   "source": [
    "s1.add(1)"
   ]
  },
  {
   "cell_type": "code",
   "execution_count": 31,
   "id": "1393649e",
   "metadata": {},
   "outputs": [
    {
     "data": {
      "text/plain": [
       "{1, 3, 6, 9}"
      ]
     },
     "execution_count": 31,
     "metadata": {},
     "output_type": "execute_result"
    }
   ],
   "source": [
    "s1"
   ]
  },
  {
   "cell_type": "code",
   "execution_count": 32,
   "id": "c7578248",
   "metadata": {},
   "outputs": [],
   "source": [
    "s1.add(True)"
   ]
  },
  {
   "cell_type": "code",
   "execution_count": 33,
   "id": "24034129",
   "metadata": {},
   "outputs": [
    {
     "data": {
      "text/plain": [
       "{1, 3, 6, 9}"
      ]
     },
     "execution_count": 33,
     "metadata": {},
     "output_type": "execute_result"
    }
   ],
   "source": [
    "s1"
   ]
  },
  {
   "cell_type": "code",
   "execution_count": 34,
   "id": "382e6cf2",
   "metadata": {},
   "outputs": [],
   "source": [
    "#update({list of element})"
   ]
  },
  {
   "cell_type": "code",
   "execution_count": 35,
   "id": "a765b349",
   "metadata": {},
   "outputs": [],
   "source": [
    "s1.update({1,9,5,2})"
   ]
  },
  {
   "cell_type": "code",
   "execution_count": 36,
   "id": "fbc36bfc",
   "metadata": {},
   "outputs": [
    {
     "data": {
      "text/plain": [
       "{1, 2, 3, 5, 6, 9}"
      ]
     },
     "execution_count": 36,
     "metadata": {},
     "output_type": "execute_result"
    }
   ],
   "source": [
    "s1"
   ]
  },
  {
   "cell_type": "code",
   "execution_count": 37,
   "id": "f14df325",
   "metadata": {},
   "outputs": [],
   "source": [
    "s1.update(s)"
   ]
  },
  {
   "cell_type": "code",
   "execution_count": 38,
   "id": "57b9676d",
   "metadata": {},
   "outputs": [
    {
     "data": {
      "text/plain": [
       "{1, 2, 2.3, 3, 5, 6, 9, False, 'python'}"
      ]
     },
     "execution_count": 38,
     "metadata": {},
     "output_type": "execute_result"
    }
   ],
   "source": [
    "s1"
   ]
  },
  {
   "cell_type": "code",
   "execution_count": 39,
   "id": "42ecb0ac",
   "metadata": {},
   "outputs": [],
   "source": [
    "s1.update((8,'c'))"
   ]
  },
  {
   "cell_type": "code",
   "execution_count": 40,
   "id": "45945788",
   "metadata": {},
   "outputs": [
    {
     "data": {
      "text/plain": [
       "{1, 2, 2.3, 3, 5, 6, 8, 9, False, 'c', 'python'}"
      ]
     },
     "execution_count": 40,
     "metadata": {},
     "output_type": "execute_result"
    }
   ],
   "source": [
    "s1"
   ]
  },
  {
   "cell_type": "code",
   "execution_count": 41,
   "id": "fde60c90",
   "metadata": {},
   "outputs": [],
   "source": [
    "s1.update(['hadoop','java'])"
   ]
  },
  {
   "cell_type": "code",
   "execution_count": 42,
   "id": "5b211620",
   "metadata": {},
   "outputs": [
    {
     "data": {
      "text/plain": [
       "{1, 2, 2.3, 3, 5, 6, 8, 9, False, 'c', 'hadoop', 'java', 'python'}"
      ]
     },
     "execution_count": 42,
     "metadata": {},
     "output_type": "execute_result"
    }
   ],
   "source": [
    "s1"
   ]
  },
  {
   "cell_type": "code",
   "execution_count": 43,
   "id": "d33d3520",
   "metadata": {},
   "outputs": [],
   "source": [
    "s1.update({'a':1,'c':3})"
   ]
  },
  {
   "cell_type": "code",
   "execution_count": 44,
   "id": "90f47325",
   "metadata": {},
   "outputs": [
    {
     "data": {
      "text/plain": [
       "{1, 2, 2.3, 3, 5, 6, 8, 9, False, 'a', 'c', 'hadoop', 'java', 'python'}"
      ]
     },
     "execution_count": 44,
     "metadata": {},
     "output_type": "execute_result"
    }
   ],
   "source": [
    "s1"
   ]
  },
  {
   "cell_type": "code",
   "execution_count": 43,
   "id": "18ecd961",
   "metadata": {},
   "outputs": [],
   "source": [
    "s2={1, 2, 3, 5, 6, 9}"
   ]
  },
  {
   "cell_type": "code",
   "execution_count": 44,
   "id": "7f01b3e4",
   "metadata": {},
   "outputs": [],
   "source": [
    "s2.update({True,'c'})"
   ]
  },
  {
   "cell_type": "code",
   "execution_count": 45,
   "id": "5f4c7b11",
   "metadata": {},
   "outputs": [
    {
     "data": {
      "text/plain": [
       "{1, 2, 3, 5, 6, 9, 'c'}"
      ]
     },
     "execution_count": 45,
     "metadata": {},
     "output_type": "execute_result"
    }
   ],
   "source": [
    "s2"
   ]
  },
  {
   "cell_type": "code",
   "execution_count": 46,
   "id": "894896ef",
   "metadata": {},
   "outputs": [],
   "source": [
    "s2.update({'a':4,'c':2})"
   ]
  },
  {
   "cell_type": "code",
   "execution_count": 47,
   "id": "c682778a",
   "metadata": {},
   "outputs": [
    {
     "data": {
      "text/plain": [
       "{1, 2, 3, 5, 6, 9, 'a', 'c'}"
      ]
     },
     "execution_count": 47,
     "metadata": {},
     "output_type": "execute_result"
    }
   ],
   "source": [
    "s2"
   ]
  },
  {
   "cell_type": "code",
   "execution_count": null,
   "id": "9be7c3f2",
   "metadata": {},
   "outputs": [],
   "source": []
  },
  {
   "cell_type": "code",
   "execution_count": 1,
   "id": "eb99cd18",
   "metadata": {},
   "outputs": [],
   "source": [
    "#delete element from set\n",
    "1. pop()-->randomly delete any one element\n",
    "2. remove(element)-->if element present then delete it, if not then it will return error\n",
    "3. discard(element)-->if element present then delete it, if not then it will skip the step"
   ]
  },
  {
   "cell_type": "code",
   "execution_count": 2,
   "id": "e1fa9fc9",
   "metadata": {},
   "outputs": [],
   "source": [
    "#remove(element)"
   ]
  },
  {
   "cell_type": "code",
   "execution_count": 4,
   "id": "173ea2b4",
   "metadata": {},
   "outputs": [],
   "source": [
    "s={4,2,8,'c','python','hadoop',True,False,1,0,1}"
   ]
  },
  {
   "cell_type": "code",
   "execution_count": 5,
   "id": "2d5e6e4a",
   "metadata": {},
   "outputs": [
    {
     "data": {
      "text/plain": [
       "{2, 4, 8, False, True, 'c', 'hadoop', 'python'}"
      ]
     },
     "execution_count": 5,
     "metadata": {},
     "output_type": "execute_result"
    }
   ],
   "source": [
    "s"
   ]
  },
  {
   "cell_type": "code",
   "execution_count": 6,
   "id": "dfcd9990",
   "metadata": {},
   "outputs": [],
   "source": [
    "s.remove(False)"
   ]
  },
  {
   "cell_type": "code",
   "execution_count": 7,
   "id": "11378846",
   "metadata": {},
   "outputs": [
    {
     "data": {
      "text/plain": [
       "{2, 4, 8, True, 'c', 'hadoop', 'python'}"
      ]
     },
     "execution_count": 7,
     "metadata": {},
     "output_type": "execute_result"
    }
   ],
   "source": [
    "s"
   ]
  },
  {
   "cell_type": "code",
   "execution_count": 8,
   "id": "09b6c348",
   "metadata": {},
   "outputs": [],
   "source": [
    "s.remove('c')"
   ]
  },
  {
   "cell_type": "code",
   "execution_count": 9,
   "id": "1edd0c3f",
   "metadata": {},
   "outputs": [
    {
     "data": {
      "text/plain": [
       "{2, 4, 8, True, 'hadoop', 'python'}"
      ]
     },
     "execution_count": 9,
     "metadata": {},
     "output_type": "execute_result"
    }
   ],
   "source": [
    "s"
   ]
  },
  {
   "cell_type": "code",
   "execution_count": 10,
   "id": "1284341e",
   "metadata": {},
   "outputs": [
    {
     "ename": "KeyError",
     "evalue": "100",
     "output_type": "error",
     "traceback": [
      "\u001b[1;31m---------------------------------------------------------------------------\u001b[0m",
      "\u001b[1;31mKeyError\u001b[0m                                  Traceback (most recent call last)",
      "\u001b[1;32m<ipython-input-10-d197555c5fbf>\u001b[0m in \u001b[0;36m<module>\u001b[1;34m\u001b[0m\n\u001b[1;32m----> 1\u001b[1;33m \u001b[0ms\u001b[0m\u001b[1;33m.\u001b[0m\u001b[0mremove\u001b[0m\u001b[1;33m(\u001b[0m\u001b[1;36m100\u001b[0m\u001b[1;33m)\u001b[0m\u001b[1;33m\u001b[0m\u001b[1;33m\u001b[0m\u001b[0m\n\u001b[0m",
      "\u001b[1;31mKeyError\u001b[0m: 100"
     ]
    }
   ],
   "source": [
    "s.remove(100)"
   ]
  },
  {
   "cell_type": "code",
   "execution_count": 55,
   "id": "be4a0c23",
   "metadata": {},
   "outputs": [],
   "source": [
    "s4={2}"
   ]
  },
  {
   "cell_type": "code",
   "execution_count": 56,
   "id": "ace23993",
   "metadata": {},
   "outputs": [],
   "source": [
    "s4.remove(2)"
   ]
  },
  {
   "cell_type": "code",
   "execution_count": 57,
   "id": "907db353",
   "metadata": {},
   "outputs": [
    {
     "ename": "KeyError",
     "evalue": "6",
     "output_type": "error",
     "traceback": [
      "\u001b[1;31m---------------------------------------------------------------------------\u001b[0m",
      "\u001b[1;31mKeyError\u001b[0m                                  Traceback (most recent call last)",
      "\u001b[1;32m<ipython-input-57-aabe217d43df>\u001b[0m in \u001b[0;36m<module>\u001b[1;34m\u001b[0m\n\u001b[1;32m----> 1\u001b[1;33m \u001b[0ms4\u001b[0m\u001b[1;33m.\u001b[0m\u001b[0mremove\u001b[0m\u001b[1;33m(\u001b[0m\u001b[1;36m6\u001b[0m\u001b[1;33m)\u001b[0m\u001b[1;33m\u001b[0m\u001b[1;33m\u001b[0m\u001b[0m\n\u001b[0m",
      "\u001b[1;31mKeyError\u001b[0m: 6"
     ]
    }
   ],
   "source": [
    "s4.remove(6)"
   ]
  },
  {
   "cell_type": "code",
   "execution_count": null,
   "id": "d477ab14",
   "metadata": {},
   "outputs": [],
   "source": []
  },
  {
   "cell_type": "code",
   "execution_count": 11,
   "id": "b54107ef",
   "metadata": {},
   "outputs": [],
   "source": [
    "#discard(element)"
   ]
  },
  {
   "cell_type": "code",
   "execution_count": 12,
   "id": "e60ba54a",
   "metadata": {},
   "outputs": [],
   "source": [
    "s.discard(True)"
   ]
  },
  {
   "cell_type": "code",
   "execution_count": 13,
   "id": "8006e817",
   "metadata": {},
   "outputs": [
    {
     "data": {
      "text/plain": [
       "{2, 4, 8, 'hadoop', 'python'}"
      ]
     },
     "execution_count": 13,
     "metadata": {},
     "output_type": "execute_result"
    }
   ],
   "source": [
    "s"
   ]
  },
  {
   "cell_type": "code",
   "execution_count": 14,
   "id": "c694346c",
   "metadata": {},
   "outputs": [],
   "source": [
    "s.discard(100)"
   ]
  },
  {
   "cell_type": "code",
   "execution_count": 15,
   "id": "b9e41a28",
   "metadata": {},
   "outputs": [
    {
     "data": {
      "text/plain": [
       "{2, 4, 8, 'hadoop', 'python'}"
      ]
     },
     "execution_count": 15,
     "metadata": {},
     "output_type": "execute_result"
    }
   ],
   "source": [
    "s"
   ]
  },
  {
   "cell_type": "code",
   "execution_count": 16,
   "id": "add64e53",
   "metadata": {},
   "outputs": [],
   "source": [
    "s.discard(2)"
   ]
  },
  {
   "cell_type": "code",
   "execution_count": 17,
   "id": "696e8493",
   "metadata": {},
   "outputs": [
    {
     "data": {
      "text/plain": [
       "{4, 8, 'hadoop', 'python'}"
      ]
     },
     "execution_count": 17,
     "metadata": {},
     "output_type": "execute_result"
    }
   ],
   "source": [
    "s"
   ]
  },
  {
   "cell_type": "code",
   "execution_count": 18,
   "id": "a557111e",
   "metadata": {},
   "outputs": [],
   "source": [
    "#pop()"
   ]
  },
  {
   "cell_type": "code",
   "execution_count": 19,
   "id": "7560020c",
   "metadata": {},
   "outputs": [
    {
     "data": {
      "text/plain": [
       "4"
      ]
     },
     "execution_count": 19,
     "metadata": {},
     "output_type": "execute_result"
    }
   ],
   "source": [
    "s.pop()"
   ]
  },
  {
   "cell_type": "code",
   "execution_count": 20,
   "id": "e2dd418b",
   "metadata": {},
   "outputs": [
    {
     "data": {
      "text/plain": [
       "{8, 'hadoop', 'python'}"
      ]
     },
     "execution_count": 20,
     "metadata": {},
     "output_type": "execute_result"
    }
   ],
   "source": [
    "s"
   ]
  },
  {
   "cell_type": "code",
   "execution_count": 21,
   "id": "46a0d495",
   "metadata": {},
   "outputs": [],
   "source": [
    "s.add(8j)"
   ]
  },
  {
   "cell_type": "code",
   "execution_count": 22,
   "id": "6b882664",
   "metadata": {},
   "outputs": [],
   "source": [
    "s.add(2+5j)"
   ]
  },
  {
   "cell_type": "code",
   "execution_count": 23,
   "id": "cbdc44d2",
   "metadata": {},
   "outputs": [
    {
     "data": {
      "text/plain": [
       "{(2+5j), 8, 8j, 'hadoop', 'python'}"
      ]
     },
     "execution_count": 23,
     "metadata": {},
     "output_type": "execute_result"
    }
   ],
   "source": [
    "s"
   ]
  },
  {
   "cell_type": "code",
   "execution_count": 24,
   "id": "3f970114",
   "metadata": {},
   "outputs": [],
   "source": [
    "s.add(4j)"
   ]
  },
  {
   "cell_type": "code",
   "execution_count": 25,
   "id": "01aaf876",
   "metadata": {},
   "outputs": [
    {
     "data": {
      "text/plain": [
       "{(2+5j), 4j, 8, 8j, 'hadoop', 'python'}"
      ]
     },
     "execution_count": 25,
     "metadata": {},
     "output_type": "execute_result"
    }
   ],
   "source": [
    "s"
   ]
  },
  {
   "cell_type": "code",
   "execution_count": 26,
   "id": "32ded126",
   "metadata": {},
   "outputs": [],
   "source": [
    "s.add(4)"
   ]
  },
  {
   "cell_type": "code",
   "execution_count": 27,
   "id": "ba68bf37",
   "metadata": {},
   "outputs": [
    {
     "data": {
      "text/plain": [
       "{(2+5j), 4, 4j, 8, 8j, 'hadoop', 'python'}"
      ]
     },
     "execution_count": 27,
     "metadata": {},
     "output_type": "execute_result"
    }
   ],
   "source": [
    "s"
   ]
  },
  {
   "cell_type": "code",
   "execution_count": 28,
   "id": "c8f1f71a",
   "metadata": {},
   "outputs": [],
   "source": [
    "s.add(5)"
   ]
  },
  {
   "cell_type": "code",
   "execution_count": 29,
   "id": "2f6d6050",
   "metadata": {},
   "outputs": [
    {
     "data": {
      "text/plain": [
       "{(2+5j), 4, 4j, 5, 8, 8j, 'hadoop', 'python'}"
      ]
     },
     "execution_count": 29,
     "metadata": {},
     "output_type": "execute_result"
    }
   ],
   "source": [
    "s"
   ]
  },
  {
   "cell_type": "code",
   "execution_count": 30,
   "id": "edb0fc4b",
   "metadata": {},
   "outputs": [],
   "source": [
    "s.add(1+4j)"
   ]
  },
  {
   "cell_type": "code",
   "execution_count": 31,
   "id": "bb49cb39",
   "metadata": {},
   "outputs": [
    {
     "data": {
      "text/plain": [
       "{(1+4j), (2+5j), 4, 4j, 5, 8, 8j, 'hadoop', 'python'}"
      ]
     },
     "execution_count": 31,
     "metadata": {},
     "output_type": "execute_result"
    }
   ],
   "source": [
    "s"
   ]
  },
  {
   "cell_type": "code",
   "execution_count": 32,
   "id": "c8fc2b5c",
   "metadata": {},
   "outputs": [
    {
     "data": {
      "text/plain": [
       "5"
      ]
     },
     "execution_count": 32,
     "metadata": {},
     "output_type": "execute_result"
    }
   ],
   "source": [
    "s.pop()"
   ]
  },
  {
   "cell_type": "code",
   "execution_count": 33,
   "id": "61568bfd",
   "metadata": {},
   "outputs": [
    {
     "data": {
      "text/plain": [
       "8"
      ]
     },
     "execution_count": 33,
     "metadata": {},
     "output_type": "execute_result"
    }
   ],
   "source": [
    "s.pop()"
   ]
  },
  {
   "cell_type": "code",
   "execution_count": 34,
   "id": "0f134e9e",
   "metadata": {},
   "outputs": [
    {
     "data": {
      "text/plain": [
       "4j"
      ]
     },
     "execution_count": 34,
     "metadata": {},
     "output_type": "execute_result"
    }
   ],
   "source": [
    "s.pop()"
   ]
  },
  {
   "cell_type": "code",
   "execution_count": 35,
   "id": "160d8ed0",
   "metadata": {},
   "outputs": [
    {
     "data": {
      "text/plain": [
       "(1+4j)"
      ]
     },
     "execution_count": 35,
     "metadata": {},
     "output_type": "execute_result"
    }
   ],
   "source": [
    "s.pop()"
   ]
  },
  {
   "cell_type": "code",
   "execution_count": 36,
   "id": "13157046",
   "metadata": {},
   "outputs": [
    {
     "data": {
      "text/plain": [
       "(2+5j)"
      ]
     },
     "execution_count": 36,
     "metadata": {},
     "output_type": "execute_result"
    }
   ],
   "source": [
    "s.pop()"
   ]
  },
  {
   "cell_type": "code",
   "execution_count": 37,
   "id": "1cda66c7",
   "metadata": {},
   "outputs": [
    {
     "data": {
      "text/plain": [
       "'hadoop'"
      ]
     },
     "execution_count": 37,
     "metadata": {},
     "output_type": "execute_result"
    }
   ],
   "source": [
    "s.pop()"
   ]
  },
  {
   "cell_type": "code",
   "execution_count": 38,
   "id": "cf25446b",
   "metadata": {},
   "outputs": [
    {
     "data": {
      "text/plain": [
       "'python'"
      ]
     },
     "execution_count": 38,
     "metadata": {},
     "output_type": "execute_result"
    }
   ],
   "source": [
    "s.pop()"
   ]
  },
  {
   "cell_type": "code",
   "execution_count": 39,
   "id": "384a161b",
   "metadata": {},
   "outputs": [
    {
     "data": {
      "text/plain": [
       "8j"
      ]
     },
     "execution_count": 39,
     "metadata": {},
     "output_type": "execute_result"
    }
   ],
   "source": [
    "s.pop()"
   ]
  },
  {
   "cell_type": "code",
   "execution_count": 40,
   "id": "c53becdf",
   "metadata": {},
   "outputs": [
    {
     "data": {
      "text/plain": [
       "4"
      ]
     },
     "execution_count": 40,
     "metadata": {},
     "output_type": "execute_result"
    }
   ],
   "source": [
    "s.pop()"
   ]
  },
  {
   "cell_type": "code",
   "execution_count": 41,
   "id": "26aabf5f",
   "metadata": {},
   "outputs": [
    {
     "ename": "KeyError",
     "evalue": "'pop from an empty set'",
     "output_type": "error",
     "traceback": [
      "\u001b[1;31m---------------------------------------------------------------------------\u001b[0m",
      "\u001b[1;31mKeyError\u001b[0m                                  Traceback (most recent call last)",
      "\u001b[1;32m<ipython-input-41-c88c8c48122b>\u001b[0m in \u001b[0;36m<module>\u001b[1;34m\u001b[0m\n\u001b[1;32m----> 1\u001b[1;33m \u001b[0ms\u001b[0m\u001b[1;33m.\u001b[0m\u001b[0mpop\u001b[0m\u001b[1;33m(\u001b[0m\u001b[1;33m)\u001b[0m\u001b[1;33m\u001b[0m\u001b[1;33m\u001b[0m\u001b[0m\n\u001b[0m",
      "\u001b[1;31mKeyError\u001b[0m: 'pop from an empty set'"
     ]
    }
   ],
   "source": [
    "s.pop()"
   ]
  },
  {
   "cell_type": "code",
   "execution_count": 42,
   "id": "c4f3a081",
   "metadata": {},
   "outputs": [
    {
     "data": {
      "text/plain": [
       "set()"
      ]
     },
     "execution_count": 42,
     "metadata": {},
     "output_type": "execute_result"
    }
   ],
   "source": [
    "s"
   ]
  },
  {
   "cell_type": "code",
   "execution_count": 48,
   "id": "e8c6e7a8",
   "metadata": {},
   "outputs": [],
   "source": [
    "s3={7,3,'c',True}"
   ]
  },
  {
   "cell_type": "code",
   "execution_count": 49,
   "id": "6396a85d",
   "metadata": {},
   "outputs": [
    {
     "data": {
      "text/plain": [
       "{3, 7, True, 'c'}"
      ]
     },
     "execution_count": 49,
     "metadata": {},
     "output_type": "execute_result"
    }
   ],
   "source": [
    "s3"
   ]
  },
  {
   "cell_type": "code",
   "execution_count": 50,
   "id": "56fcfef8",
   "metadata": {},
   "outputs": [
    {
     "data": {
      "text/plain": [
       "'c'"
      ]
     },
     "execution_count": 50,
     "metadata": {},
     "output_type": "execute_result"
    }
   ],
   "source": [
    "s3.pop()"
   ]
  },
  {
   "cell_type": "code",
   "execution_count": 51,
   "id": "f5cb8c7b",
   "metadata": {},
   "outputs": [
    {
     "data": {
      "text/plain": [
       "3"
      ]
     },
     "execution_count": 51,
     "metadata": {},
     "output_type": "execute_result"
    }
   ],
   "source": [
    "s3.pop()"
   ]
  },
  {
   "cell_type": "code",
   "execution_count": 52,
   "id": "fe6a8dda",
   "metadata": {},
   "outputs": [
    {
     "data": {
      "text/plain": [
       "True"
      ]
     },
     "execution_count": 52,
     "metadata": {},
     "output_type": "execute_result"
    }
   ],
   "source": [
    "s3.pop()"
   ]
  },
  {
   "cell_type": "code",
   "execution_count": 53,
   "id": "c7b8938e",
   "metadata": {},
   "outputs": [
    {
     "data": {
      "text/plain": [
       "7"
      ]
     },
     "execution_count": 53,
     "metadata": {},
     "output_type": "execute_result"
    }
   ],
   "source": [
    "s3.pop()"
   ]
  },
  {
   "cell_type": "code",
   "execution_count": 54,
   "id": "ad919008",
   "metadata": {},
   "outputs": [
    {
     "ename": "KeyError",
     "evalue": "'pop from an empty set'",
     "output_type": "error",
     "traceback": [
      "\u001b[1;31m---------------------------------------------------------------------------\u001b[0m",
      "\u001b[1;31mKeyError\u001b[0m                                  Traceback (most recent call last)",
      "\u001b[1;32m<ipython-input-54-f54e6ca2da20>\u001b[0m in \u001b[0;36m<module>\u001b[1;34m\u001b[0m\n\u001b[1;32m----> 1\u001b[1;33m \u001b[0ms3\u001b[0m\u001b[1;33m.\u001b[0m\u001b[0mpop\u001b[0m\u001b[1;33m(\u001b[0m\u001b[1;33m)\u001b[0m\u001b[1;33m\u001b[0m\u001b[1;33m\u001b[0m\u001b[0m\n\u001b[0m",
      "\u001b[1;31mKeyError\u001b[0m: 'pop from an empty set'"
     ]
    }
   ],
   "source": [
    "s3.pop()"
   ]
  },
  {
   "cell_type": "code",
   "execution_count": 58,
   "id": "9aea1ef7",
   "metadata": {},
   "outputs": [],
   "source": [
    "#len(set_name)-->length of set or no. of element present in set"
   ]
  },
  {
   "cell_type": "code",
   "execution_count": 59,
   "id": "c4d05c7e",
   "metadata": {},
   "outputs": [],
   "source": [
    "s={8,3,1}"
   ]
  },
  {
   "cell_type": "code",
   "execution_count": 60,
   "id": "01fb7e8c",
   "metadata": {},
   "outputs": [
    {
     "data": {
      "text/plain": [
       "{1, 3, 8}"
      ]
     },
     "execution_count": 60,
     "metadata": {},
     "output_type": "execute_result"
    }
   ],
   "source": [
    "s"
   ]
  },
  {
   "cell_type": "code",
   "execution_count": 61,
   "id": "3db24867",
   "metadata": {},
   "outputs": [
    {
     "data": {
      "text/plain": [
       "3"
      ]
     },
     "execution_count": 61,
     "metadata": {},
     "output_type": "execute_result"
    }
   ],
   "source": [
    "len(s)"
   ]
  },
  {
   "cell_type": "code",
   "execution_count": 62,
   "id": "d7a6f272",
   "metadata": {},
   "outputs": [],
   "source": [
    "#copy()-->copy one set into another"
   ]
  },
  {
   "cell_type": "code",
   "execution_count": 63,
   "id": "0a58d130",
   "metadata": {},
   "outputs": [],
   "source": [
    "temp=s.copy()"
   ]
  },
  {
   "cell_type": "code",
   "execution_count": 64,
   "id": "98e8e1d4",
   "metadata": {},
   "outputs": [
    {
     "data": {
      "text/plain": [
       "{1, 3, 8}"
      ]
     },
     "execution_count": 64,
     "metadata": {},
     "output_type": "execute_result"
    }
   ],
   "source": [
    "temp"
   ]
  },
  {
   "cell_type": "code",
   "execution_count": 65,
   "id": "7112d97d",
   "metadata": {},
   "outputs": [
    {
     "data": {
      "text/plain": [
       "{1, 3, 8}"
      ]
     },
     "execution_count": 65,
     "metadata": {},
     "output_type": "execute_result"
    }
   ],
   "source": [
    "s"
   ]
  },
  {
   "cell_type": "code",
   "execution_count": 66,
   "id": "988d0dbf",
   "metadata": {},
   "outputs": [],
   "source": [
    "#clear()-->delete all element from set"
   ]
  },
  {
   "cell_type": "code",
   "execution_count": 67,
   "id": "8edcfb3c",
   "metadata": {},
   "outputs": [],
   "source": [
    "s.clear()"
   ]
  },
  {
   "cell_type": "code",
   "execution_count": 68,
   "id": "e623902c",
   "metadata": {},
   "outputs": [
    {
     "data": {
      "text/plain": [
       "set()"
      ]
     },
     "execution_count": 68,
     "metadata": {},
     "output_type": "execute_result"
    }
   ],
   "source": [
    "s"
   ]
  },
  {
   "cell_type": "code",
   "execution_count": null,
   "id": "d5542374",
   "metadata": {},
   "outputs": [],
   "source": [
    "1. union or (s1|s2)-->return set of all elements present in set1 set2\n",
    "2. intersection-->return set of elements common in both set1 and set2\n",
    "3. difference-->return set of elements present in set1 but not in set2\n",
    "4. symmetric difference-->return set which contain elements present in set1 and set2 but not in both"
   ]
  },
  {
   "cell_type": "code",
   "execution_count": 1,
   "id": "ed3a4f1f",
   "metadata": {},
   "outputs": [],
   "source": [
    "#union or (set1|set2)-->contain the element of both set"
   ]
  },
  {
   "cell_type": "code",
   "execution_count": 1,
   "id": "c800100b",
   "metadata": {},
   "outputs": [],
   "source": [
    "s1={'python','c','hadoop','java'}"
   ]
  },
  {
   "cell_type": "code",
   "execution_count": 2,
   "id": "f873fcde",
   "metadata": {},
   "outputs": [],
   "source": [
    "s2={'c','java','sql','dbms','ml'}"
   ]
  },
  {
   "cell_type": "code",
   "execution_count": 3,
   "id": "e509b797",
   "metadata": {},
   "outputs": [
    {
     "data": {
      "text/plain": [
       "{'c', 'dbms', 'hadoop', 'java', 'ml', 'python', 'sql'}"
      ]
     },
     "execution_count": 3,
     "metadata": {},
     "output_type": "execute_result"
    }
   ],
   "source": [
    "s1.union(s2)"
   ]
  },
  {
   "cell_type": "code",
   "execution_count": 4,
   "id": "cbb9c39a",
   "metadata": {},
   "outputs": [
    {
     "data": {
      "text/plain": [
       "{'c', 'dbms', 'hadoop', 'java', 'ml', 'python', 'sql'}"
      ]
     },
     "execution_count": 4,
     "metadata": {},
     "output_type": "execute_result"
    }
   ],
   "source": [
    "s1|s2"
   ]
  },
  {
   "cell_type": "code",
   "execution_count": 5,
   "id": "6a5b9e83",
   "metadata": {},
   "outputs": [
    {
     "data": {
      "text/plain": [
       "{'c', 'dbms', 'hadoop', 'java', 'ml', 'python', 'sql'}"
      ]
     },
     "execution_count": 5,
     "metadata": {},
     "output_type": "execute_result"
    }
   ],
   "source": [
    "s2.union(s1)"
   ]
  },
  {
   "cell_type": "code",
   "execution_count": 6,
   "id": "de3b6267",
   "metadata": {},
   "outputs": [],
   "source": [
    "s=s1.union(s2)"
   ]
  },
  {
   "cell_type": "code",
   "execution_count": 7,
   "id": "19aab228",
   "metadata": {},
   "outputs": [
    {
     "data": {
      "text/plain": [
       "{'c', 'dbms', 'hadoop', 'java', 'ml', 'python', 'sql'}"
      ]
     },
     "execution_count": 7,
     "metadata": {},
     "output_type": "execute_result"
    }
   ],
   "source": [
    "s"
   ]
  },
  {
   "cell_type": "code",
   "execution_count": 8,
   "id": "b0c94085",
   "metadata": {},
   "outputs": [
    {
     "data": {
      "text/plain": [
       "{'c', 'hadoop', 'java', 'python'}"
      ]
     },
     "execution_count": 8,
     "metadata": {},
     "output_type": "execute_result"
    }
   ],
   "source": [
    "s1"
   ]
  },
  {
   "cell_type": "code",
   "execution_count": 9,
   "id": "59c23cc1",
   "metadata": {},
   "outputs": [],
   "source": [
    "#intersection or (set1&set2)"
   ]
  },
  {
   "cell_type": "code",
   "execution_count": 5,
   "id": "a16db48e",
   "metadata": {},
   "outputs": [
    {
     "data": {
      "text/plain": [
       "{'c', 'java'}"
      ]
     },
     "execution_count": 5,
     "metadata": {},
     "output_type": "execute_result"
    }
   ],
   "source": [
    "s1.intersection(s2)"
   ]
  },
  {
   "cell_type": "code",
   "execution_count": 6,
   "id": "ec5fd373",
   "metadata": {},
   "outputs": [
    {
     "data": {
      "text/plain": [
       "{'c', 'java'}"
      ]
     },
     "execution_count": 6,
     "metadata": {},
     "output_type": "execute_result"
    }
   ],
   "source": [
    "s2.intersection(s1)"
   ]
  },
  {
   "cell_type": "code",
   "execution_count": 7,
   "id": "f2ab2d5e",
   "metadata": {},
   "outputs": [
    {
     "data": {
      "text/plain": [
       "{'c', 'java'}"
      ]
     },
     "execution_count": 7,
     "metadata": {},
     "output_type": "execute_result"
    }
   ],
   "source": [
    "s1&s2"
   ]
  },
  {
   "cell_type": "code",
   "execution_count": 12,
   "id": "b9c7aa3c",
   "metadata": {},
   "outputs": [],
   "source": [
    "#difference"
   ]
  },
  {
   "cell_type": "code",
   "execution_count": 13,
   "id": "0df7c099",
   "metadata": {},
   "outputs": [
    {
     "data": {
      "text/plain": [
       "{'hadoop', 'python'}"
      ]
     },
     "execution_count": 13,
     "metadata": {},
     "output_type": "execute_result"
    }
   ],
   "source": [
    "s1.difference(s2)"
   ]
  },
  {
   "cell_type": "code",
   "execution_count": 14,
   "id": "e6641881",
   "metadata": {},
   "outputs": [
    {
     "data": {
      "text/plain": [
       "{'c', 'hadoop', 'java', 'python'}"
      ]
     },
     "execution_count": 14,
     "metadata": {},
     "output_type": "execute_result"
    }
   ],
   "source": [
    "s1"
   ]
  },
  {
   "cell_type": "code",
   "execution_count": 15,
   "id": "9a81cd4b",
   "metadata": {},
   "outputs": [
    {
     "data": {
      "text/plain": [
       "{'c', 'dbms', 'java', 'ml', 'sql'}"
      ]
     },
     "execution_count": 15,
     "metadata": {},
     "output_type": "execute_result"
    }
   ],
   "source": [
    "s2"
   ]
  },
  {
   "cell_type": "code",
   "execution_count": 16,
   "id": "6ef34ef3",
   "metadata": {},
   "outputs": [
    {
     "data": {
      "text/plain": [
       "{'dbms', 'ml', 'sql'}"
      ]
     },
     "execution_count": 16,
     "metadata": {},
     "output_type": "execute_result"
    }
   ],
   "source": [
    "s2.difference(s1)"
   ]
  },
  {
   "cell_type": "code",
   "execution_count": 17,
   "id": "03f6ddc5",
   "metadata": {},
   "outputs": [],
   "source": [
    "#symmetric_difference"
   ]
  },
  {
   "cell_type": "code",
   "execution_count": 18,
   "id": "933076f3",
   "metadata": {},
   "outputs": [
    {
     "data": {
      "text/plain": [
       "{'dbms', 'hadoop', 'ml', 'python', 'sql'}"
      ]
     },
     "execution_count": 18,
     "metadata": {},
     "output_type": "execute_result"
    }
   ],
   "source": [
    "s1.symmetric_difference(s2)"
   ]
  },
  {
   "cell_type": "code",
   "execution_count": 19,
   "id": "309eef47",
   "metadata": {},
   "outputs": [
    {
     "data": {
      "text/plain": [
       "{'dbms', 'hadoop', 'ml', 'python', 'sql'}"
      ]
     },
     "execution_count": 19,
     "metadata": {},
     "output_type": "execute_result"
    }
   ],
   "source": [
    "s2.symmetric_difference(s1)"
   ]
  },
  {
   "cell_type": "code",
   "execution_count": null,
   "id": "95a2aa7c",
   "metadata": {},
   "outputs": [],
   "source": [
    "#perform operation and update the value in original 'a' set\n",
    "1. a.difference_update(b)\n",
    "2. a.symmetric_difference_update(b)\n",
    "3. a.intersection_update(b)"
   ]
  },
  {
   "cell_type": "code",
   "execution_count": 1,
   "id": "1a07afe2",
   "metadata": {},
   "outputs": [],
   "source": [
    "#set1.difference_update(set2)"
   ]
  },
  {
   "cell_type": "code",
   "execution_count": 8,
   "id": "4a8f4012",
   "metadata": {},
   "outputs": [],
   "source": [
    "s1={1,2,3,4}"
   ]
  },
  {
   "cell_type": "code",
   "execution_count": 3,
   "id": "f56dd0d7",
   "metadata": {},
   "outputs": [],
   "source": [
    "s2={2,4,6,8}"
   ]
  },
  {
   "cell_type": "code",
   "execution_count": 4,
   "id": "fd1b1202",
   "metadata": {},
   "outputs": [],
   "source": [
    "s1.difference_update(s2)"
   ]
  },
  {
   "cell_type": "code",
   "execution_count": 5,
   "id": "3de674b8",
   "metadata": {},
   "outputs": [
    {
     "data": {
      "text/plain": [
       "{1, 3}"
      ]
     },
     "execution_count": 5,
     "metadata": {},
     "output_type": "execute_result"
    }
   ],
   "source": [
    "s1"
   ]
  },
  {
   "cell_type": "code",
   "execution_count": 9,
   "id": "f09ecf2a",
   "metadata": {},
   "outputs": [],
   "source": [
    "s2.difference_update(s1)"
   ]
  },
  {
   "cell_type": "code",
   "execution_count": 10,
   "id": "f0408583",
   "metadata": {},
   "outputs": [
    {
     "data": {
      "text/plain": [
       "{6, 8}"
      ]
     },
     "execution_count": 10,
     "metadata": {},
     "output_type": "execute_result"
    }
   ],
   "source": [
    "s2"
   ]
  },
  {
   "cell_type": "code",
   "execution_count": 11,
   "id": "482655cd",
   "metadata": {},
   "outputs": [],
   "source": [
    "#set1.symmetric_difference_update(set2)"
   ]
  },
  {
   "cell_type": "code",
   "execution_count": 12,
   "id": "2738082d",
   "metadata": {},
   "outputs": [],
   "source": [
    "s1={1,2,3,4}"
   ]
  },
  {
   "cell_type": "code",
   "execution_count": 13,
   "id": "776acda2",
   "metadata": {},
   "outputs": [],
   "source": [
    "s2={2,4,6,8}"
   ]
  },
  {
   "cell_type": "code",
   "execution_count": 14,
   "id": "a27b06da",
   "metadata": {},
   "outputs": [],
   "source": [
    "s1.symmetric_difference_update(s2)"
   ]
  },
  {
   "cell_type": "code",
   "execution_count": 15,
   "id": "b65dc3a4",
   "metadata": {},
   "outputs": [
    {
     "data": {
      "text/plain": [
       "{1, 3, 6, 8}"
      ]
     },
     "execution_count": 15,
     "metadata": {},
     "output_type": "execute_result"
    }
   ],
   "source": [
    "s1"
   ]
  },
  {
   "cell_type": "code",
   "execution_count": 16,
   "id": "fbd1e2cc",
   "metadata": {},
   "outputs": [
    {
     "data": {
      "text/plain": [
       "{2, 4, 6, 8}"
      ]
     },
     "execution_count": 16,
     "metadata": {},
     "output_type": "execute_result"
    }
   ],
   "source": [
    "s2"
   ]
  },
  {
   "cell_type": "code",
   "execution_count": 17,
   "id": "20ebb3eb",
   "metadata": {},
   "outputs": [],
   "source": [
    "#set1.intersection_update(set2)"
   ]
  },
  {
   "cell_type": "code",
   "execution_count": 18,
   "id": "6c50ed43",
   "metadata": {},
   "outputs": [],
   "source": [
    "s1={1,2,3,4}"
   ]
  },
  {
   "cell_type": "code",
   "execution_count": 19,
   "id": "deefaca3",
   "metadata": {},
   "outputs": [],
   "source": [
    "s2={2,4,6,8}"
   ]
  },
  {
   "cell_type": "code",
   "execution_count": 20,
   "id": "c90f5e33",
   "metadata": {},
   "outputs": [],
   "source": [
    "s1.intersection_update(s2)"
   ]
  },
  {
   "cell_type": "code",
   "execution_count": 21,
   "id": "9eb75582",
   "metadata": {},
   "outputs": [
    {
     "data": {
      "text/plain": [
       "{2, 4}"
      ]
     },
     "execution_count": 21,
     "metadata": {},
     "output_type": "execute_result"
    }
   ],
   "source": [
    "s1"
   ]
  },
  {
   "cell_type": "code",
   "execution_count": 22,
   "id": "8b013a92",
   "metadata": {},
   "outputs": [
    {
     "data": {
      "text/plain": [
       "{2, 4, 6, 8}"
      ]
     },
     "execution_count": 22,
     "metadata": {},
     "output_type": "execute_result"
    }
   ],
   "source": [
    "s2"
   ]
  },
  {
   "cell_type": "code",
   "execution_count": 1,
   "id": "8b52f835",
   "metadata": {},
   "outputs": [],
   "source": [
    "#Q. If you have two list, find the common elements in the lists."
   ]
  },
  {
   "cell_type": "code",
   "execution_count": 2,
   "id": "437f5416",
   "metadata": {},
   "outputs": [],
   "source": [
    "list1=[2,6,5,4,2,9,7]"
   ]
  },
  {
   "cell_type": "code",
   "execution_count": 3,
   "id": "0f9c738f",
   "metadata": {},
   "outputs": [],
   "source": [
    "list2=[4,3,8,7,1,1,4]"
   ]
  },
  {
   "cell_type": "code",
   "execution_count": 4,
   "id": "178c5596",
   "metadata": {},
   "outputs": [
    {
     "data": {
      "text/plain": [
       "{4, 7}"
      ]
     },
     "execution_count": 4,
     "metadata": {},
     "output_type": "execute_result"
    }
   ],
   "source": [
    "set(list1).intersection(set(list2))"
   ]
  },
  {
   "cell_type": "code",
   "execution_count": null,
   "id": "0def0359",
   "metadata": {},
   "outputs": [],
   "source": []
  }
 ],
 "metadata": {
  "kernelspec": {
   "display_name": "Python 3",
   "language": "python",
   "name": "python3"
  },
  "language_info": {
   "codemirror_mode": {
    "name": "ipython",
    "version": 3
   },
   "file_extension": ".py",
   "mimetype": "text/x-python",
   "name": "python",
   "nbconvert_exporter": "python",
   "pygments_lexer": "ipython3",
   "version": "3.8.8"
  }
 },
 "nbformat": 4,
 "nbformat_minor": 5
}
