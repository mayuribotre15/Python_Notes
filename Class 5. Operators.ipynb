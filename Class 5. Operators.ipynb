{
 "cells": [
  {
   "cell_type": "code",
   "execution_count": 1,
   "id": "8eab1e3a",
   "metadata": {},
   "outputs": [],
   "source": [
    "#Python Operators-->it is a symbol responsible for operation between two operands"
   ]
  },
  {
   "cell_type": "code",
   "execution_count": null,
   "id": "849f2f63",
   "metadata": {},
   "outputs": [],
   "source": [
    "#Variety of operator:\n",
    "1. Arithmatic Operator\n",
    "2. Comparison Operaor\n",
    "3. Assignment Operator\n",
    "4. Logical Operator\n",
    "5. Bitwise Operator\n",
    "6. Membership Operator\n",
    "7. Identity Operator"
   ]
  },
  {
   "cell_type": "code",
   "execution_count": null,
   "id": "c9ee168a",
   "metadata": {},
   "outputs": [],
   "source": [
    "#1. Arithmatic operator----perform arithmatic operation\n",
    "+, -, *, /, %(remainder), **(exponent), //(floor division)"
   ]
  },
  {
   "cell_type": "code",
   "execution_count": 2,
   "id": "069fc497",
   "metadata": {},
   "outputs": [],
   "source": [
    "#+  Addition"
   ]
  },
  {
   "cell_type": "code",
   "execution_count": 3,
   "id": "9a99d7ca",
   "metadata": {},
   "outputs": [],
   "source": [
    "a=20\n",
    "b=30"
   ]
  },
  {
   "cell_type": "code",
   "execution_count": 4,
   "id": "bc891e2b",
   "metadata": {},
   "outputs": [
    {
     "data": {
      "text/plain": [
       "50"
      ]
     },
     "execution_count": 4,
     "metadata": {},
     "output_type": "execute_result"
    }
   ],
   "source": [
    "a+b"
   ]
  },
  {
   "cell_type": "code",
   "execution_count": 5,
   "id": "d6712108",
   "metadata": {},
   "outputs": [],
   "source": [
    "#- Subtraction"
   ]
  },
  {
   "cell_type": "code",
   "execution_count": 6,
   "id": "813467bc",
   "metadata": {},
   "outputs": [
    {
     "data": {
      "text/plain": [
       "-10"
      ]
     },
     "execution_count": 6,
     "metadata": {},
     "output_type": "execute_result"
    }
   ],
   "source": [
    "a-b"
   ]
  },
  {
   "cell_type": "code",
   "execution_count": 7,
   "id": "ca4b937d",
   "metadata": {},
   "outputs": [],
   "source": [
    "#* multiplication"
   ]
  },
  {
   "cell_type": "code",
   "execution_count": 8,
   "id": "0e0490c3",
   "metadata": {},
   "outputs": [
    {
     "data": {
      "text/plain": [
       "600"
      ]
     },
     "execution_count": 8,
     "metadata": {},
     "output_type": "execute_result"
    }
   ],
   "source": [
    "a*b"
   ]
  },
  {
   "cell_type": "code",
   "execution_count": 9,
   "id": "69074eab",
   "metadata": {},
   "outputs": [],
   "source": [
    "#/ division "
   ]
  },
  {
   "cell_type": "code",
   "execution_count": 10,
   "id": "7ebd2005",
   "metadata": {},
   "outputs": [
    {
     "data": {
      "text/plain": [
       "0.6666666666666666"
      ]
     },
     "execution_count": 10,
     "metadata": {},
     "output_type": "execute_result"
    }
   ],
   "source": [
    "a/b"
   ]
  },
  {
   "cell_type": "code",
   "execution_count": 11,
   "id": "d890af7c",
   "metadata": {},
   "outputs": [
    {
     "data": {
      "text/plain": [
       "1.5"
      ]
     },
     "execution_count": 11,
     "metadata": {},
     "output_type": "execute_result"
    }
   ],
   "source": [
    "b/a"
   ]
  },
  {
   "cell_type": "code",
   "execution_count": 12,
   "id": "141be372",
   "metadata": {},
   "outputs": [],
   "source": [
    "#% remainder"
   ]
  },
  {
   "cell_type": "code",
   "execution_count": 13,
   "id": "6aa467fc",
   "metadata": {},
   "outputs": [
    {
     "data": {
      "text/plain": [
       "20"
      ]
     },
     "execution_count": 13,
     "metadata": {},
     "output_type": "execute_result"
    }
   ],
   "source": [
    "a%b"
   ]
  },
  {
   "cell_type": "code",
   "execution_count": 14,
   "id": "04f59b0b",
   "metadata": {},
   "outputs": [
    {
     "data": {
      "text/plain": [
       "10"
      ]
     },
     "execution_count": 14,
     "metadata": {},
     "output_type": "execute_result"
    }
   ],
   "source": [
    "b%a"
   ]
  },
  {
   "cell_type": "code",
   "execution_count": 16,
   "id": "81b41ab2",
   "metadata": {},
   "outputs": [],
   "source": [
    "# ** exponent------ a power b i.e a**b"
   ]
  },
  {
   "cell_type": "code",
   "execution_count": 19,
   "id": "69553018",
   "metadata": {},
   "outputs": [],
   "source": [
    "a=3\n",
    "b=2"
   ]
  },
  {
   "cell_type": "code",
   "execution_count": 20,
   "id": "6c2a0944",
   "metadata": {},
   "outputs": [
    {
     "data": {
      "text/plain": [
       "9"
      ]
     },
     "execution_count": 20,
     "metadata": {},
     "output_type": "execute_result"
    }
   ],
   "source": [
    "a**b"
   ]
  },
  {
   "cell_type": "code",
   "execution_count": 21,
   "id": "0621a5ba",
   "metadata": {},
   "outputs": [
    {
     "data": {
      "text/plain": [
       "8"
      ]
     },
     "execution_count": 21,
     "metadata": {},
     "output_type": "execute_result"
    }
   ],
   "source": [
    "b**a"
   ]
  },
  {
   "cell_type": "code",
   "execution_count": 27,
   "id": "6e771d06",
   "metadata": {},
   "outputs": [],
   "source": [
    "# // floor division----return integer result and discard fraction result.\n",
    "In other word, return floor value of quotient produce by dividing two operand"
   ]
  },
  {
   "cell_type": "code",
   "execution_count": null,
   "id": "70513cf9",
   "metadata": {},
   "outputs": [],
   "source": [
    "              12   -----floor value of quotitent produce\n",
    "        ___________________\n",
    "divisor 2)   25\n",
    "             2\n",
    "          _____________\n",
    "             05\n",
    "              2\n",
    "            __________\n",
    "              1   -------remainder"
   ]
  },
  {
   "cell_type": "code",
   "execution_count": 23,
   "id": "c4612015",
   "metadata": {},
   "outputs": [
    {
     "data": {
      "text/plain": [
       "1"
      ]
     },
     "execution_count": 23,
     "metadata": {},
     "output_type": "execute_result"
    }
   ],
   "source": [
    "a//b"
   ]
  },
  {
   "cell_type": "code",
   "execution_count": 24,
   "id": "b77178c9",
   "metadata": {},
   "outputs": [
    {
     "data": {
      "text/plain": [
       "0"
      ]
     },
     "execution_count": 24,
     "metadata": {},
     "output_type": "execute_result"
    }
   ],
   "source": [
    "b//a"
   ]
  },
  {
   "cell_type": "code",
   "execution_count": 25,
   "id": "fbcbf8fe",
   "metadata": {},
   "outputs": [
    {
     "data": {
      "text/plain": [
       "2"
      ]
     },
     "execution_count": 25,
     "metadata": {},
     "output_type": "execute_result"
    }
   ],
   "source": [
    "20//10"
   ]
  },
  {
   "cell_type": "code",
   "execution_count": 26,
   "id": "c637c560",
   "metadata": {},
   "outputs": [
    {
     "data": {
      "text/plain": [
       "12"
      ]
     },
     "execution_count": 26,
     "metadata": {},
     "output_type": "execute_result"
    }
   ],
   "source": [
    "25//2"
   ]
  },
  {
   "cell_type": "code",
   "execution_count": 28,
   "id": "cae30eee",
   "metadata": {},
   "outputs": [],
   "source": [
    "#2. Comparison operator----used to compare values of two operand and return boolean value(True or False)\n",
    "==,<=,>=,!=,<,>"
   ]
  },
  {
   "cell_type": "code",
   "execution_count": 29,
   "id": "f12943f2",
   "metadata": {},
   "outputs": [],
   "source": [
    "# == ---if value of two operand is equal then return True else return False"
   ]
  },
  {
   "cell_type": "code",
   "execution_count": 32,
   "id": "d7d3a181",
   "metadata": {},
   "outputs": [
    {
     "data": {
      "text/plain": [
       "True"
      ]
     },
     "execution_count": 32,
     "metadata": {},
     "output_type": "execute_result"
    }
   ],
   "source": [
    "10==10"
   ]
  },
  {
   "cell_type": "code",
   "execution_count": 30,
   "id": "f37a2332",
   "metadata": {},
   "outputs": [
    {
     "data": {
      "text/plain": [
       "True"
      ]
     },
     "execution_count": 30,
     "metadata": {},
     "output_type": "execute_result"
    }
   ],
   "source": [
    "1==True"
   ]
  },
  {
   "cell_type": "code",
   "execution_count": 31,
   "id": "6d30d70b",
   "metadata": {},
   "outputs": [
    {
     "data": {
      "text/plain": [
       "True"
      ]
     },
     "execution_count": 31,
     "metadata": {},
     "output_type": "execute_result"
    }
   ],
   "source": [
    "2==2.0"
   ]
  },
  {
   "cell_type": "code",
   "execution_count": 33,
   "id": "565ccdac",
   "metadata": {},
   "outputs": [
    {
     "data": {
      "text/plain": [
       "False"
      ]
     },
     "execution_count": 33,
     "metadata": {},
     "output_type": "execute_result"
    }
   ],
   "source": [
    "1==False"
   ]
  },
  {
   "cell_type": "code",
   "execution_count": 34,
   "id": "dd764f3b",
   "metadata": {},
   "outputs": [
    {
     "data": {
      "text/plain": [
       "False"
      ]
     },
     "execution_count": 34,
     "metadata": {},
     "output_type": "execute_result"
    }
   ],
   "source": [
    "0==True"
   ]
  },
  {
   "cell_type": "code",
   "execution_count": 35,
   "id": "b887d207",
   "metadata": {},
   "outputs": [],
   "source": [
    "# != -----if value of two operand is not equal then return True else return False"
   ]
  },
  {
   "cell_type": "code",
   "execution_count": 37,
   "id": "86d7290f",
   "metadata": {},
   "outputs": [
    {
     "data": {
      "text/plain": [
       "True"
      ]
     },
     "execution_count": 37,
     "metadata": {},
     "output_type": "execute_result"
    }
   ],
   "source": [
    "1 != False"
   ]
  },
  {
   "cell_type": "code",
   "execution_count": 38,
   "id": "7bf4774c",
   "metadata": {},
   "outputs": [
    {
     "data": {
      "text/plain": [
       "True"
      ]
     },
     "execution_count": 38,
     "metadata": {},
     "output_type": "execute_result"
    }
   ],
   "source": [
    "0 != True"
   ]
  },
  {
   "cell_type": "code",
   "execution_count": 39,
   "id": "19515215",
   "metadata": {},
   "outputs": [
    {
     "data": {
      "text/plain": [
       "False"
      ]
     },
     "execution_count": 39,
     "metadata": {},
     "output_type": "execute_result"
    }
   ],
   "source": [
    "1 != True"
   ]
  },
  {
   "cell_type": "code",
   "execution_count": 40,
   "id": "82a2c785",
   "metadata": {},
   "outputs": [
    {
     "data": {
      "text/plain": [
       "True"
      ]
     },
     "execution_count": 40,
     "metadata": {},
     "output_type": "execute_result"
    }
   ],
   "source": [
    "10 !=2"
   ]
  },
  {
   "cell_type": "code",
   "execution_count": 41,
   "id": "0db76e0f",
   "metadata": {},
   "outputs": [],
   "source": [
    "# < ---if value of first operand is less than second operator then return True else return False"
   ]
  },
  {
   "cell_type": "code",
   "execution_count": 42,
   "id": "7334eaa8",
   "metadata": {},
   "outputs": [
    {
     "data": {
      "text/plain": [
       "True"
      ]
     },
     "execution_count": 42,
     "metadata": {},
     "output_type": "execute_result"
    }
   ],
   "source": [
    "10 < 20"
   ]
  },
  {
   "cell_type": "code",
   "execution_count": 43,
   "id": "adc74ce7",
   "metadata": {},
   "outputs": [
    {
     "data": {
      "text/plain": [
       "False"
      ]
     },
     "execution_count": 43,
     "metadata": {},
     "output_type": "execute_result"
    }
   ],
   "source": [
    "10 < 5"
   ]
  },
  {
   "cell_type": "code",
   "execution_count": 44,
   "id": "2ff5f8ae",
   "metadata": {},
   "outputs": [],
   "source": [
    "# > --- if value of first operand is greater than second operator then return True else return False"
   ]
  },
  {
   "cell_type": "code",
   "execution_count": 45,
   "id": "f64f86f6",
   "metadata": {},
   "outputs": [
    {
     "data": {
      "text/plain": [
       "True"
      ]
     },
     "execution_count": 45,
     "metadata": {},
     "output_type": "execute_result"
    }
   ],
   "source": [
    "10 > 5"
   ]
  },
  {
   "cell_type": "code",
   "execution_count": 46,
   "id": "f5e59759",
   "metadata": {},
   "outputs": [
    {
     "data": {
      "text/plain": [
       "False"
      ]
     },
     "execution_count": 46,
     "metadata": {},
     "output_type": "execute_result"
    }
   ],
   "source": [
    "10 >20"
   ]
  },
  {
   "cell_type": "code",
   "execution_count": 47,
   "id": "21fb6999",
   "metadata": {},
   "outputs": [],
   "source": [
    "# <= --- if value of first operand is less than or equal to second operator then return True else return False"
   ]
  },
  {
   "cell_type": "code",
   "execution_count": 49,
   "id": "bd137795",
   "metadata": {},
   "outputs": [
    {
     "data": {
      "text/plain": [
       "True"
      ]
     },
     "execution_count": 49,
     "metadata": {},
     "output_type": "execute_result"
    }
   ],
   "source": [
    "10 <= 20"
   ]
  },
  {
   "cell_type": "code",
   "execution_count": 50,
   "id": "8a88e98a",
   "metadata": {},
   "outputs": [
    {
     "data": {
      "text/plain": [
       "True"
      ]
     },
     "execution_count": 50,
     "metadata": {},
     "output_type": "execute_result"
    }
   ],
   "source": [
    "10 <= 10"
   ]
  },
  {
   "cell_type": "code",
   "execution_count": 51,
   "id": "c29c6538",
   "metadata": {},
   "outputs": [
    {
     "data": {
      "text/plain": [
       "False"
      ]
     },
     "execution_count": 51,
     "metadata": {},
     "output_type": "execute_result"
    }
   ],
   "source": [
    "10 <= 5"
   ]
  },
  {
   "cell_type": "code",
   "execution_count": 52,
   "id": "ab4d7c58",
   "metadata": {},
   "outputs": [],
   "source": [
    "# >= --- if value of first operand is greater than or equal to second operator then return True else return False"
   ]
  },
  {
   "cell_type": "code",
   "execution_count": 53,
   "id": "ec61e536",
   "metadata": {},
   "outputs": [
    {
     "data": {
      "text/plain": [
       "True"
      ]
     },
     "execution_count": 53,
     "metadata": {},
     "output_type": "execute_result"
    }
   ],
   "source": [
    "20 >= 10"
   ]
  },
  {
   "cell_type": "code",
   "execution_count": 54,
   "id": "d565f9bc",
   "metadata": {},
   "outputs": [
    {
     "data": {
      "text/plain": [
       "False"
      ]
     },
     "execution_count": 54,
     "metadata": {},
     "output_type": "execute_result"
    }
   ],
   "source": [
    "20 >= 30"
   ]
  },
  {
   "cell_type": "code",
   "execution_count": 55,
   "id": "8415993d",
   "metadata": {},
   "outputs": [
    {
     "data": {
      "text/plain": [
       "True"
      ]
     },
     "execution_count": 55,
     "metadata": {},
     "output_type": "execute_result"
    }
   ],
   "source": [
    "20 >= 20"
   ]
  },
  {
   "cell_type": "code",
   "execution_count": 56,
   "id": "7d6b647d",
   "metadata": {},
   "outputs": [],
   "source": [
    "#3. Assignment Operator ----used to assign value of right side expression to left side operation\n",
    "=, +=, -=, *=, /=, %=, //=\n",
    "eg. a=10"
   ]
  },
  {
   "cell_type": "code",
   "execution_count": 58,
   "id": "179cc289",
   "metadata": {},
   "outputs": [],
   "source": [
    "# = ---assign value of right side expression to left operator"
   ]
  },
  {
   "cell_type": "code",
   "execution_count": 61,
   "id": "81f7e56d",
   "metadata": {},
   "outputs": [],
   "source": [
    "a=10\n",
    "b=20"
   ]
  },
  {
   "cell_type": "code",
   "execution_count": 60,
   "id": "6deedac3",
   "metadata": {},
   "outputs": [
    {
     "data": {
      "text/plain": [
       "10"
      ]
     },
     "execution_count": 60,
     "metadata": {},
     "output_type": "execute_result"
    }
   ],
   "source": [
    "a"
   ]
  },
  {
   "cell_type": "code",
   "execution_count": 62,
   "id": "7ca93f73",
   "metadata": {},
   "outputs": [],
   "source": [
    "c=a+b"
   ]
  },
  {
   "cell_type": "code",
   "execution_count": 63,
   "id": "5e183198",
   "metadata": {},
   "outputs": [
    {
     "data": {
      "text/plain": [
       "30"
      ]
     },
     "execution_count": 63,
     "metadata": {},
     "output_type": "execute_result"
    }
   ],
   "source": [
    "c"
   ]
  },
  {
   "cell_type": "code",
   "execution_count": 64,
   "id": "6bd73dbf",
   "metadata": {},
   "outputs": [],
   "source": [
    "# += ---increment the value of left operand by the value of right operand and assign the modified value back to the left operand"
   ]
  },
  {
   "cell_type": "code",
   "execution_count": 65,
   "id": "b09b4fe9",
   "metadata": {},
   "outputs": [],
   "source": [
    "a=0\n",
    "b=1"
   ]
  },
  {
   "cell_type": "code",
   "execution_count": 66,
   "id": "68dab694",
   "metadata": {},
   "outputs": [
    {
     "data": {
      "text/plain": [
       "0"
      ]
     },
     "execution_count": 66,
     "metadata": {},
     "output_type": "execute_result"
    }
   ],
   "source": [
    "a"
   ]
  },
  {
   "cell_type": "code",
   "execution_count": 67,
   "id": "dffc301d",
   "metadata": {},
   "outputs": [
    {
     "data": {
      "text/plain": [
       "1"
      ]
     },
     "execution_count": 67,
     "metadata": {},
     "output_type": "execute_result"
    }
   ],
   "source": [
    "b"
   ]
  },
  {
   "cell_type": "code",
   "execution_count": 68,
   "id": "46d66df8",
   "metadata": {},
   "outputs": [],
   "source": [
    "a+=b"
   ]
  },
  {
   "cell_type": "code",
   "execution_count": 69,
   "id": "ac456b33",
   "metadata": {},
   "outputs": [
    {
     "data": {
      "text/plain": [
       "1"
      ]
     },
     "execution_count": 69,
     "metadata": {},
     "output_type": "execute_result"
    }
   ],
   "source": [
    "a"
   ]
  },
  {
   "cell_type": "code",
   "execution_count": 70,
   "id": "4cfb815d",
   "metadata": {},
   "outputs": [],
   "source": [
    "a+=b"
   ]
  },
  {
   "cell_type": "code",
   "execution_count": 71,
   "id": "00e9f959",
   "metadata": {},
   "outputs": [
    {
     "data": {
      "text/plain": [
       "2"
      ]
     },
     "execution_count": 71,
     "metadata": {},
     "output_type": "execute_result"
    }
   ],
   "source": [
    "a"
   ]
  },
  {
   "cell_type": "code",
   "execution_count": 72,
   "id": "8d1e7eb1",
   "metadata": {},
   "outputs": [],
   "source": [
    "# -= ---decrement the value of left operand by value of right operand and assign the modified value back to the left operand"
   ]
  },
  {
   "cell_type": "code",
   "execution_count": 73,
   "id": "3cefd31e",
   "metadata": {},
   "outputs": [],
   "source": [
    "a=10\n",
    "b=1"
   ]
  },
  {
   "cell_type": "code",
   "execution_count": 74,
   "id": "7dad1273",
   "metadata": {},
   "outputs": [],
   "source": [
    "a -= b"
   ]
  },
  {
   "cell_type": "code",
   "execution_count": 75,
   "id": "32f4d750",
   "metadata": {},
   "outputs": [
    {
     "data": {
      "text/plain": [
       "9"
      ]
     },
     "execution_count": 75,
     "metadata": {},
     "output_type": "execute_result"
    }
   ],
   "source": [
    "a"
   ]
  },
  {
   "cell_type": "code",
   "execution_count": 76,
   "id": "b22e5d61",
   "metadata": {},
   "outputs": [],
   "source": [
    "a -= b"
   ]
  },
  {
   "cell_type": "code",
   "execution_count": 77,
   "id": "c8c94a19",
   "metadata": {},
   "outputs": [
    {
     "data": {
      "text/plain": [
       "8"
      ]
     },
     "execution_count": 77,
     "metadata": {},
     "output_type": "execute_result"
    }
   ],
   "source": [
    "a"
   ]
  },
  {
   "cell_type": "code",
   "execution_count": 78,
   "id": "79826dd3",
   "metadata": {},
   "outputs": [],
   "source": [
    "# *= --multiple value of left operand by value of right operand and assign the modified value back to the left operand"
   ]
  },
  {
   "cell_type": "code",
   "execution_count": 79,
   "id": "73cd3703",
   "metadata": {},
   "outputs": [],
   "source": [
    "a = 2\n",
    "b = 2"
   ]
  },
  {
   "cell_type": "code",
   "execution_count": 80,
   "id": "e2d46b26",
   "metadata": {},
   "outputs": [],
   "source": [
    "a *= b"
   ]
  },
  {
   "cell_type": "code",
   "execution_count": 81,
   "id": "0d8d4a06",
   "metadata": {},
   "outputs": [
    {
     "data": {
      "text/plain": [
       "4"
      ]
     },
     "execution_count": 81,
     "metadata": {},
     "output_type": "execute_result"
    }
   ],
   "source": [
    "a"
   ]
  },
  {
   "cell_type": "code",
   "execution_count": 82,
   "id": "7d2cad19",
   "metadata": {},
   "outputs": [],
   "source": [
    "a *= b"
   ]
  },
  {
   "cell_type": "code",
   "execution_count": 83,
   "id": "52127ac9",
   "metadata": {},
   "outputs": [
    {
     "data": {
      "text/plain": [
       "8"
      ]
     },
     "execution_count": 83,
     "metadata": {},
     "output_type": "execute_result"
    }
   ],
   "source": [
    "a"
   ]
  },
  {
   "cell_type": "code",
   "execution_count": 84,
   "id": "ee9ac3c3",
   "metadata": {},
   "outputs": [],
   "source": [
    "# /= --divide value of left operand by value of right operand and assign the modified value back to the left operand"
   ]
  },
  {
   "cell_type": "code",
   "execution_count": 85,
   "id": "5ae29691",
   "metadata": {},
   "outputs": [],
   "source": [
    "a=10\n",
    "b=5"
   ]
  },
  {
   "cell_type": "code",
   "execution_count": 86,
   "id": "1779c012",
   "metadata": {},
   "outputs": [],
   "source": [
    "a /= b"
   ]
  },
  {
   "cell_type": "code",
   "execution_count": 87,
   "id": "add1f2a2",
   "metadata": {},
   "outputs": [
    {
     "data": {
      "text/plain": [
       "2.0"
      ]
     },
     "execution_count": 87,
     "metadata": {},
     "output_type": "execute_result"
    }
   ],
   "source": [
    "a"
   ]
  },
  {
   "cell_type": "code",
   "execution_count": null,
   "id": "1cec511a",
   "metadata": {},
   "outputs": [],
   "source": [
    "# %= --divide value of left operand by value of right operand and assign remainder value back to the left operand"
   ]
  },
  {
   "cell_type": "code",
   "execution_count": 88,
   "id": "757a18f9",
   "metadata": {},
   "outputs": [],
   "source": [
    "a=10\n",
    "b=3"
   ]
  },
  {
   "cell_type": "code",
   "execution_count": 89,
   "id": "a7305423",
   "metadata": {},
   "outputs": [],
   "source": [
    "a %= b"
   ]
  },
  {
   "cell_type": "code",
   "execution_count": 90,
   "id": "25fb46ad",
   "metadata": {},
   "outputs": [
    {
     "data": {
      "text/plain": [
       "1"
      ]
     },
     "execution_count": 90,
     "metadata": {},
     "output_type": "execute_result"
    }
   ],
   "source": [
    "a"
   ]
  },
  {
   "cell_type": "code",
   "execution_count": 91,
   "id": "4b6316ff",
   "metadata": {},
   "outputs": [],
   "source": [
    "# //= ----- a = a // b"
   ]
  },
  {
   "cell_type": "code",
   "execution_count": 92,
   "id": "42ec2c2b",
   "metadata": {},
   "outputs": [],
   "source": [
    "a=10\n",
    "b=3"
   ]
  },
  {
   "cell_type": "code",
   "execution_count": 93,
   "id": "643a2592",
   "metadata": {},
   "outputs": [],
   "source": [
    "a //= b"
   ]
  },
  {
   "cell_type": "code",
   "execution_count": 94,
   "id": "12088eb3",
   "metadata": {},
   "outputs": [
    {
     "data": {
      "text/plain": [
       "3"
      ]
     },
     "execution_count": 94,
     "metadata": {},
     "output_type": "execute_result"
    }
   ],
   "source": [
    "a"
   ]
  },
  {
   "cell_type": "code",
   "execution_count": 95,
   "id": "04f67ce6",
   "metadata": {},
   "outputs": [],
   "source": [
    "# **= ----- a = a ** b"
   ]
  },
  {
   "cell_type": "code",
   "execution_count": 96,
   "id": "cd6c28c8",
   "metadata": {},
   "outputs": [],
   "source": [
    "a = 5\n",
    "b = 2"
   ]
  },
  {
   "cell_type": "code",
   "execution_count": 97,
   "id": "c80624e2",
   "metadata": {},
   "outputs": [],
   "source": [
    "a **= b"
   ]
  },
  {
   "cell_type": "code",
   "execution_count": 98,
   "id": "b9aae5df",
   "metadata": {},
   "outputs": [
    {
     "data": {
      "text/plain": [
       "25"
      ]
     },
     "execution_count": 98,
     "metadata": {},
     "output_type": "execute_result"
    }
   ],
   "source": [
    "a"
   ]
  },
  {
   "cell_type": "code",
   "execution_count": 99,
   "id": "1b39bca6",
   "metadata": {},
   "outputs": [],
   "source": [
    "#4. Logical Operator -----used primarily in expression evaluation to make decision\n",
    "and, or, not"
   ]
  },
  {
   "cell_type": "code",
   "execution_count": null,
   "id": "1f6a5b26",
   "metadata": {},
   "outputs": [],
   "source": [
    "# and ---- if both the expresion is true then return true"
   ]
  },
  {
   "cell_type": "code",
   "execution_count": 100,
   "id": "9227945b",
   "metadata": {},
   "outputs": [
    {
     "data": {
      "text/plain": [
       "True"
      ]
     },
     "execution_count": 100,
     "metadata": {},
     "output_type": "execute_result"
    }
   ],
   "source": [
    "2<3 and 5>2"
   ]
  },
  {
   "cell_type": "code",
   "execution_count": 101,
   "id": "8c6bc15b",
   "metadata": {},
   "outputs": [
    {
     "data": {
      "text/plain": [
       "False"
      ]
     },
     "execution_count": 101,
     "metadata": {},
     "output_type": "execute_result"
    }
   ],
   "source": [
    "2>6 and 7>3"
   ]
  },
  {
   "cell_type": "code",
   "execution_count": 102,
   "id": "c3416acd",
   "metadata": {},
   "outputs": [
    {
     "data": {
      "text/plain": [
       "False"
      ]
     },
     "execution_count": 102,
     "metadata": {},
     "output_type": "execute_result"
    }
   ],
   "source": [
    "2<9 and 9<2"
   ]
  },
  {
   "cell_type": "code",
   "execution_count": 103,
   "id": "ffd32977",
   "metadata": {},
   "outputs": [],
   "source": [
    "# or ---- if both the expresion is False then return false"
   ]
  },
  {
   "cell_type": "code",
   "execution_count": 104,
   "id": "387b3bf3",
   "metadata": {},
   "outputs": [
    {
     "data": {
      "text/plain": [
       "True"
      ]
     },
     "execution_count": 104,
     "metadata": {},
     "output_type": "execute_result"
    }
   ],
   "source": [
    "2<3 or 6>3"
   ]
  },
  {
   "cell_type": "code",
   "execution_count": 105,
   "id": "afd951cc",
   "metadata": {},
   "outputs": [
    {
     "data": {
      "text/plain": [
       "True"
      ]
     },
     "execution_count": 105,
     "metadata": {},
     "output_type": "execute_result"
    }
   ],
   "source": [
    "6<9 or 5>2"
   ]
  },
  {
   "cell_type": "code",
   "execution_count": 106,
   "id": "d5fac902",
   "metadata": {},
   "outputs": [
    {
     "data": {
      "text/plain": [
       "False"
      ]
     },
     "execution_count": 106,
     "metadata": {},
     "output_type": "execute_result"
    }
   ],
   "source": [
    "7<4 or 9<3"
   ]
  },
  {
   "cell_type": "code",
   "execution_count": 107,
   "id": "b3fb57b7",
   "metadata": {},
   "outputs": [],
   "source": [
    "# not ------ if expresion is true then return false and vice-versa"
   ]
  },
  {
   "cell_type": "code",
   "execution_count": 108,
   "id": "76e978e7",
   "metadata": {},
   "outputs": [
    {
     "data": {
      "text/plain": [
       "False"
      ]
     },
     "execution_count": 108,
     "metadata": {},
     "output_type": "execute_result"
    }
   ],
   "source": [
    "not(7>4)"
   ]
  },
  {
   "cell_type": "code",
   "execution_count": 109,
   "id": "2c97f057",
   "metadata": {},
   "outputs": [
    {
     "data": {
      "text/plain": [
       "True"
      ]
     },
     "execution_count": 109,
     "metadata": {},
     "output_type": "execute_result"
    }
   ],
   "source": [
    "not(9<3)"
   ]
  },
  {
   "cell_type": "code",
   "execution_count": null,
   "id": "28d13a03",
   "metadata": {},
   "outputs": [],
   "source": [
    "#5. Bitwise operator --- perform bit by bit operation on the value of two operand\n",
    "&(binary and), |(binary or), ^(binary xor), ~(negation), <<(left shift), >>(right shift)"
   ]
  },
  {
   "cell_type": "code",
   "execution_count": 112,
   "id": "88073616",
   "metadata": {},
   "outputs": [],
   "source": [
    "# & (binary and)---if both the bit is 1 then resulting bit will be 1"
   ]
  },
  {
   "cell_type": "code",
   "execution_count": 113,
   "id": "96e34f52",
   "metadata": {},
   "outputs": [],
   "source": [
    "a = 10 # 1010\n",
    "b = 8  # 1000\n",
    "#__________________\n",
    "#        1000"
   ]
  },
  {
   "cell_type": "code",
   "execution_count": 114,
   "id": "287f7ca5",
   "metadata": {},
   "outputs": [
    {
     "data": {
      "text/plain": [
       "8"
      ]
     },
     "execution_count": 114,
     "metadata": {},
     "output_type": "execute_result"
    }
   ],
   "source": [
    "a & b"
   ]
  },
  {
   "cell_type": "code",
   "execution_count": 115,
   "id": "db01d03f",
   "metadata": {},
   "outputs": [],
   "source": [
    "# | (binary or)-----if both the bit is 0 then resulting bit will be 0"
   ]
  },
  {
   "cell_type": "code",
   "execution_count": 116,
   "id": "76045ad6",
   "metadata": {},
   "outputs": [],
   "source": [
    "a = 10 # 1010\n",
    "b = 8  # 1000\n",
    "#__________________\n",
    "#        1010"
   ]
  },
  {
   "cell_type": "code",
   "execution_count": 117,
   "id": "edcd810b",
   "metadata": {},
   "outputs": [
    {
     "data": {
      "text/plain": [
       "10"
      ]
     },
     "execution_count": 117,
     "metadata": {},
     "output_type": "execute_result"
    }
   ],
   "source": [
    "a | b"
   ]
  },
  {
   "cell_type": "code",
   "execution_count": 118,
   "id": "95fd8263",
   "metadata": {},
   "outputs": [],
   "source": [
    "# ^ (binary xor)-----if both the bit is different then resulting bit will be 1"
   ]
  },
  {
   "cell_type": "code",
   "execution_count": 119,
   "id": "0bcb8149",
   "metadata": {},
   "outputs": [],
   "source": [
    "a = 10 # 1010\n",
    "b = 8  # 1000\n",
    "#__________________\n",
    "#        0010"
   ]
  },
  {
   "cell_type": "code",
   "execution_count": 120,
   "id": "f582fb5f",
   "metadata": {},
   "outputs": [
    {
     "data": {
      "text/plain": [
       "2"
      ]
     },
     "execution_count": 120,
     "metadata": {},
     "output_type": "execute_result"
    }
   ],
   "source": [
    "a ^ b"
   ]
  },
  {
   "cell_type": "code",
   "execution_count": 121,
   "id": "360a1f84",
   "metadata": {},
   "outputs": [],
   "source": [
    "# ~ (negation) ------if bit is 1 then resulting bit is 0 and vice-versa\n",
    "it's unary means it take only 1 operand"
   ]
  },
  {
   "cell_type": "code",
   "execution_count": 122,
   "id": "9ad00a33",
   "metadata": {},
   "outputs": [],
   "source": [
    "a = 10 # 1010\n",
    "#__________________\n",
    "#        0101"
   ]
  },
  {
   "cell_type": "code",
   "execution_count": 123,
   "id": "4842c8e3",
   "metadata": {},
   "outputs": [
    {
     "data": {
      "text/plain": [
       "-11"
      ]
     },
     "execution_count": 123,
     "metadata": {},
     "output_type": "execute_result"
    }
   ],
   "source": [
    "~a"
   ]
  },
  {
   "cell_type": "code",
   "execution_count": 126,
   "id": "77ee53ae",
   "metadata": {},
   "outputs": [],
   "source": [
    "a = 2 # 0010\n",
    "#__________________\n",
    "#        1101"
   ]
  },
  {
   "cell_type": "code",
   "execution_count": 127,
   "id": "66203c25",
   "metadata": {},
   "outputs": [
    {
     "data": {
      "text/plain": [
       "-3"
      ]
     },
     "execution_count": 127,
     "metadata": {},
     "output_type": "execute_result"
    }
   ],
   "source": [
    "~a"
   ]
  },
  {
   "cell_type": "code",
   "execution_count": 128,
   "id": "f55a3fb2",
   "metadata": {},
   "outputs": [],
   "source": [
    "a = 5 #  0101\n",
    "#__________________\n",
    "#        1010"
   ]
  },
  {
   "cell_type": "code",
   "execution_count": 129,
   "id": "16f5ab8a",
   "metadata": {},
   "outputs": [
    {
     "data": {
      "text/plain": [
       "-6"
      ]
     },
     "execution_count": 129,
     "metadata": {},
     "output_type": "execute_result"
    }
   ],
   "source": [
    "~a"
   ]
  },
  {
   "cell_type": "code",
   "execution_count": 130,
   "id": "c711c25d",
   "metadata": {},
   "outputs": [],
   "source": [
    "# << (left shift) --left operand value is moved left by number of bit present in right operand"
   ]
  },
  {
   "cell_type": "code",
   "execution_count": 131,
   "id": "c12c301e",
   "metadata": {},
   "outputs": [],
   "source": [
    "a = 10 # 1010\n",
    "b = 2  # 0010\n",
    "#__________________\n",
    "#      101000  ----shift the number of bit to left"
   ]
  },
  {
   "cell_type": "code",
   "execution_count": 132,
   "id": "7e764fc1",
   "metadata": {},
   "outputs": [
    {
     "data": {
      "text/plain": [
       "40"
      ]
     },
     "execution_count": 132,
     "metadata": {},
     "output_type": "execute_result"
    }
   ],
   "source": [
    "a << b"
   ]
  },
  {
   "cell_type": "code",
   "execution_count": 133,
   "id": "96c227e1",
   "metadata": {},
   "outputs": [],
   "source": [
    "# >> (right shift) --left operand value is moved right by number of bit present in right operand"
   ]
  },
  {
   "cell_type": "code",
   "execution_count": 134,
   "id": "1ddbdf13",
   "metadata": {},
   "outputs": [],
   "source": [
    "a = 10 # 1010\n",
    "b = 2  # 0010\n",
    "#__________________\n",
    "#          10  ----shift the number of bit to left"
   ]
  },
  {
   "cell_type": "code",
   "execution_count": 135,
   "id": "096e5ef3",
   "metadata": {},
   "outputs": [
    {
     "data": {
      "text/plain": [
       "2"
      ]
     },
     "execution_count": 135,
     "metadata": {},
     "output_type": "execute_result"
    }
   ],
   "source": [
    "a >> b"
   ]
  },
  {
   "cell_type": "code",
   "execution_count": 138,
   "id": "e101c593",
   "metadata": {},
   "outputs": [],
   "source": [
    "a = 14 # 1110\n",
    "b = 2  # 0010\n",
    "#__________________\n",
    "#          11  ----shift the number of bit to left"
   ]
  },
  {
   "cell_type": "code",
   "execution_count": 139,
   "id": "e84b4140",
   "metadata": {},
   "outputs": [
    {
     "data": {
      "text/plain": [
       "3"
      ]
     },
     "execution_count": 139,
     "metadata": {},
     "output_type": "execute_result"
    }
   ],
   "source": [
    "a >> b"
   ]
  },
  {
   "cell_type": "code",
   "execution_count": 140,
   "id": "0b57567a",
   "metadata": {},
   "outputs": [],
   "source": [
    "a = 1 #     1\n",
    "b = 2  # 0010\n",
    "#__________________\n",
    "#           0  ----shift the number of bit to left"
   ]
  },
  {
   "cell_type": "code",
   "execution_count": 141,
   "id": "47ce2cd2",
   "metadata": {},
   "outputs": [
    {
     "data": {
      "text/plain": [
       "0"
      ]
     },
     "execution_count": 141,
     "metadata": {},
     "output_type": "execute_result"
    }
   ],
   "source": [
    "a >> b"
   ]
  },
  {
   "cell_type": "code",
   "execution_count": 142,
   "id": "1ff30757",
   "metadata": {},
   "outputs": [],
   "source": [
    "#6. Membership operator -----check the membership of value inside python data structure\n",
    "        if value present then return true otherwise return false\n",
    "in , not in"
   ]
  },
  {
   "cell_type": "code",
   "execution_count": null,
   "id": "259e03f9",
   "metadata": {},
   "outputs": [],
   "source": [
    "# in ----if first operand found in second operand(list, tuple, set, dict) then return true"
   ]
  },
  {
   "cell_type": "code",
   "execution_count": 143,
   "id": "bd7f8a8e",
   "metadata": {},
   "outputs": [],
   "source": [
    "a=[1,2,3,4,5]"
   ]
  },
  {
   "cell_type": "code",
   "execution_count": 144,
   "id": "23099915",
   "metadata": {},
   "outputs": [
    {
     "data": {
      "text/plain": [
       "True"
      ]
     },
     "execution_count": 144,
     "metadata": {},
     "output_type": "execute_result"
    }
   ],
   "source": [
    "3 in a"
   ]
  },
  {
   "cell_type": "code",
   "execution_count": 145,
   "id": "b6f39351",
   "metadata": {},
   "outputs": [
    {
     "data": {
      "text/plain": [
       "False"
      ]
     },
     "execution_count": 145,
     "metadata": {},
     "output_type": "execute_result"
    }
   ],
   "source": [
    "7 in a"
   ]
  },
  {
   "cell_type": "code",
   "execution_count": 146,
   "id": "434c97ae",
   "metadata": {},
   "outputs": [],
   "source": [
    "b={9,2,4,5,1,0}"
   ]
  },
  {
   "cell_type": "code",
   "execution_count": 147,
   "id": "0595bcc0",
   "metadata": {},
   "outputs": [
    {
     "data": {
      "text/plain": [
       "True"
      ]
     },
     "execution_count": 147,
     "metadata": {},
     "output_type": "execute_result"
    }
   ],
   "source": [
    "9 in b"
   ]
  },
  {
   "cell_type": "code",
   "execution_count": 148,
   "id": "cdd0a088",
   "metadata": {},
   "outputs": [
    {
     "data": {
      "text/plain": [
       "False"
      ]
     },
     "execution_count": 148,
     "metadata": {},
     "output_type": "execute_result"
    }
   ],
   "source": [
    "8 in b"
   ]
  },
  {
   "cell_type": "code",
   "execution_count": null,
   "id": "2c1a514c",
   "metadata": {},
   "outputs": [],
   "source": [
    "#how to use membership operator with dict and set"
   ]
  },
  {
   "cell_type": "code",
   "execution_count": 172,
   "id": "865778e5",
   "metadata": {},
   "outputs": [
    {
     "data": {
      "text/plain": [
       "False"
      ]
     },
     "execution_count": 172,
     "metadata": {},
     "output_type": "execute_result"
    }
   ],
   "source": [
    "{'a','b'} in ['a','b','c']"
   ]
  },
  {
   "cell_type": "code",
   "execution_count": 173,
   "id": "baf17d52",
   "metadata": {},
   "outputs": [
    {
     "data": {
      "text/plain": [
       "False"
      ]
     },
     "execution_count": 173,
     "metadata": {},
     "output_type": "execute_result"
    }
   ],
   "source": [
    "{'a','b'} in {'a','b','c'}"
   ]
  },
  {
   "cell_type": "code",
   "execution_count": null,
   "id": "af5c3a9f",
   "metadata": {},
   "outputs": [],
   "source": [
    "#how 'in' operator work with 'dict'"
   ]
  },
  {
   "cell_type": "code",
   "execution_count": 196,
   "id": "ccd94c5a",
   "metadata": {},
   "outputs": [],
   "source": [
    "c={'a1':100,'b1':100,'c1':300}"
   ]
  },
  {
   "cell_type": "code",
   "execution_count": 200,
   "id": "debbec26",
   "metadata": {},
   "outputs": [],
   "source": [
    "b =('b1',2)"
   ]
  },
  {
   "cell_type": "code",
   "execution_count": 201,
   "id": "22f6a6ea",
   "metadata": {},
   "outputs": [
    {
     "data": {
      "text/plain": [
       "False"
      ]
     },
     "execution_count": 201,
     "metadata": {},
     "output_type": "execute_result"
    }
   ],
   "source": [
    "b in c.items()"
   ]
  },
  {
   "cell_type": "code",
   "execution_count": 202,
   "id": "510ad092",
   "metadata": {},
   "outputs": [],
   "source": [
    "b = ('c1',300)"
   ]
  },
  {
   "cell_type": "code",
   "execution_count": 203,
   "id": "b87b0bfc",
   "metadata": {},
   "outputs": [
    {
     "data": {
      "text/plain": [
       "True"
      ]
     },
     "execution_count": 203,
     "metadata": {},
     "output_type": "execute_result"
    }
   ],
   "source": [
    "b in c.items()"
   ]
  },
  {
   "cell_type": "code",
   "execution_count": 205,
   "id": "1c202a95",
   "metadata": {},
   "outputs": [
    {
     "data": {
      "text/plain": [
       "True"
      ]
     },
     "execution_count": 205,
     "metadata": {},
     "output_type": "execute_result"
    }
   ],
   "source": [
    "'a1' in c"
   ]
  },
  {
   "cell_type": "code",
   "execution_count": 206,
   "id": "87bed196",
   "metadata": {},
   "outputs": [
    {
     "data": {
      "text/plain": [
       "False"
      ]
     },
     "execution_count": 206,
     "metadata": {},
     "output_type": "execute_result"
    }
   ],
   "source": [
    "300 in c"
   ]
  },
  {
   "cell_type": "code",
   "execution_count": 207,
   "id": "61108377",
   "metadata": {},
   "outputs": [
    {
     "data": {
      "text/plain": [
       "True"
      ]
     },
     "execution_count": 207,
     "metadata": {},
     "output_type": "execute_result"
    }
   ],
   "source": [
    "300 in c.values()"
   ]
  },
  {
   "cell_type": "code",
   "execution_count": null,
   "id": "498d29da",
   "metadata": {},
   "outputs": [],
   "source": []
  },
  {
   "cell_type": "code",
   "execution_count": 199,
   "id": "9e755bfc",
   "metadata": {},
   "outputs": [
    {
     "data": {
      "text/plain": [
       "True"
      ]
     },
     "execution_count": 199,
     "metadata": {},
     "output_type": "execute_result"
    }
   ],
   "source": [
    "('b1',100) in c.items()"
   ]
  },
  {
   "cell_type": "code",
   "execution_count": null,
   "id": "141d901d",
   "metadata": {},
   "outputs": [],
   "source": []
  },
  {
   "cell_type": "code",
   "execution_count": 163,
   "id": "72882cd3",
   "metadata": {},
   "outputs": [
    {
     "data": {
      "text/plain": [
       "False"
      ]
     },
     "execution_count": 163,
     "metadata": {},
     "output_type": "execute_result"
    }
   ],
   "source": [
    "list(b.items())[0] in list(c.items())"
   ]
  },
  {
   "cell_type": "code",
   "execution_count": 164,
   "id": "173dcf2e",
   "metadata": {},
   "outputs": [],
   "source": [
    "# not in ---if first operand is not found in second operand(list, tuple, set, dict) then return true"
   ]
  },
  {
   "cell_type": "code",
   "execution_count": 165,
   "id": "f0e8aced",
   "metadata": {},
   "outputs": [],
   "source": [
    "a=[2,4,6,1,0]"
   ]
  },
  {
   "cell_type": "code",
   "execution_count": 166,
   "id": "dfcf7369",
   "metadata": {},
   "outputs": [
    {
     "data": {
      "text/plain": [
       "True"
      ]
     },
     "execution_count": 166,
     "metadata": {},
     "output_type": "execute_result"
    }
   ],
   "source": [
    "7 not in a"
   ]
  },
  {
   "cell_type": "code",
   "execution_count": 167,
   "id": "bbea1969",
   "metadata": {},
   "outputs": [
    {
     "data": {
      "text/plain": [
       "True"
      ]
     },
     "execution_count": 167,
     "metadata": {},
     "output_type": "execute_result"
    }
   ],
   "source": [
    "8 not in a"
   ]
  },
  {
   "cell_type": "code",
   "execution_count": 168,
   "id": "1637cf01",
   "metadata": {},
   "outputs": [
    {
     "data": {
      "text/plain": [
       "False"
      ]
     },
     "execution_count": 168,
     "metadata": {},
     "output_type": "execute_result"
    }
   ],
   "source": [
    "2 not in a"
   ]
  },
  {
   "cell_type": "code",
   "execution_count": 169,
   "id": "fd99ccc6",
   "metadata": {},
   "outputs": [],
   "source": [
    "b={2,5,3,9,6}"
   ]
  },
  {
   "cell_type": "code",
   "execution_count": 170,
   "id": "7b049cad",
   "metadata": {},
   "outputs": [
    {
     "data": {
      "text/plain": [
       "False"
      ]
     },
     "execution_count": 170,
     "metadata": {},
     "output_type": "execute_result"
    }
   ],
   "source": [
    "5 not in b"
   ]
  },
  {
   "cell_type": "code",
   "execution_count": 171,
   "id": "2031935c",
   "metadata": {},
   "outputs": [
    {
     "data": {
      "text/plain": [
       "True"
      ]
     },
     "execution_count": 171,
     "metadata": {},
     "output_type": "execute_result"
    }
   ],
   "source": [
    "0 not in b"
   ]
  },
  {
   "cell_type": "code",
   "execution_count": 174,
   "id": "c3d9243d",
   "metadata": {},
   "outputs": [],
   "source": [
    "#7. Identity operator---used to decide whether element refere to certain class, type\n",
    "is, is not"
   ]
  },
  {
   "cell_type": "code",
   "execution_count": 175,
   "id": "420579fa",
   "metadata": {},
   "outputs": [],
   "source": [
    "# is ----evaluate to true, if reference present at both side points to same object"
   ]
  },
  {
   "cell_type": "code",
   "execution_count": 176,
   "id": "a04b8ee2",
   "metadata": {},
   "outputs": [
    {
     "data": {
      "text/plain": [
       "False"
      ]
     },
     "execution_count": 176,
     "metadata": {},
     "output_type": "execute_result"
    }
   ],
   "source": [
    "[] is [1]"
   ]
  },
  {
   "cell_type": "code",
   "execution_count": 177,
   "id": "0f3cc470",
   "metadata": {},
   "outputs": [
    {
     "data": {
      "text/plain": [
       "False"
      ]
     },
     "execution_count": 177,
     "metadata": {},
     "output_type": "execute_result"
    }
   ],
   "source": [
    "[] is []"
   ]
  },
  {
   "cell_type": "code",
   "execution_count": 178,
   "id": "cba3aad9",
   "metadata": {},
   "outputs": [],
   "source": [
    "a=[]\n",
    "b=[]"
   ]
  },
  {
   "cell_type": "code",
   "execution_count": 179,
   "id": "177bc7c5",
   "metadata": {},
   "outputs": [
    {
     "data": {
      "text/plain": [
       "False"
      ]
     },
     "execution_count": 179,
     "metadata": {},
     "output_type": "execute_result"
    }
   ],
   "source": [
    "a is b"
   ]
  },
  {
   "cell_type": "code",
   "execution_count": 180,
   "id": "75ec77a4",
   "metadata": {},
   "outputs": [],
   "source": [
    "a=[]\n",
    "b=a"
   ]
  },
  {
   "cell_type": "code",
   "execution_count": 181,
   "id": "c9372f85",
   "metadata": {},
   "outputs": [
    {
     "data": {
      "text/plain": [
       "True"
      ]
     },
     "execution_count": 181,
     "metadata": {},
     "output_type": "execute_result"
    }
   ],
   "source": [
    "a is b"
   ]
  },
  {
   "cell_type": "code",
   "execution_count": 182,
   "id": "8397b7ef",
   "metadata": {},
   "outputs": [],
   "source": [
    "# is not ----evaluate to true if reference present at both side do not points to same object"
   ]
  },
  {
   "cell_type": "code",
   "execution_count": 183,
   "id": "72498d08",
   "metadata": {},
   "outputs": [],
   "source": [
    "#Operator precedence----enable us to know which should evaluate first"
   ]
  },
  {
   "cell_type": "code",
   "execution_count": 184,
   "id": "1936f24a",
   "metadata": {},
   "outputs": [],
   "source": [
    "# ** ----has high precedence"
   ]
  },
  {
   "cell_type": "code",
   "execution_count": 185,
   "id": "370912d0",
   "metadata": {},
   "outputs": [],
   "source": [
    "# ~ + -  \n",
    "  1 2 3------sequence of execution"
   ]
  },
  {
   "cell_type": "code",
   "execution_count": 186,
   "id": "a98b300f",
   "metadata": {},
   "outputs": [
    {
     "data": {
      "text/plain": [
       "5"
      ]
     },
     "execution_count": 186,
     "metadata": {},
     "output_type": "execute_result"
    }
   ],
   "source": [
    "1+3**2-5"
   ]
  },
  {
   "cell_type": "code",
   "execution_count": 187,
   "id": "9310b25b",
   "metadata": {},
   "outputs": [],
   "source": [
    "# * / % //"
   ]
  },
  {
   "cell_type": "code",
   "execution_count": 190,
   "id": "2eed16af",
   "metadata": {},
   "outputs": [
    {
     "data": {
      "text/plain": [
       "30.0"
      ]
     },
     "execution_count": 190,
     "metadata": {},
     "output_type": "execute_result"
    }
   ],
   "source": [
    "18 % 60 / 3 * 5  --------------?"
   ]
  },
  {
   "cell_type": "code",
   "execution_count": null,
   "id": "957d58c6",
   "metadata": {},
   "outputs": [],
   "source": []
  }
 ],
 "metadata": {
  "kernelspec": {
   "display_name": "Python 3",
   "language": "python",
   "name": "python3"
  },
  "language_info": {
   "codemirror_mode": {
    "name": "ipython",
    "version": 3
   },
   "file_extension": ".py",
   "mimetype": "text/x-python",
   "name": "python",
   "nbconvert_exporter": "python",
   "pygments_lexer": "ipython3",
   "version": "3.8.8"
  }
 },
 "nbformat": 4,
 "nbformat_minor": 5
}
