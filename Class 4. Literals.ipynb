{
 "cells": [
  {
   "cell_type": "code",
   "execution_count": 1,
   "id": "b4d115e5",
   "metadata": {},
   "outputs": [],
   "source": [
    "#literals--> can be defined as data given in variable or constant"
   ]
  },
  {
   "cell_type": "code",
   "execution_count": null,
   "id": "92ea1777",
   "metadata": {},
   "outputs": [],
   "source": [
    "#literal supported in python\n",
    "1. String literal\n",
    "2. Numeric literal\n",
    "3. None (special literal)\n",
    "4. Boolean literal\n",
    "4. Literal collection (i.e. list, tuple, dict, set literal)"
   ]
  },
  {
   "cell_type": "code",
   "execution_count": 2,
   "id": "e20c6ce0",
   "metadata": {},
   "outputs": [],
   "source": [
    "#1. string literal--> formed by enclosing text in qoutes. ' ' or \" \""
   ]
  },
  {
   "cell_type": "code",
   "execution_count": null,
   "id": "ea9035a9",
   "metadata": {},
   "outputs": [],
   "source": [
    "#type of string\n",
    "1. single line string\n",
    "2. multi-line string"
   ]
  },
  {
   "cell_type": "code",
   "execution_count": 3,
   "id": "ac75cfaf",
   "metadata": {},
   "outputs": [],
   "source": [
    "#single line string"
   ]
  },
  {
   "cell_type": "code",
   "execution_count": 4,
   "id": "ec1c800e",
   "metadata": {},
   "outputs": [],
   "source": [
    "str1='Hello World'"
   ]
  },
  {
   "cell_type": "code",
   "execution_count": 5,
   "id": "54005a4b",
   "metadata": {},
   "outputs": [
    {
     "data": {
      "text/plain": [
       "'Hello World'"
      ]
     },
     "execution_count": 5,
     "metadata": {},
     "output_type": "execute_result"
    }
   ],
   "source": [
    "str1"
   ]
  },
  {
   "cell_type": "code",
   "execution_count": 6,
   "id": "da4977e3",
   "metadata": {},
   "outputs": [],
   "source": [
    "str2=\"Welcome Home\""
   ]
  },
  {
   "cell_type": "code",
   "execution_count": 7,
   "id": "da51f060",
   "metadata": {},
   "outputs": [
    {
     "data": {
      "text/plain": [
       "'Welcome Home'"
      ]
     },
     "execution_count": 7,
     "metadata": {},
     "output_type": "execute_result"
    }
   ],
   "source": [
    "str2"
   ]
  },
  {
   "cell_type": "code",
   "execution_count": 8,
   "id": "7bbde93a",
   "metadata": {},
   "outputs": [],
   "source": [
    "#multi-line string"
   ]
  },
  {
   "cell_type": "code",
   "execution_count": 15,
   "id": "981790fb",
   "metadata": {},
   "outputs": [],
   "source": [
    "s1='Hey\\How are you?\\Wish you all the best' #adding backward slash \\ does not works"
   ]
  },
  {
   "cell_type": "code",
   "execution_count": 16,
   "id": "0575e0a5",
   "metadata": {},
   "outputs": [
    {
     "data": {
      "text/plain": [
       "'Hey\\\\How are you?\\\\Wish you all the best'"
      ]
     },
     "execution_count": 16,
     "metadata": {},
     "output_type": "execute_result"
    }
   ],
   "source": [
    "s1"
   ]
  },
  {
   "cell_type": "code",
   "execution_count": 17,
   "id": "93558fea",
   "metadata": {},
   "outputs": [
    {
     "name": "stdout",
     "output_type": "stream",
     "text": [
      "Hey\\How are you?\\Wish you all the best\n"
     ]
    }
   ],
   "source": [
    "print(s1)"
   ]
  },
  {
   "cell_type": "code",
   "execution_count": 18,
   "id": "1161f870",
   "metadata": {},
   "outputs": [],
   "source": [
    "s2='''Hey\n",
    "How are you?\n",
    "Wish you all the best'''"
   ]
  },
  {
   "cell_type": "code",
   "execution_count": 19,
   "id": "41c68492",
   "metadata": {},
   "outputs": [
    {
     "data": {
      "text/plain": [
       "'Hey\\nHow are you?\\nWish you all the best'"
      ]
     },
     "execution_count": 19,
     "metadata": {},
     "output_type": "execute_result"
    }
   ],
   "source": [
    "s2"
   ]
  },
  {
   "cell_type": "code",
   "execution_count": 20,
   "id": "e5667496",
   "metadata": {},
   "outputs": [
    {
     "name": "stdout",
     "output_type": "stream",
     "text": [
      "Hey\n",
      "How are you?\n",
      "Wish you all the best\n"
     ]
    }
   ],
   "source": [
    "print(s2)"
   ]
  },
  {
   "cell_type": "code",
   "execution_count": 21,
   "id": "dd5d379f",
   "metadata": {},
   "outputs": [],
   "source": [
    "s3='''Hey\\nHow are you?\\nWish you all the best'''  #adding \\n at end of line works"
   ]
  },
  {
   "cell_type": "code",
   "execution_count": 22,
   "id": "a0a80eb7",
   "metadata": {},
   "outputs": [
    {
     "data": {
      "text/plain": [
       "'Hey\\nHow are you?\\nWish you all the best'"
      ]
     },
     "execution_count": 22,
     "metadata": {},
     "output_type": "execute_result"
    }
   ],
   "source": [
    "s3"
   ]
  },
  {
   "cell_type": "code",
   "execution_count": 23,
   "id": "3366145b",
   "metadata": {},
   "outputs": [
    {
     "name": "stdout",
     "output_type": "stream",
     "text": [
      "Hey\n",
      "How are you?\n",
      "Wish you all the best\n"
     ]
    }
   ],
   "source": [
    "print(s3)"
   ]
  },
  {
   "cell_type": "code",
   "execution_count": null,
   "id": "9d99b9a5",
   "metadata": {},
   "outputs": [],
   "source": [
    "#2. Numeric literal-->immutable\n",
    "type of numeric literal\n",
    "1. int\n",
    "2. float\n",
    "3. complex"
   ]
  },
  {
   "cell_type": "code",
   "execution_count": 32,
   "id": "65f4d99d",
   "metadata": {},
   "outputs": [
    {
     "name": "stdout",
     "output_type": "stream",
     "text": [
      "10\n"
     ]
    },
    {
     "data": {
      "text/plain": [
       "int"
      ]
     },
     "execution_count": 32,
     "metadata": {},
     "output_type": "execute_result"
    }
   ],
   "source": [
    "a=0b1010\n",
    "print(a)\n",
    "type(a)"
   ]
  },
  {
   "cell_type": "code",
   "execution_count": 3,
   "id": "5877a4c6",
   "metadata": {},
   "outputs": [
    {
     "name": "stdout",
     "output_type": "stream",
     "text": [
      "20 100 141 301\n",
      "100.5 150.0 300.0 2100.0\n",
      "(5+3.14j) 3.14 5.0\n"
     ]
    }
   ],
   "source": [
    "x = 0b10100 #Binary Literals  \n",
    "y = 100 #Decimal Literal   \n",
    "z = 0o215 #Octal Literal  \n",
    "u = 0x12d #Hexadecimal Literal  \n",
    "  \n",
    "#Float Literal  \n",
    "float_1 = 100.5   \n",
    "float_2 = 1.5e2 \n",
    "float_3 = 3e2\n",
    "float_4 = 2.1e3\n",
    "  \n",
    "#Complex Literal   \n",
    "a = 5+3.14j  \n",
    "  \n",
    "print(x, y, z, u)  \n",
    "print(float_1, float_2, float_3, float_4)  \n",
    "print(a, a.imag, a.real)"
   ]
  },
  {
   "cell_type": "code",
   "execution_count": 33,
   "id": "3257b489",
   "metadata": {},
   "outputs": [
    {
     "name": "stdout",
     "output_type": "stream",
     "text": [
      "49\n"
     ]
    }
   ],
   "source": [
    "b=0x31\n",
    "print(b)"
   ]
  },
  {
   "cell_type": "code",
   "execution_count": 4,
   "id": "f3769470",
   "metadata": {},
   "outputs": [],
   "source": [
    "#boolean literal--> return True or False"
   ]
  },
  {
   "cell_type": "code",
   "execution_count": 5,
   "id": "5e6d6099",
   "metadata": {},
   "outputs": [],
   "source": [
    "a=(4==True)"
   ]
  },
  {
   "cell_type": "code",
   "execution_count": 6,
   "id": "25f88a5d",
   "metadata": {},
   "outputs": [
    {
     "data": {
      "text/plain": [
       "False"
      ]
     },
     "execution_count": 6,
     "metadata": {},
     "output_type": "execute_result"
    }
   ],
   "source": [
    "a"
   ]
  },
  {
   "cell_type": "code",
   "execution_count": 7,
   "id": "08b339fe",
   "metadata": {},
   "outputs": [],
   "source": [
    "b=(1==True)"
   ]
  },
  {
   "cell_type": "code",
   "execution_count": 8,
   "id": "4e0c6530",
   "metadata": {},
   "outputs": [
    {
     "data": {
      "text/plain": [
       "True"
      ]
     },
     "execution_count": 8,
     "metadata": {},
     "output_type": "execute_result"
    }
   ],
   "source": [
    "b"
   ]
  },
  {
   "cell_type": "code",
   "execution_count": 9,
   "id": "a48d86ed",
   "metadata": {},
   "outputs": [],
   "source": [
    "a=(2==False)"
   ]
  },
  {
   "cell_type": "code",
   "execution_count": 10,
   "id": "0bd22517",
   "metadata": {},
   "outputs": [
    {
     "data": {
      "text/plain": [
       "False"
      ]
     },
     "execution_count": 10,
     "metadata": {},
     "output_type": "execute_result"
    }
   ],
   "source": [
    "a"
   ]
  },
  {
   "cell_type": "code",
   "execution_count": 11,
   "id": "f4a31416",
   "metadata": {},
   "outputs": [],
   "source": [
    "b=(0==False)"
   ]
  },
  {
   "cell_type": "code",
   "execution_count": 12,
   "id": "996f9707",
   "metadata": {},
   "outputs": [
    {
     "data": {
      "text/plain": [
       "True"
      ]
     },
     "execution_count": 12,
     "metadata": {},
     "output_type": "execute_result"
    }
   ],
   "source": [
    "b"
   ]
  },
  {
   "cell_type": "code",
   "execution_count": 13,
   "id": "e58b1c58",
   "metadata": {},
   "outputs": [],
   "source": [
    "sum=(True+True)"
   ]
  },
  {
   "cell_type": "code",
   "execution_count": 14,
   "id": "4ef946d5",
   "metadata": {},
   "outputs": [
    {
     "data": {
      "text/plain": [
       "2"
      ]
     },
     "execution_count": 14,
     "metadata": {},
     "output_type": "execute_result"
    }
   ],
   "source": [
    "sum"
   ]
  },
  {
   "cell_type": "code",
   "execution_count": 15,
   "id": "0f2793c6",
   "metadata": {},
   "outputs": [],
   "source": [
    "sum=(True+False)"
   ]
  },
  {
   "cell_type": "code",
   "execution_count": 16,
   "id": "616e749c",
   "metadata": {},
   "outputs": [
    {
     "data": {
      "text/plain": [
       "1"
      ]
     },
     "execution_count": 16,
     "metadata": {},
     "output_type": "execute_result"
    }
   ],
   "source": [
    "sum"
   ]
  },
  {
   "cell_type": "code",
   "execution_count": 17,
   "id": "e279a5e4",
   "metadata": {},
   "outputs": [
    {
     "data": {
      "text/plain": [
       "0"
      ]
     },
     "execution_count": 17,
     "metadata": {},
     "output_type": "execute_result"
    }
   ],
   "source": [
    "(False+False)"
   ]
  },
  {
   "cell_type": "code",
   "execution_count": 18,
   "id": "fd9d40ec",
   "metadata": {},
   "outputs": [],
   "source": [
    "#None--(special literal)\n",
    "--used to special that field that is not created\n",
    "--also used for end of the list in python"
   ]
  },
  {
   "cell_type": "code",
   "execution_count": 19,
   "id": "151a098b",
   "metadata": {},
   "outputs": [],
   "source": [
    "a=10"
   ]
  },
  {
   "cell_type": "code",
   "execution_count": 20,
   "id": "95164383",
   "metadata": {},
   "outputs": [
    {
     "data": {
      "text/plain": [
       "10"
      ]
     },
     "execution_count": 20,
     "metadata": {},
     "output_type": "execute_result"
    }
   ],
   "source": [
    "a"
   ]
  },
  {
   "cell_type": "code",
   "execution_count": 25,
   "id": "181a42a4",
   "metadata": {},
   "outputs": [],
   "source": [
    "b=None"
   ]
  },
  {
   "cell_type": "code",
   "execution_count": 26,
   "id": "4d66066a",
   "metadata": {},
   "outputs": [],
   "source": [
    "b    #in direct execution display nothing"
   ]
  },
  {
   "cell_type": "code",
   "execution_count": 28,
   "id": "cbee4bf8",
   "metadata": {},
   "outputs": [
    {
     "name": "stdout",
     "output_type": "stream",
     "text": [
      "None\n"
     ]
    }
   ],
   "source": [
    "print(b)  #using print statment display \"None\""
   ]
  },
  {
   "cell_type": "code",
   "execution_count": 29,
   "id": "e3d659f5",
   "metadata": {},
   "outputs": [],
   "source": [
    "#literal collection\n",
    "list\n",
    "set\n",
    "tuple\n",
    "dict"
   ]
  },
  {
   "cell_type": "code",
   "execution_count": 30,
   "id": "80740a8a",
   "metadata": {},
   "outputs": [],
   "source": [
    "#list"
   ]
  },
  {
   "cell_type": "code",
   "execution_count": 31,
   "id": "c6e786c0",
   "metadata": {},
   "outputs": [],
   "source": [
    "list1=[2,4,'c']"
   ]
  },
  {
   "cell_type": "code",
   "execution_count": 32,
   "id": "c0fb5617",
   "metadata": {},
   "outputs": [],
   "source": [
    "list2=[9,5,'python']"
   ]
  },
  {
   "cell_type": "code",
   "execution_count": 33,
   "id": "c4aefa25",
   "metadata": {},
   "outputs": [
    {
     "data": {
      "text/plain": [
       "[2, 4, 'c']"
      ]
     },
     "execution_count": 33,
     "metadata": {},
     "output_type": "execute_result"
    }
   ],
   "source": [
    "list1"
   ]
  },
  {
   "cell_type": "code",
   "execution_count": 34,
   "id": "da6aa29e",
   "metadata": {},
   "outputs": [
    {
     "data": {
      "text/plain": [
       "[9, 5, 'python']"
      ]
     },
     "execution_count": 34,
     "metadata": {},
     "output_type": "execute_result"
    }
   ],
   "source": [
    "list2"
   ]
  },
  {
   "cell_type": "code",
   "execution_count": 35,
   "id": "45d2c3df",
   "metadata": {},
   "outputs": [
    {
     "data": {
      "text/plain": [
       "[2, 4, 'c', 9, 5, 'python']"
      ]
     },
     "execution_count": 35,
     "metadata": {},
     "output_type": "execute_result"
    }
   ],
   "source": [
    "list1+list2"
   ]
  },
  {
   "cell_type": "code",
   "execution_count": 36,
   "id": "81d9574c",
   "metadata": {},
   "outputs": [],
   "source": [
    "list1.extend(list2)"
   ]
  },
  {
   "cell_type": "code",
   "execution_count": 37,
   "id": "10184432",
   "metadata": {},
   "outputs": [
    {
     "data": {
      "text/plain": [
       "[2, 4, 'c', 9, 5, 'python']"
      ]
     },
     "execution_count": 37,
     "metadata": {},
     "output_type": "execute_result"
    }
   ],
   "source": [
    "list1"
   ]
  },
  {
   "cell_type": "code",
   "execution_count": 38,
   "id": "b55b505b",
   "metadata": {},
   "outputs": [
    {
     "data": {
      "text/plain": [
       "[9, 5, 'python']"
      ]
     },
     "execution_count": 38,
     "metadata": {},
     "output_type": "execute_result"
    }
   ],
   "source": [
    "list2"
   ]
  },
  {
   "cell_type": "code",
   "execution_count": 39,
   "id": "a5c69ee1",
   "metadata": {},
   "outputs": [],
   "source": [
    "#set--unique element"
   ]
  },
  {
   "cell_type": "code",
   "execution_count": 40,
   "id": "e62beed5",
   "metadata": {},
   "outputs": [],
   "source": [
    "set1={8,3,5,3,1,9,1}"
   ]
  },
  {
   "cell_type": "code",
   "execution_count": 42,
   "id": "7c993dce",
   "metadata": {},
   "outputs": [
    {
     "data": {
      "text/plain": [
       "{1, 3, 5, 8, 9}"
      ]
     },
     "execution_count": 42,
     "metadata": {},
     "output_type": "execute_result"
    }
   ],
   "source": [
    "set1"
   ]
  },
  {
   "cell_type": "code",
   "execution_count": 43,
   "id": "35ee4d2b",
   "metadata": {},
   "outputs": [],
   "source": [
    "#tuple"
   ]
  },
  {
   "cell_type": "code",
   "execution_count": 44,
   "id": "3ccfc5b3",
   "metadata": {},
   "outputs": [],
   "source": [
    "tup=(2,3,1)"
   ]
  },
  {
   "cell_type": "code",
   "execution_count": 45,
   "id": "9e18810d",
   "metadata": {},
   "outputs": [],
   "source": [
    "#dict"
   ]
  },
  {
   "cell_type": "code",
   "execution_count": 46,
   "id": "d589f4c3",
   "metadata": {},
   "outputs": [],
   "source": [
    "dict1={'a':1,'b':2}"
   ]
  },
  {
   "cell_type": "code",
   "execution_count": 47,
   "id": "70ced17b",
   "metadata": {},
   "outputs": [
    {
     "data": {
      "text/plain": [
       "{'a': 1, 'b': 2}"
      ]
     },
     "execution_count": 47,
     "metadata": {},
     "output_type": "execute_result"
    }
   ],
   "source": [
    "dict1"
   ]
  },
  {
   "cell_type": "code",
   "execution_count": null,
   "id": "3f72feed",
   "metadata": {},
   "outputs": [],
   "source": []
  }
 ],
 "metadata": {
  "kernelspec": {
   "display_name": "Python 3",
   "language": "python",
   "name": "python3"
  },
  "language_info": {
   "codemirror_mode": {
    "name": "ipython",
    "version": 3
   },
   "file_extension": ".py",
   "mimetype": "text/x-python",
   "name": "python",
   "nbconvert_exporter": "python",
   "pygments_lexer": "ipython3",
   "version": "3.8.8"
  }
 },
 "nbformat": 4,
 "nbformat_minor": 5
}
