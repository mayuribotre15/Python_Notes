{
 "cells": [
  {
   "cell_type": "code",
   "execution_count": null,
   "id": "7005bce9",
   "metadata": {},
   "outputs": [],
   "source": [
    "#tuple\n",
    "1.collection of different/similar type element\n",
    "2.immutable type DS, but can have mutable elements\n",
    "3.it allow duplicate elements\n",
    "4.it is 0 based index\n",
    "5.ordered data type\n",
    "6.It is read only type\n",
    "7.()"
   ]
  },
  {
   "cell_type": "code",
   "execution_count": 1,
   "id": "574f2843",
   "metadata": {},
   "outputs": [],
   "source": [
    "py_tuple=(1,2,3,4)--->collection similar data type"
   ]
  },
  {
   "cell_type": "code",
   "execution_count": 2,
   "id": "90845912",
   "metadata": {},
   "outputs": [
    {
     "data": {
      "text/plain": [
       "tuple"
      ]
     },
     "execution_count": 2,
     "metadata": {},
     "output_type": "execute_result"
    }
   ],
   "source": [
    "type(py_tuple)"
   ]
  },
  {
   "cell_type": "code",
   "execution_count": 4,
   "id": "702995f8",
   "metadata": {},
   "outputs": [
    {
     "data": {
      "text/plain": [
       "3"
      ]
     },
     "execution_count": 4,
     "metadata": {},
     "output_type": "execute_result"
    }
   ],
   "source": [
    "py_tuple[2]"
   ]
  },
  {
   "cell_type": "code",
   "execution_count": 5,
   "id": "15ed1f04",
   "metadata": {},
   "outputs": [
    {
     "ename": "TypeError",
     "evalue": "'tuple' object does not support item assignment",
     "output_type": "error",
     "traceback": [
      "\u001b[1;31m---------------------------------------------------------------------------\u001b[0m",
      "\u001b[1;31mTypeError\u001b[0m                                 Traceback (most recent call last)",
      "\u001b[1;32m<ipython-input-5-966dc0a7ee06>\u001b[0m in \u001b[0;36m<module>\u001b[1;34m\u001b[0m\n\u001b[1;32m----> 1\u001b[1;33m \u001b[0mpy_tuple\u001b[0m\u001b[1;33m[\u001b[0m\u001b[1;36m2\u001b[0m\u001b[1;33m]\u001b[0m\u001b[1;33m=\u001b[0m\u001b[1;34m'python'\u001b[0m\u001b[1;33m\u001b[0m\u001b[1;33m\u001b[0m\u001b[0m\n\u001b[0m",
      "\u001b[1;31mTypeError\u001b[0m: 'tuple' object does not support item assignment"
     ]
    }
   ],
   "source": [
    "py_tuple[2]='python'"
   ]
  },
  {
   "cell_type": "code",
   "execution_count": 6,
   "id": "bb269003",
   "metadata": {},
   "outputs": [],
   "source": [
    "py_tuple1=(2,5.4,9j,'python')#-->collection of different data type element"
   ]
  },
  {
   "cell_type": "code",
   "execution_count": 22,
   "id": "e7d05fc5",
   "metadata": {},
   "outputs": [],
   "source": [
    "tup1=()"
   ]
  },
  {
   "cell_type": "code",
   "execution_count": 23,
   "id": "35ba6b5c",
   "metadata": {},
   "outputs": [
    {
     "data": {
      "text/plain": [
       "tuple"
      ]
     },
     "execution_count": 23,
     "metadata": {},
     "output_type": "execute_result"
    }
   ],
   "source": [
    "type(tup1)"
   ]
  },
  {
   "cell_type": "code",
   "execution_count": null,
   "id": "03d41019",
   "metadata": {},
   "outputs": [],
   "source": [
    "#tup2=(4)--->create integer data type"
   ]
  },
  {
   "cell_type": "code",
   "execution_count": 25,
   "id": "27111222",
   "metadata": {},
   "outputs": [],
   "source": [
    "tup2=(4)"
   ]
  },
  {
   "cell_type": "code",
   "execution_count": 26,
   "id": "429026dc",
   "metadata": {},
   "outputs": [
    {
     "data": {
      "text/plain": [
       "int"
      ]
     },
     "execution_count": 26,
     "metadata": {},
     "output_type": "execute_result"
    }
   ],
   "source": [
    "type(tup2)"
   ]
  },
  {
   "cell_type": "code",
   "execution_count": 44,
   "id": "8260175b",
   "metadata": {},
   "outputs": [
    {
     "data": {
      "text/plain": [
       "4"
      ]
     },
     "execution_count": 44,
     "metadata": {},
     "output_type": "execute_result"
    }
   ],
   "source": [
    "tup2"
   ]
  },
  {
   "cell_type": "code",
   "execution_count": null,
   "id": "4beb27eb",
   "metadata": {},
   "outputs": [],
   "source": [
    "#tup3=('apple')-->create string data type"
   ]
  },
  {
   "cell_type": "code",
   "execution_count": 27,
   "id": "d662174f",
   "metadata": {},
   "outputs": [],
   "source": [
    "tup3=('apple')"
   ]
  },
  {
   "cell_type": "code",
   "execution_count": 28,
   "id": "0d380fa6",
   "metadata": {},
   "outputs": [
    {
     "data": {
      "text/plain": [
       "str"
      ]
     },
     "execution_count": 28,
     "metadata": {},
     "output_type": "execute_result"
    }
   ],
   "source": [
    "type(tup3)"
   ]
  },
  {
   "cell_type": "code",
   "execution_count": 29,
   "id": "0882df43",
   "metadata": {},
   "outputs": [],
   "source": [
    "#to create tuple with single element"
   ]
  },
  {
   "cell_type": "code",
   "execution_count": 30,
   "id": "67b6c038",
   "metadata": {},
   "outputs": [],
   "source": [
    "tup4=('python',)"
   ]
  },
  {
   "cell_type": "code",
   "execution_count": 31,
   "id": "9936f5d0",
   "metadata": {},
   "outputs": [
    {
     "data": {
      "text/plain": [
       "tuple"
      ]
     },
     "execution_count": 31,
     "metadata": {},
     "output_type": "execute_result"
    }
   ],
   "source": [
    "type(tup4)"
   ]
  },
  {
   "cell_type": "code",
   "execution_count": 32,
   "id": "3aa71b17",
   "metadata": {},
   "outputs": [
    {
     "data": {
      "text/plain": [
       "('python',)"
      ]
     },
     "execution_count": 32,
     "metadata": {},
     "output_type": "execute_result"
    }
   ],
   "source": [
    "tup4"
   ]
  },
  {
   "cell_type": "code",
   "execution_count": null,
   "id": "44ffa7b7",
   "metadata": {},
   "outputs": [],
   "source": []
  },
  {
   "cell_type": "code",
   "execution_count": 7,
   "id": "b8a614d0",
   "metadata": {},
   "outputs": [],
   "source": [
    "py_tup=(1,6,8,('a','b','c'),True,1,1)"
   ]
  },
  {
   "cell_type": "code",
   "execution_count": null,
   "id": "8c781630",
   "metadata": {},
   "outputs": [],
   "source": [
    "#we can create list inside tuple"
   ]
  },
  {
   "cell_type": "code",
   "execution_count": 8,
   "id": "296db431",
   "metadata": {},
   "outputs": [],
   "source": [
    "py_tup_list=(2,4,['x','y','z'])"
   ]
  },
  {
   "cell_type": "code",
   "execution_count": 9,
   "id": "c47bdb98",
   "metadata": {},
   "outputs": [
    {
     "data": {
      "text/plain": [
       "(2, 4, ['x', 'y', 'z'])"
      ]
     },
     "execution_count": 9,
     "metadata": {},
     "output_type": "execute_result"
    }
   ],
   "source": [
    "py_tup_list"
   ]
  },
  {
   "cell_type": "code",
   "execution_count": 10,
   "id": "10c69ce5",
   "metadata": {},
   "outputs": [
    {
     "data": {
      "text/plain": [
       "'y'"
      ]
     },
     "execution_count": 10,
     "metadata": {},
     "output_type": "execute_result"
    }
   ],
   "source": [
    "py_tup_list[-1][1]"
   ]
  },
  {
   "cell_type": "code",
   "execution_count": null,
   "id": "4389b9ad",
   "metadata": {},
   "outputs": [],
   "source": [
    "#we can perform operation on list with is inside the tuple"
   ]
  },
  {
   "cell_type": "code",
   "execution_count": 11,
   "id": "d415796e",
   "metadata": {},
   "outputs": [],
   "source": [
    "py_tup_list[-1][1]='python'"
   ]
  },
  {
   "cell_type": "code",
   "execution_count": 12,
   "id": "4c41c882",
   "metadata": {},
   "outputs": [
    {
     "data": {
      "text/plain": [
       "(2, 4, ['x', 'python', 'z'])"
      ]
     },
     "execution_count": 12,
     "metadata": {},
     "output_type": "execute_result"
    }
   ],
   "source": [
    "py_tup_list"
   ]
  },
  {
   "cell_type": "code",
   "execution_count": 13,
   "id": "bf172ae0",
   "metadata": {},
   "outputs": [],
   "source": [
    "py_tup_list[-1].reverse()"
   ]
  },
  {
   "cell_type": "code",
   "execution_count": 14,
   "id": "5d464b74",
   "metadata": {},
   "outputs": [
    {
     "data": {
      "text/plain": [
       "(2, 4, ['z', 'python', 'x'])"
      ]
     },
     "execution_count": 14,
     "metadata": {},
     "output_type": "execute_result"
    }
   ],
   "source": [
    "py_tup_list"
   ]
  },
  {
   "cell_type": "code",
   "execution_count": 15,
   "id": "dbfb6be4",
   "metadata": {},
   "outputs": [],
   "source": [
    "#real time use of tuple\n",
    "1.infrequent data change\n",
    "2.accidently change\n",
    "\n",
    "eg: username & password, longitude & latitude of location"
   ]
  },
  {
   "cell_type": "code",
   "execution_count": null,
   "id": "f49b42eb",
   "metadata": {},
   "outputs": [],
   "source": []
  },
  {
   "cell_type": "code",
   "execution_count": null,
   "id": "cfa4bf68",
   "metadata": {},
   "outputs": [],
   "source": [
    "#methods on tuple\n",
    "1.count(element)-->count the no. of occurence of duplicate element\n",
    "2.index(element)-->if element found/match return index\n",
    "                    else return ValueError"
   ]
  },
  {
   "cell_type": "code",
   "execution_count": null,
   "id": "c18fc575",
   "metadata": {},
   "outputs": [],
   "source": [
    "#var_name.count(element)"
   ]
  },
  {
   "cell_type": "code",
   "execution_count": 16,
   "id": "4f772924",
   "metadata": {},
   "outputs": [],
   "source": [
    "tuple1=(1,2,1,3,5,True)"
   ]
  },
  {
   "cell_type": "code",
   "execution_count": 17,
   "id": "5a36b1be",
   "metadata": {},
   "outputs": [
    {
     "data": {
      "text/plain": [
       "3"
      ]
     },
     "execution_count": 17,
     "metadata": {},
     "output_type": "execute_result"
    }
   ],
   "source": [
    "tuple1.count(1)"
   ]
  },
  {
   "cell_type": "code",
   "execution_count": 21,
   "id": "63417874",
   "metadata": {},
   "outputs": [
    {
     "data": {
      "text/plain": [
       "0"
      ]
     },
     "execution_count": 21,
     "metadata": {},
     "output_type": "execute_result"
    }
   ],
   "source": [
    "tuple1.count('python')"
   ]
  },
  {
   "cell_type": "code",
   "execution_count": 18,
   "id": "27a96bde",
   "metadata": {},
   "outputs": [],
   "source": [
    "#var_name.index(element)"
   ]
  },
  {
   "cell_type": "code",
   "execution_count": 19,
   "id": "1f1e15e3",
   "metadata": {},
   "outputs": [
    {
     "data": {
      "text/plain": [
       "0"
      ]
     },
     "execution_count": 19,
     "metadata": {},
     "output_type": "execute_result"
    }
   ],
   "source": [
    "tuple1.index(1)"
   ]
  },
  {
   "cell_type": "code",
   "execution_count": 20,
   "id": "01ca5ed3",
   "metadata": {},
   "outputs": [
    {
     "ename": "ValueError",
     "evalue": "tuple.index(x): x not in tuple",
     "output_type": "error",
     "traceback": [
      "\u001b[1;31m---------------------------------------------------------------------------\u001b[0m",
      "\u001b[1;31mValueError\u001b[0m                                Traceback (most recent call last)",
      "\u001b[1;32m<ipython-input-20-1327f4a84218>\u001b[0m in \u001b[0;36m<module>\u001b[1;34m\u001b[0m\n\u001b[1;32m----> 1\u001b[1;33m \u001b[0mtuple1\u001b[0m\u001b[1;33m.\u001b[0m\u001b[0mindex\u001b[0m\u001b[1;33m(\u001b[0m\u001b[1;34m'python'\u001b[0m\u001b[1;33m)\u001b[0m\u001b[1;33m\u001b[0m\u001b[1;33m\u001b[0m\u001b[0m\n\u001b[0m",
      "\u001b[1;31mValueError\u001b[0m: tuple.index(x): x not in tuple"
     ]
    }
   ],
   "source": [
    "tuple1.index('python')"
   ]
  },
  {
   "cell_type": "code",
   "execution_count": 33,
   "id": "3b379742",
   "metadata": {},
   "outputs": [],
   "source": [
    "#sort vs sorted"
   ]
  },
  {
   "cell_type": "code",
   "execution_count": 35,
   "id": "b2cd4a5e",
   "metadata": {},
   "outputs": [],
   "source": [
    "tuple_sort=(1,4,7.3,'python',2)"
   ]
  },
  {
   "cell_type": "code",
   "execution_count": 36,
   "id": "2cc6826b",
   "metadata": {},
   "outputs": [
    {
     "ename": "AttributeError",
     "evalue": "'tuple' object has no attribute 'sort'",
     "output_type": "error",
     "traceback": [
      "\u001b[1;31m---------------------------------------------------------------------------\u001b[0m",
      "\u001b[1;31mAttributeError\u001b[0m                            Traceback (most recent call last)",
      "\u001b[1;32m<ipython-input-36-903d3dc7b037>\u001b[0m in \u001b[0;36m<module>\u001b[1;34m\u001b[0m\n\u001b[1;32m----> 1\u001b[1;33m \u001b[0mtuple_sort\u001b[0m\u001b[1;33m.\u001b[0m\u001b[0msort\u001b[0m\u001b[1;33m(\u001b[0m\u001b[1;33m)\u001b[0m\u001b[1;33m\u001b[0m\u001b[1;33m\u001b[0m\u001b[0m\n\u001b[0m",
      "\u001b[1;31mAttributeError\u001b[0m: 'tuple' object has no attribute 'sort'"
     ]
    }
   ],
   "source": [
    "tuple_sort.sort()"
   ]
  },
  {
   "cell_type": "code",
   "execution_count": 37,
   "id": "b645c99f",
   "metadata": {},
   "outputs": [
    {
     "ename": "TypeError",
     "evalue": "'<' not supported between instances of 'str' and 'float'",
     "output_type": "error",
     "traceback": [
      "\u001b[1;31m---------------------------------------------------------------------------\u001b[0m",
      "\u001b[1;31mTypeError\u001b[0m                                 Traceback (most recent call last)",
      "\u001b[1;32m<ipython-input-37-7ed4cb115c85>\u001b[0m in \u001b[0;36m<module>\u001b[1;34m\u001b[0m\n\u001b[1;32m----> 1\u001b[1;33m \u001b[0msorted\u001b[0m\u001b[1;33m(\u001b[0m\u001b[0mtuple_sort\u001b[0m\u001b[1;33m)\u001b[0m\u001b[1;33m\u001b[0m\u001b[1;33m\u001b[0m\u001b[0m\n\u001b[0m",
      "\u001b[1;31mTypeError\u001b[0m: '<' not supported between instances of 'str' and 'float'"
     ]
    }
   ],
   "source": [
    "sorted(tuple_sort)"
   ]
  },
  {
   "cell_type": "code",
   "execution_count": null,
   "id": "d19fc455",
   "metadata": {},
   "outputs": [],
   "source": [
    "#sorted function take tuple as argument and return sorted list, not tuple\n",
    "original tuple remain unchange"
   ]
  },
  {
   "cell_type": "code",
   "execution_count": 38,
   "id": "a91783df",
   "metadata": {},
   "outputs": [],
   "source": [
    "tuple_sort=(1,4,7.3,9,6.4,2)"
   ]
  },
  {
   "cell_type": "code",
   "execution_count": 39,
   "id": "5bbbd445",
   "metadata": {},
   "outputs": [
    {
     "data": {
      "text/plain": [
       "[1, 2, 4, 6.4, 7.3, 9]"
      ]
     },
     "execution_count": 39,
     "metadata": {},
     "output_type": "execute_result"
    }
   ],
   "source": [
    "sorted(tuple_sort)"
   ]
  },
  {
   "cell_type": "code",
   "execution_count": 40,
   "id": "b2fa4fb9",
   "metadata": {},
   "outputs": [
    {
     "data": {
      "text/plain": [
       "(1, 4, 7.3, 9, 6.4, 2)"
      ]
     },
     "execution_count": 40,
     "metadata": {},
     "output_type": "execute_result"
    }
   ],
   "source": [
    "tuple_sort"
   ]
  },
  {
   "cell_type": "code",
   "execution_count": 41,
   "id": "15a5d5d7",
   "metadata": {},
   "outputs": [],
   "source": [
    "#adding tuples together"
   ]
  },
  {
   "cell_type": "code",
   "execution_count": 42,
   "id": "3507cb4b",
   "metadata": {},
   "outputs": [],
   "source": [
    "a=(1,2,3)\n",
    "b=('a','b','c')\n",
    "c=a+b"
   ]
  },
  {
   "cell_type": "code",
   "execution_count": 43,
   "id": "b6421e68",
   "metadata": {},
   "outputs": [
    {
     "data": {
      "text/plain": [
       "(1, 2, 3, 'a', 'b', 'c')"
      ]
     },
     "execution_count": 43,
     "metadata": {},
     "output_type": "execute_result"
    }
   ],
   "source": [
    "c"
   ]
  },
  {
   "cell_type": "code",
   "execution_count": 2,
   "id": "09a52442",
   "metadata": {},
   "outputs": [],
   "source": [
    "a=10,"
   ]
  },
  {
   "cell_type": "code",
   "execution_count": 3,
   "id": "c077a12e",
   "metadata": {},
   "outputs": [
    {
     "data": {
      "text/plain": [
       "tuple"
      ]
     },
     "execution_count": 3,
     "metadata": {},
     "output_type": "execute_result"
    }
   ],
   "source": [
    "type(a)"
   ]
  },
  {
   "cell_type": "code",
   "execution_count": 4,
   "id": "7545f373",
   "metadata": {},
   "outputs": [
    {
     "data": {
      "text/plain": [
       "(10,)"
      ]
     },
     "execution_count": 4,
     "metadata": {},
     "output_type": "execute_result"
    }
   ],
   "source": [
    "a"
   ]
  },
  {
   "cell_type": "code",
   "execution_count": 5,
   "id": "9d59ffae",
   "metadata": {},
   "outputs": [],
   "source": [
    "a=(20)"
   ]
  },
  {
   "cell_type": "code",
   "execution_count": 6,
   "id": "71dfb2aa",
   "metadata": {},
   "outputs": [
    {
     "data": {
      "text/plain": [
       "20"
      ]
     },
     "execution_count": 6,
     "metadata": {},
     "output_type": "execute_result"
    }
   ],
   "source": [
    "a"
   ]
  },
  {
   "cell_type": "code",
   "execution_count": 7,
   "id": "95dcecd5",
   "metadata": {},
   "outputs": [
    {
     "data": {
      "text/plain": [
       "int"
      ]
     },
     "execution_count": 7,
     "metadata": {},
     "output_type": "execute_result"
    }
   ],
   "source": [
    "type(a)"
   ]
  },
  {
   "cell_type": "code",
   "execution_count": 8,
   "id": "23ad72a9",
   "metadata": {},
   "outputs": [],
   "source": [
    "b=('ashish')"
   ]
  },
  {
   "cell_type": "code",
   "execution_count": 9,
   "id": "ce8ad7c6",
   "metadata": {},
   "outputs": [
    {
     "data": {
      "text/plain": [
       "'ashish'"
      ]
     },
     "execution_count": 9,
     "metadata": {},
     "output_type": "execute_result"
    }
   ],
   "source": [
    "b"
   ]
  },
  {
   "cell_type": "code",
   "execution_count": 10,
   "id": "baf4e5c1",
   "metadata": {},
   "outputs": [
    {
     "data": {
      "text/plain": [
       "str"
      ]
     },
     "execution_count": 10,
     "metadata": {},
     "output_type": "execute_result"
    }
   ],
   "source": [
    "type(b)"
   ]
  },
  {
   "cell_type": "code",
   "execution_count": 11,
   "id": "4100da04",
   "metadata": {},
   "outputs": [],
   "source": [
    "c=10,"
   ]
  },
  {
   "cell_type": "code",
   "execution_count": 12,
   "id": "0b606fdc",
   "metadata": {},
   "outputs": [
    {
     "data": {
      "text/plain": [
       "tuple"
      ]
     },
     "execution_count": 12,
     "metadata": {},
     "output_type": "execute_result"
    }
   ],
   "source": [
    "type(c)"
   ]
  },
  {
   "cell_type": "code",
   "execution_count": 13,
   "id": "35e0c7da",
   "metadata": {},
   "outputs": [
    {
     "data": {
      "text/plain": [
       "(10,)"
      ]
     },
     "execution_count": 13,
     "metadata": {},
     "output_type": "execute_result"
    }
   ],
   "source": [
    "c"
   ]
  },
  {
   "cell_type": "code",
   "execution_count": 14,
   "id": "20f980a0",
   "metadata": {},
   "outputs": [],
   "source": [
    "x,=c"
   ]
  },
  {
   "cell_type": "code",
   "execution_count": 15,
   "id": "af3da2a8",
   "metadata": {},
   "outputs": [
    {
     "data": {
      "text/plain": [
       "10"
      ]
     },
     "execution_count": 15,
     "metadata": {},
     "output_type": "execute_result"
    }
   ],
   "source": [
    "x"
   ]
  },
  {
   "cell_type": "code",
   "execution_count": 16,
   "id": "e388045f",
   "metadata": {},
   "outputs": [],
   "source": [
    "x=28\n",
    "y=30\n",
    "x,y=y,x"
   ]
  },
  {
   "cell_type": "code",
   "execution_count": 17,
   "id": "abe1d7bd",
   "metadata": {},
   "outputs": [
    {
     "data": {
      "text/plain": [
       "30"
      ]
     },
     "execution_count": 17,
     "metadata": {},
     "output_type": "execute_result"
    }
   ],
   "source": [
    "x"
   ]
  },
  {
   "cell_type": "code",
   "execution_count": 18,
   "id": "976dd1b8",
   "metadata": {},
   "outputs": [
    {
     "data": {
      "text/plain": [
       "28"
      ]
     },
     "execution_count": 18,
     "metadata": {},
     "output_type": "execute_result"
    }
   ],
   "source": [
    "y"
   ]
  },
  {
   "cell_type": "code",
   "execution_count": 19,
   "id": "a2610b43",
   "metadata": {},
   "outputs": [
    {
     "ename": "TypeError",
     "evalue": "cannot unpack non-iterable int object",
     "output_type": "error",
     "traceback": [
      "\u001b[1;31m---------------------------------------------------------------------------\u001b[0m",
      "\u001b[1;31mTypeError\u001b[0m                                 Traceback (most recent call last)",
      "\u001b[1;32m<ipython-input-19-e565a71de478>\u001b[0m in \u001b[0;36m<module>\u001b[1;34m\u001b[0m\n\u001b[1;32m----> 1\u001b[1;33m \u001b[0mx\u001b[0m\u001b[1;33m=\u001b[0m\u001b[0my\u001b[0m\u001b[1;33m,\u001b[0m \u001b[0my\u001b[0m\u001b[1;33m=\u001b[0m\u001b[0mx\u001b[0m\u001b[1;33m\u001b[0m\u001b[1;33m\u001b[0m\u001b[0m\n\u001b[0m",
      "\u001b[1;31mTypeError\u001b[0m: cannot unpack non-iterable int object"
     ]
    }
   ],
   "source": [
    "x=y, y=x"
   ]
  },
  {
   "cell_type": "code",
   "execution_count": null,
   "id": "ab2fdea8",
   "metadata": {},
   "outputs": [],
   "source": [
    "x"
   ]
  },
  {
   "cell_type": "code",
   "execution_count": null,
   "id": "ed116978",
   "metadata": {},
   "outputs": [],
   "source": []
  }
 ],
 "metadata": {
  "kernelspec": {
   "display_name": "Python 3",
   "language": "python",
   "name": "python3"
  },
  "language_info": {
   "codemirror_mode": {
    "name": "ipython",
    "version": 3
   },
   "file_extension": ".py",
   "mimetype": "text/x-python",
   "name": "python",
   "nbconvert_exporter": "python",
   "pygments_lexer": "ipython3",
   "version": "3.8.8"
  }
 },
 "nbformat": 4,
 "nbformat_minor": 5
}
