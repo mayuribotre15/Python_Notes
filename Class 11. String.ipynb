{
 "cells": [
  {
   "cell_type": "code",
   "execution_count": 1,
   "id": "5b33253a",
   "metadata": {},
   "outputs": [],
   "source": [
    "#string data type"
   ]
  },
  {
   "cell_type": "code",
   "execution_count": null,
   "id": "a7ab6d0f",
   "metadata": {},
   "outputs": [],
   "source": [
    "1. str is a collection of character surrounded by single, double or triple quotes.\n",
    "2. it is immutable DS\n",
    "3. it is 0 based index"
   ]
  },
  {
   "cell_type": "code",
   "execution_count": 2,
   "id": "1025abf4",
   "metadata": {},
   "outputs": [
    {
     "name": "stdout",
     "output_type": "stream",
     "text": [
      "Help on class str in module builtins:\n",
      "\n",
      "class str(object)\n",
      " |  str(object='') -> str\n",
      " |  str(bytes_or_buffer[, encoding[, errors]]) -> str\n",
      " |  \n",
      " |  Create a new string object from the given object. If encoding or\n",
      " |  errors is specified, then the object must expose a data buffer\n",
      " |  that will be decoded using the given encoding and error handler.\n",
      " |  Otherwise, returns the result of object.__str__() (if defined)\n",
      " |  or repr(object).\n",
      " |  encoding defaults to sys.getdefaultencoding().\n",
      " |  errors defaults to 'strict'.\n",
      " |  \n",
      " |  Methods defined here:\n",
      " |  \n",
      " |  __add__(self, value, /)\n",
      " |      Return self+value.\n",
      " |  \n",
      " |  __contains__(self, key, /)\n",
      " |      Return key in self.\n",
      " |  \n",
      " |  __eq__(self, value, /)\n",
      " |      Return self==value.\n",
      " |  \n",
      " |  __format__(self, format_spec, /)\n",
      " |      Return a formatted version of the string as described by format_spec.\n",
      " |  \n",
      " |  __ge__(self, value, /)\n",
      " |      Return self>=value.\n",
      " |  \n",
      " |  __getattribute__(self, name, /)\n",
      " |      Return getattr(self, name).\n",
      " |  \n",
      " |  __getitem__(self, key, /)\n",
      " |      Return self[key].\n",
      " |  \n",
      " |  __getnewargs__(...)\n",
      " |  \n",
      " |  __gt__(self, value, /)\n",
      " |      Return self>value.\n",
      " |  \n",
      " |  __hash__(self, /)\n",
      " |      Return hash(self).\n",
      " |  \n",
      " |  __iter__(self, /)\n",
      " |      Implement iter(self).\n",
      " |  \n",
      " |  __le__(self, value, /)\n",
      " |      Return self<=value.\n",
      " |  \n",
      " |  __len__(self, /)\n",
      " |      Return len(self).\n",
      " |  \n",
      " |  __lt__(self, value, /)\n",
      " |      Return self<value.\n",
      " |  \n",
      " |  __mod__(self, value, /)\n",
      " |      Return self%value.\n",
      " |  \n",
      " |  __mul__(self, value, /)\n",
      " |      Return self*value.\n",
      " |  \n",
      " |  __ne__(self, value, /)\n",
      " |      Return self!=value.\n",
      " |  \n",
      " |  __repr__(self, /)\n",
      " |      Return repr(self).\n",
      " |  \n",
      " |  __rmod__(self, value, /)\n",
      " |      Return value%self.\n",
      " |  \n",
      " |  __rmul__(self, value, /)\n",
      " |      Return value*self.\n",
      " |  \n",
      " |  __sizeof__(self, /)\n",
      " |      Return the size of the string in memory, in bytes.\n",
      " |  \n",
      " |  __str__(self, /)\n",
      " |      Return str(self).\n",
      " |  \n",
      " |  capitalize(self, /)\n",
      " |      Return a capitalized version of the string.\n",
      " |      \n",
      " |      More specifically, make the first character have upper case and the rest lower\n",
      " |      case.\n",
      " |  \n",
      " |  casefold(self, /)\n",
      " |      Return a version of the string suitable for caseless comparisons.\n",
      " |  \n",
      " |  center(self, width, fillchar=' ', /)\n",
      " |      Return a centered string of length width.\n",
      " |      \n",
      " |      Padding is done using the specified fill character (default is a space).\n",
      " |  \n",
      " |  count(...)\n",
      " |      S.count(sub[, start[, end]]) -> int\n",
      " |      \n",
      " |      Return the number of non-overlapping occurrences of substring sub in\n",
      " |      string S[start:end].  Optional arguments start and end are\n",
      " |      interpreted as in slice notation.\n",
      " |  \n",
      " |  encode(self, /, encoding='utf-8', errors='strict')\n",
      " |      Encode the string using the codec registered for encoding.\n",
      " |      \n",
      " |      encoding\n",
      " |        The encoding in which to encode the string.\n",
      " |      errors\n",
      " |        The error handling scheme to use for encoding errors.\n",
      " |        The default is 'strict' meaning that encoding errors raise a\n",
      " |        UnicodeEncodeError.  Other possible values are 'ignore', 'replace' and\n",
      " |        'xmlcharrefreplace' as well as any other name registered with\n",
      " |        codecs.register_error that can handle UnicodeEncodeErrors.\n",
      " |  \n",
      " |  endswith(...)\n",
      " |      S.endswith(suffix[, start[, end]]) -> bool\n",
      " |      \n",
      " |      Return True if S ends with the specified suffix, False otherwise.\n",
      " |      With optional start, test S beginning at that position.\n",
      " |      With optional end, stop comparing S at that position.\n",
      " |      suffix can also be a tuple of strings to try.\n",
      " |  \n",
      " |  expandtabs(self, /, tabsize=8)\n",
      " |      Return a copy where all tab characters are expanded using spaces.\n",
      " |      \n",
      " |      If tabsize is not given, a tab size of 8 characters is assumed.\n",
      " |  \n",
      " |  find(...)\n",
      " |      S.find(sub[, start[, end]]) -> int\n",
      " |      \n",
      " |      Return the lowest index in S where substring sub is found,\n",
      " |      such that sub is contained within S[start:end].  Optional\n",
      " |      arguments start and end are interpreted as in slice notation.\n",
      " |      \n",
      " |      Return -1 on failure.\n",
      " |  \n",
      " |  format(...)\n",
      " |      S.format(*args, **kwargs) -> str\n",
      " |      \n",
      " |      Return a formatted version of S, using substitutions from args and kwargs.\n",
      " |      The substitutions are identified by braces ('{' and '}').\n",
      " |  \n",
      " |  format_map(...)\n",
      " |      S.format_map(mapping) -> str\n",
      " |      \n",
      " |      Return a formatted version of S, using substitutions from mapping.\n",
      " |      The substitutions are identified by braces ('{' and '}').\n",
      " |  \n",
      " |  index(...)\n",
      " |      S.index(sub[, start[, end]]) -> int\n",
      " |      \n",
      " |      Return the lowest index in S where substring sub is found,\n",
      " |      such that sub is contained within S[start:end].  Optional\n",
      " |      arguments start and end are interpreted as in slice notation.\n",
      " |      \n",
      " |      Raises ValueError when the substring is not found.\n",
      " |  \n",
      " |  isalnum(self, /)\n",
      " |      Return True if the string is an alpha-numeric string, False otherwise.\n",
      " |      \n",
      " |      A string is alpha-numeric if all characters in the string are alpha-numeric and\n",
      " |      there is at least one character in the string.\n",
      " |  \n",
      " |  isalpha(self, /)\n",
      " |      Return True if the string is an alphabetic string, False otherwise.\n",
      " |      \n",
      " |      A string is alphabetic if all characters in the string are alphabetic and there\n",
      " |      is at least one character in the string.\n",
      " |  \n",
      " |  isascii(self, /)\n",
      " |      Return True if all characters in the string are ASCII, False otherwise.\n",
      " |      \n",
      " |      ASCII characters have code points in the range U+0000-U+007F.\n",
      " |      Empty string is ASCII too.\n",
      " |  \n",
      " |  isdecimal(self, /)\n",
      " |      Return True if the string is a decimal string, False otherwise.\n",
      " |      \n",
      " |      A string is a decimal string if all characters in the string are decimal and\n",
      " |      there is at least one character in the string.\n",
      " |  \n",
      " |  isdigit(self, /)\n",
      " |      Return True if the string is a digit string, False otherwise.\n",
      " |      \n",
      " |      A string is a digit string if all characters in the string are digits and there\n",
      " |      is at least one character in the string.\n",
      " |  \n",
      " |  isidentifier(self, /)\n",
      " |      Return True if the string is a valid Python identifier, False otherwise.\n",
      " |      \n",
      " |      Call keyword.iskeyword(s) to test whether string s is a reserved identifier,\n",
      " |      such as \"def\" or \"class\".\n",
      " |  \n",
      " |  islower(self, /)\n",
      " |      Return True if the string is a lowercase string, False otherwise.\n",
      " |      \n",
      " |      A string is lowercase if all cased characters in the string are lowercase and\n",
      " |      there is at least one cased character in the string.\n",
      " |  \n",
      " |  isnumeric(self, /)\n",
      " |      Return True if the string is a numeric string, False otherwise.\n",
      " |      \n",
      " |      A string is numeric if all characters in the string are numeric and there is at\n",
      " |      least one character in the string.\n",
      " |  \n",
      " |  isprintable(self, /)\n",
      " |      Return True if the string is printable, False otherwise.\n",
      " |      \n",
      " |      A string is printable if all of its characters are considered printable in\n",
      " |      repr() or if it is empty.\n",
      " |  \n",
      " |  isspace(self, /)\n",
      " |      Return True if the string is a whitespace string, False otherwise.\n",
      " |      \n",
      " |      A string is whitespace if all characters in the string are whitespace and there\n",
      " |      is at least one character in the string.\n",
      " |  \n",
      " |  istitle(self, /)\n",
      " |      Return True if the string is a title-cased string, False otherwise.\n",
      " |      \n",
      " |      In a title-cased string, upper- and title-case characters may only\n",
      " |      follow uncased characters and lowercase characters only cased ones.\n",
      " |  \n",
      " |  isupper(self, /)\n",
      " |      Return True if the string is an uppercase string, False otherwise.\n",
      " |      \n",
      " |      A string is uppercase if all cased characters in the string are uppercase and\n",
      " |      there is at least one cased character in the string.\n",
      " |  \n",
      " |  join(self, iterable, /)\n",
      " |      Concatenate any number of strings.\n",
      " |      \n",
      " |      The string whose method is called is inserted in between each given string.\n",
      " |      The result is returned as a new string.\n",
      " |      \n",
      " |      Example: '.'.join(['ab', 'pq', 'rs']) -> 'ab.pq.rs'\n",
      " |  \n",
      " |  ljust(self, width, fillchar=' ', /)\n",
      " |      Return a left-justified string of length width.\n",
      " |      \n",
      " |      Padding is done using the specified fill character (default is a space).\n",
      " |  \n",
      " |  lower(self, /)\n",
      " |      Return a copy of the string converted to lowercase.\n",
      " |  \n",
      " |  lstrip(self, chars=None, /)\n",
      " |      Return a copy of the string with leading whitespace removed.\n",
      " |      \n",
      " |      If chars is given and not None, remove characters in chars instead.\n",
      " |  \n",
      " |  partition(self, sep, /)\n",
      " |      Partition the string into three parts using the given separator.\n",
      " |      \n",
      " |      This will search for the separator in the string.  If the separator is found,\n",
      " |      returns a 3-tuple containing the part before the separator, the separator\n",
      " |      itself, and the part after it.\n",
      " |      \n",
      " |      If the separator is not found, returns a 3-tuple containing the original string\n",
      " |      and two empty strings.\n",
      " |  \n",
      " |  replace(self, old, new, count=-1, /)\n",
      " |      Return a copy with all occurrences of substring old replaced by new.\n",
      " |      \n",
      " |        count\n",
      " |          Maximum number of occurrences to replace.\n",
      " |          -1 (the default value) means replace all occurrences.\n",
      " |      \n",
      " |      If the optional argument count is given, only the first count occurrences are\n",
      " |      replaced.\n",
      " |  \n",
      " |  rfind(...)\n",
      " |      S.rfind(sub[, start[, end]]) -> int\n",
      " |      \n",
      " |      Return the highest index in S where substring sub is found,\n",
      " |      such that sub is contained within S[start:end].  Optional\n",
      " |      arguments start and end are interpreted as in slice notation.\n",
      " |      \n",
      " |      Return -1 on failure.\n",
      " |  \n",
      " |  rindex(...)\n",
      " |      S.rindex(sub[, start[, end]]) -> int\n",
      " |      \n",
      " |      Return the highest index in S where substring sub is found,\n",
      " |      such that sub is contained within S[start:end].  Optional\n",
      " |      arguments start and end are interpreted as in slice notation.\n",
      " |      \n",
      " |      Raises ValueError when the substring is not found.\n",
      " |  \n",
      " |  rjust(self, width, fillchar=' ', /)\n",
      " |      Return a right-justified string of length width.\n",
      " |      \n",
      " |      Padding is done using the specified fill character (default is a space).\n",
      " |  \n",
      " |  rpartition(self, sep, /)\n",
      " |      Partition the string into three parts using the given separator.\n",
      " |      \n",
      " |      This will search for the separator in the string, starting at the end. If\n",
      " |      the separator is found, returns a 3-tuple containing the part before the\n",
      " |      separator, the separator itself, and the part after it.\n",
      " |      \n",
      " |      If the separator is not found, returns a 3-tuple containing two empty strings\n",
      " |      and the original string.\n",
      " |  \n",
      " |  rsplit(self, /, sep=None, maxsplit=-1)\n",
      " |      Return a list of the words in the string, using sep as the delimiter string.\n",
      " |      \n",
      " |        sep\n",
      " |          The delimiter according which to split the string.\n",
      " |          None (the default value) means split according to any whitespace,\n",
      " |          and discard empty strings from the result.\n",
      " |        maxsplit\n",
      " |          Maximum number of splits to do.\n",
      " |          -1 (the default value) means no limit.\n",
      " |      \n",
      " |      Splits are done starting at the end of the string and working to the front.\n",
      " |  \n",
      " |  rstrip(self, chars=None, /)\n",
      " |      Return a copy of the string with trailing whitespace removed.\n",
      " |      \n",
      " |      If chars is given and not None, remove characters in chars instead.\n",
      " |  \n",
      " |  split(self, /, sep=None, maxsplit=-1)\n",
      " |      Return a list of the words in the string, using sep as the delimiter string.\n",
      " |      \n",
      " |      sep\n",
      " |        The delimiter according which to split the string.\n",
      " |        None (the default value) means split according to any whitespace,\n",
      " |        and discard empty strings from the result.\n",
      " |      maxsplit\n",
      " |        Maximum number of splits to do.\n",
      " |        -1 (the default value) means no limit.\n",
      " |  \n",
      " |  splitlines(self, /, keepends=False)\n",
      " |      Return a list of the lines in the string, breaking at line boundaries.\n",
      " |      \n",
      " |      Line breaks are not included in the resulting list unless keepends is given and\n",
      " |      true.\n",
      " |  \n",
      " |  startswith(...)\n",
      " |      S.startswith(prefix[, start[, end]]) -> bool\n",
      " |      \n",
      " |      Return True if S starts with the specified prefix, False otherwise.\n",
      " |      With optional start, test S beginning at that position.\n",
      " |      With optional end, stop comparing S at that position.\n",
      " |      prefix can also be a tuple of strings to try.\n",
      " |  \n",
      " |  strip(self, chars=None, /)\n",
      " |      Return a copy of the string with leading and trailing whitespace removed.\n",
      " |      \n",
      " |      If chars is given and not None, remove characters in chars instead.\n",
      " |  \n",
      " |  swapcase(self, /)\n",
      " |      Convert uppercase characters to lowercase and lowercase characters to uppercase.\n",
      " |  \n",
      " |  title(self, /)\n",
      " |      Return a version of the string where each word is titlecased.\n",
      " |      \n",
      " |      More specifically, words start with uppercased characters and all remaining\n",
      " |      cased characters have lower case.\n",
      " |  \n",
      " |  translate(self, table, /)\n",
      " |      Replace each character in the string using the given translation table.\n",
      " |      \n",
      " |        table\n",
      " |          Translation table, which must be a mapping of Unicode ordinals to\n",
      " |          Unicode ordinals, strings, or None.\n",
      " |      \n",
      " |      The table must implement lookup/indexing via __getitem__, for instance a\n",
      " |      dictionary or list.  If this operation raises LookupError, the character is\n",
      " |      left untouched.  Characters mapped to None are deleted.\n",
      " |  \n",
      " |  upper(self, /)\n",
      " |      Return a copy of the string converted to uppercase.\n",
      " |  \n",
      " |  zfill(self, width, /)\n",
      " |      Pad a numeric string with zeros on the left, to fill a field of the given width.\n",
      " |      \n",
      " |      The string is never truncated.\n",
      " |  \n",
      " |  ----------------------------------------------------------------------\n",
      " |  Static methods defined here:\n",
      " |  \n",
      " |  __new__(*args, **kwargs) from builtins.type\n",
      " |      Create and return a new object.  See help(type) for accurate signature.\n",
      " |  \n",
      " |  maketrans(...)\n",
      " |      Return a translation table usable for str.translate().\n",
      " |      \n",
      " |      If there is only one argument, it must be a dictionary mapping Unicode\n",
      " |      ordinals (integers) or characters to Unicode ordinals, strings or None.\n",
      " |      Character keys will be then converted to ordinals.\n",
      " |      If there are two arguments, they must be strings of equal length, and\n",
      " |      in the resulting dictionary, each character in x will be mapped to the\n",
      " |      character at the same position in y. If there is a third argument, it\n",
      " |      must be a string, whose characters will be mapped to None in the result.\n",
      "\n"
     ]
    }
   ],
   "source": [
    "help (str)"
   ]
  },
  {
   "cell_type": "code",
   "execution_count": 3,
   "id": "e8f50717",
   "metadata": {},
   "outputs": [],
   "source": [
    "str1=''"
   ]
  },
  {
   "cell_type": "code",
   "execution_count": 4,
   "id": "a961f11a",
   "metadata": {},
   "outputs": [
    {
     "data": {
      "text/plain": [
       "str"
      ]
     },
     "execution_count": 4,
     "metadata": {},
     "output_type": "execute_result"
    }
   ],
   "source": [
    "type(str1)"
   ]
  },
  {
   "cell_type": "code",
   "execution_count": null,
   "id": "4256723b",
   "metadata": {},
   "outputs": [],
   "source": [
    "#docstring--> '''     '''single triple qoutes or \"\"\"     \"\"\"double triple qoutes"
   ]
  },
  {
   "cell_type": "code",
   "execution_count": 19,
   "id": "d35ed024",
   "metadata": {},
   "outputs": [],
   "source": [
    "str1=\"\"\"We can create a string by enclosing the characters in single-quotes or double- quotes.\n",
    "Pythons also provides triple-quotes to represent the string,\n",
    "but it is generally used for multiline string or docstrings.\"\"\""
   ]
  },
  {
   "cell_type": "code",
   "execution_count": 20,
   "id": "cd2dc144",
   "metadata": {},
   "outputs": [
    {
     "data": {
      "text/plain": [
       "'We can create a string by enclosing the characters in single-quotes or double- quotes.\\nPythons also provides triple-quotes to represent the string,\\nbut it is generally used for multiline string or docstrings.'"
      ]
     },
     "execution_count": 20,
     "metadata": {},
     "output_type": "execute_result"
    }
   ],
   "source": [
    "str1"
   ]
  },
  {
   "cell_type": "code",
   "execution_count": 18,
   "id": "0a54db8a",
   "metadata": {},
   "outputs": [
    {
     "name": "stdout",
     "output_type": "stream",
     "text": [
      "We can create a string by enclosing the characters in single-quotes or double- quotes.\n",
      "Python's also provides triple-quotes to represent the string,\n",
      "but it is generally used for multiline string or docstrings.\n"
     ]
    }
   ],
   "source": [
    "print(str1)"
   ]
  },
  {
   "cell_type": "code",
   "execution_count": 6,
   "id": "7fc16e20",
   "metadata": {},
   "outputs": [
    {
     "data": {
      "text/plain": [
       "str"
      ]
     },
     "execution_count": 6,
     "metadata": {},
     "output_type": "execute_result"
    }
   ],
   "source": [
    "type(str1)"
   ]
  },
  {
   "cell_type": "code",
   "execution_count": 7,
   "id": "81fc3adb",
   "metadata": {},
   "outputs": [
    {
     "ename": "SyntaxError",
     "evalue": "EOL while scanning string literal (<ipython-input-7-75e9d176b238>, line 1)",
     "output_type": "error",
     "traceback": [
      "\u001b[1;36m  File \u001b[1;32m\"<ipython-input-7-75e9d176b238>\"\u001b[1;36m, line \u001b[1;32m1\u001b[0m\n\u001b[1;33m    str1=\"hello world\u001b[0m\n\u001b[1;37m                     ^\u001b[0m\n\u001b[1;31mSyntaxError\u001b[0m\u001b[1;31m:\u001b[0m EOL while scanning string literal\n"
     ]
    }
   ],
   "source": [
    "str1=\"hello world"
   ]
  },
  {
   "cell_type": "code",
   "execution_count": 8,
   "id": "d3bdda6e",
   "metadata": {},
   "outputs": [
    {
     "ename": "SyntaxError",
     "evalue": "invalid syntax (<ipython-input-8-d169122c416e>, line 1)",
     "output_type": "error",
     "traceback": [
      "\u001b[1;36m  File \u001b[1;32m\"<ipython-input-8-d169122c416e>\"\u001b[1;36m, line \u001b[1;32m1\u001b[0m\n\u001b[1;33m    str2=hello world\"\u001b[0m\n\u001b[1;37m               ^\u001b[0m\n\u001b[1;31mSyntaxError\u001b[0m\u001b[1;31m:\u001b[0m invalid syntax\n"
     ]
    }
   ],
   "source": [
    "str2=hello world\""
   ]
  },
  {
   "cell_type": "code",
   "execution_count": 11,
   "id": "9d3048fd",
   "metadata": {},
   "outputs": [],
   "source": [
    "s1='what\"s your name'"
   ]
  },
  {
   "cell_type": "code",
   "execution_count": 12,
   "id": "0682518e",
   "metadata": {},
   "outputs": [
    {
     "data": {
      "text/plain": [
       "'what\"s your name'"
      ]
     },
     "execution_count": 12,
     "metadata": {},
     "output_type": "execute_result"
    }
   ],
   "source": [
    "s1"
   ]
  },
  {
   "cell_type": "code",
   "execution_count": 2,
   "id": "bfcfbc9c",
   "metadata": {},
   "outputs": [],
   "source": [
    "s1='Hello, what\\'s your name'"
   ]
  },
  {
   "cell_type": "code",
   "execution_count": 3,
   "id": "45f1f4ea",
   "metadata": {},
   "outputs": [
    {
     "data": {
      "text/plain": [
       "\"Hello, what's your name\""
      ]
     },
     "execution_count": 3,
     "metadata": {},
     "output_type": "execute_result"
    }
   ],
   "source": [
    "s1"
   ]
  },
  {
   "cell_type": "code",
   "execution_count": 4,
   "id": "26de6e6b",
   "metadata": {},
   "outputs": [],
   "source": [
    "s2=\"No Pain, No Gain by \\\"Mayuri\\\"\""
   ]
  },
  {
   "cell_type": "code",
   "execution_count": 5,
   "id": "6587c5b4",
   "metadata": {},
   "outputs": [
    {
     "data": {
      "text/plain": [
       "'No Pain, No Gain by \"Mayuri\"'"
      ]
     },
     "execution_count": 5,
     "metadata": {},
     "output_type": "execute_result"
    }
   ],
   "source": [
    "s2"
   ]
  },
  {
   "cell_type": "code",
   "execution_count": 6,
   "id": "afaeadb4",
   "metadata": {},
   "outputs": [],
   "source": [
    "s3='Welcome to \\\"\"\"Sweet Home\\\"\"\"'"
   ]
  },
  {
   "cell_type": "code",
   "execution_count": 7,
   "id": "38cf61ed",
   "metadata": {},
   "outputs": [
    {
     "data": {
      "text/plain": [
       "'Welcome to \"\"\"Sweet Home\"\"\"'"
      ]
     },
     "execution_count": 7,
     "metadata": {},
     "output_type": "execute_result"
    }
   ],
   "source": [
    "s3"
   ]
  },
  {
   "cell_type": "code",
   "execution_count": null,
   "id": "3ab2503e",
   "metadata": {},
   "outputs": [],
   "source": [
    "#If you don't want character perfaced by \\ should be treated as special charater.\n",
    "then use raw string 'r' before the first quotes"
   ]
  },
  {
   "cell_type": "code",
   "execution_count": 8,
   "id": "557a961c",
   "metadata": {},
   "outputs": [],
   "source": [
    "s='C:\\desktop\\name\\topic'"
   ]
  },
  {
   "cell_type": "code",
   "execution_count": 10,
   "id": "d7234451",
   "metadata": {},
   "outputs": [
    {
     "name": "stdout",
     "output_type": "stream",
     "text": [
      "C:\\desktop\n",
      "ame\topic\n"
     ]
    }
   ],
   "source": [
    "print(s)              # \\n means newline and \\t means tap"
   ]
  },
  {
   "cell_type": "code",
   "execution_count": 11,
   "id": "8424fc01",
   "metadata": {},
   "outputs": [
    {
     "name": "stdout",
     "output_type": "stream",
     "text": [
      "C:\\desktop\\name\\topic\n"
     ]
    }
   ],
   "source": [
    "print(r'C:\\desktop\\name\\topic')"
   ]
  },
  {
   "cell_type": "code",
   "execution_count": 12,
   "id": "c61e94c3",
   "metadata": {},
   "outputs": [
    {
     "data": {
      "text/plain": [
       "'C:\\\\desktop\\name\\topic'"
      ]
     },
     "execution_count": 12,
     "metadata": {},
     "output_type": "execute_result"
    }
   ],
   "source": [
    "s"
   ]
  },
  {
   "cell_type": "code",
   "execution_count": 21,
   "id": "3b6b77d3",
   "metadata": {},
   "outputs": [
    {
     "name": "stdout",
     "output_type": "stream",
     "text": [
      "\n",
      "Usage: thing [OPTION]\n",
      "      -h\n",
      "      -H hostname\n"
     ]
    }
   ],
   "source": [
    "print(\"\"\"\n",
    "Usage: thing [OPTION]\n",
    "      -h\n",
    "      -H hostname\"\"\")"
   ]
  },
  {
   "cell_type": "code",
   "execution_count": 24,
   "id": "bf43bcde",
   "metadata": {},
   "outputs": [],
   "source": [
    "#In multiline, end of line is automatically included in string.\n",
    "#but it is possible to prevent newline using \\ at end of line"
   ]
  },
  {
   "cell_type": "code",
   "execution_count": 22,
   "id": "8db5c711",
   "metadata": {},
   "outputs": [
    {
     "name": "stdout",
     "output_type": "stream",
     "text": [
      "Usage: thing [OPTION]\n",
      "      -h\n",
      "      -H hostname\n"
     ]
    }
   ],
   "source": [
    "print(\"\"\"\\\n",
    "Usage: thing [OPTION]\n",
    "      -h\n",
    "      -H hostname\"\"\")"
   ]
  },
  {
   "cell_type": "code",
   "execution_count": 25,
   "id": "f92f67ab",
   "metadata": {},
   "outputs": [],
   "source": [
    "#In sring,\n",
    "concatenated with '+' operator\n",
    "repeated with '*' operator"
   ]
  },
  {
   "cell_type": "code",
   "execution_count": 28,
   "id": "46a0197a",
   "metadata": {},
   "outputs": [
    {
     "data": {
      "text/plain": [
       "'um um um um HELLO'"
      ]
     },
     "execution_count": 28,
     "metadata": {},
     "output_type": "execute_result"
    }
   ],
   "source": [
    "'um ' * 4 + 'HELLO'"
   ]
  },
  {
   "cell_type": "code",
   "execution_count": 29,
   "id": "59f651a7",
   "metadata": {},
   "outputs": [
    {
     "data": {
      "text/plain": [
       "'Python'"
      ]
     },
     "execution_count": 29,
     "metadata": {},
     "output_type": "execute_result"
    }
   ],
   "source": [
    "'Py' 'thon'"
   ]
  },
  {
   "cell_type": "code",
   "execution_count": 1,
   "id": "4afe611a",
   "metadata": {},
   "outputs": [],
   "source": [
    "#slice on string"
   ]
  },
  {
   "cell_type": "code",
   "execution_count": 2,
   "id": "6932ccca",
   "metadata": {},
   "outputs": [],
   "source": [
    "str1 = 'JavatPoint'"
   ]
  },
  {
   "cell_type": "code",
   "execution_count": 3,
   "id": "a6f81bcf",
   "metadata": {},
   "outputs": [
    {
     "data": {
      "text/plain": [
       "'P'"
      ]
     },
     "execution_count": 3,
     "metadata": {},
     "output_type": "execute_result"
    }
   ],
   "source": [
    "str1[5]"
   ]
  },
  {
   "cell_type": "code",
   "execution_count": 4,
   "id": "60d29405",
   "metadata": {},
   "outputs": [
    {
     "data": {
      "text/plain": [
       "'avatPoint'"
      ]
     },
     "execution_count": 4,
     "metadata": {},
     "output_type": "execute_result"
    }
   ],
   "source": [
    "str1[1:]"
   ]
  },
  {
   "cell_type": "code",
   "execution_count": 5,
   "id": "00d94abc",
   "metadata": {},
   "outputs": [
    {
     "data": {
      "text/plain": [
       "''"
      ]
     },
     "execution_count": 5,
     "metadata": {},
     "output_type": "execute_result"
    }
   ],
   "source": [
    "str1[-1:-3]"
   ]
  },
  {
   "cell_type": "code",
   "execution_count": 6,
   "id": "482c66f2",
   "metadata": {},
   "outputs": [
    {
     "data": {
      "text/plain": [
       "''"
      ]
     },
     "execution_count": 6,
     "metadata": {},
     "output_type": "execute_result"
    }
   ],
   "source": [
    "str1[9:2]"
   ]
  },
  {
   "cell_type": "code",
   "execution_count": 7,
   "id": "34f98c27",
   "metadata": {},
   "outputs": [
    {
     "data": {
      "text/plain": [
       "'tnioPtavaJ'"
      ]
     },
     "execution_count": 7,
     "metadata": {},
     "output_type": "execute_result"
    }
   ],
   "source": [
    "str1[::-1]"
   ]
  },
  {
   "cell_type": "code",
   "execution_count": 9,
   "id": "fa50abc7",
   "metadata": {},
   "outputs": [
    {
     "data": {
      "text/plain": [
       "'toaJ'"
      ]
     },
     "execution_count": 9,
     "metadata": {},
     "output_type": "execute_result"
    }
   ],
   "source": [
    "str1[::-3]"
   ]
  },
  {
   "cell_type": "code",
   "execution_count": 10,
   "id": "59ffd565",
   "metadata": {},
   "outputs": [
    {
     "data": {
      "text/plain": [
       "'Jaot'"
      ]
     },
     "execution_count": 10,
     "metadata": {},
     "output_type": "execute_result"
    }
   ],
   "source": [
    "str1[::3]"
   ]
  },
  {
   "cell_type": "code",
   "execution_count": 12,
   "id": "645b6105",
   "metadata": {},
   "outputs": [
    {
     "data": {
      "text/plain": [
       "'vton'"
      ]
     },
     "execution_count": 12,
     "metadata": {},
     "output_type": "execute_result"
    }
   ],
   "source": [
    "str1[2::2]"
   ]
  },
  {
   "cell_type": "code",
   "execution_count": 13,
   "id": "9c69373a",
   "metadata": {},
   "outputs": [],
   "source": [
    "#String is completely replace with new string but it cannot be partially replaced"
   ]
  },
  {
   "cell_type": "code",
   "execution_count": 14,
   "id": "ff4ac07d",
   "metadata": {},
   "outputs": [
    {
     "name": "stdout",
     "output_type": "stream",
     "text": [
      "HELLO\n",
      "hello\n"
     ]
    }
   ],
   "source": [
    "s1='HELLO'\n",
    "print(s1)\n",
    "s1='hello'\n",
    "print(s1)"
   ]
  },
  {
   "cell_type": "code",
   "execution_count": 15,
   "id": "e9cf6886",
   "metadata": {},
   "outputs": [],
   "source": [
    "#Delete the String\n",
    "we cannt delete/remove a charater from string\n",
    "but we can delete entire string using 'del'"
   ]
  },
  {
   "cell_type": "code",
   "execution_count": 16,
   "id": "9b1e09d8",
   "metadata": {},
   "outputs": [],
   "source": [
    "s1='hello'"
   ]
  },
  {
   "cell_type": "code",
   "execution_count": 17,
   "id": "b3d10cbd",
   "metadata": {},
   "outputs": [
    {
     "data": {
      "text/plain": [
       "'hello'"
      ]
     },
     "execution_count": 17,
     "metadata": {},
     "output_type": "execute_result"
    }
   ],
   "source": [
    "s1"
   ]
  },
  {
   "cell_type": "code",
   "execution_count": 18,
   "id": "908a3b65",
   "metadata": {},
   "outputs": [],
   "source": [
    "del s1"
   ]
  },
  {
   "cell_type": "code",
   "execution_count": 19,
   "id": "e9ad90cd",
   "metadata": {},
   "outputs": [
    {
     "ename": "NameError",
     "evalue": "name 's1' is not defined",
     "output_type": "error",
     "traceback": [
      "\u001b[1;31m---------------------------------------------------------------------------\u001b[0m",
      "\u001b[1;31mNameError\u001b[0m                                 Traceback (most recent call last)",
      "\u001b[1;32m<ipython-input-19-d0257f733e5e>\u001b[0m in \u001b[0;36m<module>\u001b[1;34m\u001b[0m\n\u001b[1;32m----> 1\u001b[1;33m \u001b[0ms1\u001b[0m\u001b[1;33m\u001b[0m\u001b[1;33m\u001b[0m\u001b[0m\n\u001b[0m",
      "\u001b[1;31mNameError\u001b[0m: name 's1' is not defined"
     ]
    }
   ],
   "source": [
    "s1"
   ]
  },
  {
   "cell_type": "code",
   "execution_count": null,
   "id": "b640374a",
   "metadata": {},
   "outputs": [],
   "source": [
    "#String Operator\n",
    "+   concantenate\n",
    "*   concantenate same string for specified times\n",
    "[]    slice operator, used to access particular character\n",
    "[:]   range slice operator, used to access charaters in specified range\n",
    "in           check if particular sub-string is present in specified string\n",
    "not in       check if particualr sub-string is not presen in specified string\n",
    "r/R          raw string, print the string as it is written\n",
    "%     perform string formating, like %d and %s used to map to their valuse"
   ]
  },
  {
   "cell_type": "code",
   "execution_count": 21,
   "id": "f1bf37e7",
   "metadata": {},
   "outputs": [
    {
     "data": {
      "text/plain": [
       "'hey hello'"
      ]
     },
     "execution_count": 21,
     "metadata": {},
     "output_type": "execute_result"
    }
   ],
   "source": [
    "'hey' ' hello'"
   ]
  },
  {
   "cell_type": "code",
   "execution_count": 22,
   "id": "ef2caba9",
   "metadata": {},
   "outputs": [
    {
     "data": {
      "text/plain": [
       "'Hey!how are you?Its being a pleasure to meet you'"
      ]
     },
     "execution_count": 22,
     "metadata": {},
     "output_type": "execute_result"
    }
   ],
   "source": [
    "'Hey!' +'how are you?'+'Its being a pleasure to meet you'"
   ]
  },
  {
   "cell_type": "code",
   "execution_count": 23,
   "id": "29f4bfba",
   "metadata": {},
   "outputs": [
    {
     "data": {
      "text/plain": [
       "'heyheyhey'"
      ]
     },
     "execution_count": 23,
     "metadata": {},
     "output_type": "execute_result"
    }
   ],
   "source": [
    "'hey'*3"
   ]
  },
  {
   "cell_type": "code",
   "execution_count": 24,
   "id": "2c055dd5",
   "metadata": {},
   "outputs": [],
   "source": [
    "s = 'python'"
   ]
  },
  {
   "cell_type": "code",
   "execution_count": 25,
   "id": "efe9ebc8",
   "metadata": {},
   "outputs": [
    {
     "data": {
      "text/plain": [
       "'h'"
      ]
     },
     "execution_count": 25,
     "metadata": {},
     "output_type": "execute_result"
    }
   ],
   "source": [
    "s[3]"
   ]
  },
  {
   "cell_type": "code",
   "execution_count": 26,
   "id": "ba420865",
   "metadata": {},
   "outputs": [
    {
     "data": {
      "text/plain": [
       "True"
      ]
     },
     "execution_count": 26,
     "metadata": {},
     "output_type": "execute_result"
    }
   ],
   "source": [
    "'t' in s"
   ]
  },
  {
   "cell_type": "code",
   "execution_count": 27,
   "id": "76cd101f",
   "metadata": {},
   "outputs": [
    {
     "data": {
      "text/plain": [
       "False"
      ]
     },
     "execution_count": 27,
     "metadata": {},
     "output_type": "execute_result"
    }
   ],
   "source": [
    "'T' in s"
   ]
  },
  {
   "cell_type": "code",
   "execution_count": 28,
   "id": "f23a32f0",
   "metadata": {},
   "outputs": [
    {
     "data": {
      "text/plain": [
       "True"
      ]
     },
     "execution_count": 28,
     "metadata": {},
     "output_type": "execute_result"
    }
   ],
   "source": [
    "'TH' not in s"
   ]
  },
  {
   "cell_type": "code",
   "execution_count": 29,
   "id": "0497beeb",
   "metadata": {},
   "outputs": [
    {
     "data": {
      "text/plain": [
       "True"
      ]
     },
     "execution_count": 29,
     "metadata": {},
     "output_type": "execute_result"
    }
   ],
   "source": [
    "'TH' in s.upper()"
   ]
  },
  {
   "cell_type": "code",
   "execution_count": 1,
   "id": "2ba7417c",
   "metadata": {},
   "outputs": [],
   "source": [
    "s=r'C:\\desktop\\name\\table'"
   ]
  },
  {
   "cell_type": "code",
   "execution_count": 2,
   "id": "29a42a06",
   "metadata": {},
   "outputs": [
    {
     "data": {
      "text/plain": [
       "'C:\\\\desktop\\\\name\\\\table'"
      ]
     },
     "execution_count": 2,
     "metadata": {},
     "output_type": "execute_result"
    }
   ],
   "source": [
    "s"
   ]
  },
  {
   "cell_type": "code",
   "execution_count": 3,
   "id": "fe483bab",
   "metadata": {},
   "outputs": [
    {
     "name": "stdout",
     "output_type": "stream",
     "text": [
      "C:\\desktop\\name\\table\n"
     ]
    }
   ],
   "source": [
    "print(s)"
   ]
  },
  {
   "cell_type": "code",
   "execution_count": 4,
   "id": "6bd794c5",
   "metadata": {},
   "outputs": [],
   "source": [
    "s1='python'"
   ]
  },
  {
   "cell_type": "code",
   "execution_count": 6,
   "id": "36393494",
   "metadata": {},
   "outputs": [
    {
     "name": "stdout",
     "output_type": "stream",
     "text": [
      "String is python\n"
     ]
    }
   ],
   "source": [
    "print('String is %s'%(s1))"
   ]
  },
  {
   "cell_type": "code",
   "execution_count": 7,
   "id": "c171c1e0",
   "metadata": {},
   "outputs": [
    {
     "name": "stdout",
     "output_type": "stream",
     "text": [
      "Marks is 10\n"
     ]
    }
   ],
   "source": [
    "a=10\n",
    "print('Marks is %d'%(a))"
   ]
  },
  {
   "cell_type": "code",
   "execution_count": 11,
   "id": "10dfda14",
   "metadata": {},
   "outputs": [
    {
     "name": "stdout",
     "output_type": "stream",
     "text": [
      "Number is 20.340000\n",
      "Number is 10.000000\n"
     ]
    }
   ],
   "source": [
    "b=20.34\n",
    "print('Number is %f'%(b))\n",
    "print('Number is %f'%(a))"
   ]
  },
  {
   "cell_type": "code",
   "execution_count": 12,
   "id": "f88587b7",
   "metadata": {},
   "outputs": [],
   "source": [
    "#Python String Formating---Escape sequence\n",
    "\\           ignore newline\n",
    "\\\\          print backslash\n",
    "\\'          print '\n",
    "\\\"          print \"\n",
    "\\a          ASCII Bell\n",
    "\\b          1 space back/ backspace\n",
    "\\f          Formfeed,\n",
    "\\n          Newline/ linefeed\n",
    "\\r          ASCII carriage return\n",
    "\\t          ASCII horizontal tab\n",
    "\\v          ASCII vertical tab\n",
    "\\ooo        character with octal value\n",
    "\\xHH        character with hexa value"
   ]
  },
  {
   "cell_type": "code",
   "execution_count": 13,
   "id": "2a312902",
   "metadata": {},
   "outputs": [],
   "source": [
    "s='hello\\\n",
    "how are you'"
   ]
  },
  {
   "cell_type": "code",
   "execution_count": 14,
   "id": "8be7a201",
   "metadata": {},
   "outputs": [
    {
     "data": {
      "text/plain": [
       "'hellohow are you'"
      ]
     },
     "execution_count": 14,
     "metadata": {},
     "output_type": "execute_result"
    }
   ],
   "source": [
    "s"
   ]
  },
  {
   "cell_type": "code",
   "execution_count": 16,
   "id": "e673054b",
   "metadata": {},
   "outputs": [
    {
     "name": "stdout",
     "output_type": "stream",
     "text": [
      "C:\\desktop\n",
      "ame\\table\n"
     ]
    }
   ],
   "source": [
    "print('C:\\\\desktop\\name\\\\table')"
   ]
  },
  {
   "cell_type": "code",
   "execution_count": 17,
   "id": "e7621be1",
   "metadata": {},
   "outputs": [
    {
     "name": "stdout",
     "output_type": "stream",
     "text": [
      "C:\\desktop\\name\\table\n"
     ]
    }
   ],
   "source": [
    "print('C:\\\\desktop\\\\name\\\\table')"
   ]
  },
  {
   "cell_type": "code",
   "execution_count": 20,
   "id": "48101e84",
   "metadata": {},
   "outputs": [],
   "source": [
    "s=\"She ask \\\"What's your name?\\\"\""
   ]
  },
  {
   "cell_type": "code",
   "execution_count": 21,
   "id": "c8b79fb1",
   "metadata": {},
   "outputs": [
    {
     "data": {
      "text/plain": [
       "'She ask \"What\\'s your name?\"'"
      ]
     },
     "execution_count": 21,
     "metadata": {},
     "output_type": "execute_result"
    }
   ],
   "source": [
    "s"
   ]
  },
  {
   "cell_type": "code",
   "execution_count": 26,
   "id": "199eb44e",
   "metadata": {},
   "outputs": [
    {
     "name": "stdout",
     "output_type": "stream",
     "text": [
      "She ask \"What's your name?\"\n"
     ]
    }
   ],
   "source": [
    "print('She ask \\\"What\\'s your name?\\\"')"
   ]
  },
  {
   "cell_type": "code",
   "execution_count": 27,
   "id": "95607990",
   "metadata": {},
   "outputs": [
    {
     "name": "stdout",
     "output_type": "stream",
     "text": [
      "\u0007\n"
     ]
    }
   ],
   "source": [
    "print('\\a')"
   ]
  },
  {
   "cell_type": "code",
   "execution_count": 45,
   "id": "f194f481",
   "metadata": {},
   "outputs": [
    {
     "name": "stdout",
     "output_type": "stream",
     "text": [
      "Hello \bWorld\n",
      "Hello\bWorld\n",
      "Hello \f",
      "World\n",
      "\n",
      "Hello \n",
      "World\n",
      "Carriage\r",
      "return\r",
      "Hey\n",
      "Use\ttab in line\n",
      "Use\u000b",
      "vertical tab in line\n"
     ]
    }
   ],
   "source": [
    "print('Hello \\bWorld')\n",
    "print('Hello\\bWorld')\n",
    "print('Hello \\fWorld')\n",
    "print('\\nHello \\nWorld')\n",
    "print('Carriage\\rreturn\\rHey')\n",
    "print('Use\\ttab in line')\n",
    "print('Use\\vvertical tab in line')"
   ]
  },
  {
   "cell_type": "code",
   "execution_count": 46,
   "id": "f65206c4",
   "metadata": {},
   "outputs": [
    {
     "name": "stdout",
     "output_type": "stream",
     "text": [
      "Hello\n"
     ]
    }
   ],
   "source": [
    "print(\"\\110\\145\\154\\154\\157\")"
   ]
  },
  {
   "cell_type": "code",
   "execution_count": null,
   "id": "64475409",
   "metadata": {},
   "outputs": [],
   "source": [
    "#can ignore the escape sequence from the given string using raw string i.e. 'r' or 'R' in front of string"
   ]
  },
  {
   "cell_type": "code",
   "execution_count": 1,
   "id": "9f0c9a16",
   "metadata": {},
   "outputs": [
    {
     "name": "stdout",
     "output_type": "stream",
     "text": [
      "\\110\\145\\154\\154\\157\n"
     ]
    }
   ],
   "source": [
    "print(r\"\\110\\145\\154\\154\\157\")"
   ]
  },
  {
   "cell_type": "code",
   "execution_count": null,
   "id": "296b4b13",
   "metadata": {},
   "outputs": [],
   "source": [
    "# format() method ----useful and flexible method in formating string\n",
    "use {} as a placeholder in the string and replace by format() method argument."
   ]
  },
  {
   "cell_type": "code",
   "execution_count": 5,
   "id": "bfd83426",
   "metadata": {},
   "outputs": [
    {
     "name": "stdout",
     "output_type": "stream",
     "text": [
      "John and Marks are best friends\n"
     ]
    }
   ],
   "source": [
    "#using {}\n",
    "print('{} and {} are best friends'.format('John','Marks'))"
   ]
  },
  {
   "cell_type": "code",
   "execution_count": 6,
   "id": "4a777f25",
   "metadata": {},
   "outputs": [
    {
     "data": {
      "text/plain": [
       "'Helly and Juhi are classmate'"
      ]
     },
     "execution_count": 6,
     "metadata": {},
     "output_type": "execute_result"
    }
   ],
   "source": [
    "'{} and {} are classmate'.format('Helly','Juhi')"
   ]
  },
  {
   "cell_type": "code",
   "execution_count": 8,
   "id": "7a6dae82",
   "metadata": {},
   "outputs": [
    {
     "data": {
      "text/plain": [
       "'Kapil Dev and Sachin Tendulkar are best player'"
      ]
     },
     "execution_count": 8,
     "metadata": {},
     "output_type": "execute_result"
    }
   ],
   "source": [
    "#using positional argument\n",
    "'{1} and {0} are best player'.format('Sachin Tendulkar','Kapil Dev')"
   ]
  },
  {
   "cell_type": "code",
   "execution_count": 10,
   "id": "24552087",
   "metadata": {},
   "outputs": [
    {
     "data": {
      "text/plain": [
       "'Tic,Toc,Tak'"
      ]
     },
     "execution_count": 10,
     "metadata": {},
     "output_type": "execute_result"
    }
   ],
   "source": [
    "#using Keyword argument\n",
    "'{a},{c},{b}'.format(a='Tic',b='Tak',c='Toc')"
   ]
  },
  {
   "cell_type": "code",
   "execution_count": 11,
   "id": "7a42a90f",
   "metadata": {},
   "outputs": [],
   "source": [
    "#String formating using % operator\n",
    "% ---used as a interface between format specifier and their values\n",
    "     (it binds format specifier to the value)"
   ]
  },
  {
   "cell_type": "code",
   "execution_count": 12,
   "id": "3c5250bc",
   "metadata": {},
   "outputs": [
    {
     "data": {
      "text/plain": [
       "'Sum of 10 and 20 is 30'"
      ]
     },
     "execution_count": 12,
     "metadata": {},
     "output_type": "execute_result"
    }
   ],
   "source": [
    "'Sum of %d and %d is %d'%(10,20,10+20)"
   ]
  },
  {
   "cell_type": "code",
   "execution_count": 18,
   "id": "75d1e3bb",
   "metadata": {},
   "outputs": [
    {
     "name": "stdout",
     "output_type": "stream",
     "text": [
      "I am float : 8.500000\n",
      "I am integer : 99\n",
      "I am string : Python\n"
     ]
    }
   ],
   "source": [
    "print('I am float : %f\\nI am integer : %d\\nI am string : %s'%(8.5,99,'Python'))"
   ]
  },
  {
   "cell_type": "code",
   "execution_count": null,
   "id": "605233c1",
   "metadata": {},
   "outputs": [],
   "source": []
  },
  {
   "cell_type": "code",
   "execution_count": 19,
   "id": "38c71f2c",
   "metadata": {},
   "outputs": [],
   "source": [
    "#Python in-built string function\n",
    "capitalize()     ----capitalize first charater of string and remaining string to lower case\n",
    "casefold()       ----caseless comparision\n",
    "ceter(width,fillchar)   --space padding string with original string, equal no. of left and right space\n",
    "count(substr,begin_index,end_index) --count the occurrence of substring in string between begin and end index\n",
    "endswith('suffix',begin_index,end_index)\n",
    "startswith('prefix',begin_index,end_index)\n",
    "find('substr',begin_index,end_index)\n",
    "index('substr',begin,end)     \n",
    "format(value) ----string formating"
   ]
  },
  {
   "cell_type": "code",
   "execution_count": null,
   "id": "349befa4",
   "metadata": {},
   "outputs": [],
   "source": [
    "find('substr',begin_index,end_index)   -----substr not found return -1\n",
    "index('substr',begin,end)              -----substr not found throw an exception"
   ]
  },
  {
   "cell_type": "code",
   "execution_count": null,
   "id": "0884ffc3",
   "metadata": {},
   "outputs": [],
   "source": [
    "isalnum()\n",
    "isalpha()\n",
    "#isnumeric()\n",
    "#isdecimal()\n",
    "isdigit()\n",
    "\n",
    "isidentifier()\n",
    "\n",
    "islower()\n",
    "isupper()\n",
    "\n",
    "isspace()\n",
    "istitle()\n",
    "isprintable()"
   ]
  },
  {
   "cell_type": "code",
   "execution_count": 24,
   "id": "8e870da7",
   "metadata": {},
   "outputs": [],
   "source": [
    "s = 'python is Programming language'"
   ]
  },
  {
   "cell_type": "code",
   "execution_count": 25,
   "id": "c384bdc4",
   "metadata": {},
   "outputs": [
    {
     "data": {
      "text/plain": [
       "'Python is programming language'"
      ]
     },
     "execution_count": 25,
     "metadata": {},
     "output_type": "execute_result"
    }
   ],
   "source": [
    "s.capitalize()"
   ]
  },
  {
   "cell_type": "code",
   "execution_count": 1,
   "id": "bf3ba63a",
   "metadata": {},
   "outputs": [],
   "source": [
    "s = 'hello, welcome to new world.\\nEnjoy the party'"
   ]
  },
  {
   "cell_type": "code",
   "execution_count": 2,
   "id": "0396cf15",
   "metadata": {},
   "outputs": [
    {
     "data": {
      "text/plain": [
       "'Hello, welcome to new world.\\nenjoy the party'"
      ]
     },
     "execution_count": 2,
     "metadata": {},
     "output_type": "execute_result"
    }
   ],
   "source": [
    "s.capitalize()"
   ]
  },
  {
   "cell_type": "code",
   "execution_count": 26,
   "id": "f8d00e02",
   "metadata": {},
   "outputs": [
    {
     "data": {
      "text/plain": [
       "'python is programming language'"
      ]
     },
     "execution_count": 26,
     "metadata": {},
     "output_type": "execute_result"
    }
   ],
   "source": [
    "s.casefold()"
   ]
  },
  {
   "cell_type": "code",
   "execution_count": 29,
   "id": "71dfaacc",
   "metadata": {},
   "outputs": [
    {
     "data": {
      "text/plain": [
       "True"
      ]
     },
     "execution_count": 29,
     "metadata": {},
     "output_type": "execute_result"
    }
   ],
   "source": [
    "s.casefold() == 'python is programming language'"
   ]
  },
  {
   "cell_type": "code",
   "execution_count": 3,
   "id": "41993f4e",
   "metadata": {},
   "outputs": [],
   "source": [
    "s1 = 'JaVaTpOiNt - &'"
   ]
  },
  {
   "cell_type": "code",
   "execution_count": 4,
   "id": "742592c8",
   "metadata": {},
   "outputs": [
    {
     "data": {
      "text/plain": [
       "'javatpoint - &'"
      ]
     },
     "execution_count": 4,
     "metadata": {},
     "output_type": "execute_result"
    }
   ],
   "source": [
    "s1.casefold()"
   ]
  },
  {
   "cell_type": "code",
   "execution_count": 37,
   "id": "8e0a715c",
   "metadata": {},
   "outputs": [
    {
     "data": {
      "text/plain": [
       "'000python00'"
      ]
     },
     "execution_count": 37,
     "metadata": {},
     "output_type": "execute_result"
    }
   ],
   "source": [
    "s1='python'\n",
    "s1.center(11,'0')"
   ]
  },
  {
   "cell_type": "code",
   "execution_count": 39,
   "id": "9cf2a8f9",
   "metadata": {},
   "outputs": [
    {
     "data": {
      "text/plain": [
       "'@@@@@@@@@@@@@@@@@@@@@@python@@@@@@@@@@@@@@@@@@@@@@'"
      ]
     },
     "execution_count": 39,
     "metadata": {},
     "output_type": "execute_result"
    }
   ],
   "source": [
    "s1.center(50,'@')"
   ]
  },
  {
   "cell_type": "code",
   "execution_count": 40,
   "id": "baf272bc",
   "metadata": {},
   "outputs": [
    {
     "data": {
      "text/plain": [
       "'                      python                      '"
      ]
     },
     "execution_count": 40,
     "metadata": {},
     "output_type": "execute_result"
    }
   ],
   "source": [
    "s1.center(50)"
   ]
  },
  {
   "cell_type": "code",
   "execution_count": 42,
   "id": "b2f1d162",
   "metadata": {},
   "outputs": [
    {
     "data": {
      "text/plain": [
       "4"
      ]
     },
     "execution_count": 42,
     "metadata": {},
     "output_type": "execute_result"
    }
   ],
   "source": [
    "s='Malayalam'\n",
    "s.count('a')"
   ]
  },
  {
   "cell_type": "code",
   "execution_count": 43,
   "id": "76a3bb06",
   "metadata": {},
   "outputs": [
    {
     "data": {
      "text/plain": [
       "2"
      ]
     },
     "execution_count": 43,
     "metadata": {},
     "output_type": "execute_result"
    }
   ],
   "source": [
    "s.count('a',3,7)      #start index is included and end index is excluded"
   ]
  },
  {
   "cell_type": "code",
   "execution_count": 44,
   "id": "fed8d006",
   "metadata": {},
   "outputs": [
    {
     "data": {
      "text/plain": [
       "True"
      ]
     },
     "execution_count": 44,
     "metadata": {},
     "output_type": "execute_result"
    }
   ],
   "source": [
    "# endswith(suffix,begin,end)\n",
    "s.endswith('m')"
   ]
  },
  {
   "cell_type": "code",
   "execution_count": 46,
   "id": "25cfe880",
   "metadata": {},
   "outputs": [
    {
     "data": {
      "text/plain": [
       "True"
      ]
     },
     "execution_count": 46,
     "metadata": {},
     "output_type": "execute_result"
    }
   ],
   "source": [
    "s.endswith('M',0,1)"
   ]
  },
  {
   "cell_type": "code",
   "execution_count": 47,
   "id": "d83c1f4c",
   "metadata": {},
   "outputs": [],
   "source": [
    "# startswith('prefix',begin,end)"
   ]
  },
  {
   "cell_type": "code",
   "execution_count": 48,
   "id": "fa2d4010",
   "metadata": {},
   "outputs": [],
   "source": [
    "s='Hey, How are you'"
   ]
  },
  {
   "cell_type": "code",
   "execution_count": 50,
   "id": "a07290d3",
   "metadata": {},
   "outputs": [
    {
     "data": {
      "text/plain": [
       "True"
      ]
     },
     "execution_count": 50,
     "metadata": {},
     "output_type": "execute_result"
    }
   ],
   "source": [
    "s.startswith('He')"
   ]
  },
  {
   "cell_type": "code",
   "execution_count": 51,
   "id": "d9146077",
   "metadata": {},
   "outputs": [
    {
     "data": {
      "text/plain": [
       "True"
      ]
     },
     "execution_count": 51,
     "metadata": {},
     "output_type": "execute_result"
    }
   ],
   "source": [
    "s.startswith('How',5,-1)"
   ]
  },
  {
   "cell_type": "code",
   "execution_count": 52,
   "id": "dc41c083",
   "metadata": {},
   "outputs": [],
   "source": [
    "# find('substr',beginindex,endindex)"
   ]
  },
  {
   "cell_type": "code",
   "execution_count": 53,
   "id": "e9a2ad3d",
   "metadata": {},
   "outputs": [
    {
     "data": {
      "text/plain": [
       "6"
      ]
     },
     "execution_count": 53,
     "metadata": {},
     "output_type": "execute_result"
    }
   ],
   "source": [
    "s.find('o')"
   ]
  },
  {
   "cell_type": "code",
   "execution_count": 54,
   "id": "d0c2c747",
   "metadata": {},
   "outputs": [
    {
     "data": {
      "text/plain": [
       "6"
      ]
     },
     "execution_count": 54,
     "metadata": {},
     "output_type": "execute_result"
    }
   ],
   "source": [
    "s.find('ow')"
   ]
  },
  {
   "cell_type": "code",
   "execution_count": 55,
   "id": "53f3e2e8",
   "metadata": {},
   "outputs": [
    {
     "data": {
      "text/plain": [
       "14"
      ]
     },
     "execution_count": 55,
     "metadata": {},
     "output_type": "execute_result"
    }
   ],
   "source": [
    "s.find('o',7,-1)"
   ]
  },
  {
   "cell_type": "code",
   "execution_count": 56,
   "id": "0af06eb8",
   "metadata": {},
   "outputs": [
    {
     "data": {
      "text/plain": [
       "-1"
      ]
     },
     "execution_count": 56,
     "metadata": {},
     "output_type": "execute_result"
    }
   ],
   "source": [
    "s.find('u',0,-1)"
   ]
  },
  {
   "cell_type": "code",
   "execution_count": 57,
   "id": "a950246b",
   "metadata": {},
   "outputs": [
    {
     "data": {
      "text/plain": [
       "15"
      ]
     },
     "execution_count": 57,
     "metadata": {},
     "output_type": "execute_result"
    }
   ],
   "source": [
    "s.find('u',0,len(s))"
   ]
  },
  {
   "cell_type": "code",
   "execution_count": 58,
   "id": "614672de",
   "metadata": {},
   "outputs": [],
   "source": [
    "# index('substring',begin,end)"
   ]
  },
  {
   "cell_type": "code",
   "execution_count": 59,
   "id": "e824c0cc",
   "metadata": {},
   "outputs": [],
   "source": [
    "s='python'"
   ]
  },
  {
   "cell_type": "code",
   "execution_count": 60,
   "id": "d12823cf",
   "metadata": {},
   "outputs": [
    {
     "data": {
      "text/plain": [
       "2"
      ]
     },
     "execution_count": 60,
     "metadata": {},
     "output_type": "execute_result"
    }
   ],
   "source": [
    "s.index('t')"
   ]
  },
  {
   "cell_type": "code",
   "execution_count": 61,
   "id": "1ece442b",
   "metadata": {},
   "outputs": [
    {
     "ename": "ValueError",
     "evalue": "substring not found",
     "output_type": "error",
     "traceback": [
      "\u001b[1;31m---------------------------------------------------------------------------\u001b[0m",
      "\u001b[1;31mValueError\u001b[0m                                Traceback (most recent call last)",
      "\u001b[1;32m<ipython-input-61-952ebce299e3>\u001b[0m in \u001b[0;36m<module>\u001b[1;34m\u001b[0m\n\u001b[1;32m----> 1\u001b[1;33m \u001b[0ms\u001b[0m\u001b[1;33m.\u001b[0m\u001b[0mindex\u001b[0m\u001b[1;33m(\u001b[0m\u001b[1;34m'a'\u001b[0m\u001b[1;33m)\u001b[0m\u001b[1;33m\u001b[0m\u001b[1;33m\u001b[0m\u001b[0m\n\u001b[0m",
      "\u001b[1;31mValueError\u001b[0m: substring not found"
     ]
    }
   ],
   "source": [
    "s.index('a')"
   ]
  },
  {
   "cell_type": "code",
   "execution_count": 62,
   "id": "1edb289d",
   "metadata": {},
   "outputs": [],
   "source": [
    "# isalnum()  ---return true if character in string is alphanumeric and at least 1 character(alphabet /number)"
   ]
  },
  {
   "cell_type": "code",
   "execution_count": 63,
   "id": "1ece6333",
   "metadata": {},
   "outputs": [
    {
     "data": {
      "text/plain": [
       "True"
      ]
     },
     "execution_count": 63,
     "metadata": {},
     "output_type": "execute_result"
    }
   ],
   "source": [
    "'john94'.isalnum()"
   ]
  },
  {
   "cell_type": "code",
   "execution_count": 64,
   "id": "5ce6ded5",
   "metadata": {},
   "outputs": [
    {
     "data": {
      "text/plain": [
       "True"
      ]
     },
     "execution_count": 64,
     "metadata": {},
     "output_type": "execute_result"
    }
   ],
   "source": [
    "'Helly'.isalnum()"
   ]
  },
  {
   "cell_type": "code",
   "execution_count": 65,
   "id": "b81cbdff",
   "metadata": {},
   "outputs": [
    {
     "data": {
      "text/plain": [
       "True"
      ]
     },
     "execution_count": 65,
     "metadata": {},
     "output_type": "execute_result"
    }
   ],
   "source": [
    "'8'.isalnum()"
   ]
  },
  {
   "cell_type": "code",
   "execution_count": 66,
   "id": "159b3642",
   "metadata": {},
   "outputs": [
    {
     "data": {
      "text/plain": [
       "False"
      ]
     },
     "execution_count": 66,
     "metadata": {},
     "output_type": "execute_result"
    }
   ],
   "source": [
    "''.isalnum()"
   ]
  },
  {
   "cell_type": "code",
   "execution_count": 67,
   "id": "acc75644",
   "metadata": {},
   "outputs": [],
   "source": [
    "# isalpha()  --return true if all charater are alphabets and at least 1 charater(alphabet)"
   ]
  },
  {
   "cell_type": "code",
   "execution_count": 70,
   "id": "f2ad5f04",
   "metadata": {},
   "outputs": [
    {
     "data": {
      "text/plain": [
       "True"
      ]
     },
     "execution_count": 70,
     "metadata": {},
     "output_type": "execute_result"
    }
   ],
   "source": [
    "'Helly'.isalpha()"
   ]
  },
  {
   "cell_type": "code",
   "execution_count": 71,
   "id": "90ec88cb",
   "metadata": {},
   "outputs": [
    {
     "data": {
      "text/plain": [
       "False"
      ]
     },
     "execution_count": 71,
     "metadata": {},
     "output_type": "execute_result"
    }
   ],
   "source": [
    "'John98'.isalpha()"
   ]
  },
  {
   "cell_type": "code",
   "execution_count": 68,
   "id": "90d096c2",
   "metadata": {},
   "outputs": [
    {
     "data": {
      "text/plain": [
       "False"
      ]
     },
     "execution_count": 68,
     "metadata": {},
     "output_type": "execute_result"
    }
   ],
   "source": [
    "''.isalpha()"
   ]
  },
  {
   "cell_type": "code",
   "execution_count": 89,
   "id": "0d79ee5b",
   "metadata": {},
   "outputs": [
    {
     "data": {
      "text/plain": [
       "False"
      ]
     },
     "execution_count": 89,
     "metadata": {},
     "output_type": "execute_result"
    }
   ],
   "source": [
    "'Java is programming lang'.isalpha()"
   ]
  },
  {
   "cell_type": "code",
   "execution_count": 69,
   "id": "5e84b0c6",
   "metadata": {},
   "outputs": [
    {
     "data": {
      "text/plain": [
       "False"
      ]
     },
     "execution_count": 69,
     "metadata": {},
     "output_type": "execute_result"
    }
   ],
   "source": [
    "' '.isalpha()"
   ]
  },
  {
   "cell_type": "code",
   "execution_count": 72,
   "id": "c991cd5d",
   "metadata": {},
   "outputs": [],
   "source": [
    "# isnumeric ---return true if string contain only numeric charater and at least 1 charater (number)\n",
    "no decimal number\n",
    "Numeric characters include digit characters and all the characters which have the Unicode numeric value property."
   ]
  },
  {
   "cell_type": "code",
   "execution_count": 73,
   "id": "16a09014",
   "metadata": {},
   "outputs": [
    {
     "data": {
      "text/plain": [
       "False"
      ]
     },
     "execution_count": 73,
     "metadata": {},
     "output_type": "execute_result"
    }
   ],
   "source": [
    "'97.87'.isnumeric()"
   ]
  },
  {
   "cell_type": "code",
   "execution_count": 1,
   "id": "32f2ce53",
   "metadata": {},
   "outputs": [
    {
     "data": {
      "text/plain": [
       "False"
      ]
     },
     "execution_count": 1,
     "metadata": {},
     "output_type": "execute_result"
    }
   ],
   "source": [
    "'\\x00'.isnumeric()"
   ]
  },
  {
   "cell_type": "code",
   "execution_count": 3,
   "id": "2516bf04",
   "metadata": {},
   "outputs": [],
   "source": [
    "import unicodedata"
   ]
  },
  {
   "cell_type": "code",
   "execution_count": 4,
   "id": "ff27bb1c",
   "metadata": {},
   "outputs": [
    {
     "data": {
      "text/plain": [
       "0.5"
      ]
     },
     "execution_count": 4,
     "metadata": {},
     "output_type": "execute_result"
    }
   ],
   "source": [
    "unicodedata.numeric('\\u00bd')"
   ]
  },
  {
   "cell_type": "code",
   "execution_count": 11,
   "id": "40b731b0",
   "metadata": {},
   "outputs": [
    {
     "ename": "ValueError",
     "evalue": "not a numeric character",
     "output_type": "error",
     "traceback": [
      "\u001b[1;31m---------------------------------------------------------------------------\u001b[0m",
      "\u001b[1;31mValueError\u001b[0m                                Traceback (most recent call last)",
      "\u001b[1;32m<ipython-input-11-6ec94be6d9db>\u001b[0m in \u001b[0;36m<module>\u001b[1;34m\u001b[0m\n\u001b[1;32m----> 1\u001b[1;33m \u001b[0municodedata\u001b[0m\u001b[1;33m.\u001b[0m\u001b[0mnumeric\u001b[0m\u001b[1;33m(\u001b[0m\u001b[1;34m'\\u00db'\u001b[0m\u001b[1;33m)\u001b[0m\u001b[1;33m\u001b[0m\u001b[1;33m\u001b[0m\u001b[0m\n\u001b[0m",
      "\u001b[1;31mValueError\u001b[0m: not a numeric character"
     ]
    }
   ],
   "source": [
    "unicodedata.numeric('\\u00db')"
   ]
  },
  {
   "cell_type": "code",
   "execution_count": 15,
   "id": "9ed2052e",
   "metadata": {},
   "outputs": [
    {
     "ename": "ValueError",
     "evalue": "not a numeric character",
     "output_type": "error",
     "traceback": [
      "\u001b[1;31m---------------------------------------------------------------------------\u001b[0m",
      "\u001b[1;31mValueError\u001b[0m                                Traceback (most recent call last)",
      "\u001b[1;32m<ipython-input-15-96c89fe2fd2f>\u001b[0m in \u001b[0;36m<module>\u001b[1;34m\u001b[0m\n\u001b[1;32m----> 1\u001b[1;33m \u001b[0municodedata\u001b[0m\u001b[1;33m.\u001b[0m\u001b[0mnumeric\u001b[0m\u001b[1;33m(\u001b[0m\u001b[1;34m'\\u0001'\u001b[0m\u001b[1;33m)\u001b[0m\u001b[1;33m\u001b[0m\u001b[1;33m\u001b[0m\u001b[0m\n\u001b[0m",
      "\u001b[1;31mValueError\u001b[0m: not a numeric character"
     ]
    }
   ],
   "source": [
    "unicodedata.numeric('\\u0001')"
   ]
  },
  {
   "cell_type": "code",
   "execution_count": 16,
   "id": "3b1cc1f8",
   "metadata": {},
   "outputs": [
    {
     "data": {
      "text/plain": [
       "False"
      ]
     },
     "execution_count": 16,
     "metadata": {},
     "output_type": "execute_result"
    }
   ],
   "source": [
    "'\\u0080'.isnumeric()"
   ]
  },
  {
   "cell_type": "code",
   "execution_count": null,
   "id": "9c155f90",
   "metadata": {},
   "outputs": [],
   "source": []
  },
  {
   "cell_type": "code",
   "execution_count": null,
   "id": "ab0c317e",
   "metadata": {},
   "outputs": [],
   "source": []
  },
  {
   "cell_type": "code",
   "execution_count": null,
   "id": "1d37e612",
   "metadata": {},
   "outputs": [],
   "source": []
  },
  {
   "cell_type": "code",
   "execution_count": 2,
   "id": "a1993f2b",
   "metadata": {},
   "outputs": [
    {
     "data": {
      "text/plain": [
       "True"
      ]
     },
     "execution_count": 2,
     "metadata": {},
     "output_type": "execute_result"
    }
   ],
   "source": [
    "'\\u00bd'.isnumeric()"
   ]
  },
  {
   "cell_type": "code",
   "execution_count": 74,
   "id": "79878890",
   "metadata": {},
   "outputs": [
    {
     "data": {
      "text/plain": [
       "True"
      ]
     },
     "execution_count": 74,
     "metadata": {},
     "output_type": "execute_result"
    }
   ],
   "source": [
    "'7878'.isnumeric()"
   ]
  },
  {
   "cell_type": "code",
   "execution_count": 75,
   "id": "fe1739cb",
   "metadata": {},
   "outputs": [
    {
     "data": {
      "text/plain": [
       "False"
      ]
     },
     "execution_count": 75,
     "metadata": {},
     "output_type": "execute_result"
    }
   ],
   "source": [
    "''.isnumeric()"
   ]
  },
  {
   "cell_type": "code",
   "execution_count": 76,
   "id": "fc195b76",
   "metadata": {},
   "outputs": [
    {
     "data": {
      "text/plain": [
       "False"
      ]
     },
     "execution_count": 76,
     "metadata": {},
     "output_type": "execute_result"
    }
   ],
   "source": [
    "' '.isnumeric()"
   ]
  },
  {
   "cell_type": "code",
   "execution_count": 77,
   "id": "72a2e7f4",
   "metadata": {},
   "outputs": [],
   "source": [
    "# isdecimal()  --all charater in the string are decimal. decimal charater have base 10"
   ]
  },
  {
   "cell_type": "code",
   "execution_count": 17,
   "id": "2052e9d4",
   "metadata": {},
   "outputs": [
    {
     "data": {
      "text/plain": [
       "True"
      ]
     },
     "execution_count": 17,
     "metadata": {},
     "output_type": "execute_result"
    }
   ],
   "source": [
    "'87'.isdecimal()"
   ]
  },
  {
   "cell_type": "code",
   "execution_count": 18,
   "id": "f56b5806",
   "metadata": {},
   "outputs": [
    {
     "data": {
      "text/plain": [
       "False"
      ]
     },
     "execution_count": 18,
     "metadata": {},
     "output_type": "execute_result"
    }
   ],
   "source": [
    "'8.7'.isdecimal()"
   ]
  },
  {
   "cell_type": "code",
   "execution_count": 79,
   "id": "3ffa4019",
   "metadata": {},
   "outputs": [],
   "source": [
    "# islower()  ---return true if all charater in string in lower case, ignore digit and special charater"
   ]
  },
  {
   "cell_type": "code",
   "execution_count": 80,
   "id": "4ce380a9",
   "metadata": {},
   "outputs": [
    {
     "data": {
      "text/plain": [
       "True"
      ]
     },
     "execution_count": 80,
     "metadata": {},
     "output_type": "execute_result"
    }
   ],
   "source": [
    "'python'.islower()"
   ]
  },
  {
   "cell_type": "code",
   "execution_count": 81,
   "id": "14cb8844",
   "metadata": {},
   "outputs": [
    {
     "data": {
      "text/plain": [
       "False"
      ]
     },
     "execution_count": 81,
     "metadata": {},
     "output_type": "execute_result"
    }
   ],
   "source": [
    "'Hadoop'.islower()"
   ]
  },
  {
   "cell_type": "code",
   "execution_count": 83,
   "id": "20925770",
   "metadata": {},
   "outputs": [
    {
     "data": {
      "text/plain": [
       "True"
      ]
     },
     "execution_count": 83,
     "metadata": {},
     "output_type": "execute_result"
    }
   ],
   "source": [
    "'golgapaa98***&'.islower()"
   ]
  },
  {
   "cell_type": "code",
   "execution_count": 84,
   "id": "4287e38a",
   "metadata": {},
   "outputs": [],
   "source": [
    "# isupper()   --return true if all charater in string in upper case, ignore digits and special charater"
   ]
  },
  {
   "cell_type": "code",
   "execution_count": 85,
   "id": "21d06d77",
   "metadata": {},
   "outputs": [
    {
     "data": {
      "text/plain": [
       "False"
      ]
     },
     "execution_count": 85,
     "metadata": {},
     "output_type": "execute_result"
    }
   ],
   "source": [
    "'pYTHON'.isupper()"
   ]
  },
  {
   "cell_type": "code",
   "execution_count": 86,
   "id": "3d363f44",
   "metadata": {},
   "outputs": [
    {
     "data": {
      "text/plain": [
       "True"
      ]
     },
     "execution_count": 86,
     "metadata": {},
     "output_type": "execute_result"
    }
   ],
   "source": [
    "'HADOOP'.isupper()"
   ]
  },
  {
   "cell_type": "code",
   "execution_count": 87,
   "id": "04ddea20",
   "metadata": {},
   "outputs": [
    {
     "data": {
      "text/plain": [
       "True"
      ]
     },
     "execution_count": 87,
     "metadata": {},
     "output_type": "execute_result"
    }
   ],
   "source": [
    "'YUP567^$&*'.isupper()"
   ]
  },
  {
   "cell_type": "code",
   "execution_count": 90,
   "id": "2ef4b428",
   "metadata": {},
   "outputs": [],
   "source": [
    "# isprintable()  ---return true if all charater are printable\n",
    "like \\n \\t \\b are not printed in the string"
   ]
  },
  {
   "cell_type": "code",
   "execution_count": 91,
   "id": "2289fc60",
   "metadata": {},
   "outputs": [
    {
     "data": {
      "text/plain": [
       "True"
      ]
     },
     "execution_count": 91,
     "metadata": {},
     "output_type": "execute_result"
    }
   ],
   "source": [
    "'JavatPoint'.isprintable()"
   ]
  },
  {
   "cell_type": "code",
   "execution_count": 92,
   "id": "b1f6acb6",
   "metadata": {},
   "outputs": [
    {
     "data": {
      "text/plain": [
       "False"
      ]
     },
     "execution_count": 92,
     "metadata": {},
     "output_type": "execute_result"
    }
   ],
   "source": [
    "'Hey\\nHow are you?'.isprintable()"
   ]
  },
  {
   "cell_type": "code",
   "execution_count": 93,
   "id": "b50814f9",
   "metadata": {},
   "outputs": [],
   "source": [
    "# isspace()  return true if string contains only whitespace charater\n",
    "whitespace charater are:\n",
    "    \" \"  space\n",
    "    \\n   newline\n",
    "    \\t   tab\n",
    "    \\v   vertical tab\n",
    "    \\r   reurn carriage\n",
    "    \\f   formfeed"
   ]
  },
  {
   "cell_type": "code",
   "execution_count": 94,
   "id": "157f2376",
   "metadata": {},
   "outputs": [
    {
     "data": {
      "text/plain": [
       "False"
      ]
     },
     "execution_count": 94,
     "metadata": {},
     "output_type": "execute_result"
    }
   ],
   "source": [
    "''.isspace()  #empty string"
   ]
  },
  {
   "cell_type": "code",
   "execution_count": 95,
   "id": "0a0a53b2",
   "metadata": {},
   "outputs": [
    {
     "data": {
      "text/plain": [
       "True"
      ]
     },
     "execution_count": 95,
     "metadata": {},
     "output_type": "execute_result"
    }
   ],
   "source": [
    "' '.isspace()"
   ]
  },
  {
   "cell_type": "code",
   "execution_count": 96,
   "id": "268daf6d",
   "metadata": {},
   "outputs": [
    {
     "data": {
      "text/plain": [
       "False"
      ]
     },
     "execution_count": 96,
     "metadata": {},
     "output_type": "execute_result"
    }
   ],
   "source": [
    "'I am good'.isspace()    #contain space"
   ]
  },
  {
   "cell_type": "code",
   "execution_count": 97,
   "id": "9d32a6ce",
   "metadata": {},
   "outputs": [
    {
     "data": {
      "text/plain": [
       "True"
      ]
     },
     "execution_count": 97,
     "metadata": {},
     "output_type": "execute_result"
    }
   ],
   "source": [
    "'\\n '.isspace()      #whitespace charater"
   ]
  },
  {
   "cell_type": "code",
   "execution_count": null,
   "id": "d3da6aad",
   "metadata": {},
   "outputs": [],
   "source": [
    "# istitle()     return true if the string in title case\n",
    "first charater of each word in string should be upper case and rest to lower case"
   ]
  },
  {
   "cell_type": "code",
   "execution_count": 99,
   "id": "45dc7d3e",
   "metadata": {},
   "outputs": [
    {
     "data": {
      "text/plain": [
       "True"
      ]
     },
     "execution_count": 99,
     "metadata": {},
     "output_type": "execute_result"
    }
   ],
   "source": [
    "'Java To Python'.istitle()"
   ]
  },
  {
   "cell_type": "code",
   "execution_count": 100,
   "id": "7e8c1bfb",
   "metadata": {},
   "outputs": [
    {
     "data": {
      "text/plain": [
       "False"
      ]
     },
     "execution_count": 100,
     "metadata": {},
     "output_type": "execute_result"
    }
   ],
   "source": [
    "'JAVA To Python'.istitle()"
   ]
  },
  {
   "cell_type": "code",
   "execution_count": 101,
   "id": "fa5ee914",
   "metadata": {},
   "outputs": [
    {
     "data": {
      "text/plain": [
       "True"
      ]
     },
     "execution_count": 101,
     "metadata": {},
     "output_type": "execute_result"
    }
   ],
   "source": [
    "'Java 8952 Python'.istitle()"
   ]
  },
  {
   "cell_type": "code",
   "execution_count": 102,
   "id": "0b41727a",
   "metadata": {},
   "outputs": [
    {
     "data": {
      "text/plain": [
       "False"
      ]
     },
     "execution_count": 102,
     "metadata": {},
     "output_type": "execute_result"
    }
   ],
   "source": [
    "'Java 8952good Python'.istitle()"
   ]
  },
  {
   "cell_type": "code",
   "execution_count": 103,
   "id": "462e289b",
   "metadata": {},
   "outputs": [
    {
     "data": {
      "text/plain": [
       "True"
      ]
     },
     "execution_count": 103,
     "metadata": {},
     "output_type": "execute_result"
    }
   ],
   "source": [
    "'Java 8952Fine Python'.istitle()"
   ]
  },
  {
   "cell_type": "code",
   "execution_count": 19,
   "id": "9fb19a96",
   "metadata": {},
   "outputs": [],
   "source": [
    "# join()  ----used to concate iterator object elements with string\n",
    "iterator object must contain string element otherwise throw an error"
   ]
  },
  {
   "cell_type": "code",
   "execution_count": 20,
   "id": "f06f208b",
   "metadata": {},
   "outputs": [],
   "source": [
    "s=' '\n",
    "lst =['python','java','c','hadoop']"
   ]
  },
  {
   "cell_type": "code",
   "execution_count": 21,
   "id": "85d44513",
   "metadata": {},
   "outputs": [
    {
     "data": {
      "text/plain": [
       "'python java c hadoop'"
      ]
     },
     "execution_count": 21,
     "metadata": {},
     "output_type": "execute_result"
    }
   ],
   "source": [
    "s.join(lst)"
   ]
  },
  {
   "cell_type": "code",
   "execution_count": 22,
   "id": "350e7fd0",
   "metadata": {},
   "outputs": [],
   "source": [
    "s1='>>'"
   ]
  },
  {
   "cell_type": "code",
   "execution_count": 23,
   "id": "315e58cc",
   "metadata": {},
   "outputs": [
    {
     "data": {
      "text/plain": [
       "'python>>java>>c>>hadoop'"
      ]
     },
     "execution_count": 23,
     "metadata": {},
     "output_type": "execute_result"
    }
   ],
   "source": [
    "s1.join(lst)"
   ]
  },
  {
   "cell_type": "code",
   "execution_count": 24,
   "id": "fe9e87f6",
   "metadata": {},
   "outputs": [],
   "source": [
    "set1={'1','2','3'} "
   ]
  },
  {
   "cell_type": "code",
   "execution_count": 25,
   "id": "b21a69c3",
   "metadata": {},
   "outputs": [
    {
     "data": {
      "text/plain": [
       "'3>>2>>1'"
      ]
     },
     "execution_count": 25,
     "metadata": {},
     "output_type": "execute_result"
    }
   ],
   "source": [
    "s1.join(set1)     #join() on set"
   ]
  },
  {
   "cell_type": "code",
   "execution_count": 27,
   "id": "e209fa5d",
   "metadata": {},
   "outputs": [],
   "source": [
    "#join() on dict, concat only key, key should be string otherwise it will show error\n",
    "dict1={'abc':100,'xyz':200,'pqr':300}"
   ]
  },
  {
   "cell_type": "code",
   "execution_count": 28,
   "id": "c204722d",
   "metadata": {},
   "outputs": [
    {
     "data": {
      "text/plain": [
       "'abc>>xyz>>pqr'"
      ]
     },
     "execution_count": 28,
     "metadata": {},
     "output_type": "execute_result"
    }
   ],
   "source": [
    "s1.join(dict1)"
   ]
  },
  {
   "cell_type": "code",
   "execution_count": 29,
   "id": "be8bc27b",
   "metadata": {},
   "outputs": [],
   "source": [
    "#len()----find length of string"
   ]
  },
  {
   "cell_type": "code",
   "execution_count": 30,
   "id": "48ff84ca",
   "metadata": {},
   "outputs": [],
   "source": [
    "s ='hadoop123'"
   ]
  },
  {
   "cell_type": "code",
   "execution_count": 31,
   "id": "51943494",
   "metadata": {},
   "outputs": [
    {
     "data": {
      "text/plain": [
       "9"
      ]
     },
     "execution_count": 31,
     "metadata": {},
     "output_type": "execute_result"
    }
   ],
   "source": [
    "len(s)"
   ]
  },
  {
   "cell_type": "code",
   "execution_count": null,
   "id": "e5ffcd65",
   "metadata": {},
   "outputs": [],
   "source": [
    "# ljust(width,fillchar)  -----return space padding string left justified to given width\n",
    "rjust(width,fillchar)    ------retuen space padding string right justified to gievn width"
   ]
  },
  {
   "cell_type": "code",
   "execution_count": 15,
   "id": "f8c5011b",
   "metadata": {},
   "outputs": [],
   "source": [
    "s='hadoop'"
   ]
  },
  {
   "cell_type": "code",
   "execution_count": 33,
   "id": "86c920ba",
   "metadata": {},
   "outputs": [
    {
     "data": {
      "text/plain": [
       "'hadoop$$$$'"
      ]
     },
     "execution_count": 33,
     "metadata": {},
     "output_type": "execute_result"
    }
   ],
   "source": [
    "s.ljust(10,'$')"
   ]
  },
  {
   "cell_type": "code",
   "execution_count": 19,
   "id": "14214eae",
   "metadata": {},
   "outputs": [
    {
     "data": {
      "text/plain": [
       "'hadoop'"
      ]
     },
     "execution_count": 19,
     "metadata": {},
     "output_type": "execute_result"
    }
   ],
   "source": [
    "s.ljust(2,'@')"
   ]
  },
  {
   "cell_type": "code",
   "execution_count": 34,
   "id": "15bbd3d6",
   "metadata": {},
   "outputs": [
    {
     "data": {
      "text/plain": [
       "'$$$$hadoop'"
      ]
     },
     "execution_count": 34,
     "metadata": {},
     "output_type": "execute_result"
    }
   ],
   "source": [
    "s.rjust(10,'$')"
   ]
  },
  {
   "cell_type": "code",
   "execution_count": 20,
   "id": "097300fa",
   "metadata": {},
   "outputs": [
    {
     "data": {
      "text/plain": [
       "'    hadoop'"
      ]
     },
     "execution_count": 20,
     "metadata": {},
     "output_type": "execute_result"
    }
   ],
   "source": [
    "s.rjust(10)"
   ]
  },
  {
   "cell_type": "code",
   "execution_count": 16,
   "id": "4e70cb24",
   "metadata": {},
   "outputs": [
    {
     "data": {
      "text/plain": [
       "'hadoop'"
      ]
     },
     "execution_count": 16,
     "metadata": {},
     "output_type": "execute_result"
    }
   ],
   "source": [
    "s.rjust(5,\" \")"
   ]
  },
  {
   "cell_type": "code",
   "execution_count": 17,
   "id": "4820e894",
   "metadata": {},
   "outputs": [
    {
     "data": {
      "text/plain": [
       "'hadoop'"
      ]
     },
     "execution_count": 17,
     "metadata": {},
     "output_type": "execute_result"
    }
   ],
   "source": [
    "s.rjust(2)"
   ]
  },
  {
   "cell_type": "code",
   "execution_count": 35,
   "id": "1c47a8cb",
   "metadata": {},
   "outputs": [],
   "source": [
    "# lstrip() --- remove all whitespace or particular charater from the leading(begining) of the string\n",
    "# rstrip() --- remove all whitespace or particular charater from the trailing(ending) of the string\n",
    "\n",
    "# strip() --- remove all whitespace or particular charater from both begining and ending of the string"
   ]
  },
  {
   "cell_type": "code",
   "execution_count": 36,
   "id": "9b87a75c",
   "metadata": {},
   "outputs": [],
   "source": [
    "s1 = '    java      '"
   ]
  },
  {
   "cell_type": "code",
   "execution_count": 37,
   "id": "507d95af",
   "metadata": {},
   "outputs": [
    {
     "data": {
      "text/plain": [
       "'java      '"
      ]
     },
     "execution_count": 37,
     "metadata": {},
     "output_type": "execute_result"
    }
   ],
   "source": [
    "s1.lstrip()"
   ]
  },
  {
   "cell_type": "code",
   "execution_count": 38,
   "id": "c5488801",
   "metadata": {},
   "outputs": [
    {
     "data": {
      "text/plain": [
       "'    java'"
      ]
     },
     "execution_count": 38,
     "metadata": {},
     "output_type": "execute_result"
    }
   ],
   "source": [
    "s1.rstrip()"
   ]
  },
  {
   "cell_type": "code",
   "execution_count": 39,
   "id": "91bcd0f8",
   "metadata": {},
   "outputs": [
    {
     "data": {
      "text/plain": [
       "'java'"
      ]
     },
     "execution_count": 39,
     "metadata": {},
     "output_type": "execute_result"
    }
   ],
   "source": [
    "s1.strip()"
   ]
  },
  {
   "cell_type": "code",
   "execution_count": 40,
   "id": "5f2b6e40",
   "metadata": {},
   "outputs": [],
   "source": [
    "s2='@@@python@@@'"
   ]
  },
  {
   "cell_type": "code",
   "execution_count": 41,
   "id": "ac15bfcf",
   "metadata": {},
   "outputs": [
    {
     "data": {
      "text/plain": [
       "'python@@@'"
      ]
     },
     "execution_count": 41,
     "metadata": {},
     "output_type": "execute_result"
    }
   ],
   "source": [
    "s2.lstrip('@')"
   ]
  },
  {
   "cell_type": "code",
   "execution_count": 42,
   "id": "60ff49b8",
   "metadata": {},
   "outputs": [
    {
     "data": {
      "text/plain": [
       "'@@@python'"
      ]
     },
     "execution_count": 42,
     "metadata": {},
     "output_type": "execute_result"
    }
   ],
   "source": [
    "s2.rstrip('@')"
   ]
  },
  {
   "cell_type": "code",
   "execution_count": 43,
   "id": "59e59bf2",
   "metadata": {},
   "outputs": [
    {
     "data": {
      "text/plain": [
       "'python'"
      ]
     },
     "execution_count": 43,
     "metadata": {},
     "output_type": "execute_result"
    }
   ],
   "source": [
    "s2.strip('@')"
   ]
  },
  {
   "cell_type": "code",
   "execution_count": 44,
   "id": "a64bc4c7",
   "metadata": {},
   "outputs": [],
   "source": [
    "s3='https:\\\\www.java.com'"
   ]
  },
  {
   "cell_type": "code",
   "execution_count": 47,
   "id": "fbc8b2fc",
   "metadata": {},
   "outputs": [
    {
     "data": {
      "text/plain": [
       "'.java.com'"
      ]
     },
     "execution_count": 47,
     "metadata": {},
     "output_type": "execute_result"
    }
   ],
   "source": [
    "s3.lstrip('htps:\\w')"
   ]
  },
  {
   "cell_type": "code",
   "execution_count": 50,
   "id": "043f3b51",
   "metadata": {},
   "outputs": [
    {
     "data": {
      "text/plain": [
       "'https:\\\\www.j'"
      ]
     },
     "execution_count": 50,
     "metadata": {},
     "output_type": "execute_result"
    }
   ],
   "source": [
    "s3.rstrip('a.comv')"
   ]
  },
  {
   "cell_type": "code",
   "execution_count": 51,
   "id": "d80858a2",
   "metadata": {},
   "outputs": [
    {
     "data": {
      "text/plain": [
       "':\\\\www.java'"
      ]
     },
     "execution_count": 51,
     "metadata": {},
     "output_type": "execute_result"
    }
   ],
   "source": [
    "s3.strip('hmo.ctps')"
   ]
  },
  {
   "cell_type": "code",
   "execution_count": 52,
   "id": "5eb071ca",
   "metadata": {},
   "outputs": [],
   "source": [
    "# upper()  ---- convert all charater to upper case\n",
    "# lower()   ----- convert all charater to lower case\n",
    "# swapcase()   -----invert the case of all sring"
   ]
  },
  {
   "cell_type": "code",
   "execution_count": 53,
   "id": "9dc3858e",
   "metadata": {},
   "outputs": [],
   "source": [
    "s='JavaTPoint'"
   ]
  },
  {
   "cell_type": "code",
   "execution_count": 54,
   "id": "c1e3d9ed",
   "metadata": {},
   "outputs": [
    {
     "data": {
      "text/plain": [
       "'JAVATPOINT'"
      ]
     },
     "execution_count": 54,
     "metadata": {},
     "output_type": "execute_result"
    }
   ],
   "source": [
    "s.upper()"
   ]
  },
  {
   "cell_type": "code",
   "execution_count": 55,
   "id": "00a6a61a",
   "metadata": {},
   "outputs": [
    {
     "data": {
      "text/plain": [
       "'javatpoint'"
      ]
     },
     "execution_count": 55,
     "metadata": {},
     "output_type": "execute_result"
    }
   ],
   "source": [
    "s.lower()"
   ]
  },
  {
   "cell_type": "code",
   "execution_count": 56,
   "id": "3ee55e5c",
   "metadata": {},
   "outputs": [
    {
     "data": {
      "text/plain": [
       "'jAVAtpOINT'"
      ]
     },
     "execution_count": 56,
     "metadata": {},
     "output_type": "execute_result"
    }
   ],
   "source": [
    "s.swapcase()"
   ]
  },
  {
   "cell_type": "code",
   "execution_count": 5,
   "id": "f1d40a40",
   "metadata": {},
   "outputs": [],
   "source": [
    "s = 'javatpoint is a web page'"
   ]
  },
  {
   "cell_type": "code",
   "execution_count": 6,
   "id": "13e76979",
   "metadata": {},
   "outputs": [
    {
     "data": {
      "text/plain": [
       "'Javatpoint Is A Web Page'"
      ]
     },
     "execution_count": 6,
     "metadata": {},
     "output_type": "execute_result"
    }
   ],
   "source": [
    "s.title()"
   ]
  },
  {
   "cell_type": "code",
   "execution_count": 7,
   "id": "ff6acefe",
   "metadata": {},
   "outputs": [],
   "source": [
    "s = 'javatpoint is a web page.\\nlearn python.'"
   ]
  },
  {
   "cell_type": "code",
   "execution_count": 8,
   "id": "7d532d1a",
   "metadata": {},
   "outputs": [
    {
     "data": {
      "text/plain": [
       "'Javatpoint Is A Web Page.\\nLearn Python.'"
      ]
     },
     "execution_count": 8,
     "metadata": {},
     "output_type": "execute_result"
    }
   ],
   "source": [
    "s.title()"
   ]
  },
  {
   "cell_type": "code",
   "execution_count": 9,
   "id": "507992e8",
   "metadata": {},
   "outputs": [],
   "source": [
    "# translate()"
   ]
  },
  {
   "cell_type": "code",
   "execution_count": 10,
   "id": "d3e0d3de",
   "metadata": {},
   "outputs": [
    {
     "name": "stdout",
     "output_type": "stream",
     "text": [
      "Hellp jgvgtppint\n"
     ]
    }
   ],
   "source": [
    "# Python translate() method   \n",
    "# Declaring table and variables  \n",
    "table = { 97 : 103, 111 : 112, 117 : None }  \n",
    "str = \"Hello javatpoint\"  \n",
    "# Calling function  \n",
    "str2 = str.translate(table)  \n",
    "# Displaying result  \n",
    "print(str2) "
   ]
  },
  {
   "cell_type": "code",
   "execution_count": 11,
   "id": "d918fc91",
   "metadata": {},
   "outputs": [],
   "source": [
    "match = {'a':'b','t':'l','o':'a'}\n",
    "str1 = 'Hello javaTpoint'"
   ]
  },
  {
   "cell_type": "code",
   "execution_count": 12,
   "id": "76e5992b",
   "metadata": {},
   "outputs": [
    {
     "data": {
      "text/plain": [
       "'Hello javaTpoint'"
      ]
     },
     "execution_count": 12,
     "metadata": {},
     "output_type": "execute_result"
    }
   ],
   "source": [
    "str1.translate(match)"
   ]
  },
  {
   "cell_type": "code",
   "execution_count": 14,
   "id": "921c98a8",
   "metadata": {},
   "outputs": [
    {
     "data": {
      "text/plain": [
       "'Hello javaTpoint'"
      ]
     },
     "execution_count": 14,
     "metadata": {},
     "output_type": "execute_result"
    }
   ],
   "source": [
    "match = {'a':104,'t':112,'o':97}\n",
    "str1 = 'Hello javaTpoint'\n",
    "str1.translate(match)"
   ]
  },
  {
   "cell_type": "code",
   "execution_count": 15,
   "id": "ead0af02",
   "metadata": {},
   "outputs": [],
   "source": [
    "str1 = 'hello this is javatpoint'"
   ]
  },
  {
   "cell_type": "code",
   "execution_count": 16,
   "id": "3fcabdc2",
   "metadata": {},
   "outputs": [
    {
     "data": {
      "text/plain": [
       "True"
      ]
     },
     "execution_count": 16,
     "metadata": {},
     "output_type": "execute_result"
    }
   ],
   "source": [
    "str1.endswith('int')"
   ]
  },
  {
   "cell_type": "code",
   "execution_count": 17,
   "id": "90bd1a9b",
   "metadata": {},
   "outputs": [
    {
     "data": {
      "text/plain": [
       "True"
      ]
     },
     "execution_count": 17,
     "metadata": {},
     "output_type": "execute_result"
    }
   ],
   "source": [
    "str1.endswith('is',0,10)"
   ]
  },
  {
   "cell_type": "code",
   "execution_count": 18,
   "id": "e142484d",
   "metadata": {},
   "outputs": [
    {
     "data": {
      "text/plain": [
       "False"
      ]
     },
     "execution_count": 18,
     "metadata": {},
     "output_type": "execute_result"
    }
   ],
   "source": [
    "str1.endswith('InT')"
   ]
  },
  {
   "cell_type": "code",
   "execution_count": 19,
   "id": "373e7221",
   "metadata": {},
   "outputs": [
    {
     "ename": "AttributeError",
     "evalue": "'str' object has no attribute 'Endswith'",
     "output_type": "error",
     "traceback": [
      "\u001b[1;31m---------------------------------------------------------------------------\u001b[0m",
      "\u001b[1;31mAttributeError\u001b[0m                            Traceback (most recent call last)",
      "\u001b[1;32m<ipython-input-19-e329b2ae135b>\u001b[0m in \u001b[0;36m<module>\u001b[1;34m\u001b[0m\n\u001b[1;32m----> 1\u001b[1;33m \u001b[0mstr1\u001b[0m\u001b[1;33m.\u001b[0m\u001b[0mEndswith\u001b[0m\u001b[1;33m(\u001b[0m\u001b[1;34m't'\u001b[0m\u001b[1;33m)\u001b[0m\u001b[1;33m\u001b[0m\u001b[1;33m\u001b[0m\u001b[0m\n\u001b[0m",
      "\u001b[1;31mAttributeError\u001b[0m: 'str' object has no attribute 'Endswith'"
     ]
    }
   ],
   "source": [
    "str1.Endswith('t')"
   ]
  },
  {
   "cell_type": "code",
   "execution_count": 20,
   "id": "f3acff48",
   "metadata": {},
   "outputs": [
    {
     "data": {
      "text/plain": [
       "False"
      ]
     },
     "execution_count": 20,
     "metadata": {},
     "output_type": "execute_result"
    }
   ],
   "source": [
    "str1.startswith('Hel',0)"
   ]
  },
  {
   "cell_type": "code",
   "execution_count": 21,
   "id": "b3fd469f",
   "metadata": {},
   "outputs": [
    {
     "data": {
      "text/plain": [
       "True"
      ]
     },
     "execution_count": 21,
     "metadata": {},
     "output_type": "execute_result"
    }
   ],
   "source": [
    "str1.startswith('hel',0)"
   ]
  },
  {
   "cell_type": "code",
   "execution_count": 1,
   "id": "e090fc3e",
   "metadata": {},
   "outputs": [],
   "source": [
    "str1 = 'Hello this is java'"
   ]
  },
  {
   "cell_type": "code",
   "execution_count": 2,
   "id": "f571289f",
   "metadata": {},
   "outputs": [
    {
     "data": {
      "text/plain": [
       "2"
      ]
     },
     "execution_count": 2,
     "metadata": {},
     "output_type": "execute_result"
    }
   ],
   "source": [
    "str1.count('is')"
   ]
  },
  {
   "cell_type": "code",
   "execution_count": 3,
   "id": "d86a6907",
   "metadata": {},
   "outputs": [
    {
     "data": {
      "text/plain": [
       "1"
      ]
     },
     "execution_count": 3,
     "metadata": {},
     "output_type": "execute_result"
    }
   ],
   "source": [
    "str1.count('is',0,10)"
   ]
  },
  {
   "cell_type": "code",
   "execution_count": 4,
   "id": "db20b4f3",
   "metadata": {},
   "outputs": [
    {
     "data": {
      "text/plain": [
       "0"
      ]
     },
     "execution_count": 4,
     "metadata": {},
     "output_type": "execute_result"
    }
   ],
   "source": [
    "str1.count('is',0,9)"
   ]
  },
  {
   "cell_type": "code",
   "execution_count": 5,
   "id": "db3567a0",
   "metadata": {},
   "outputs": [
    {
     "data": {
      "text/plain": [
       "'Hello this is java'"
      ]
     },
     "execution_count": 5,
     "metadata": {},
     "output_type": "execute_result"
    }
   ],
   "source": [
    "str1"
   ]
  },
  {
   "cell_type": "code",
   "execution_count": 6,
   "id": "949e221d",
   "metadata": {},
   "outputs": [
    {
     "data": {
      "text/plain": [
       "8"
      ]
     },
     "execution_count": 6,
     "metadata": {},
     "output_type": "execute_result"
    }
   ],
   "source": [
    "str1.find('is')"
   ]
  },
  {
   "cell_type": "code",
   "execution_count": 10,
   "id": "0f3597f2",
   "metadata": {},
   "outputs": [
    {
     "data": {
      "text/plain": [
       "11"
      ]
     },
     "execution_count": 10,
     "metadata": {},
     "output_type": "execute_result"
    }
   ],
   "source": [
    "str1.rfind('is')"
   ]
  },
  {
   "cell_type": "code",
   "execution_count": 7,
   "id": "6b7f41a6",
   "metadata": {},
   "outputs": [
    {
     "data": {
      "text/plain": [
       "-1"
      ]
     },
     "execution_count": 7,
     "metadata": {},
     "output_type": "execute_result"
    }
   ],
   "source": [
    "str1.find('and')"
   ]
  },
  {
   "cell_type": "code",
   "execution_count": 8,
   "id": "2c94487a",
   "metadata": {},
   "outputs": [
    {
     "data": {
      "text/plain": [
       "8"
      ]
     },
     "execution_count": 8,
     "metadata": {},
     "output_type": "execute_result"
    }
   ],
   "source": [
    "str1.index('is')"
   ]
  },
  {
   "cell_type": "code",
   "execution_count": 12,
   "id": "0eee5775",
   "metadata": {},
   "outputs": [
    {
     "data": {
      "text/plain": [
       "11"
      ]
     },
     "execution_count": 12,
     "metadata": {},
     "output_type": "execute_result"
    }
   ],
   "source": [
    "str1.rindex('is')"
   ]
  },
  {
   "cell_type": "code",
   "execution_count": 9,
   "id": "5262f114",
   "metadata": {},
   "outputs": [
    {
     "ename": "ValueError",
     "evalue": "substring not found",
     "output_type": "error",
     "traceback": [
      "\u001b[1;31m---------------------------------------------------------------------------\u001b[0m",
      "\u001b[1;31mValueError\u001b[0m                                Traceback (most recent call last)",
      "\u001b[1;32m<ipython-input-9-070ea8f4a4ab>\u001b[0m in \u001b[0;36m<module>\u001b[1;34m\u001b[0m\n\u001b[1;32m----> 1\u001b[1;33m \u001b[0mstr1\u001b[0m\u001b[1;33m.\u001b[0m\u001b[0mindex\u001b[0m\u001b[1;33m(\u001b[0m\u001b[1;34m'and'\u001b[0m\u001b[1;33m)\u001b[0m\u001b[1;33m\u001b[0m\u001b[1;33m\u001b[0m\u001b[0m\n\u001b[0m",
      "\u001b[1;31mValueError\u001b[0m: substring not found"
     ]
    }
   ],
   "source": [
    "str1.index('and')"
   ]
  },
  {
   "cell_type": "code",
   "execution_count": 13,
   "id": "39d62a8c",
   "metadata": {},
   "outputs": [],
   "source": [
    "s = 'Hello'"
   ]
  },
  {
   "cell_type": "code",
   "execution_count": 14,
   "id": "895efa56",
   "metadata": {},
   "outputs": [
    {
     "data": {
      "text/plain": [
       "5"
      ]
     },
     "execution_count": 14,
     "metadata": {},
     "output_type": "execute_result"
    }
   ],
   "source": [
    "len(s)"
   ]
  },
  {
   "cell_type": "code",
   "execution_count": 2,
   "id": "a202ab0f",
   "metadata": {},
   "outputs": [],
   "source": [
    "s = 'h.......t.hth...ht'"
   ]
  },
  {
   "cell_type": "code",
   "execution_count": 3,
   "id": "e959bfda",
   "metadata": {},
   "outputs": [
    {
     "data": {
      "text/plain": [
       "'h.......t.hth...ht'"
      ]
     },
     "execution_count": 3,
     "metadata": {},
     "output_type": "execute_result"
    }
   ],
   "source": [
    "s"
   ]
  },
  {
   "cell_type": "code",
   "execution_count": 4,
   "id": "3cf6952b",
   "metadata": {},
   "outputs": [
    {
     "data": {
      "text/plain": [
       "'hththht'"
      ]
     },
     "execution_count": 4,
     "metadata": {},
     "output_type": "execute_result"
    }
   ],
   "source": [
    "s.replace('.','')"
   ]
  },
  {
   "cell_type": "code",
   "execution_count": null,
   "id": "5c44f467",
   "metadata": {},
   "outputs": [],
   "source": []
  }
 ],
 "metadata": {
  "kernelspec": {
   "display_name": "Python 3",
   "language": "python",
   "name": "python3"
  },
  "language_info": {
   "codemirror_mode": {
    "name": "ipython",
    "version": 3
   },
   "file_extension": ".py",
   "mimetype": "text/x-python",
   "name": "python",
   "nbconvert_exporter": "python",
   "pygments_lexer": "ipython3",
   "version": "3.8.8"
  }
 },
 "nbformat": 4,
 "nbformat_minor": 5
}
