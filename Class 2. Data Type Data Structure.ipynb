{
 "cells": [
  {
   "cell_type": "code",
   "execution_count": 1,
   "id": "7054e761",
   "metadata": {},
   "outputs": [],
   "source": [
    "#Data type/ Data Structure"
   ]
  },
  {
   "cell_type": "code",
   "execution_count": 2,
   "id": "c89d9156",
   "metadata": {},
   "outputs": [],
   "source": [
    "a=10"
   ]
  },
  {
   "cell_type": "code",
   "execution_count": 3,
   "id": "f0bd6aa8",
   "metadata": {},
   "outputs": [],
   "source": [
    "b=30"
   ]
  },
  {
   "cell_type": "code",
   "execution_count": 4,
   "id": "bf64eba7",
   "metadata": {},
   "outputs": [],
   "source": [
    "c=a+b"
   ]
  },
  {
   "cell_type": "code",
   "execution_count": 5,
   "id": "a4ee22c5",
   "metadata": {},
   "outputs": [
    {
     "data": {
      "text/plain": [
       "40"
      ]
     },
     "execution_count": 5,
     "metadata": {},
     "output_type": "execute_result"
    }
   ],
   "source": [
    "c"
   ]
  },
  {
   "cell_type": "markdown",
   "id": "cb7a1586",
   "metadata": {},
   "source": [
    "Example of Markdown"
   ]
  },
  {
   "cell_type": "code",
   "execution_count": 6,
   "id": "19931d1e",
   "metadata": {},
   "outputs": [],
   "source": [
    "#Type of Data"
   ]
  },
  {
   "cell_type": "code",
   "execution_count": 8,
   "id": "3c4785ee",
   "metadata": {},
   "outputs": [
    {
     "data": {
      "text/plain": [
       "complex"
      ]
     },
     "execution_count": 8,
     "metadata": {},
     "output_type": "execute_result"
    }
   ],
   "source": [
    "int\n",
    "float\n",
    "str\n",
    "None\n",
    "bool\n",
    "complex"
   ]
  },
  {
   "cell_type": "code",
   "execution_count": 9,
   "id": "3ed3b561",
   "metadata": {},
   "outputs": [],
   "source": [
    "#integer-->complete number without fraction/decimal point"
   ]
  },
  {
   "cell_type": "code",
   "execution_count": 10,
   "id": "76154e04",
   "metadata": {},
   "outputs": [],
   "source": [
    "a=10"
   ]
  },
  {
   "cell_type": "code",
   "execution_count": 11,
   "id": "96bde8ee",
   "metadata": {},
   "outputs": [
    {
     "data": {
      "text/plain": [
       "int"
      ]
     },
     "execution_count": 11,
     "metadata": {},
     "output_type": "execute_result"
    }
   ],
   "source": [
    "type(a)"
   ]
  },
  {
   "cell_type": "code",
   "execution_count": 12,
   "id": "d72db86c",
   "metadata": {},
   "outputs": [],
   "source": [
    "#can not use keyword as identifier"
   ]
  },
  {
   "cell_type": "code",
   "execution_count": 13,
   "id": "aa91a02b",
   "metadata": {},
   "outputs": [],
   "source": [
    "import keyword"
   ]
  },
  {
   "cell_type": "code",
   "execution_count": 15,
   "id": "cf34fc5b",
   "metadata": {},
   "outputs": [
    {
     "data": {
      "text/plain": [
       "['False',\n",
       " 'None',\n",
       " 'True',\n",
       " 'and',\n",
       " 'as',\n",
       " 'assert',\n",
       " 'async',\n",
       " 'await',\n",
       " 'break',\n",
       " 'class',\n",
       " 'continue',\n",
       " 'def',\n",
       " 'del',\n",
       " 'elif',\n",
       " 'else',\n",
       " 'except',\n",
       " 'finally',\n",
       " 'for',\n",
       " 'from',\n",
       " 'global',\n",
       " 'if',\n",
       " 'import',\n",
       " 'in',\n",
       " 'is',\n",
       " 'lambda',\n",
       " 'nonlocal',\n",
       " 'not',\n",
       " 'or',\n",
       " 'pass',\n",
       " 'raise',\n",
       " 'return',\n",
       " 'try',\n",
       " 'while',\n",
       " 'with',\n",
       " 'yield']"
      ]
     },
     "execution_count": 15,
     "metadata": {},
     "output_type": "execute_result"
    }
   ],
   "source": [
    "keyword.kwlist"
   ]
  },
  {
   "cell_type": "code",
   "execution_count": 16,
   "id": "65f40b30",
   "metadata": {},
   "outputs": [],
   "source": [
    "#Types of Cases"
   ]
  },
  {
   "cell_type": "code",
   "execution_count": 17,
   "id": "fc59669c",
   "metadata": {},
   "outputs": [
    {
     "ename": "SyntaxError",
     "evalue": "invalid syntax (<ipython-input-17-f339782ea85f>, line 1)",
     "output_type": "error",
     "traceback": [
      "\u001b[1;36m  File \u001b[1;32m\"<ipython-input-17-f339782ea85f>\"\u001b[1;36m, line \u001b[1;32m1\u001b[0m\n\u001b[1;33m    1. PascalCase\u001b[0m\n\u001b[1;37m       ^\u001b[0m\n\u001b[1;31mSyntaxError\u001b[0m\u001b[1;31m:\u001b[0m invalid syntax\n"
     ]
    }
   ],
   "source": [
    "1. PascalCase\n",
    "2. camelCase\n",
    "3. Snake_Case\n",
    "4. kebab-case: Not supported in python"
   ]
  },
  {
   "cell_type": "code",
   "execution_count": 21,
   "id": "1f2dc352",
   "metadata": {},
   "outputs": [
    {
     "ename": "SyntaxError",
     "evalue": "cannot assign to operator (<ipython-input-21-19dc1b74b633>, line 1)",
     "output_type": "error",
     "traceback": [
      "\u001b[1;36m  File \u001b[1;32m\"<ipython-input-21-19dc1b74b633>\"\u001b[1;36m, line \u001b[1;32m1\u001b[0m\n\u001b[1;33m    py-list=[3,2,5,7]\u001b[0m\n\u001b[1;37m    ^\u001b[0m\n\u001b[1;31mSyntaxError\u001b[0m\u001b[1;31m:\u001b[0m cannot assign to operator\n"
     ]
    }
   ],
   "source": [
    "py-list=[3,2,5,7]"
   ]
  },
  {
   "cell_type": "code",
   "execution_count": 22,
   "id": "19adf3f7",
   "metadata": {},
   "outputs": [
    {
     "ename": "SyntaxError",
     "evalue": "cannot assign to operator (<ipython-input-22-4d05c52af70d>, line 1)",
     "output_type": "error",
     "traceback": [
      "\u001b[1;36m  File \u001b[1;32m\"<ipython-input-22-4d05c52af70d>\"\u001b[1;36m, line \u001b[1;32m1\u001b[0m\n\u001b[1;33m    py-list=10\u001b[0m\n\u001b[1;37m    ^\u001b[0m\n\u001b[1;31mSyntaxError\u001b[0m\u001b[1;31m:\u001b[0m cannot assign to operator\n"
     ]
    }
   ],
   "source": [
    "py-list=10"
   ]
  },
  {
   "cell_type": "code",
   "execution_count": 23,
   "id": "ea45edf4",
   "metadata": {},
   "outputs": [],
   "source": [
    "py_list=20"
   ]
  },
  {
   "cell_type": "code",
   "execution_count": 24,
   "id": "ced41aa2",
   "metadata": {},
   "outputs": [
    {
     "data": {
      "text/plain": [
       "20"
      ]
     },
     "execution_count": 24,
     "metadata": {},
     "output_type": "execute_result"
    }
   ],
   "source": [
    "py_list"
   ]
  },
  {
   "cell_type": "code",
   "execution_count": 25,
   "id": "d28d7b3d",
   "metadata": {},
   "outputs": [],
   "source": [
    "#float-->Number with fraction/ decimal point"
   ]
  },
  {
   "cell_type": "code",
   "execution_count": 26,
   "id": "14e9d63e",
   "metadata": {},
   "outputs": [],
   "source": [
    "b=366.97"
   ]
  },
  {
   "cell_type": "code",
   "execution_count": 27,
   "id": "9746fe1f",
   "metadata": {},
   "outputs": [
    {
     "data": {
      "text/plain": [
       "366.97"
      ]
     },
     "execution_count": 27,
     "metadata": {},
     "output_type": "execute_result"
    }
   ],
   "source": [
    "b"
   ]
  },
  {
   "cell_type": "code",
   "execution_count": 28,
   "id": "12033e21",
   "metadata": {},
   "outputs": [
    {
     "data": {
      "text/plain": [
       "float"
      ]
     },
     "execution_count": 28,
     "metadata": {},
     "output_type": "execute_result"
    }
   ],
   "source": [
    "type(b)"
   ]
  },
  {
   "cell_type": "code",
   "execution_count": 29,
   "id": "46447517",
   "metadata": {},
   "outputs": [
    {
     "data": {
      "text/plain": [
       "10"
      ]
     },
     "execution_count": 29,
     "metadata": {},
     "output_type": "execute_result"
    }
   ],
   "source": [
    "a"
   ]
  },
  {
   "cell_type": "code",
   "execution_count": 30,
   "id": "d1b1bf93",
   "metadata": {},
   "outputs": [],
   "source": [
    "c=a+b"
   ]
  },
  {
   "cell_type": "code",
   "execution_count": 31,
   "id": "a25156fb",
   "metadata": {},
   "outputs": [
    {
     "data": {
      "text/plain": [
       "376.97"
      ]
     },
     "execution_count": 31,
     "metadata": {},
     "output_type": "execute_result"
    }
   ],
   "source": [
    "c"
   ]
  },
  {
   "cell_type": "code",
   "execution_count": 32,
   "id": "60a0ce3b",
   "metadata": {},
   "outputs": [
    {
     "data": {
      "text/plain": [
       "float"
      ]
     },
     "execution_count": 32,
     "metadata": {},
     "output_type": "execute_result"
    }
   ],
   "source": [
    "type(c)"
   ]
  },
  {
   "cell_type": "code",
   "execution_count": 34,
   "id": "4e6da04b",
   "metadata": {},
   "outputs": [],
   "source": [
    "d=50"
   ]
  },
  {
   "cell_type": "code",
   "execution_count": 35,
   "id": "2bde59cc",
   "metadata": {},
   "outputs": [],
   "source": [
    "e=a+d"
   ]
  },
  {
   "cell_type": "code",
   "execution_count": 36,
   "id": "921f3686",
   "metadata": {},
   "outputs": [
    {
     "data": {
      "text/plain": [
       "int"
      ]
     },
     "execution_count": 36,
     "metadata": {},
     "output_type": "execute_result"
    }
   ],
   "source": [
    "type(e)"
   ]
  },
  {
   "cell_type": "code",
   "execution_count": 37,
   "id": "247ac8d7",
   "metadata": {},
   "outputs": [],
   "source": [
    "#str-->collection of character"
   ]
  },
  {
   "cell_type": "code",
   "execution_count": 38,
   "id": "733a8564",
   "metadata": {},
   "outputs": [],
   "source": [
    "s='python'"
   ]
  },
  {
   "cell_type": "code",
   "execution_count": 39,
   "id": "65b8af9e",
   "metadata": {},
   "outputs": [
    {
     "name": "stdout",
     "output_type": "stream",
     "text": [
      "<class 'str'>\n"
     ]
    }
   ],
   "source": [
    "print(type(s))"
   ]
  },
  {
   "cell_type": "code",
   "execution_count": 40,
   "id": "f7f4397a",
   "metadata": {},
   "outputs": [
    {
     "name": "stdout",
     "output_type": "stream",
     "text": [
      "python\n"
     ]
    }
   ],
   "source": [
    "print(s)"
   ]
  },
  {
   "cell_type": "code",
   "execution_count": null,
   "id": "f74e2ac4",
   "metadata": {},
   "outputs": [],
   "source": [
    "#strName[startIndex] -->reture the character present at given index"
   ]
  },
  {
   "cell_type": "code",
   "execution_count": 41,
   "id": "ac98257d",
   "metadata": {},
   "outputs": [
    {
     "data": {
      "text/plain": [
       "'t'"
      ]
     },
     "execution_count": 41,
     "metadata": {},
     "output_type": "execute_result"
    }
   ],
   "source": [
    "s[2]"
   ]
  },
  {
   "cell_type": "code",
   "execution_count": 51,
   "id": "eeab814a",
   "metadata": {},
   "outputs": [
    {
     "ename": "IndexError",
     "evalue": "string index out of range",
     "output_type": "error",
     "traceback": [
      "\u001b[1;31m---------------------------------------------------------------------------\u001b[0m",
      "\u001b[1;31mIndexError\u001b[0m                                Traceback (most recent call last)",
      "\u001b[1;32m<ipython-input-51-34c622ab6870>\u001b[0m in \u001b[0;36m<module>\u001b[1;34m\u001b[0m\n\u001b[1;32m----> 1\u001b[1;33m \u001b[0ms\u001b[0m\u001b[1;33m[\u001b[0m\u001b[1;36m10\u001b[0m\u001b[1;33m]\u001b[0m\u001b[1;33m\u001b[0m\u001b[1;33m\u001b[0m\u001b[0m\n\u001b[0m",
      "\u001b[1;31mIndexError\u001b[0m: string index out of range"
     ]
    }
   ],
   "source": [
    "s[10]"
   ]
  },
  {
   "cell_type": "code",
   "execution_count": null,
   "id": "345279d1",
   "metadata": {},
   "outputs": [],
   "source": [
    "#strName[startIndex:endIndex]-->return the slice of string, \n",
    "#startIndex charater is included \n",
    "#but endIndex charater is excluded in the result"
   ]
  },
  {
   "cell_type": "code",
   "execution_count": 42,
   "id": "639decc0",
   "metadata": {},
   "outputs": [
    {
     "data": {
      "text/plain": [
       "'th'"
      ]
     },
     "execution_count": 42,
     "metadata": {},
     "output_type": "execute_result"
    }
   ],
   "source": [
    "s[2:4]"
   ]
  },
  {
   "cell_type": "code",
   "execution_count": 43,
   "id": "9c67cc92",
   "metadata": {},
   "outputs": [
    {
     "data": {
      "text/plain": [
       "'ph'"
      ]
     },
     "execution_count": 43,
     "metadata": {},
     "output_type": "execute_result"
    }
   ],
   "source": [
    "s[::3]"
   ]
  },
  {
   "cell_type": "code",
   "execution_count": 52,
   "id": "590a79e0",
   "metadata": {},
   "outputs": [],
   "source": [
    "#strName[::-1]--> reverse the string"
   ]
  },
  {
   "cell_type": "code",
   "execution_count": 44,
   "id": "9262d8f8",
   "metadata": {},
   "outputs": [
    {
     "data": {
      "text/plain": [
       "'nohtyp'"
      ]
     },
     "execution_count": 44,
     "metadata": {},
     "output_type": "execute_result"
    }
   ],
   "source": [
    "s[::-1]"
   ]
  },
  {
   "cell_type": "code",
   "execution_count": 53,
   "id": "2a48c524",
   "metadata": {},
   "outputs": [
    {
     "data": {
      "text/plain": [
       "'python'"
      ]
     },
     "execution_count": 53,
     "metadata": {},
     "output_type": "execute_result"
    }
   ],
   "source": [
    "s[::]"
   ]
  },
  {
   "cell_type": "code",
   "execution_count": 54,
   "id": "c044ed29",
   "metadata": {},
   "outputs": [
    {
     "data": {
      "text/plain": [
       "'ython'"
      ]
     },
     "execution_count": 54,
     "metadata": {},
     "output_type": "execute_result"
    }
   ],
   "source": [
    "s[1::]"
   ]
  },
  {
   "cell_type": "code",
   "execution_count": 55,
   "id": "cf524a5c",
   "metadata": {},
   "outputs": [
    {
     "data": {
      "text/plain": [
       "'hon'"
      ]
     },
     "execution_count": 55,
     "metadata": {},
     "output_type": "execute_result"
    }
   ],
   "source": [
    "s[3::]"
   ]
  },
  {
   "cell_type": "code",
   "execution_count": 56,
   "id": "453472d7",
   "metadata": {},
   "outputs": [
    {
     "data": {
      "text/plain": [
       "'hon'"
      ]
     },
     "execution_count": 56,
     "metadata": {},
     "output_type": "execute_result"
    }
   ],
   "source": [
    "s[3:]"
   ]
  },
  {
   "cell_type": "code",
   "execution_count": null,
   "id": "6d8196fb",
   "metadata": {},
   "outputs": [],
   "source": [
    "#strName[startIndex:endIndex:step]-->return string, string is collection of charater that are present at step\n",
    "#str1='python'                p y t h o n\n",
    "#str1[::2]                    0 1 2 3 4 5--index\n",
    "#o/p: 'pto'\n",
    "#      024"
   ]
  },
  {
   "cell_type": "code",
   "execution_count": 45,
   "id": "3ba4a0a5",
   "metadata": {},
   "outputs": [
    {
     "data": {
      "text/plain": [
       "'pto'"
      ]
     },
     "execution_count": 45,
     "metadata": {},
     "output_type": "execute_result"
    }
   ],
   "source": [
    "s[::2]"
   ]
  },
  {
   "cell_type": "code",
   "execution_count": 58,
   "id": "007b48f6",
   "metadata": {},
   "outputs": [
    {
     "data": {
      "text/plain": [
       "'p'"
      ]
     },
     "execution_count": 58,
     "metadata": {},
     "output_type": "execute_result"
    }
   ],
   "source": [
    "s[:1]"
   ]
  },
  {
   "cell_type": "code",
   "execution_count": 62,
   "id": "9709fb59",
   "metadata": {},
   "outputs": [
    {
     "data": {
      "text/plain": [
       "'po'"
      ]
     },
     "execution_count": 62,
     "metadata": {},
     "output_type": "execute_result"
    }
   ],
   "source": [
    "s[::4]"
   ]
  },
  {
   "cell_type": "code",
   "execution_count": 59,
   "id": "a9a89ace",
   "metadata": {},
   "outputs": [
    {
     "data": {
      "text/plain": [
       "str"
      ]
     },
     "execution_count": 59,
     "metadata": {},
     "output_type": "execute_result"
    }
   ],
   "source": [
    "type(s[:4])"
   ]
  },
  {
   "cell_type": "code",
   "execution_count": 60,
   "id": "6dba73d0",
   "metadata": {},
   "outputs": [
    {
     "data": {
      "text/plain": [
       "'pytho'"
      ]
     },
     "execution_count": 60,
     "metadata": {},
     "output_type": "execute_result"
    }
   ],
   "source": [
    "s[:5]"
   ]
  },
  {
   "cell_type": "code",
   "execution_count": 49,
   "id": "c45ecf49",
   "metadata": {},
   "outputs": [
    {
     "data": {
      "text/plain": [
       "'p'"
      ]
     },
     "execution_count": 49,
     "metadata": {},
     "output_type": "execute_result"
    }
   ],
   "source": [
    "s[::6]"
   ]
  },
  {
   "cell_type": "code",
   "execution_count": 61,
   "id": "ced2a34e",
   "metadata": {},
   "outputs": [
    {
     "data": {
      "text/plain": [
       "'python'"
      ]
     },
     "execution_count": 61,
     "metadata": {},
     "output_type": "execute_result"
    }
   ],
   "source": [
    "s[:8]"
   ]
  },
  {
   "cell_type": "code",
   "execution_count": 63,
   "id": "9c4d2a7d",
   "metadata": {},
   "outputs": [],
   "source": [
    "#len(strName)--> Length of string"
   ]
  },
  {
   "cell_type": "code",
   "execution_count": 64,
   "id": "3247b53d",
   "metadata": {},
   "outputs": [],
   "source": [
    "userName='Hadoop'"
   ]
  },
  {
   "cell_type": "code",
   "execution_count": 66,
   "id": "6e74810e",
   "metadata": {},
   "outputs": [
    {
     "data": {
      "text/plain": [
       "6"
      ]
     },
     "execution_count": 66,
     "metadata": {},
     "output_type": "execute_result"
    }
   ],
   "source": [
    "len(userName)"
   ]
  },
  {
   "cell_type": "code",
   "execution_count": null,
   "id": "fead2c96",
   "metadata": {},
   "outputs": [],
   "source": [
    "#last index of string is equal to length of string minus 1\n",
    "#lastIndex = len-1"
   ]
  },
  {
   "cell_type": "code",
   "execution_count": 67,
   "id": "5d6bf3bf",
   "metadata": {},
   "outputs": [],
   "source": [
    "person=len(userName)"
   ]
  },
  {
   "cell_type": "code",
   "execution_count": 68,
   "id": "9335dd67",
   "metadata": {},
   "outputs": [
    {
     "ename": "IndexError",
     "evalue": "string index out of range",
     "output_type": "error",
     "traceback": [
      "\u001b[1;31m---------------------------------------------------------------------------\u001b[0m",
      "\u001b[1;31mIndexError\u001b[0m                                Traceback (most recent call last)",
      "\u001b[1;32m<ipython-input-68-f6bc993a8a6c>\u001b[0m in \u001b[0;36m<module>\u001b[1;34m\u001b[0m\n\u001b[1;32m----> 1\u001b[1;33m \u001b[0mlastLetterName\u001b[0m\u001b[1;33m=\u001b[0m\u001b[0muserName\u001b[0m\u001b[1;33m[\u001b[0m\u001b[0mperson\u001b[0m\u001b[1;33m]\u001b[0m\u001b[1;33m\u001b[0m\u001b[1;33m\u001b[0m\u001b[0m\n\u001b[0m",
      "\u001b[1;31mIndexError\u001b[0m: string index out of range"
     ]
    }
   ],
   "source": [
    "lastLetterName=userName[person]"
   ]
  },
  {
   "cell_type": "code",
   "execution_count": 69,
   "id": "53887826",
   "metadata": {},
   "outputs": [],
   "source": [
    "#string is immutable"
   ]
  },
  {
   "cell_type": "code",
   "execution_count": 70,
   "id": "8cb18930",
   "metadata": {},
   "outputs": [],
   "source": [
    "str1='Hello World!'"
   ]
  },
  {
   "cell_type": "code",
   "execution_count": 71,
   "id": "8998e392",
   "metadata": {},
   "outputs": [
    {
     "ename": "TypeError",
     "evalue": "'str' object does not support item assignment",
     "output_type": "error",
     "traceback": [
      "\u001b[1;31m---------------------------------------------------------------------------\u001b[0m",
      "\u001b[1;31mTypeError\u001b[0m                                 Traceback (most recent call last)",
      "\u001b[1;32m<ipython-input-71-89323c311a3d>\u001b[0m in \u001b[0;36m<module>\u001b[1;34m\u001b[0m\n\u001b[1;32m----> 1\u001b[1;33m \u001b[0mstr1\u001b[0m\u001b[1;33m[\u001b[0m\u001b[1;36m1\u001b[0m\u001b[1;33m]\u001b[0m\u001b[1;33m=\u001b[0m\u001b[1;34m'o'\u001b[0m\u001b[1;33m\u001b[0m\u001b[1;33m\u001b[0m\u001b[0m\n\u001b[0m",
      "\u001b[1;31mTypeError\u001b[0m: 'str' object does not support item assignment"
     ]
    }
   ],
   "source": [
    "str1[1]='o'"
   ]
  },
  {
   "cell_type": "code",
   "execution_count": 72,
   "id": "0c34453b",
   "metadata": {},
   "outputs": [],
   "source": [
    "#String Methods\n",
    "1. upper()\n",
    "2. lower()\n",
    "3. find()"
   ]
  },
  {
   "cell_type": "code",
   "execution_count": 73,
   "id": "9cbd449b",
   "metadata": {},
   "outputs": [],
   "source": [
    "str1=str1.upper()"
   ]
  },
  {
   "cell_type": "code",
   "execution_count": 74,
   "id": "166994e7",
   "metadata": {},
   "outputs": [
    {
     "data": {
      "text/plain": [
       "'HELLO WORLD!'"
      ]
     },
     "execution_count": 74,
     "metadata": {},
     "output_type": "execute_result"
    }
   ],
   "source": [
    "str1"
   ]
  },
  {
   "cell_type": "code",
   "execution_count": 75,
   "id": "4b4518ae",
   "metadata": {},
   "outputs": [],
   "source": [
    "str1=str1.lower()"
   ]
  },
  {
   "cell_type": "code",
   "execution_count": 76,
   "id": "1cb345a6",
   "metadata": {},
   "outputs": [
    {
     "data": {
      "text/plain": [
       "'hello world!'"
      ]
     },
     "execution_count": 76,
     "metadata": {},
     "output_type": "execute_result"
    }
   ],
   "source": [
    "str1"
   ]
  },
  {
   "cell_type": "code",
   "execution_count": 77,
   "id": "27ad0fd1",
   "metadata": {},
   "outputs": [
    {
     "data": {
      "text/plain": [
       "4"
      ]
     },
     "execution_count": 77,
     "metadata": {},
     "output_type": "execute_result"
    }
   ],
   "source": [
    "str1.find('o')"
   ]
  },
  {
   "cell_type": "code",
   "execution_count": 78,
   "id": "f4bc740d",
   "metadata": {},
   "outputs": [
    {
     "data": {
      "text/plain": [
       "'Hello World!'"
      ]
     },
     "execution_count": 78,
     "metadata": {},
     "output_type": "execute_result"
    }
   ],
   "source": [
    "str1.title()"
   ]
  },
  {
   "cell_type": "code",
   "execution_count": 79,
   "id": "bc5f0fb6",
   "metadata": {},
   "outputs": [
    {
     "data": {
      "text/plain": [
       "'hello world!'"
      ]
     },
     "execution_count": 79,
     "metadata": {},
     "output_type": "execute_result"
    }
   ],
   "source": [
    "str1"
   ]
  },
  {
   "cell_type": "code",
   "execution_count": 80,
   "id": "55c11318",
   "metadata": {},
   "outputs": [
    {
     "data": {
      "text/plain": [
       "7"
      ]
     },
     "execution_count": 80,
     "metadata": {},
     "output_type": "execute_result"
    }
   ],
   "source": [
    "str1.find('or')"
   ]
  },
  {
   "cell_type": "code",
   "execution_count": 81,
   "id": "516d9290",
   "metadata": {},
   "outputs": [
    {
     "data": {
      "text/plain": [
       "11"
      ]
     },
     "execution_count": 81,
     "metadata": {},
     "output_type": "execute_result"
    }
   ],
   "source": [
    "str1.find('!')"
   ]
  },
  {
   "cell_type": "code",
   "execution_count": 82,
   "id": "406e6be3",
   "metadata": {},
   "outputs": [
    {
     "data": {
      "text/plain": [
       "-1"
      ]
     },
     "execution_count": 82,
     "metadata": {},
     "output_type": "execute_result"
    }
   ],
   "source": [
    "str1.find('!',1,11)"
   ]
  },
  {
   "cell_type": "code",
   "execution_count": 83,
   "id": "da520661",
   "metadata": {},
   "outputs": [
    {
     "data": {
      "text/plain": [
       "11"
      ]
     },
     "execution_count": 83,
     "metadata": {},
     "output_type": "execute_result"
    }
   ],
   "source": [
    "str1.find(\"!\",1,12)"
   ]
  },
  {
   "cell_type": "code",
   "execution_count": 85,
   "id": "03fbd404",
   "metadata": {},
   "outputs": [
    {
     "data": {
      "text/plain": [
       "True"
      ]
     },
     "execution_count": 85,
     "metadata": {},
     "output_type": "execute_result"
    }
   ],
   "source": [
    "'e' in str1"
   ]
  },
  {
   "cell_type": "code",
   "execution_count": 86,
   "id": "2454e09e",
   "metadata": {},
   "outputs": [
    {
     "name": "stdout",
     "output_type": "stream",
     "text": [
      "h\n",
      "e\n",
      "l\n",
      "l\n",
      "o\n",
      " \n",
      "w\n",
      "o\n",
      "r\n",
      "l\n",
      "d\n",
      "!\n"
     ]
    }
   ],
   "source": [
    "for x in str1:\n",
    "    print(x)"
   ]
  },
  {
   "cell_type": "code",
   "execution_count": 88,
   "id": "31340ecb",
   "metadata": {},
   "outputs": [],
   "source": [
    "#None"
   ]
  },
  {
   "cell_type": "code",
   "execution_count": 89,
   "id": "6feab014",
   "metadata": {},
   "outputs": [],
   "source": [
    "noValue=None"
   ]
  },
  {
   "cell_type": "code",
   "execution_count": 90,
   "id": "07d98e4c",
   "metadata": {},
   "outputs": [
    {
     "data": {
      "text/plain": [
       "NoneType"
      ]
     },
     "execution_count": 90,
     "metadata": {},
     "output_type": "execute_result"
    }
   ],
   "source": [
    "type(noValue)"
   ]
  },
  {
   "cell_type": "code",
   "execution_count": 91,
   "id": "5719bc2f",
   "metadata": {},
   "outputs": [],
   "source": [
    "#bool-->True =1\n",
    "#       False =0"
   ]
  },
  {
   "cell_type": "code",
   "execution_count": 92,
   "id": "3f19c042",
   "metadata": {},
   "outputs": [
    {
     "data": {
      "text/plain": [
       "2"
      ]
     },
     "execution_count": 92,
     "metadata": {},
     "output_type": "execute_result"
    }
   ],
   "source": [
    "True+True"
   ]
  },
  {
   "cell_type": "code",
   "execution_count": 93,
   "id": "32db5fda",
   "metadata": {},
   "outputs": [
    {
     "data": {
      "text/plain": [
       "1"
      ]
     },
     "execution_count": 93,
     "metadata": {},
     "output_type": "execute_result"
    }
   ],
   "source": [
    "True+False"
   ]
  },
  {
   "cell_type": "code",
   "execution_count": 94,
   "id": "7c62692a",
   "metadata": {},
   "outputs": [
    {
     "data": {
      "text/plain": [
       "0"
      ]
     },
     "execution_count": 94,
     "metadata": {},
     "output_type": "execute_result"
    }
   ],
   "source": [
    "False+False"
   ]
  },
  {
   "cell_type": "code",
   "execution_count": 95,
   "id": "5b482a29",
   "metadata": {},
   "outputs": [],
   "source": [
    "#complex"
   ]
  },
  {
   "cell_type": "code",
   "execution_count": 96,
   "id": "948bd766",
   "metadata": {},
   "outputs": [],
   "source": [
    "complex1=3+7j"
   ]
  },
  {
   "cell_type": "code",
   "execution_count": 97,
   "id": "94a97394",
   "metadata": {},
   "outputs": [
    {
     "data": {
      "text/plain": [
       "complex"
      ]
     },
     "execution_count": 97,
     "metadata": {},
     "output_type": "execute_result"
    }
   ],
   "source": [
    "type(complex1)"
   ]
  },
  {
   "cell_type": "code",
   "execution_count": null,
   "id": "90c7acbe",
   "metadata": {},
   "outputs": [],
   "source": []
  }
 ],
 "metadata": {
  "kernelspec": {
   "display_name": "Python 3",
   "language": "python",
   "name": "python3"
  },
  "language_info": {
   "codemirror_mode": {
    "name": "ipython",
    "version": 3
   },
   "file_extension": ".py",
   "mimetype": "text/x-python",
   "name": "python",
   "nbconvert_exporter": "python",
   "pygments_lexer": "ipython3",
   "version": "3.8.8"
  }
 },
 "nbformat": 4,
 "nbformat_minor": 5
}
