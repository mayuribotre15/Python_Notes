{
 "cells": [
  {
   "cell_type": "code",
   "execution_count": 1,
   "id": "8b5c585c",
   "metadata": {},
   "outputs": [],
   "source": [
    "# if condition"
   ]
  },
  {
   "cell_type": "code",
   "execution_count": null,
   "id": "9097c7d9",
   "metadata": {},
   "outputs": [],
   "source": [
    "#Q1. Program to calculate electricity bill on following criteria:\n",
    "Unit                                    Price\n",
    "First 100 unit                          No price\n",
    "Next 100 unit                           Rs 5 per unit\n",
    "After 200 unit                          Rs 10 per unit"
   ]
  },
  {
   "cell_type": "code",
   "execution_count": 5,
   "id": "791e64e9",
   "metadata": {},
   "outputs": [
    {
     "name": "stdout",
     "output_type": "stream",
     "text": [
      "Enter the unit:500\n",
      "Electricity bill:  3500\n"
     ]
    }
   ],
   "source": [
    "unit = int(input('Enter the unit:'))\n",
    "bill = 0\n",
    "if unit >= 0 and unit <= 100:\n",
    "    bill = 0\n",
    "elif unit > 100 and unit <=200:\n",
    "    bill = (unit - 100) * 5\n",
    "else:\n",
    "    bill = (100 * 5) + (unit - 200) * 10\n",
    "print('Electricity bill: ',bill)"
   ]
  },
  {
   "cell_type": "code",
   "execution_count": 6,
   "id": "13185765",
   "metadata": {},
   "outputs": [],
   "source": [
    "#Q2. PP to check whether last digit of number is divisible by 3 or not"
   ]
  },
  {
   "cell_type": "code",
   "execution_count": 9,
   "id": "7a317e50",
   "metadata": {},
   "outputs": [
    {
     "name": "stdout",
     "output_type": "stream",
     "text": [
      "Enter a number : 12\n",
      "Last digit is not divisible by 3\n"
     ]
    }
   ],
   "source": [
    "num = int(input('Enter a number : '))\n",
    "if (num%10)%3 == 0:\n",
    "    print('Last digit is divisible by 3')\n",
    "else:\n",
    "    print('Last digit is not divisible by 3')"
   ]
  },
  {
   "cell_type": "code",
   "execution_count": null,
   "id": "47aac2c0",
   "metadata": {},
   "outputs": [],
   "source": [
    "#Q3. PP to accept the cost of bike and display the road tax according to following criteria\n",
    "Cost price(Rs)                          Tax\n",
    ">100000                                 15%\n",
    ">50000 and <=100000                     10%\n",
    "<=50000                                  5%"
   ]
  },
  {
   "cell_type": "code",
   "execution_count": 11,
   "id": "7198cc43",
   "metadata": {},
   "outputs": [
    {
     "name": "stdout",
     "output_type": "stream",
     "text": [
      "Enter cost of bike: 60000\n",
      "Road tax to be paid:  6000.0\n"
     ]
    }
   ],
   "source": [
    "cost = int(input('Enter cost of bike: '))\n",
    "tax = 0\n",
    "if cost > 100000:\n",
    "    tax = cost * (15/100)\n",
    "elif cost > 50000 and cost <= 100000:\n",
    "    tax = cost * (10/100)\n",
    "else:\n",
    "    tax = cost * (5/100)\n",
    "print('Road tax to be paid: ',tax)"
   ]
  },
  {
   "cell_type": "code",
   "execution_count": 12,
   "id": "38b62b99",
   "metadata": {},
   "outputs": [],
   "source": [
    "#Q4. PP to chech whether the year is leap year or not"
   ]
  },
  {
   "cell_type": "code",
   "execution_count": 14,
   "id": "8d2de612",
   "metadata": {},
   "outputs": [
    {
     "name": "stdout",
     "output_type": "stream",
     "text": [
      "Enter year: 2200\n",
      "2200 is not leap year\n"
     ]
    }
   ],
   "source": [
    "year = int(input('Enter year: '))\n",
    "if year%100 == 0:\n",
    "    if year%400 == 0:\n",
    "        print(f'{year} is leap year')\n",
    "    else:\n",
    "        print(f'{year} is not leap year')\n",
    "else:\n",
    "    if year%4 == 0:\n",
    "        print(f'{year} is leap year')\n",
    "    else:\n",
    "        print(f'{year} is not leap year')\n",
    "    "
   ]
  },
  {
   "cell_type": "code",
   "execution_count": null,
   "id": "edf80e6d",
   "metadata": {},
   "outputs": [],
   "source": [
    "#Q5. PP to accept any city from user and display the monument of that city\n",
    "City                       Monument\n",
    "Delhi                      Red Fort\n",
    "Agra                       Taj Mahal\n",
    "Jaipur                     Jal Mahal"
   ]
  },
  {
   "cell_type": "code",
   "execution_count": 17,
   "id": "98767779",
   "metadata": {},
   "outputs": [
    {
     "name": "stdout",
     "output_type": "stream",
     "text": [
      "Enter any city: aGra\n",
      "Monument is: Taj Mahal\n"
     ]
    }
   ],
   "source": [
    "city = input('Enter any city: ')\n",
    "if city.lower() == \"delhi\":\n",
    "    print('Monument is: Red Fort')\n",
    "elif city.lower() == 'agra':\n",
    "    print('Monument is: Taj Mahal')\n",
    "elif city.lower() == 'jaipur':\n",
    "    print('Monument is: Jal Mahal')\n",
    "else:\n",
    "    print('Enter city Delhi, Agra, Jaipur')"
   ]
  },
  {
   "cell_type": "code",
   "execution_count": 18,
   "id": "98a1249b",
   "metadata": {},
   "outputs": [],
   "source": [
    "#Q6. PP to check whether the character is vowel or not"
   ]
  },
  {
   "cell_type": "code",
   "execution_count": 20,
   "id": "0333209c",
   "metadata": {},
   "outputs": [
    {
     "name": "stdout",
     "output_type": "stream",
     "text": [
      "Enter any character: I\n",
      "Character is vowel\n"
     ]
    }
   ],
   "source": [
    "char = input('Enter any character: ')\n",
    "vowel = 'aeiou'\n",
    "if char.lower() in vowel:\n",
    "    print('Character is vowel')\n",
    "else:\n",
    "    print('Character is not vowel')"
   ]
  },
  {
   "cell_type": "code",
   "execution_count": null,
   "id": "7443df6f",
   "metadata": {},
   "outputs": [],
   "source": []
  }
 ],
 "metadata": {
  "kernelspec": {
   "display_name": "Python 3",
   "language": "python",
   "name": "python3"
  },
  "language_info": {
   "codemirror_mode": {
    "name": "ipython",
    "version": 3
   },
   "file_extension": ".py",
   "mimetype": "text/x-python",
   "name": "python",
   "nbconvert_exporter": "python",
   "pygments_lexer": "ipython3",
   "version": "3.8.8"
  }
 },
 "nbformat": 4,
 "nbformat_minor": 5
}
