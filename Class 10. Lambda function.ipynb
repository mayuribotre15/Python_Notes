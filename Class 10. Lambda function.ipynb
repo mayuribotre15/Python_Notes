{
 "cells": [
  {
   "cell_type": "code",
   "execution_count": null,
   "id": "1803e214",
   "metadata": {},
   "outputs": [],
   "source": [
    "#Q1. display 1 when email contain @, else print 0"
   ]
  },
  {
   "cell_type": "code",
   "execution_count": 7,
   "id": "c7b0b07a",
   "metadata": {},
   "outputs": [],
   "source": [
    "email = ['abc@gmail.com', 'xyz@gmail.com', 'markgmail.com', 'john@gmail.com', 'helly@gmail.com', 'maichalgmail.com']"
   ]
  },
  {
   "cell_type": "code",
   "execution_count": 8,
   "id": "f40d6fe9",
   "metadata": {},
   "outputs": [
    {
     "data": {
      "text/plain": [
       "[1, 1, 0, 1, 1, 0]"
      ]
     },
     "execution_count": 8,
     "metadata": {},
     "output_type": "execute_result"
    }
   ],
   "source": [
    "list(map(lambda x: 1 if x.find('@')!=-1 else 0, email))"
   ]
  },
  {
   "cell_type": "code",
   "execution_count": 9,
   "id": "a1807e1e",
   "metadata": {},
   "outputs": [],
   "source": [
    "#Q2. print the type of element in list"
   ]
  },
  {
   "cell_type": "code",
   "execution_count": 10,
   "id": "2932d5e5",
   "metadata": {},
   "outputs": [],
   "source": [
    "type_of=['python', 'hadoop',87, 9.45,'c',9+6j]"
   ]
  },
  {
   "cell_type": "code",
   "execution_count": 11,
   "id": "5a540118",
   "metadata": {},
   "outputs": [
    {
     "data": {
      "text/plain": [
       "[str, str, int, float, str, complex]"
      ]
     },
     "execution_count": 11,
     "metadata": {},
     "output_type": "execute_result"
    }
   ],
   "source": [
    "list(map(lambda x:type(x), type_of))"
   ]
  },
  {
   "cell_type": "code",
   "execution_count": 17,
   "id": "9d6a5923",
   "metadata": {},
   "outputs": [],
   "source": [
    "#Q3. display only string value present in list"
   ]
  },
  {
   "cell_type": "code",
   "execution_count": 19,
   "id": "3079b1f5",
   "metadata": {},
   "outputs": [],
   "source": [
    "type_of=['python', 'hadoop',87, 9.45,'c',9+6j]"
   ]
  },
  {
   "cell_type": "code",
   "execution_count": 20,
   "id": "2ad7eb58",
   "metadata": {},
   "outputs": [
    {
     "data": {
      "text/plain": [
       "[True, True, False, False, True, False]"
      ]
     },
     "execution_count": 20,
     "metadata": {},
     "output_type": "execute_result"
    }
   ],
   "source": [
    "list(map(lambda x:type(x)==str, type_of))"
   ]
  },
  {
   "cell_type": "code",
   "execution_count": 21,
   "id": "6dfb64ff",
   "metadata": {},
   "outputs": [
    {
     "data": {
      "text/plain": [
       "['python', 'hadoop', 'c']"
      ]
     },
     "execution_count": 21,
     "metadata": {},
     "output_type": "execute_result"
    }
   ],
   "source": [
    "list(filter(lambda x:type(x)==str, type_of))"
   ]
  },
  {
   "cell_type": "code",
   "execution_count": 12,
   "id": "80ba6920",
   "metadata": {},
   "outputs": [],
   "source": [
    "s='java'"
   ]
  },
  {
   "cell_type": "code",
   "execution_count": 13,
   "id": "4fbb30dc",
   "metadata": {},
   "outputs": [
    {
     "data": {
      "text/plain": [
       "1"
      ]
     },
     "execution_count": 13,
     "metadata": {},
     "output_type": "execute_result"
    }
   ],
   "source": [
    "s.find('a')"
   ]
  },
  {
   "cell_type": "code",
   "execution_count": 14,
   "id": "af74e3ea",
   "metadata": {},
   "outputs": [
    {
     "data": {
      "text/plain": [
       "-1"
      ]
     },
     "execution_count": 14,
     "metadata": {},
     "output_type": "execute_result"
    }
   ],
   "source": [
    "s.find('c')"
   ]
  },
  {
   "cell_type": "code",
   "execution_count": 15,
   "id": "b154befe",
   "metadata": {},
   "outputs": [
    {
     "data": {
      "text/plain": [
       "1"
      ]
     },
     "execution_count": 15,
     "metadata": {},
     "output_type": "execute_result"
    }
   ],
   "source": [
    "s.index('a')"
   ]
  },
  {
   "cell_type": "code",
   "execution_count": 16,
   "id": "eac5588b",
   "metadata": {},
   "outputs": [
    {
     "ename": "ValueError",
     "evalue": "substring not found",
     "output_type": "error",
     "traceback": [
      "\u001b[1;31m---------------------------------------------------------------------------\u001b[0m",
      "\u001b[1;31mValueError\u001b[0m                                Traceback (most recent call last)",
      "\u001b[1;32m<ipython-input-16-41f62cfe003d>\u001b[0m in \u001b[0;36m<module>\u001b[1;34m\u001b[0m\n\u001b[1;32m----> 1\u001b[1;33m \u001b[0ms\u001b[0m\u001b[1;33m.\u001b[0m\u001b[0mindex\u001b[0m\u001b[1;33m(\u001b[0m\u001b[1;34m'c'\u001b[0m\u001b[1;33m)\u001b[0m\u001b[1;33m\u001b[0m\u001b[1;33m\u001b[0m\u001b[0m\n\u001b[0m",
      "\u001b[1;31mValueError\u001b[0m: substring not found"
     ]
    }
   ],
   "source": [
    "s.index('c')"
   ]
  },
  {
   "cell_type": "code",
   "execution_count": null,
   "id": "f9570a6e",
   "metadata": {},
   "outputs": [],
   "source": []
  }
 ],
 "metadata": {
  "kernelspec": {
   "display_name": "Python 3",
   "language": "python",
   "name": "python3"
  },
  "language_info": {
   "codemirror_mode": {
    "name": "ipython",
    "version": 3
   },
   "file_extension": ".py",
   "mimetype": "text/x-python",
   "name": "python",
   "nbconvert_exporter": "python",
   "pygments_lexer": "ipython3",
   "version": "3.8.8"
  }
 },
 "nbformat": 4,
 "nbformat_minor": 5
}
