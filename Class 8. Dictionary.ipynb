{
 "cells": [
  {
   "cell_type": "code",
   "execution_count": 1,
   "id": "c03678fe",
   "metadata": {},
   "outputs": [],
   "source": [
    "#dictionary DS"
   ]
  },
  {
   "cell_type": "code",
   "execution_count": null,
   "id": "2ce556b7",
   "metadata": {},
   "outputs": [],
   "source": [
    "1. it consist data in the form of key:value pair\n",
    "2. keys are always immutable\n",
    "3. values can be mutable or immutable\n",
    "4. dict is mutable in nature\n",
    "5. unordered DS"
   ]
  },
  {
   "cell_type": "code",
   "execution_count": 6,
   "id": "2da53299",
   "metadata": {},
   "outputs": [],
   "source": [
    "py_dict={'a':1,'b':2,'c':3}"
   ]
  },
  {
   "cell_type": "code",
   "execution_count": 7,
   "id": "c99815a1",
   "metadata": {},
   "outputs": [
    {
     "data": {
      "text/plain": [
       "dict"
      ]
     },
     "execution_count": 7,
     "metadata": {},
     "output_type": "execute_result"
    }
   ],
   "source": [
    "type(py_dict)"
   ]
  },
  {
   "cell_type": "code",
   "execution_count": 8,
   "id": "9789c6f0",
   "metadata": {},
   "outputs": [
    {
     "ename": "KeyError",
     "evalue": "1",
     "output_type": "error",
     "traceback": [
      "\u001b[1;31m---------------------------------------------------------------------------\u001b[0m",
      "\u001b[1;31mKeyError\u001b[0m                                  Traceback (most recent call last)",
      "\u001b[1;32m<ipython-input-8-1603e54073c5>\u001b[0m in \u001b[0;36m<module>\u001b[1;34m\u001b[0m\n\u001b[1;32m----> 1\u001b[1;33m \u001b[0mpy_dict\u001b[0m\u001b[1;33m[\u001b[0m\u001b[1;36m1\u001b[0m\u001b[1;33m]\u001b[0m\u001b[1;33m\u001b[0m\u001b[1;33m\u001b[0m\u001b[0m\n\u001b[0m",
      "\u001b[1;31mKeyError\u001b[0m: 1"
     ]
    }
   ],
   "source": [
    "py_dict[1]"
   ]
  },
  {
   "cell_type": "code",
   "execution_count": 1,
   "id": "a6401a12",
   "metadata": {},
   "outputs": [],
   "source": [
    "#create empty dict"
   ]
  },
  {
   "cell_type": "code",
   "execution_count": 2,
   "id": "48193b95",
   "metadata": {},
   "outputs": [],
   "source": [
    "d={}"
   ]
  },
  {
   "cell_type": "code",
   "execution_count": 3,
   "id": "1369ab94",
   "metadata": {},
   "outputs": [
    {
     "data": {
      "text/plain": [
       "dict"
      ]
     },
     "execution_count": 3,
     "metadata": {},
     "output_type": "execute_result"
    }
   ],
   "source": [
    "type(d)"
   ]
  },
  {
   "cell_type": "code",
   "execution_count": 4,
   "id": "e838e3cc",
   "metadata": {},
   "outputs": [
    {
     "data": {
      "text/plain": [
       "{}"
      ]
     },
     "execution_count": 4,
     "metadata": {},
     "output_type": "execute_result"
    }
   ],
   "source": [
    "d"
   ]
  },
  {
   "cell_type": "code",
   "execution_count": 11,
   "id": "6d708722",
   "metadata": {},
   "outputs": [],
   "source": [
    "#creating dictionary using dict() method"
   ]
  },
  {
   "cell_type": "code",
   "execution_count": 12,
   "id": "4dd23add",
   "metadata": {},
   "outputs": [],
   "source": [
    "d1=dict({1:'a',2:'b',3:'c'})"
   ]
  },
  {
   "cell_type": "code",
   "execution_count": 13,
   "id": "53435169",
   "metadata": {},
   "outputs": [
    {
     "data": {
      "text/plain": [
       "{1: 'a', 2: 'b', 3: 'c'}"
      ]
     },
     "execution_count": 13,
     "metadata": {},
     "output_type": "execute_result"
    }
   ],
   "source": [
    "d1"
   ]
  },
  {
   "cell_type": "code",
   "execution_count": 14,
   "id": "32e04422",
   "metadata": {},
   "outputs": [],
   "source": [
    "#creating dictionary using each items as pair"
   ]
  },
  {
   "cell_type": "code",
   "execution_count": 14,
   "id": "69f60267",
   "metadata": {},
   "outputs": [],
   "source": [
    "d2=dict([('name','Justin'),('loc','pune'),('sal',65000)])"
   ]
  },
  {
   "cell_type": "code",
   "execution_count": 16,
   "id": "a10579e5",
   "metadata": {},
   "outputs": [
    {
     "data": {
      "text/plain": [
       "{'name': 'Justin', 'loc': 'pune', 'sal': 65000}"
      ]
     },
     "execution_count": 16,
     "metadata": {},
     "output_type": "execute_result"
    }
   ],
   "source": [
    "d2"
   ]
  },
  {
   "cell_type": "code",
   "execution_count": 18,
   "id": "1cc76685",
   "metadata": {},
   "outputs": [
    {
     "name": "stdout",
     "output_type": "stream",
     "text": [
      "Name:  Justin\n"
     ]
    }
   ],
   "source": [
    "print('Name: ',d2['name'])"
   ]
  },
  {
   "cell_type": "code",
   "execution_count": 33,
   "id": "9dc669a4",
   "metadata": {},
   "outputs": [
    {
     "name": "stdout",
     "output_type": "stream",
     "text": [
      "Name: Justin\n"
     ]
    }
   ],
   "source": [
    "print('Name: %s'%d2['name'])"
   ]
  },
  {
   "cell_type": "code",
   "execution_count": 35,
   "id": "827d23ca",
   "metadata": {},
   "outputs": [],
   "source": [
    "#how to display multiple data"
   ]
  },
  {
   "cell_type": "code",
   "execution_count": 21,
   "id": "c75ead30",
   "metadata": {},
   "outputs": [
    {
     "ename": "TypeError",
     "evalue": "not enough arguments for format string",
     "output_type": "error",
     "traceback": [
      "\u001b[1;31m---------------------------------------------------------------------------\u001b[0m",
      "\u001b[1;31mTypeError\u001b[0m                                 Traceback (most recent call last)",
      "\u001b[1;32m<ipython-input-21-e0eeefbdb50d>\u001b[0m in \u001b[0;36m<module>\u001b[1;34m\u001b[0m\n\u001b[1;32m----> 1\u001b[1;33m \u001b[0mprint\u001b[0m\u001b[1;33m(\u001b[0m\u001b[1;34m'Name: %s Location: %s'\u001b[0m \u001b[1;33m%\u001b[0m\u001b[0md2\u001b[0m\u001b[1;33m[\u001b[0m\u001b[1;34m'name'\u001b[0m\u001b[1;33m]\u001b[0m\u001b[1;33m%\u001b[0m\u001b[0md2\u001b[0m\u001b[1;33m[\u001b[0m\u001b[1;34m'loc'\u001b[0m\u001b[1;33m]\u001b[0m\u001b[1;33m)\u001b[0m\u001b[1;33m\u001b[0m\u001b[1;33m\u001b[0m\u001b[0m\n\u001b[0m",
      "\u001b[1;31mTypeError\u001b[0m: not enough arguments for format string"
     ]
    }
   ],
   "source": [
    "print('Name: %s Location: %s' %d2['name']%d2['loc'])"
   ]
  },
  {
   "cell_type": "code",
   "execution_count": 22,
   "id": "c884769b",
   "metadata": {},
   "outputs": [
    {
     "data": {
      "text/plain": [
       "'Name: Justin'"
      ]
     },
     "execution_count": 22,
     "metadata": {},
     "output_type": "execute_result"
    }
   ],
   "source": [
    "'Name: %s'%d2['name']"
   ]
  },
  {
   "cell_type": "code",
   "execution_count": 24,
   "id": "f44c7b9e",
   "metadata": {},
   "outputs": [
    {
     "data": {
      "text/plain": [
       "('Name: ', 'Justin')"
      ]
     },
     "execution_count": 24,
     "metadata": {},
     "output_type": "execute_result"
    }
   ],
   "source": [
    "'Name: ',d2['name']"
   ]
  },
  {
   "cell_type": "code",
   "execution_count": 29,
   "id": "81601531",
   "metadata": {},
   "outputs": [
    {
     "ename": "TypeError",
     "evalue": "type() takes 1 or 3 arguments",
     "output_type": "error",
     "traceback": [
      "\u001b[1;31m---------------------------------------------------------------------------\u001b[0m",
      "\u001b[1;31mTypeError\u001b[0m                                 Traceback (most recent call last)",
      "\u001b[1;32m<ipython-input-29-ce05ed25b1fe>\u001b[0m in \u001b[0;36m<module>\u001b[1;34m\u001b[0m\n\u001b[1;32m----> 1\u001b[1;33m \u001b[0mtype\u001b[0m\u001b[1;33m(\u001b[0m\u001b[1;34m'Name: '\u001b[0m\u001b[1;33m,\u001b[0m\u001b[0md2\u001b[0m\u001b[1;33m[\u001b[0m\u001b[1;34m'name'\u001b[0m\u001b[1;33m]\u001b[0m\u001b[1;33m)\u001b[0m\u001b[1;33m\u001b[0m\u001b[1;33m\u001b[0m\u001b[0m\n\u001b[0m",
      "\u001b[1;31mTypeError\u001b[0m: type() takes 1 or 3 arguments"
     ]
    }
   ],
   "source": [
    "type('Name: ',d2['name'])"
   ]
  },
  {
   "cell_type": "code",
   "execution_count": 30,
   "id": "acff5a39",
   "metadata": {},
   "outputs": [
    {
     "data": {
      "text/plain": [
       "set"
      ]
     },
     "execution_count": 30,
     "metadata": {},
     "output_type": "execute_result"
    }
   ],
   "source": [
    "type({'Name: ',d2['name']})"
   ]
  },
  {
   "cell_type": "code",
   "execution_count": 27,
   "id": "ff6c843a",
   "metadata": {},
   "outputs": [
    {
     "data": {
      "text/plain": [
       "tuple"
      ]
     },
     "execution_count": 27,
     "metadata": {},
     "output_type": "execute_result"
    }
   ],
   "source": [
    "type(('Name: ',d2['name']))"
   ]
  },
  {
   "cell_type": "code",
   "execution_count": 1,
   "id": "f14abf72",
   "metadata": {},
   "outputs": [],
   "source": [
    "person_dict={'name':'John','sal':85000,'company':'IBM','loc':'pune'}"
   ]
  },
  {
   "cell_type": "code",
   "execution_count": 2,
   "id": "4744d3dd",
   "metadata": {},
   "outputs": [
    {
     "data": {
      "text/plain": [
       "{'name': 'John', 'sal': 85000, 'company': 'IBM', 'loc': 'pune'}"
      ]
     },
     "execution_count": 2,
     "metadata": {},
     "output_type": "execute_result"
    }
   ],
   "source": [
    "person_dict"
   ]
  },
  {
   "cell_type": "code",
   "execution_count": 4,
   "id": "153115c8",
   "metadata": {},
   "outputs": [
    {
     "data": {
      "text/plain": [
       "'John'"
      ]
     },
     "execution_count": 4,
     "metadata": {},
     "output_type": "execute_result"
    }
   ],
   "source": [
    "person_dict['name']"
   ]
  },
  {
   "cell_type": "code",
   "execution_count": 8,
   "id": "4dee2a02",
   "metadata": {},
   "outputs": [],
   "source": [
    "#We can have immutable DS as key i.e tuple, str, int, frozenset"
   ]
  },
  {
   "cell_type": "code",
   "execution_count": null,
   "id": "bd3d8097",
   "metadata": {},
   "outputs": [],
   "source": [
    "#but donnt use tuple in dict because it is never used"
   ]
  },
  {
   "cell_type": "code",
   "execution_count": 6,
   "id": "61032715",
   "metadata": {},
   "outputs": [],
   "source": [
    "py_dict={(1,2,3):'a',(4,5,6):'b',('a','b','c'):(7,8,9)}"
   ]
  },
  {
   "cell_type": "code",
   "execution_count": 7,
   "id": "f0c9ffdf",
   "metadata": {},
   "outputs": [
    {
     "data": {
      "text/plain": [
       "{(1, 2, 3): 'a', (4, 5, 6): 'b', ('a', 'b', 'c'): (7, 8, 9)}"
      ]
     },
     "execution_count": 7,
     "metadata": {},
     "output_type": "execute_result"
    }
   ],
   "source": [
    "py_dict"
   ]
  },
  {
   "cell_type": "code",
   "execution_count": 9,
   "id": "b44a6fcb",
   "metadata": {},
   "outputs": [
    {
     "ename": "KeyError",
     "evalue": "(1, 2)",
     "output_type": "error",
     "traceback": [
      "\u001b[1;31m---------------------------------------------------------------------------\u001b[0m",
      "\u001b[1;31mKeyError\u001b[0m                                  Traceback (most recent call last)",
      "\u001b[1;32m<ipython-input-9-8b8f0f29f063>\u001b[0m in \u001b[0;36m<module>\u001b[1;34m\u001b[0m\n\u001b[1;32m----> 1\u001b[1;33m \u001b[0mpy_dict\u001b[0m\u001b[1;33m[\u001b[0m\u001b[1;33m(\u001b[0m\u001b[1;36m1\u001b[0m\u001b[1;33m,\u001b[0m\u001b[1;36m2\u001b[0m\u001b[1;33m)\u001b[0m\u001b[1;33m]\u001b[0m\u001b[1;33m\u001b[0m\u001b[1;33m\u001b[0m\u001b[0m\n\u001b[0m",
      "\u001b[1;31mKeyError\u001b[0m: (1, 2)"
     ]
    }
   ],
   "source": [
    "py_dict[(1,2)]"
   ]
  },
  {
   "cell_type": "code",
   "execution_count": 12,
   "id": "5538392e",
   "metadata": {},
   "outputs": [
    {
     "ename": "TypeError",
     "evalue": "'dict' object is not callable",
     "output_type": "error",
     "traceback": [
      "\u001b[1;31m---------------------------------------------------------------------------\u001b[0m",
      "\u001b[1;31mTypeError\u001b[0m                                 Traceback (most recent call last)",
      "\u001b[1;32m<ipython-input-12-e03929cbb64e>\u001b[0m in \u001b[0;36m<module>\u001b[1;34m\u001b[0m\n\u001b[1;32m----> 1\u001b[1;33m \u001b[0mpy_dict\u001b[0m\u001b[1;33m(\u001b[0m\u001b[1;33m(\u001b[0m\u001b[1;36m1\u001b[0m\u001b[1;33m,\u001b[0m\u001b[1;36m2\u001b[0m\u001b[1;33m,\u001b[0m\u001b[1;36m3\u001b[0m\u001b[1;33m)\u001b[0m\u001b[1;33m)\u001b[0m\u001b[1;33m\u001b[0m\u001b[1;33m\u001b[0m\u001b[0m\n\u001b[0m",
      "\u001b[1;31mTypeError\u001b[0m: 'dict' object is not callable"
     ]
    }
   ],
   "source": [
    "py_dict((1,2,3))"
   ]
  },
  {
   "cell_type": "code",
   "execution_count": 13,
   "id": "27a3d81e",
   "metadata": {},
   "outputs": [
    {
     "data": {
      "text/plain": [
       "'a'"
      ]
     },
     "execution_count": 13,
     "metadata": {},
     "output_type": "execute_result"
    }
   ],
   "source": [
    "py_dict[(1,2,3)]"
   ]
  },
  {
   "cell_type": "code",
   "execution_count": 14,
   "id": "2f82546b",
   "metadata": {},
   "outputs": [],
   "source": [
    "dict1={'a':1,'b':2,'c':3}"
   ]
  },
  {
   "cell_type": "code",
   "execution_count": 15,
   "id": "2fa62a29",
   "metadata": {},
   "outputs": [],
   "source": [
    "dict2={1:2,3:4,5:6}"
   ]
  },
  {
   "cell_type": "code",
   "execution_count": null,
   "id": "53b21293",
   "metadata": {},
   "outputs": [],
   "source": [
    "#use str as key"
   ]
  },
  {
   "cell_type": "code",
   "execution_count": 16,
   "id": "5a480bb0",
   "metadata": {},
   "outputs": [
    {
     "data": {
      "text/plain": [
       "{'a': 1, 'b': 2, 'c': 3}"
      ]
     },
     "execution_count": 16,
     "metadata": {},
     "output_type": "execute_result"
    }
   ],
   "source": [
    "dict1"
   ]
  },
  {
   "cell_type": "code",
   "execution_count": null,
   "id": "607e2434",
   "metadata": {},
   "outputs": [],
   "source": [
    "#use int as key"
   ]
  },
  {
   "cell_type": "code",
   "execution_count": 17,
   "id": "ecfd54db",
   "metadata": {},
   "outputs": [
    {
     "data": {
      "text/plain": [
       "{1: 2, 3: 4, 5: 6}"
      ]
     },
     "execution_count": 17,
     "metadata": {},
     "output_type": "execute_result"
    }
   ],
   "source": [
    "dict2"
   ]
  },
  {
   "cell_type": "code",
   "execution_count": null,
   "id": "6b2076d2",
   "metadata": {},
   "outputs": [],
   "source": [
    "#use frozenset as key"
   ]
  },
  {
   "cell_type": "code",
   "execution_count": 24,
   "id": "2972e869",
   "metadata": {},
   "outputs": [],
   "source": [
    "dict3={frozenset([1,2,3]):'a','b':'c'}"
   ]
  },
  {
   "cell_type": "code",
   "execution_count": 25,
   "id": "f781d8ad",
   "metadata": {},
   "outputs": [
    {
     "data": {
      "text/plain": [
       "{frozenset({1, 2, 3}): 'a', 'b': 'c'}"
      ]
     },
     "execution_count": 25,
     "metadata": {},
     "output_type": "execute_result"
    }
   ],
   "source": [
    "dict3"
   ]
  },
  {
   "cell_type": "code",
   "execution_count": null,
   "id": "a8375ee6",
   "metadata": {},
   "outputs": [],
   "source": [
    "#cannt use mutable data as key i.e list, set, dict"
   ]
  },
  {
   "cell_type": "code",
   "execution_count": 18,
   "id": "be476f19",
   "metadata": {},
   "outputs": [],
   "source": [
    "#use list as key"
   ]
  },
  {
   "cell_type": "code",
   "execution_count": 19,
   "id": "fb55cfbe",
   "metadata": {},
   "outputs": [
    {
     "ename": "TypeError",
     "evalue": "unhashable type: 'list'",
     "output_type": "error",
     "traceback": [
      "\u001b[1;31m---------------------------------------------------------------------------\u001b[0m",
      "\u001b[1;31mTypeError\u001b[0m                                 Traceback (most recent call last)",
      "\u001b[1;32m<ipython-input-19-27a810c430c7>\u001b[0m in \u001b[0;36m<module>\u001b[1;34m\u001b[0m\n\u001b[1;32m----> 1\u001b[1;33m \u001b[0md1\u001b[0m\u001b[1;33m=\u001b[0m\u001b[1;33m{\u001b[0m\u001b[1;33m[\u001b[0m\u001b[1;36m1\u001b[0m\u001b[1;33m,\u001b[0m\u001b[1;36m2\u001b[0m\u001b[1;33m]\u001b[0m\u001b[1;33m:\u001b[0m\u001b[1;34m'a'\u001b[0m\u001b[1;33m,\u001b[0m\u001b[1;33m[\u001b[0m\u001b[1;36m3\u001b[0m\u001b[1;33m,\u001b[0m\u001b[1;36m4\u001b[0m\u001b[1;33m]\u001b[0m\u001b[1;33m:\u001b[0m\u001b[1;34m'b'\u001b[0m\u001b[1;33m}\u001b[0m\u001b[1;33m\u001b[0m\u001b[1;33m\u001b[0m\u001b[0m\n\u001b[0m",
      "\u001b[1;31mTypeError\u001b[0m: unhashable type: 'list'"
     ]
    }
   ],
   "source": [
    "d1={[1,2]:'a',[3,4]:'b'}"
   ]
  },
  {
   "cell_type": "code",
   "execution_count": 20,
   "id": "7f28519b",
   "metadata": {},
   "outputs": [],
   "source": [
    "#use set as key"
   ]
  },
  {
   "cell_type": "code",
   "execution_count": 21,
   "id": "d2952fe0",
   "metadata": {},
   "outputs": [
    {
     "ename": "TypeError",
     "evalue": "unhashable type: 'set'",
     "output_type": "error",
     "traceback": [
      "\u001b[1;31m---------------------------------------------------------------------------\u001b[0m",
      "\u001b[1;31mTypeError\u001b[0m                                 Traceback (most recent call last)",
      "\u001b[1;32m<ipython-input-21-41b332831b59>\u001b[0m in \u001b[0;36m<module>\u001b[1;34m\u001b[0m\n\u001b[1;32m----> 1\u001b[1;33m \u001b[0md2\u001b[0m\u001b[1;33m=\u001b[0m\u001b[1;33m{\u001b[0m\u001b[1;33m{\u001b[0m\u001b[1;36m1\u001b[0m\u001b[1;33m,\u001b[0m\u001b[1;36m2\u001b[0m\u001b[1;33m}\u001b[0m\u001b[1;33m:\u001b[0m\u001b[1;34m'a'\u001b[0m\u001b[1;33m,\u001b[0m\u001b[1;33m{\u001b[0m\u001b[1;36m4\u001b[0m\u001b[1;33m,\u001b[0m\u001b[1;36m5\u001b[0m\u001b[1;33m}\u001b[0m\u001b[1;33m:\u001b[0m\u001b[1;34m'b'\u001b[0m\u001b[1;33m}\u001b[0m\u001b[1;33m\u001b[0m\u001b[1;33m\u001b[0m\u001b[0m\n\u001b[0m",
      "\u001b[1;31mTypeError\u001b[0m: unhashable type: 'set'"
     ]
    }
   ],
   "source": [
    "d2={{1,2}:'a',{4,5}:'b'}"
   ]
  },
  {
   "cell_type": "code",
   "execution_count": 26,
   "id": "c656b783",
   "metadata": {},
   "outputs": [],
   "source": [
    "#use dict as key"
   ]
  },
  {
   "cell_type": "code",
   "execution_count": 27,
   "id": "31b24f9b",
   "metadata": {},
   "outputs": [
    {
     "ename": "TypeError",
     "evalue": "unhashable type: 'dict'",
     "output_type": "error",
     "traceback": [
      "\u001b[1;31m---------------------------------------------------------------------------\u001b[0m",
      "\u001b[1;31mTypeError\u001b[0m                                 Traceback (most recent call last)",
      "\u001b[1;32m<ipython-input-27-5f8b8f46a7ce>\u001b[0m in \u001b[0;36m<module>\u001b[1;34m\u001b[0m\n\u001b[1;32m----> 1\u001b[1;33m \u001b[0md3\u001b[0m\u001b[1;33m=\u001b[0m\u001b[1;33m{\u001b[0m\u001b[1;33m{\u001b[0m\u001b[1;36m1\u001b[0m\u001b[1;33m:\u001b[0m\u001b[1;36m1\u001b[0m\u001b[1;33m,\u001b[0m\u001b[1;36m2\u001b[0m\u001b[1;33m:\u001b[0m\u001b[1;36m2\u001b[0m\u001b[1;33m}\u001b[0m\u001b[1;33m:\u001b[0m\u001b[1;34m'a'\u001b[0m\u001b[1;33m}\u001b[0m\u001b[1;33m\u001b[0m\u001b[1;33m\u001b[0m\u001b[0m\n\u001b[0m",
      "\u001b[1;31mTypeError\u001b[0m: unhashable type: 'dict'"
     ]
    }
   ],
   "source": [
    "d3={{1:1,2:2}:'a'}"
   ]
  },
  {
   "cell_type": "code",
   "execution_count": 22,
   "id": "e2a216d1",
   "metadata": {},
   "outputs": [],
   "source": [
    "person_dict={'name':['John','Helly','deina','Mark'],'sal':[85000,45000,97000,69000],'company':['IBM','TCS','Google','Apple'],'loc':['pune','canada','new york','singapur']}"
   ]
  },
  {
   "cell_type": "code",
   "execution_count": 3,
   "id": "9026807e",
   "metadata": {},
   "outputs": [
    {
     "data": {
      "text/plain": [
       "{'name': ['John', 'Helly', 'deina', 'Mark'],\n",
       " 'sal': [85000, 45000, 97000, 69000],\n",
       " 'company': ['IBM', 'TCS', 'Google', 'Apple'],\n",
       " 'loc': ['pune', 'canada', 'new york', 'singapur']}"
      ]
     },
     "execution_count": 3,
     "metadata": {},
     "output_type": "execute_result"
    }
   ],
   "source": [
    "person_dict"
   ]
  },
  {
   "cell_type": "code",
   "execution_count": 31,
   "id": "1318fb17",
   "metadata": {},
   "outputs": [],
   "source": [
    "import pandas as pd"
   ]
  },
  {
   "cell_type": "code",
   "execution_count": null,
   "id": "a2f064af",
   "metadata": {},
   "outputs": [],
   "source": []
  },
  {
   "cell_type": "code",
   "execution_count": null,
   "id": "1ad6a969",
   "metadata": {},
   "outputs": [],
   "source": [
    "#two ways to access the value\n",
    "1. dict_name[key]-->if key present then return value, if not then return error\n",
    "2. dict_name.get(key,defaultVal)-->if key present then return value, if not then return default value"
   ]
  },
  {
   "cell_type": "code",
   "execution_count": null,
   "id": "438f7725",
   "metadata": {},
   "outputs": [],
   "source": [
    "#dict_name[key]"
   ]
  },
  {
   "cell_type": "code",
   "execution_count": 34,
   "id": "fc417391",
   "metadata": {},
   "outputs": [
    {
     "data": {
      "text/plain": [
       "['John', 'Helly', 'deina', 'Mark']"
      ]
     },
     "execution_count": 34,
     "metadata": {},
     "output_type": "execute_result"
    }
   ],
   "source": [
    "person_dict['name']"
   ]
  },
  {
   "cell_type": "code",
   "execution_count": 35,
   "id": "1e447de0",
   "metadata": {},
   "outputs": [
    {
     "data": {
      "text/plain": [
       "[85000, 45000, 97000, 69000]"
      ]
     },
     "execution_count": 35,
     "metadata": {},
     "output_type": "execute_result"
    }
   ],
   "source": [
    "person_dict['sal']"
   ]
  },
  {
   "cell_type": "code",
   "execution_count": 23,
   "id": "37b40bf6",
   "metadata": {},
   "outputs": [
    {
     "ename": "KeyError",
     "evalue": "'age'",
     "output_type": "error",
     "traceback": [
      "\u001b[1;31m---------------------------------------------------------------------------\u001b[0m",
      "\u001b[1;31mKeyError\u001b[0m                                  Traceback (most recent call last)",
      "\u001b[1;32m<ipython-input-23-4a33ea800faf>\u001b[0m in \u001b[0;36m<module>\u001b[1;34m\u001b[0m\n\u001b[1;32m----> 1\u001b[1;33m \u001b[0mperson_dict\u001b[0m\u001b[1;33m[\u001b[0m\u001b[1;34m'age'\u001b[0m\u001b[1;33m]\u001b[0m\u001b[1;33m\u001b[0m\u001b[1;33m\u001b[0m\u001b[0m\n\u001b[0m",
      "\u001b[1;31mKeyError\u001b[0m: 'age'"
     ]
    }
   ],
   "source": [
    "person_dict['age']"
   ]
  },
  {
   "cell_type": "code",
   "execution_count": 36,
   "id": "fa22ad4e",
   "metadata": {},
   "outputs": [],
   "source": [
    "#dict_name.get(key,defaultVal)"
   ]
  },
  {
   "cell_type": "code",
   "execution_count": 37,
   "id": "ed4f6ef6",
   "metadata": {},
   "outputs": [
    {
     "data": {
      "text/plain": [
       "['IBM', 'TCS', 'Google', 'Apple']"
      ]
     },
     "execution_count": 37,
     "metadata": {},
     "output_type": "execute_result"
    }
   ],
   "source": [
    "person_dict.get('company')"
   ]
  },
  {
   "cell_type": "code",
   "execution_count": 38,
   "id": "ed590a04",
   "metadata": {},
   "outputs": [
    {
     "data": {
      "text/plain": [
       "'no data present'"
      ]
     },
     "execution_count": 38,
     "metadata": {},
     "output_type": "execute_result"
    }
   ],
   "source": [
    "person_dict.get('email','no data present')"
   ]
  },
  {
   "cell_type": "code",
   "execution_count": 4,
   "id": "92ad6148",
   "metadata": {},
   "outputs": [
    {
     "data": {
      "text/plain": [
       "'TCS'"
      ]
     },
     "execution_count": 4,
     "metadata": {},
     "output_type": "execute_result"
    }
   ],
   "source": [
    "person_dict.get('company')[1]"
   ]
  },
  {
   "cell_type": "code",
   "execution_count": 5,
   "id": "b70405ed",
   "metadata": {},
   "outputs": [
    {
     "data": {
      "text/plain": [
       "'Mark'"
      ]
     },
     "execution_count": 5,
     "metadata": {},
     "output_type": "execute_result"
    }
   ],
   "source": [
    "person_dict.get('name')[-1]"
   ]
  },
  {
   "cell_type": "code",
   "execution_count": 6,
   "id": "9a09fd6f",
   "metadata": {},
   "outputs": [
    {
     "data": {
      "text/plain": [
       "'Mark'"
      ]
     },
     "execution_count": 6,
     "metadata": {},
     "output_type": "execute_result"
    }
   ],
   "source": [
    "person_dict['name'][-1]"
   ]
  },
  {
   "cell_type": "code",
   "execution_count": 24,
   "id": "25460f6d",
   "metadata": {},
   "outputs": [],
   "source": [
    "person_dict.get('age')"
   ]
  },
  {
   "cell_type": "code",
   "execution_count": 7,
   "id": "e3c0f2df",
   "metadata": {},
   "outputs": [],
   "source": [
    "#insert items into dict"
   ]
  },
  {
   "cell_type": "code",
   "execution_count": null,
   "id": "527c583a",
   "metadata": {},
   "outputs": [],
   "source": [
    "1. dict_name[key]=value -->add single item into dict\n",
    "  if key already present in dict then value get updated, otherwise new key-value pair is added in dict\n",
    "2. dict_name.update({list of items}) -->add multiple items into dict"
   ]
  },
  {
   "cell_type": "code",
   "execution_count": 8,
   "id": "825643eb",
   "metadata": {},
   "outputs": [],
   "source": [
    "#dict_name[key]=value"
   ]
  },
  {
   "cell_type": "code",
   "execution_count": 9,
   "id": "a282824c",
   "metadata": {},
   "outputs": [
    {
     "data": {
      "text/plain": [
       "{'name': ['John', 'Helly', 'deina', 'Mark'],\n",
       " 'sal': [85000, 45000, 97000, 69000],\n",
       " 'company': ['IBM', 'TCS', 'Google', 'Apple'],\n",
       " 'loc': ['pune', 'canada', 'new york', 'singapur']}"
      ]
     },
     "execution_count": 9,
     "metadata": {},
     "output_type": "execute_result"
    }
   ],
   "source": [
    "person_dict"
   ]
  },
  {
   "cell_type": "code",
   "execution_count": 11,
   "id": "6eb02e38",
   "metadata": {},
   "outputs": [],
   "source": [
    "person_dict['dept']=['analyst','data scientics','java developer','software testing']"
   ]
  },
  {
   "cell_type": "code",
   "execution_count": 12,
   "id": "cc1fee8c",
   "metadata": {},
   "outputs": [
    {
     "data": {
      "text/plain": [
       "{'name': ['John', 'Helly', 'deina', 'Mark'],\n",
       " 'sal': [85000, 45000, 97000, 69000],\n",
       " 'company': ['IBM', 'TCS', 'Google', 'Apple'],\n",
       " 'loc': ['pune', 'canada', 'new york', 'singapur'],\n",
       " 'dept': ['analyst', 'data scientics', 'java developer', 'software testing']}"
      ]
     },
     "execution_count": 12,
     "metadata": {},
     "output_type": "execute_result"
    }
   ],
   "source": [
    "person_dict"
   ]
  },
  {
   "cell_type": "code",
   "execution_count": 13,
   "id": "035bbd53",
   "metadata": {},
   "outputs": [],
   "source": [
    "person_dict['DOJ']=None"
   ]
  },
  {
   "cell_type": "code",
   "execution_count": null,
   "id": "b8bb3e94",
   "metadata": {},
   "outputs": [],
   "source": []
  },
  {
   "cell_type": "code",
   "execution_count": 14,
   "id": "0c29c110",
   "metadata": {},
   "outputs": [
    {
     "data": {
      "text/plain": [
       "{'name': ['John', 'Helly', 'deina', 'Mark'],\n",
       " 'sal': [85000, 45000, 97000, 69000],\n",
       " 'company': ['IBM', 'TCS', 'Google', 'Apple'],\n",
       " 'loc': ['pune', 'canada', 'new york', 'singapur'],\n",
       " 'dept': ['analyst', 'data scientics', 'java developer', 'software testing'],\n",
       " 'DOJ': None}"
      ]
     },
     "execution_count": 14,
     "metadata": {},
     "output_type": "execute_result"
    }
   ],
   "source": [
    "person_dict"
   ]
  },
  {
   "cell_type": "code",
   "execution_count": 28,
   "id": "4f00ec3d",
   "metadata": {},
   "outputs": [],
   "source": [
    "person_dict['dept']='data science'"
   ]
  },
  {
   "cell_type": "code",
   "execution_count": null,
   "id": "9fb852fa",
   "metadata": {},
   "outputs": [],
   "source": [
    "#In dict, key cannt be duplicate\n",
    "it will overwrite/update the latest key value"
   ]
  },
  {
   "cell_type": "code",
   "execution_count": 29,
   "id": "379e8319",
   "metadata": {},
   "outputs": [
    {
     "data": {
      "text/plain": [
       "{'name': ['John', 'Helly', 'deina', 'Mark'],\n",
       " 'sal': [85000, 45000, 97000, 69000],\n",
       " 'company': ['IBM', 'TCS', 'Google', 'Apple'],\n",
       " 'loc': ['pune', 'canada', 'new york', 'singapur'],\n",
       " 'dept': 'data science',\n",
       " 'DOJ': None,\n",
       " 'shift': ['morning', 'evening', 'night', 'morning'],\n",
       " 'rank': 'HR',\n",
       " 'email': 'xyz@gmail.com',\n",
       " 'mobile': 8753587678}"
      ]
     },
     "execution_count": 29,
     "metadata": {},
     "output_type": "execute_result"
    }
   ],
   "source": [
    "person_dict"
   ]
  },
  {
   "cell_type": "code",
   "execution_count": 15,
   "id": "a3f98ab2",
   "metadata": {},
   "outputs": [],
   "source": [
    "#dict_name.update(list of items)"
   ]
  },
  {
   "cell_type": "code",
   "execution_count": 20,
   "id": "16f002d7",
   "metadata": {},
   "outputs": [],
   "source": [
    "person_dict.update({'shift':['morning','evening','night','morning'],'rank':'HR'})"
   ]
  },
  {
   "cell_type": "code",
   "execution_count": 21,
   "id": "3e01abe1",
   "metadata": {},
   "outputs": [
    {
     "data": {
      "text/plain": [
       "{'name': ['John', 'Helly', 'deina', 'Mark'],\n",
       " 'sal': [85000, 45000, 97000, 69000],\n",
       " 'company': ['IBM', 'TCS', 'Google', 'Apple'],\n",
       " 'loc': ['pune', 'canada', 'new york', 'singapur'],\n",
       " 'dept': ['analyst', 'data scientics', 'java developer', 'software testing'],\n",
       " 'DOJ': None,\n",
       " 'shift': ['morning', 'evening', 'night', 'morning'],\n",
       " 'rank': 'HR'}"
      ]
     },
     "execution_count": 21,
     "metadata": {},
     "output_type": "execute_result"
    }
   ],
   "source": [
    "person_dict"
   ]
  },
  {
   "cell_type": "code",
   "execution_count": 26,
   "id": "38c3f784",
   "metadata": {},
   "outputs": [],
   "source": [
    "person_dict.update({'email':'xyz@gmail.com','mobile':8753587678})"
   ]
  },
  {
   "cell_type": "code",
   "execution_count": 27,
   "id": "be87d6cf",
   "metadata": {},
   "outputs": [
    {
     "data": {
      "text/plain": [
       "{'name': ['John', 'Helly', 'deina', 'Mark'],\n",
       " 'sal': [85000, 45000, 97000, 69000],\n",
       " 'company': ['IBM', 'TCS', 'Google', 'Apple'],\n",
       " 'loc': ['pune', 'canada', 'new york', 'singapur'],\n",
       " 'dept': ['analyst', 'data scientics', 'java developer', 'software testing'],\n",
       " 'DOJ': None,\n",
       " 'shift': ['morning', 'evening', 'night', 'morning'],\n",
       " 'rank': 'HR',\n",
       " 'email': 'xyz@gmail.com',\n",
       " 'mobile': 8753587678}"
      ]
     },
     "execution_count": 27,
     "metadata": {},
     "output_type": "execute_result"
    }
   ],
   "source": [
    "person_dict"
   ]
  },
  {
   "cell_type": "code",
   "execution_count": 36,
   "id": "cd8de610",
   "metadata": {},
   "outputs": [],
   "source": [
    "person_dict={'name':['John','Helly','deina','Mark'],'sal':[85000,45000,97000,69000],'company':['IBM','TCS','Google','Apple'],'loc':['pune','canada','new york','singapur']}"
   ]
  },
  {
   "cell_type": "code",
   "execution_count": 37,
   "id": "77532b55",
   "metadata": {},
   "outputs": [
    {
     "data": {
      "text/plain": [
       "{'name': ['John', 'Helly', 'deina', 'Mark'],\n",
       " 'sal': [85000, 45000, 97000, 69000],\n",
       " 'company': ['IBM', 'TCS', 'Google', 'Apple'],\n",
       " 'loc': ['pune', 'canada', 'new york', 'singapur']}"
      ]
     },
     "execution_count": 37,
     "metadata": {},
     "output_type": "execute_result"
    }
   ],
   "source": [
    "person_dict"
   ]
  },
  {
   "cell_type": "code",
   "execution_count": 38,
   "id": "87655dfe",
   "metadata": {},
   "outputs": [],
   "source": [
    "#use update() method to update value of existing key"
   ]
  },
  {
   "cell_type": "code",
   "execution_count": 39,
   "id": "0d98a66d",
   "metadata": {},
   "outputs": [],
   "source": [
    "person_dict.update({'name':['Justin','Juhi'],'sal':[98000,75000],'post':['analyst','data science']})"
   ]
  },
  {
   "cell_type": "code",
   "execution_count": 40,
   "id": "d86ea717",
   "metadata": {},
   "outputs": [
    {
     "data": {
      "text/plain": [
       "{'name': ['Justin', 'Juhi'],\n",
       " 'sal': [98000, 75000],\n",
       " 'company': ['IBM', 'TCS', 'Google', 'Apple'],\n",
       " 'loc': ['pune', 'canada', 'new york', 'singapur'],\n",
       " 'post': ['analyst', 'data science']}"
      ]
     },
     "execution_count": 40,
     "metadata": {},
     "output_type": "execute_result"
    }
   ],
   "source": [
    "person_dict"
   ]
  },
  {
   "cell_type": "code",
   "execution_count": 5,
   "id": "0ae6e6af",
   "metadata": {},
   "outputs": [],
   "source": [
    "#take input from user"
   ]
  },
  {
   "cell_type": "code",
   "execution_count": 6,
   "id": "4ffab712",
   "metadata": {},
   "outputs": [
    {
     "name": "stdout",
     "output_type": "stream",
     "text": [
      "Enter nameMayuri\n"
     ]
    }
   ],
   "source": [
    "name=input('Enter name')"
   ]
  },
  {
   "cell_type": "code",
   "execution_count": 7,
   "id": "9c92400b",
   "metadata": {},
   "outputs": [
    {
     "name": "stdout",
     "output_type": "stream",
     "text": [
      "Mayuri\n"
     ]
    }
   ],
   "source": [
    "print(name)"
   ]
  },
  {
   "cell_type": "code",
   "execution_count": 8,
   "id": "0e295e1c",
   "metadata": {},
   "outputs": [
    {
     "name": "stdout",
     "output_type": "stream",
     "text": [
      "Enter locationpune\n"
     ]
    }
   ],
   "source": [
    "loc=input('Enter location')"
   ]
  },
  {
   "cell_type": "code",
   "execution_count": 9,
   "id": "bd832b5a",
   "metadata": {},
   "outputs": [
    {
     "data": {
      "text/plain": [
       "'pune'"
      ]
     },
     "execution_count": 9,
     "metadata": {},
     "output_type": "execute_result"
    }
   ],
   "source": [
    "loc"
   ]
  },
  {
   "cell_type": "code",
   "execution_count": 10,
   "id": "91c6ead2",
   "metadata": {},
   "outputs": [
    {
     "name": "stdout",
     "output_type": "stream",
     "text": [
      "pune\n"
     ]
    }
   ],
   "source": [
    "print(loc)"
   ]
  },
  {
   "cell_type": "code",
   "execution_count": 41,
   "id": "9705bb34",
   "metadata": {},
   "outputs": [],
   "source": [
    "emp={'name':'John','sal':98000,'loc':'pune','company':'IBM'}"
   ]
  },
  {
   "cell_type": "code",
   "execution_count": 42,
   "id": "9fdb3473",
   "metadata": {},
   "outputs": [
    {
     "data": {
      "text/plain": [
       "{'name': 'John', 'sal': 98000, 'loc': 'pune', 'company': 'IBM'}"
      ]
     },
     "execution_count": 42,
     "metadata": {},
     "output_type": "execute_result"
    }
   ],
   "source": [
    "emp"
   ]
  },
  {
   "cell_type": "code",
   "execution_count": 43,
   "id": "f7956249",
   "metadata": {},
   "outputs": [
    {
     "name": "stdout",
     "output_type": "stream",
     "text": [
      "Enter NameMayuri\n"
     ]
    }
   ],
   "source": [
    "emp['name']=input('Enter Name')"
   ]
  },
  {
   "cell_type": "code",
   "execution_count": 44,
   "id": "43796a62",
   "metadata": {},
   "outputs": [
    {
     "data": {
      "text/plain": [
       "{'name': 'Mayuri', 'sal': 98000, 'loc': 'pune', 'company': 'IBM'}"
      ]
     },
     "execution_count": 44,
     "metadata": {},
     "output_type": "execute_result"
    }
   ],
   "source": [
    "emp"
   ]
  },
  {
   "cell_type": "code",
   "execution_count": 45,
   "id": "0cb54e53",
   "metadata": {},
   "outputs": [
    {
     "name": "stdout",
     "output_type": "stream",
     "text": [
      "Enter Salary: 100000\n",
      "Enter Location: Pune\n",
      "Enter CompanyGoogle\n"
     ]
    }
   ],
   "source": [
    "emp['sal']=int(input('Enter Salary: '))\n",
    "emp['loc']=input('Enter Location: ')\n",
    "emp['company']=input('Enter Company')"
   ]
  },
  {
   "cell_type": "code",
   "execution_count": 46,
   "id": "f7142c15",
   "metadata": {},
   "outputs": [
    {
     "data": {
      "text/plain": [
       "{'name': 'Mayuri', 'sal': 100000, 'loc': 'Pune', 'company': 'Google'}"
      ]
     },
     "execution_count": 46,
     "metadata": {},
     "output_type": "execute_result"
    }
   ],
   "source": [
    "emp"
   ]
  },
  {
   "cell_type": "code",
   "execution_count": 47,
   "id": "8fccbdd6",
   "metadata": {},
   "outputs": [],
   "source": [
    "#delete element using del keyword"
   ]
  },
  {
   "cell_type": "code",
   "execution_count": 49,
   "id": "13e31882",
   "metadata": {},
   "outputs": [],
   "source": [
    "del emp['sal']"
   ]
  },
  {
   "cell_type": "code",
   "execution_count": 50,
   "id": "07a1e116",
   "metadata": {},
   "outputs": [
    {
     "data": {
      "text/plain": [
       "{'name': 'Mayuri', 'loc': 'Pune', 'company': 'Google'}"
      ]
     },
     "execution_count": 50,
     "metadata": {},
     "output_type": "execute_result"
    }
   ],
   "source": [
    "emp"
   ]
  },
  {
   "cell_type": "code",
   "execution_count": 51,
   "id": "bb56f1a3",
   "metadata": {},
   "outputs": [],
   "source": [
    "del emp['loc']"
   ]
  },
  {
   "cell_type": "code",
   "execution_count": 52,
   "id": "63a5804b",
   "metadata": {},
   "outputs": [
    {
     "data": {
      "text/plain": [
       "{'name': 'Mayuri', 'company': 'Google'}"
      ]
     },
     "execution_count": 52,
     "metadata": {},
     "output_type": "execute_result"
    }
   ],
   "source": [
    "emp"
   ]
  },
  {
   "cell_type": "code",
   "execution_count": 53,
   "id": "559160cc",
   "metadata": {},
   "outputs": [],
   "source": [
    "#delete dict"
   ]
  },
  {
   "cell_type": "code",
   "execution_count": 54,
   "id": "f6a3ac6a",
   "metadata": {},
   "outputs": [],
   "source": [
    "del emp"
   ]
  },
  {
   "cell_type": "code",
   "execution_count": 55,
   "id": "1eeb004d",
   "metadata": {},
   "outputs": [
    {
     "ename": "NameError",
     "evalue": "name 'emp' is not defined",
     "output_type": "error",
     "traceback": [
      "\u001b[1;31m---------------------------------------------------------------------------\u001b[0m",
      "\u001b[1;31mNameError\u001b[0m                                 Traceback (most recent call last)",
      "\u001b[1;32m<ipython-input-55-94640616605f>\u001b[0m in \u001b[0;36m<module>\u001b[1;34m\u001b[0m\n\u001b[1;32m----> 1\u001b[1;33m \u001b[0memp\u001b[0m\u001b[1;33m\u001b[0m\u001b[1;33m\u001b[0m\u001b[0m\n\u001b[0m",
      "\u001b[1;31mNameError\u001b[0m: name 'emp' is not defined"
     ]
    }
   ],
   "source": [
    "emp"
   ]
  },
  {
   "cell_type": "code",
   "execution_count": 56,
   "id": "756b59f4",
   "metadata": {},
   "outputs": [],
   "source": [
    "emp={'name':['John','Justin','Helly'],'sal':98000,'loc':['pune','canada','new york'],'company':'IBM'}"
   ]
  },
  {
   "cell_type": "code",
   "execution_count": 57,
   "id": "37e9c91e",
   "metadata": {},
   "outputs": [
    {
     "data": {
      "text/plain": [
       "{'name': ['John', 'Justin', 'Helly'],\n",
       " 'sal': 98000,\n",
       " 'loc': ['pune', 'canada', 'new york'],\n",
       " 'company': 'IBM'}"
      ]
     },
     "execution_count": 57,
     "metadata": {},
     "output_type": "execute_result"
    }
   ],
   "source": [
    "emp"
   ]
  },
  {
   "cell_type": "code",
   "execution_count": 58,
   "id": "47bdbd50",
   "metadata": {},
   "outputs": [],
   "source": [
    "del emp['loc'][0]"
   ]
  },
  {
   "cell_type": "code",
   "execution_count": 59,
   "id": "4a0437d6",
   "metadata": {},
   "outputs": [
    {
     "data": {
      "text/plain": [
       "{'name': ['John', 'Justin', 'Helly'],\n",
       " 'sal': 98000,\n",
       " 'loc': ['canada', 'new york'],\n",
       " 'company': 'IBM'}"
      ]
     },
     "execution_count": 59,
     "metadata": {},
     "output_type": "execute_result"
    }
   ],
   "source": [
    "emp"
   ]
  },
  {
   "cell_type": "code",
   "execution_count": 60,
   "id": "10840837",
   "metadata": {},
   "outputs": [],
   "source": [
    "del emp['name'][1]"
   ]
  },
  {
   "cell_type": "code",
   "execution_count": 61,
   "id": "89019d62",
   "metadata": {},
   "outputs": [
    {
     "data": {
      "text/plain": [
       "{'name': ['John', 'Helly'],\n",
       " 'sal': 98000,\n",
       " 'loc': ['canada', 'new york'],\n",
       " 'company': 'IBM'}"
      ]
     },
     "execution_count": 61,
     "metadata": {},
     "output_type": "execute_result"
    }
   ],
   "source": [
    "emp"
   ]
  },
  {
   "cell_type": "code",
   "execution_count": null,
   "id": "9f39db96",
   "metadata": {},
   "outputs": [],
   "source": [
    "#delete element from dict\n",
    "1. pop(key)-->remove item associate to given key and return value\n",
    "2. popitem()-->remove arbitrary/random element from dictionary\n",
    "3. clear()-->remove all element from dictionary"
   ]
  },
  {
   "cell_type": "code",
   "execution_count": 1,
   "id": "1c0a2845",
   "metadata": {},
   "outputs": [],
   "source": [
    "#pop(key)"
   ]
  },
  {
   "cell_type": "code",
   "execution_count": 6,
   "id": "fc8f54c1",
   "metadata": {},
   "outputs": [],
   "source": [
    "emp={'name':['John','Justin','Helly'],'sal':98000,'loc':['pune','canada','new york'],'company':'IBM'}"
   ]
  },
  {
   "cell_type": "code",
   "execution_count": 7,
   "id": "583eaba2",
   "metadata": {},
   "outputs": [
    {
     "data": {
      "text/plain": [
       "98000"
      ]
     },
     "execution_count": 7,
     "metadata": {},
     "output_type": "execute_result"
    }
   ],
   "source": [
    "emp.pop('sal')"
   ]
  },
  {
   "cell_type": "code",
   "execution_count": 8,
   "id": "23762b42",
   "metadata": {},
   "outputs": [
    {
     "data": {
      "text/plain": [
       "{'name': ['John', 'Justin', 'Helly'],\n",
       " 'loc': ['pune', 'canada', 'new york'],\n",
       " 'company': 'IBM'}"
      ]
     },
     "execution_count": 8,
     "metadata": {},
     "output_type": "execute_result"
    }
   ],
   "source": [
    "emp"
   ]
  },
  {
   "cell_type": "code",
   "execution_count": null,
   "id": "108425fe",
   "metadata": {},
   "outputs": [],
   "source": [
    "#to remove desired value in list of dict\n",
    "use del"
   ]
  },
  {
   "cell_type": "code",
   "execution_count": null,
   "id": "83ff97f2",
   "metadata": {},
   "outputs": [],
   "source": [
    "#pop will remove complete item(key value) and not part of value"
   ]
  },
  {
   "cell_type": "code",
   "execution_count": 9,
   "id": "139501ec",
   "metadata": {},
   "outputs": [
    {
     "data": {
      "text/plain": [
       "'pune'"
      ]
     },
     "execution_count": 9,
     "metadata": {},
     "output_type": "execute_result"
    }
   ],
   "source": [
    "emp.pop('loc')[0]"
   ]
  },
  {
   "cell_type": "code",
   "execution_count": 10,
   "id": "ee4ba8ac",
   "metadata": {},
   "outputs": [
    {
     "data": {
      "text/plain": [
       "{'name': ['John', 'Justin', 'Helly'], 'company': 'IBM'}"
      ]
     },
     "execution_count": 10,
     "metadata": {},
     "output_type": "execute_result"
    }
   ],
   "source": [
    "emp"
   ]
  },
  {
   "cell_type": "code",
   "execution_count": 11,
   "id": "52c186db",
   "metadata": {},
   "outputs": [],
   "source": [
    "#popitem()"
   ]
  },
  {
   "cell_type": "code",
   "execution_count": 12,
   "id": "3d30e76e",
   "metadata": {},
   "outputs": [
    {
     "data": {
      "text/plain": [
       "{'name': ['John', 'Justin', 'Helly'], 'company': 'IBM'}"
      ]
     },
     "execution_count": 12,
     "metadata": {},
     "output_type": "execute_result"
    }
   ],
   "source": [
    "emp"
   ]
  },
  {
   "cell_type": "code",
   "execution_count": 13,
   "id": "21249977",
   "metadata": {},
   "outputs": [],
   "source": [
    "emp['sal']=[1000,2000,3000,4000]"
   ]
  },
  {
   "cell_type": "code",
   "execution_count": 14,
   "id": "f2f1f7f4",
   "metadata": {},
   "outputs": [],
   "source": [
    "emp['post']='data science'"
   ]
  },
  {
   "cell_type": "code",
   "execution_count": 15,
   "id": "f5af6f84",
   "metadata": {},
   "outputs": [
    {
     "data": {
      "text/plain": [
       "{'name': ['John', 'Justin', 'Helly'],\n",
       " 'company': 'IBM',\n",
       " 'sal': [1000, 2000, 3000, 4000],\n",
       " 'post': 'data science'}"
      ]
     },
     "execution_count": 15,
     "metadata": {},
     "output_type": "execute_result"
    }
   ],
   "source": [
    "emp"
   ]
  },
  {
   "cell_type": "code",
   "execution_count": 16,
   "id": "a4edbf18",
   "metadata": {},
   "outputs": [
    {
     "data": {
      "text/plain": [
       "('post', 'data science')"
      ]
     },
     "execution_count": 16,
     "metadata": {},
     "output_type": "execute_result"
    }
   ],
   "source": [
    "emp.popitem()"
   ]
  },
  {
   "cell_type": "code",
   "execution_count": 17,
   "id": "b716ae2a",
   "metadata": {},
   "outputs": [
    {
     "data": {
      "text/plain": [
       "('sal', [1000, 2000, 3000, 4000])"
      ]
     },
     "execution_count": 17,
     "metadata": {},
     "output_type": "execute_result"
    }
   ],
   "source": [
    "emp.popitem()"
   ]
  },
  {
   "cell_type": "code",
   "execution_count": 18,
   "id": "63e6e3c6",
   "metadata": {},
   "outputs": [
    {
     "data": {
      "text/plain": [
       "('company', 'IBM')"
      ]
     },
     "execution_count": 18,
     "metadata": {},
     "output_type": "execute_result"
    }
   ],
   "source": [
    "emp.popitem()"
   ]
  },
  {
   "cell_type": "code",
   "execution_count": 19,
   "id": "591583c3",
   "metadata": {},
   "outputs": [
    {
     "data": {
      "text/plain": [
       "{'name': ['John', 'Justin', 'Helly']}"
      ]
     },
     "execution_count": 19,
     "metadata": {},
     "output_type": "execute_result"
    }
   ],
   "source": [
    "emp"
   ]
  },
  {
   "cell_type": "code",
   "execution_count": 20,
   "id": "bbece33b",
   "metadata": {},
   "outputs": [
    {
     "data": {
      "text/plain": [
       "('name', ['John', 'Justin', 'Helly'])"
      ]
     },
     "execution_count": 20,
     "metadata": {},
     "output_type": "execute_result"
    }
   ],
   "source": [
    "emp.popitem()"
   ]
  },
  {
   "cell_type": "code",
   "execution_count": 21,
   "id": "c65dd490",
   "metadata": {},
   "outputs": [
    {
     "data": {
      "text/plain": [
       "{}"
      ]
     },
     "execution_count": 21,
     "metadata": {},
     "output_type": "execute_result"
    }
   ],
   "source": [
    "emp"
   ]
  },
  {
   "cell_type": "code",
   "execution_count": 22,
   "id": "afc84c97",
   "metadata": {},
   "outputs": [],
   "source": [
    "dict1={1:1,2:2,3:3,4:4,5:5,8:5,9:6,2:7,7:9}"
   ]
  },
  {
   "cell_type": "code",
   "execution_count": 23,
   "id": "beeb72d1",
   "metadata": {},
   "outputs": [
    {
     "data": {
      "text/plain": [
       "{1: 1, 2: 7, 3: 3, 4: 4, 5: 5, 8: 5, 9: 6, 7: 9}"
      ]
     },
     "execution_count": 23,
     "metadata": {},
     "output_type": "execute_result"
    }
   ],
   "source": [
    "dict1"
   ]
  },
  {
   "cell_type": "code",
   "execution_count": 24,
   "id": "47925cbe",
   "metadata": {},
   "outputs": [
    {
     "data": {
      "text/plain": [
       "(7, 9)"
      ]
     },
     "execution_count": 24,
     "metadata": {},
     "output_type": "execute_result"
    }
   ],
   "source": [
    "dict1.popitem()"
   ]
  },
  {
   "cell_type": "code",
   "execution_count": 26,
   "id": "69e578b6",
   "metadata": {},
   "outputs": [
    {
     "data": {
      "text/plain": [
       "(9, 6)"
      ]
     },
     "execution_count": 26,
     "metadata": {},
     "output_type": "execute_result"
    }
   ],
   "source": [
    "dict1.popitem()"
   ]
  },
  {
   "cell_type": "code",
   "execution_count": 27,
   "id": "dee9db5f",
   "metadata": {},
   "outputs": [
    {
     "data": {
      "text/plain": [
       "(8, 5)"
      ]
     },
     "execution_count": 27,
     "metadata": {},
     "output_type": "execute_result"
    }
   ],
   "source": [
    "dict1.popitem()"
   ]
  },
  {
   "cell_type": "code",
   "execution_count": 29,
   "id": "7e5f62ec",
   "metadata": {},
   "outputs": [
    {
     "data": {
      "text/plain": [
       "(4, 4)"
      ]
     },
     "execution_count": 29,
     "metadata": {},
     "output_type": "execute_result"
    }
   ],
   "source": [
    "dict1.popitem()"
   ]
  },
  {
   "cell_type": "code",
   "execution_count": 30,
   "id": "540713bb",
   "metadata": {},
   "outputs": [
    {
     "data": {
      "text/plain": [
       "(3, 3)"
      ]
     },
     "execution_count": 30,
     "metadata": {},
     "output_type": "execute_result"
    }
   ],
   "source": [
    "dict1.popitem()"
   ]
  },
  {
   "cell_type": "code",
   "execution_count": 31,
   "id": "e3970b90",
   "metadata": {},
   "outputs": [
    {
     "data": {
      "text/plain": [
       "(2, 7)"
      ]
     },
     "execution_count": 31,
     "metadata": {},
     "output_type": "execute_result"
    }
   ],
   "source": [
    "dict1.popitem()"
   ]
  },
  {
   "cell_type": "code",
   "execution_count": 32,
   "id": "409708c7",
   "metadata": {},
   "outputs": [
    {
     "data": {
      "text/plain": [
       "(1, 1)"
      ]
     },
     "execution_count": 32,
     "metadata": {},
     "output_type": "execute_result"
    }
   ],
   "source": [
    "dict1.popitem()"
   ]
  },
  {
   "cell_type": "code",
   "execution_count": 33,
   "id": "ceab1a45",
   "metadata": {},
   "outputs": [
    {
     "ename": "KeyError",
     "evalue": "'popitem(): dictionary is empty'",
     "output_type": "error",
     "traceback": [
      "\u001b[1;31m---------------------------------------------------------------------------\u001b[0m",
      "\u001b[1;31mKeyError\u001b[0m                                  Traceback (most recent call last)",
      "\u001b[1;32m<ipython-input-33-c32c1f4bf0d2>\u001b[0m in \u001b[0;36m<module>\u001b[1;34m\u001b[0m\n\u001b[1;32m----> 1\u001b[1;33m \u001b[0mdict1\u001b[0m\u001b[1;33m.\u001b[0m\u001b[0mpopitem\u001b[0m\u001b[1;33m(\u001b[0m\u001b[1;33m)\u001b[0m\u001b[1;33m\u001b[0m\u001b[1;33m\u001b[0m\u001b[0m\n\u001b[0m",
      "\u001b[1;31mKeyError\u001b[0m: 'popitem(): dictionary is empty'"
     ]
    }
   ],
   "source": [
    "dict1.popitem()"
   ]
  },
  {
   "cell_type": "code",
   "execution_count": 34,
   "id": "46e97d42",
   "metadata": {},
   "outputs": [],
   "source": [
    "dict1={1:1,2:2,3:3,4:4,5:5,8:5,9:6,2:7,7:9}"
   ]
  },
  {
   "cell_type": "code",
   "execution_count": 35,
   "id": "71b5ddb7",
   "metadata": {},
   "outputs": [
    {
     "data": {
      "text/plain": [
       "{1: 1, 2: 7, 3: 3, 4: 4, 5: 5, 8: 5, 9: 6, 7: 9}"
      ]
     },
     "execution_count": 35,
     "metadata": {},
     "output_type": "execute_result"
    }
   ],
   "source": [
    "dict1"
   ]
  },
  {
   "cell_type": "code",
   "execution_count": 36,
   "id": "b98f6a66",
   "metadata": {},
   "outputs": [],
   "source": [
    "dict1.clear()"
   ]
  },
  {
   "cell_type": "code",
   "execution_count": 37,
   "id": "ee36ee50",
   "metadata": {},
   "outputs": [
    {
     "data": {
      "text/plain": [
       "{}"
      ]
     },
     "execution_count": 37,
     "metadata": {},
     "output_type": "execute_result"
    }
   ],
   "source": [
    "dict1"
   ]
  },
  {
   "cell_type": "code",
   "execution_count": 38,
   "id": "432b083b",
   "metadata": {},
   "outputs": [],
   "source": [
    "#print all key of the dictionary"
   ]
  },
  {
   "cell_type": "code",
   "execution_count": 25,
   "id": "8e9345f0",
   "metadata": {},
   "outputs": [],
   "source": [
    "py_dict={'name':'helly','sal':2000,'post':'data science','company':'IBM','loc':'Canada'}"
   ]
  },
  {
   "cell_type": "code",
   "execution_count": 40,
   "id": "6992aa39",
   "metadata": {},
   "outputs": [],
   "source": [
    "for x in py_dict:\n",
    "    x"
   ]
  },
  {
   "cell_type": "code",
   "execution_count": 41,
   "id": "43375b07",
   "metadata": {},
   "outputs": [
    {
     "data": {
      "text/plain": [
       "'loc'"
      ]
     },
     "execution_count": 41,
     "metadata": {},
     "output_type": "execute_result"
    }
   ],
   "source": [
    "x"
   ]
  },
  {
   "cell_type": "code",
   "execution_count": 42,
   "id": "f9639782",
   "metadata": {},
   "outputs": [
    {
     "name": "stdout",
     "output_type": "stream",
     "text": [
      "name\n",
      "sal\n",
      "post\n",
      "company\n",
      "loc\n"
     ]
    }
   ],
   "source": [
    "for x in py_dict:\n",
    "    print(x)"
   ]
  },
  {
   "cell_type": "code",
   "execution_count": 55,
   "id": "0f985513",
   "metadata": {},
   "outputs": [
    {
     "name": "stdout",
     "output_type": "stream",
     "text": [
      "name\n",
      "sal\n",
      "post\n",
      "company\n",
      "loc\n"
     ]
    }
   ],
   "source": [
    "for x in py_dict.keys():\n",
    "    print(x)"
   ]
  },
  {
   "cell_type": "code",
   "execution_count": null,
   "id": "2159ab92",
   "metadata": {},
   "outputs": [],
   "source": [
    "#print all keys of dict "
   ]
  },
  {
   "cell_type": "code",
   "execution_count": 45,
   "id": "f44feabb",
   "metadata": {},
   "outputs": [
    {
     "data": {
      "text/plain": [
       "dict_keys"
      ]
     },
     "execution_count": 45,
     "metadata": {},
     "output_type": "execute_result"
    }
   ],
   "source": [
    "type(py_dict.keys())"
   ]
  },
  {
   "cell_type": "code",
   "execution_count": 46,
   "id": "d07cd33b",
   "metadata": {},
   "outputs": [
    {
     "data": {
      "text/plain": [
       "dict_keys(['name', 'sal', 'post', 'company', 'loc'])"
      ]
     },
     "execution_count": 46,
     "metadata": {},
     "output_type": "execute_result"
    }
   ],
   "source": [
    "py_dict.keys()"
   ]
  },
  {
   "cell_type": "code",
   "execution_count": 47,
   "id": "fe07a5d6",
   "metadata": {},
   "outputs": [],
   "source": [
    "#for loop to print all values of dict"
   ]
  },
  {
   "cell_type": "code",
   "execution_count": 49,
   "id": "58ededdc",
   "metadata": {},
   "outputs": [
    {
     "name": "stdout",
     "output_type": "stream",
     "text": [
      "helly\n",
      "2000\n",
      "data science\n",
      "IBM\n",
      "Canada\n"
     ]
    }
   ],
   "source": [
    "for x in py_dict:\n",
    "    print(py_dict[x])"
   ]
  },
  {
   "cell_type": "code",
   "execution_count": 50,
   "id": "d9dcd87d",
   "metadata": {},
   "outputs": [
    {
     "data": {
      "text/plain": [
       "dict_values(['helly', 2000, 'data science', 'IBM', 'Canada'])"
      ]
     },
     "execution_count": 50,
     "metadata": {},
     "output_type": "execute_result"
    }
   ],
   "source": [
    "py_dict.values()"
   ]
  },
  {
   "cell_type": "code",
   "execution_count": 51,
   "id": "143b35e6",
   "metadata": {},
   "outputs": [
    {
     "data": {
      "text/plain": [
       "dict_values"
      ]
     },
     "execution_count": 51,
     "metadata": {},
     "output_type": "execute_result"
    }
   ],
   "source": [
    "type(py_dict.values())"
   ]
  },
  {
   "cell_type": "code",
   "execution_count": 54,
   "id": "3c5ba846",
   "metadata": {},
   "outputs": [
    {
     "name": "stdout",
     "output_type": "stream",
     "text": [
      "helly\n",
      "2000\n",
      "data science\n",
      "IBM\n",
      "Canada\n"
     ]
    }
   ],
   "source": [
    "for x in py_dict.values():\n",
    "    print(x)"
   ]
  },
  {
   "cell_type": "code",
   "execution_count": 52,
   "id": "6b94bd9f",
   "metadata": {},
   "outputs": [],
   "source": [
    "#for loop to print all items of dict"
   ]
  },
  {
   "cell_type": "code",
   "execution_count": 53,
   "id": "1247b26f",
   "metadata": {},
   "outputs": [
    {
     "name": "stdout",
     "output_type": "stream",
     "text": [
      "('name', 'helly')\n",
      "('sal', 2000)\n",
      "('post', 'data science')\n",
      "('company', 'IBM')\n",
      "('loc', 'Canada')\n"
     ]
    }
   ],
   "source": [
    "for x in py_dict.items():\n",
    "    print(x)"
   ]
  },
  {
   "cell_type": "code",
   "execution_count": 56,
   "id": "4efc9a65",
   "metadata": {},
   "outputs": [
    {
     "name": "stdout",
     "output_type": "stream",
     "text": [
      "name helly\n",
      "sal 2000\n",
      "post data science\n",
      "company IBM\n",
      "loc Canada\n"
     ]
    }
   ],
   "source": [
    "for x,y in py_dict.items():\n",
    "    print(x,y)"
   ]
  },
  {
   "cell_type": "code",
   "execution_count": 26,
   "id": "53f9d516",
   "metadata": {},
   "outputs": [
    {
     "data": {
      "text/plain": [
       "dict_items([('name', 'helly'), ('sal', 2000), ('post', 'data science'), ('company', 'IBM'), ('loc', 'Canada')])"
      ]
     },
     "execution_count": 26,
     "metadata": {},
     "output_type": "execute_result"
    }
   ],
   "source": [
    "py_dict.items()"
   ]
  },
  {
   "cell_type": "code",
   "execution_count": 1,
   "id": "24b2994f",
   "metadata": {},
   "outputs": [],
   "source": [
    "#built-in dictionary function"
   ]
  },
  {
   "cell_type": "code",
   "execution_count": null,
   "id": "08421728",
   "metadata": {},
   "outputs": [],
   "source": [
    "NOT WORKING\n",
    "1. cmp(dict1,dict2)-->it compare items of both the dictionary and return true if first dict values are greater than second dict\n",
    "                    otherwise return false"
   ]
  },
  {
   "cell_type": "code",
   "execution_count": null,
   "id": "c192c60b",
   "metadata": {},
   "outputs": [],
   "source": [
    "WORKING\n",
    "2.len(dict1)-->length of dict\n",
    "3.str(dict1)-->convert dict into printable string representation\n",
    "4.type(var)-->it is used to print the type of variable"
   ]
  },
  {
   "cell_type": "code",
   "execution_count": 2,
   "id": "8e59d13c",
   "metadata": {},
   "outputs": [],
   "source": [
    "#cmp(dict1,dict2)"
   ]
  },
  {
   "cell_type": "code",
   "execution_count": 3,
   "id": "465ccbd8",
   "metadata": {},
   "outputs": [],
   "source": [
    "d1={'a':1,'b':2,'c':3}"
   ]
  },
  {
   "cell_type": "code",
   "execution_count": 4,
   "id": "cff7f684",
   "metadata": {},
   "outputs": [],
   "source": [
    "d2={'a':1,'b':2,'c':3}"
   ]
  },
  {
   "cell_type": "code",
   "execution_count": 5,
   "id": "38a60555",
   "metadata": {},
   "outputs": [
    {
     "ename": "NameError",
     "evalue": "name 'cmp' is not defined",
     "output_type": "error",
     "traceback": [
      "\u001b[1;31m---------------------------------------------------------------------------\u001b[0m",
      "\u001b[1;31mNameError\u001b[0m                                 Traceback (most recent call last)",
      "\u001b[1;32m<ipython-input-5-4268087603fb>\u001b[0m in \u001b[0;36m<module>\u001b[1;34m\u001b[0m\n\u001b[1;32m----> 1\u001b[1;33m \u001b[0mcmp\u001b[0m\u001b[1;33m(\u001b[0m\u001b[0md1\u001b[0m\u001b[1;33m,\u001b[0m\u001b[0md2\u001b[0m\u001b[1;33m)\u001b[0m\u001b[1;33m\u001b[0m\u001b[1;33m\u001b[0m\u001b[0m\n\u001b[0m",
      "\u001b[1;31mNameError\u001b[0m: name 'cmp' is not defined"
     ]
    }
   ],
   "source": [
    "cmp(d1,d2)"
   ]
  },
  {
   "cell_type": "code",
   "execution_count": 6,
   "id": "032f2b45",
   "metadata": {},
   "outputs": [],
   "source": [
    "#len(dict1)"
   ]
  },
  {
   "cell_type": "code",
   "execution_count": 7,
   "id": "bd8697bb",
   "metadata": {},
   "outputs": [
    {
     "data": {
      "text/plain": [
       "3"
      ]
     },
     "execution_count": 7,
     "metadata": {},
     "output_type": "execute_result"
    }
   ],
   "source": [
    "len(d1)"
   ]
  },
  {
   "cell_type": "code",
   "execution_count": 8,
   "id": "bd0be7c3",
   "metadata": {},
   "outputs": [],
   "source": [
    "#str(dict1)"
   ]
  },
  {
   "cell_type": "code",
   "execution_count": 9,
   "id": "3ab56726",
   "metadata": {},
   "outputs": [],
   "source": [
    "str_var=str(d1)"
   ]
  },
  {
   "cell_type": "code",
   "execution_count": 10,
   "id": "1ecd8048",
   "metadata": {},
   "outputs": [
    {
     "data": {
      "text/plain": [
       "\"{'a': 1, 'b': 2, 'c': 3}\""
      ]
     },
     "execution_count": 10,
     "metadata": {},
     "output_type": "execute_result"
    }
   ],
   "source": [
    "str_var"
   ]
  },
  {
   "cell_type": "code",
   "execution_count": 11,
   "id": "4d3ab75c",
   "metadata": {},
   "outputs": [
    {
     "data": {
      "text/plain": [
       "\"{'a': 1, 'b': 2, 'c': 3}\""
      ]
     },
     "execution_count": 11,
     "metadata": {},
     "output_type": "execute_result"
    }
   ],
   "source": [
    "str(d2)"
   ]
  },
  {
   "cell_type": "code",
   "execution_count": 12,
   "id": "42a11fbb",
   "metadata": {},
   "outputs": [],
   "source": [
    "#type(d1)"
   ]
  },
  {
   "cell_type": "code",
   "execution_count": 13,
   "id": "20e46122",
   "metadata": {},
   "outputs": [
    {
     "data": {
      "text/plain": [
       "dict"
      ]
     },
     "execution_count": 13,
     "metadata": {},
     "output_type": "execute_result"
    }
   ],
   "source": [
    "type(d1)"
   ]
  },
  {
   "cell_type": "code",
   "execution_count": 27,
   "id": "be4b05d8",
   "metadata": {},
   "outputs": [],
   "source": [
    "#create dict only with keys"
   ]
  },
  {
   "cell_type": "code",
   "execution_count": 28,
   "id": "aef079ad",
   "metadata": {},
   "outputs": [],
   "source": [
    "#dict.fromkeys(list of keys,defaultVal)"
   ]
  },
  {
   "cell_type": "code",
   "execution_count": 32,
   "id": "ce35bc66",
   "metadata": {},
   "outputs": [],
   "source": [
    "d1=dict.fromkeys(['name','sal','comapny'],None)"
   ]
  },
  {
   "cell_type": "code",
   "execution_count": 30,
   "id": "95ca2c77",
   "metadata": {},
   "outputs": [
    {
     "data": {
      "text/plain": [
       "{'name': None, 'sal': None, 'comapny': None}"
      ]
     },
     "execution_count": 30,
     "metadata": {},
     "output_type": "execute_result"
    }
   ],
   "source": [
    "d1"
   ]
  },
  {
   "cell_type": "code",
   "execution_count": 35,
   "id": "2ccf9cb6",
   "metadata": {},
   "outputs": [],
   "source": [
    "#dictN.setdefault(key,defaultVal)-->if key present do nothing, if not then insert key:value pair"
   ]
  },
  {
   "cell_type": "code",
   "execution_count": 36,
   "id": "8d27f54e",
   "metadata": {},
   "outputs": [],
   "source": [
    "d1.setdefault('name','helly')"
   ]
  },
  {
   "cell_type": "code",
   "execution_count": 37,
   "id": "d8bc020d",
   "metadata": {},
   "outputs": [
    {
     "data": {
      "text/plain": [
       "26"
      ]
     },
     "execution_count": 37,
     "metadata": {},
     "output_type": "execute_result"
    }
   ],
   "source": [
    "d1.setdefault('age',26)"
   ]
  },
  {
   "cell_type": "code",
   "execution_count": 38,
   "id": "c019f036",
   "metadata": {},
   "outputs": [
    {
     "data": {
      "text/plain": [
       "{'name': None, 'sal': None, 'comapny': None, 'age': 26}"
      ]
     },
     "execution_count": 38,
     "metadata": {},
     "output_type": "execute_result"
    }
   ],
   "source": [
    "d1"
   ]
  },
  {
   "cell_type": "code",
   "execution_count": 39,
   "id": "edd97ad1",
   "metadata": {},
   "outputs": [
    {
     "ename": "AttributeError",
     "evalue": "'dict' object has no attribute 'index'",
     "output_type": "error",
     "traceback": [
      "\u001b[1;31m---------------------------------------------------------------------------\u001b[0m",
      "\u001b[1;31mAttributeError\u001b[0m                            Traceback (most recent call last)",
      "\u001b[1;32m<ipython-input-39-733e9108ff8b>\u001b[0m in \u001b[0;36m<module>\u001b[1;34m\u001b[0m\n\u001b[1;32m----> 1\u001b[1;33m \u001b[0md1\u001b[0m\u001b[1;33m.\u001b[0m\u001b[0mindex\u001b[0m\u001b[1;33m(\u001b[0m\u001b[1;34m'name'\u001b[0m\u001b[1;33m)\u001b[0m\u001b[1;33m\u001b[0m\u001b[1;33m\u001b[0m\u001b[0m\n\u001b[0m",
      "\u001b[1;31mAttributeError\u001b[0m: 'dict' object has no attribute 'index'"
     ]
    }
   ],
   "source": [
    "d1.index('name')"
   ]
  },
  {
   "cell_type": "code",
   "execution_count": 1,
   "id": "81d28b78",
   "metadata": {},
   "outputs": [],
   "source": [
    "#insert items from dict to another"
   ]
  },
  {
   "cell_type": "code",
   "execution_count": 2,
   "id": "eced0736",
   "metadata": {},
   "outputs": [],
   "source": [
    "d1={'id':1,'name':'mark','marks':99}"
   ]
  },
  {
   "cell_type": "code",
   "execution_count": 3,
   "id": "627e8251",
   "metadata": {},
   "outputs": [],
   "source": [
    "d2={'addr':'pune','mobile':9753852794}"
   ]
  },
  {
   "cell_type": "code",
   "execution_count": 11,
   "id": "480e77d1",
   "metadata": {},
   "outputs": [],
   "source": [
    "d1.update({list(d2.items())[0][0]:list(d2.items())[0][1]})"
   ]
  },
  {
   "cell_type": "code",
   "execution_count": 12,
   "id": "8c091633",
   "metadata": {},
   "outputs": [
    {
     "data": {
      "text/plain": [
       "{'id': 1,\n",
       " 'name': 'mark',\n",
       " 'marks': 99,\n",
       " ('addr', 'pune'): ('addr', 'pune'),\n",
       " 'addr': 'pune'}"
      ]
     },
     "execution_count": 12,
     "metadata": {},
     "output_type": "execute_result"
    }
   ],
   "source": [
    "d1"
   ]
  },
  {
   "cell_type": "code",
   "execution_count": 14,
   "id": "392b77f7",
   "metadata": {},
   "outputs": [
    {
     "data": {
      "text/plain": [
       "('addr', 'pune')"
      ]
     },
     "execution_count": 14,
     "metadata": {},
     "output_type": "execute_result"
    }
   ],
   "source": [
    "d1.pop(('addr',\"pune\"))"
   ]
  },
  {
   "cell_type": "code",
   "execution_count": 15,
   "id": "c3184cbd",
   "metadata": {},
   "outputs": [
    {
     "data": {
      "text/plain": [
       "{'id': 1, 'name': 'mark', 'marks': 99, 'addr': 'pune'}"
      ]
     },
     "execution_count": 15,
     "metadata": {},
     "output_type": "execute_result"
    }
   ],
   "source": [
    "d1"
   ]
  },
  {
   "cell_type": "code",
   "execution_count": null,
   "id": "c4353c59",
   "metadata": {},
   "outputs": [],
   "source": []
  }
 ],
 "metadata": {
  "kernelspec": {
   "display_name": "Python 3",
   "language": "python",
   "name": "python3"
  },
  "language_info": {
   "codemirror_mode": {
    "name": "ipython",
    "version": 3
   },
   "file_extension": ".py",
   "mimetype": "text/x-python",
   "name": "python",
   "nbconvert_exporter": "python",
   "pygments_lexer": "ipython3",
   "version": "3.8.8"
  }
 },
 "nbformat": 4,
 "nbformat_minor": 5
}
